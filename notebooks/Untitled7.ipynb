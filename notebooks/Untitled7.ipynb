{
 "cells": [
  {
   "cell_type": "code",
   "execution_count": 39,
   "id": "688d884b-f6fd-4112-997b-e7b9fc158d9c",
   "metadata": {},
   "outputs": [],
   "source": [
    "import pandas as pd\n",
    "from torch.utils.data import TensorDataset\n",
    "from rxitect.classic.utils.vocabulary import SelfiesVocabulary"
   ]
  },
  {
   "cell_type": "code",
   "execution_count": null,
   "id": "b49e5cb7-6e46-41e8-95d4-8236c6d99bcc",
   "metadata": {},
   "outputs": [],
   "source": [
    "corpus_filename = \"selfies_chembl_corpus.csv\"\n",
    "\n",
    "chembl_full = pd.read_csv(self.data_dir / corpus_filename, nrows=100_000 if self.dev_run else None)[\"token\"]\n",
    "\n",
    "if stage == \"test\" or stage is None:\n",
    "    chembl_test = chembl_full.sample(frac=0.2, random_state=42)\n",
    "    chembl_full = chembl_full.drop(\n",
    "        chembl_test.index\n",
    "    )  # Make sure the test set is excluded\n",
    "    self.chembl_test = self.vocabulary.encode(\n",
    "        [seq.split(\" \") for seq in chembl_test]\n",
    "    )\n",
    "\n",
    "if stage == \"fit\" or stage is None:\n",
    "    chembl_train, chembl_val = random_split_frac(dataset=chembl_full)\n",
    "    self.chembl_train = self.vocabulary.encode(\n",
    "        [seq.split(\" \") for seq in chembl_train]\n",
    "    )\n",
    "    self.chembl_val = self.vocabulary.encode(\n",
    "        [seq.split(\" \") for seq in chembl_val]\n",
    "    )"
   ]
  },
  {
   "cell_type": "code",
   "execution_count": 42,
   "id": "431fd74c-ce4f-4188-b114-ddac4acf633e",
   "metadata": {},
   "outputs": [],
   "source": [
    "zinc_full = pd.read_csv(\"../data/processed/selfies_zinc250k_corpus.csv\")[\"token\"]"
   ]
  },
  {
   "cell_type": "code",
   "execution_count": 43,
   "id": "d95ef2e9-54d8-4652-91f2-3304c087b7b4",
   "metadata": {},
   "outputs": [
    {
     "data": {
      "text/plain": [
       "0    [C] [C] [=Branch1] [C] [=O] [C] [=C] [C] [=C] ...\n",
       "1    [C] [O] [C] [=C] [C] [=C] [C] [Branch2] [Ring1...\n",
       "2    [O] [=C] [Branch2] [Ring1] [C] [C] [=C] [C] [=...\n",
       "3    [O] [=S] [=Branch1] [C] [=O] [Branch1] [=C] [N...\n",
       "4    [C] [N] [Branch1] [O] [C] [C] [C] [Branch1] [C...\n",
       "Name: token, dtype: object"
      ]
     },
     "execution_count": 43,
     "metadata": {},
     "output_type": "execute_result"
    }
   ],
   "source": [
    "zinc_full.head()"
   ]
  },
  {
   "cell_type": "code",
   "execution_count": 71,
   "id": "e1a8a5f6-322e-478c-b415-bde735315a09",
   "metadata": {},
   "outputs": [],
   "source": [
    "voc = SelfiesVocabulary(vocabulary_file_path=\"../data/selfies_voc_chembl26.txt\")"
   ]
  },
  {
   "cell_type": "code",
   "execution_count": 80,
   "id": "ceea540c-f533-48fc-9a6f-5acc4dbfe566",
   "metadata": {},
   "outputs": [
    {
     "ename": "KeyError",
     "evalue": "'[=PH2]'",
     "output_type": "error",
     "traceback": [
      "\u001b[0;31m---------------------------------------------------------------------------\u001b[0m",
      "\u001b[0;31mKeyError\u001b[0m                                  Traceback (most recent call last)",
      "Cell \u001b[0;32mIn [80], line 1\u001b[0m\n\u001b[0;32m----> 1\u001b[0m train \u001b[38;5;241m=\u001b[39m \u001b[43mvoc\u001b[49m\u001b[38;5;241;43m.\u001b[39;49m\u001b[43mencode\u001b[49m\u001b[43m(\u001b[49m\u001b[43m[\u001b[49m\u001b[43mseq\u001b[49m\u001b[38;5;241;43m.\u001b[39;49m\u001b[43msplit\u001b[49m\u001b[43m(\u001b[49m\u001b[38;5;124;43m\"\u001b[39;49m\u001b[38;5;124;43m \u001b[39;49m\u001b[38;5;124;43m\"\u001b[39;49m\u001b[43m)\u001b[49m\u001b[43m \u001b[49m\u001b[38;5;28;43;01mfor\u001b[39;49;00m\u001b[43m \u001b[49m\u001b[43mseq\u001b[49m\u001b[43m \u001b[49m\u001b[38;5;129;43;01min\u001b[39;49;00m\u001b[43m \u001b[49m\u001b[43mzinc_full\u001b[49m\u001b[43m]\u001b[49m\u001b[43m)\u001b[49m\n",
      "File \u001b[0;32m~/thesis/rxitect/rxitect/classic/utils/vocabulary.py:41\u001b[0m, in \u001b[0;36mVocabulary.encode\u001b[0;34m(self, tokenized_mol_str)\u001b[0m\n\u001b[1;32m     39\u001b[0m \u001b[38;5;28;01mfor\u001b[39;00m i, selfie \u001b[38;5;129;01min\u001b[39;00m \u001b[38;5;28menumerate\u001b[39m(tokenized_mol_str):\n\u001b[1;32m     40\u001b[0m     \u001b[38;5;28;01mfor\u001b[39;00m j, char \u001b[38;5;129;01min\u001b[39;00m \u001b[38;5;28menumerate\u001b[39m(selfie):\n\u001b[0;32m---> 41\u001b[0m         tokens[i, j] \u001b[38;5;241m=\u001b[39m \u001b[38;5;28;43mself\u001b[39;49m\u001b[38;5;241;43m.\u001b[39;49m\u001b[43mtk2ix\u001b[49m\u001b[43m[\u001b[49m\u001b[43mchar\u001b[49m\u001b[43m]\u001b[49m\n\u001b[1;32m     42\u001b[0m \u001b[38;5;28;01mreturn\u001b[39;00m tokens\n",
      "\u001b[0;31mKeyError\u001b[0m: '[=PH2]'"
     ]
    }
   ],
   "source": [
    "train = voc.encode([seq.split(\" \") for seq in zinc_full])"
   ]
  },
  {
   "cell_type": "code",
   "execution_count": 57,
   "id": "896e0f02-db2b-410e-a750-68cd56ba8dab",
   "metadata": {},
   "outputs": [],
   "source": [
    "zinc_specific_tokens = pd.read_csv(\"../data/processed/selfies_voc_zinc250k_only.txt\", header=None)[0].to_list()"
   ]
  },
  {
   "cell_type": "code",
   "execution_count": 67,
   "id": "457f96c1-466c-4c72-a24a-e0ec02967ad5",
   "metadata": {},
   "outputs": [],
   "source": [
    "voc.words = set(voc.words).union(set(zinc_specific_tokens))"
   ]
  },
  {
   "cell_type": "code",
   "execution_count": 69,
   "id": "cce57e1f-8aba-4a56-967b-84d1937840fe",
   "metadata": {},
   "outputs": [
    {
     "data": {
      "text/plain": [
       "{'EOS',\n",
       " 'GO',\n",
       " '[#C-1]',\n",
       " '[#S]',\n",
       " '[=As]',\n",
       " '[=B-1]',\n",
       " '[=B]',\n",
       " '[=C-1]',\n",
       " '[=PH1]',\n",
       " '[=SH1]',\n",
       " '[=Se+1]',\n",
       " '[=Se]',\n",
       " '[=Te+1]',\n",
       " '[As+1]',\n",
       " '[As]',\n",
       " '[B-1]',\n",
       " '[BH0]',\n",
       " '[BH1-1]',\n",
       " '[BH2-1]',\n",
       " '[BH3-1]',\n",
       " '[B]',\n",
       " '[C+1]',\n",
       " '[C-1]',\n",
       " '[CH1-1]',\n",
       " '[CH1]',\n",
       " '[CH2-1]',\n",
       " '[CH2]',\n",
       " '[I+1]',\n",
       " '[NH0]',\n",
       " '[NH2+1]',\n",
       " '[OH0]',\n",
       " '[OH1+1]',\n",
       " '[P+1]',\n",
       " '[SH1+1]',\n",
       " '[SH1]',\n",
       " '[SH2]',\n",
       " '[Se+1]',\n",
       " '[SeH1]',\n",
       " '[Se]',\n",
       " '[SiH1]',\n",
       " '[SiH2]',\n",
       " '[Si]',\n",
       " '[Te]'}"
      ]
     },
     "execution_count": 69,
     "metadata": {},
     "output_type": "execute_result"
    }
   ],
   "source": [
    "set(voc.words).difference(set(zinc_specific_tokens))"
   ]
  },
  {
   "cell_type": "code",
   "execution_count": 76,
   "id": "2d254662-0342-4919-999a-b258bf798f01",
   "metadata": {},
   "outputs": [],
   "source": [
    "full_voc = set(voc.words + zinc_specific_tokens)"
   ]
  },
  {
   "cell_type": "code",
   "execution_count": 77,
   "id": "7c382d68-29cb-4e14-97c5-c11111d4ffb1",
   "metadata": {},
   "outputs": [
    {
     "data": {
      "text/plain": [
       "88"
      ]
     },
     "execution_count": 77,
     "metadata": {},
     "output_type": "execute_result"
    }
   ],
   "source": [
    "len(full_voc)"
   ]
  },
  {
   "cell_type": "code",
   "execution_count": 79,
   "id": "f9191374-b4e8-4516-9485-16e7f89811bd",
   "metadata": {},
   "outputs": [],
   "source": [
    "voc.words = full_voc"
   ]
  },
  {
   "cell_type": "code",
   "execution_count": 83,
   "id": "04123bff-92f4-4141-b586-efd7fafe0dfb",
   "metadata": {},
   "outputs": [],
   "source": [
    "full_voc = pd.Series(sorted(voc.words))"
   ]
  },
  {
   "cell_type": "code",
   "execution_count": 85,
   "id": "bfca46fb-5a7e-480c-b353-d798639d10b3",
   "metadata": {},
   "outputs": [],
   "source": [
    "full_voc.to_csv(\"../data/selfies_voc.txt\")"
   ]
  },
  {
   "cell_type": "code",
   "execution_count": 86,
   "id": "3acee342-1372-45f8-903a-0ca0029925d1",
   "metadata": {},
   "outputs": [],
   "source": [
    "voc = SelfiesVocabulary(\"../data/selfies_voc.txt\")"
   ]
  },
  {
   "cell_type": "code",
   "execution_count": 88,
   "id": "12938f26-d1a6-40a7-85b9-fc98579ef42f",
   "metadata": {},
   "outputs": [
    {
     "ename": "KeyError",
     "evalue": "'[C]'",
     "output_type": "error",
     "traceback": [
      "\u001b[0;31m---------------------------------------------------------------------------\u001b[0m",
      "\u001b[0;31mKeyError\u001b[0m                                  Traceback (most recent call last)",
      "Cell \u001b[0;32mIn [88], line 1\u001b[0m\n\u001b[0;32m----> 1\u001b[0m train \u001b[38;5;241m=\u001b[39m \u001b[43mvoc\u001b[49m\u001b[38;5;241;43m.\u001b[39;49m\u001b[43mencode\u001b[49m\u001b[43m(\u001b[49m\u001b[43m[\u001b[49m\u001b[43mseq\u001b[49m\u001b[38;5;241;43m.\u001b[39;49m\u001b[43msplit\u001b[49m\u001b[43m(\u001b[49m\u001b[38;5;124;43m\"\u001b[39;49m\u001b[38;5;124;43m \u001b[39;49m\u001b[38;5;124;43m\"\u001b[39;49m\u001b[43m)\u001b[49m\u001b[43m \u001b[49m\u001b[38;5;28;43;01mfor\u001b[39;49;00m\u001b[43m \u001b[49m\u001b[43mseq\u001b[49m\u001b[43m \u001b[49m\u001b[38;5;129;43;01min\u001b[39;49;00m\u001b[43m \u001b[49m\u001b[43mzinc_full\u001b[49m\u001b[43m]\u001b[49m\u001b[43m)\u001b[49m\n",
      "File \u001b[0;32m~/thesis/rxitect/rxitect/classic/utils/vocabulary.py:41\u001b[0m, in \u001b[0;36mVocabulary.encode\u001b[0;34m(self, tokenized_mol_str)\u001b[0m\n\u001b[1;32m     39\u001b[0m \u001b[38;5;28;01mfor\u001b[39;00m i, selfie \u001b[38;5;129;01min\u001b[39;00m \u001b[38;5;28menumerate\u001b[39m(tokenized_mol_str):\n\u001b[1;32m     40\u001b[0m     \u001b[38;5;28;01mfor\u001b[39;00m j, char \u001b[38;5;129;01min\u001b[39;00m \u001b[38;5;28menumerate\u001b[39m(selfie):\n\u001b[0;32m---> 41\u001b[0m         tokens[i, j] \u001b[38;5;241m=\u001b[39m \u001b[38;5;28;43mself\u001b[39;49m\u001b[38;5;241;43m.\u001b[39;49m\u001b[43mtk2ix\u001b[49m\u001b[43m[\u001b[49m\u001b[43mchar\u001b[49m\u001b[43m]\u001b[49m\n\u001b[1;32m     42\u001b[0m \u001b[38;5;28;01mreturn\u001b[39;00m tokens\n",
      "\u001b[0;31mKeyError\u001b[0m: '[C]'"
     ]
    }
   ],
   "source": [
    "train = voc.encode([seq.split(\" \") for seq in zinc_full])"
   ]
  },
  {
   "cell_type": "code",
   "execution_count": 89,
   "id": "4aefd2f9-125c-4a2a-90b8-eeadb8308bb3",
   "metadata": {},
   "outputs": [
    {
     "data": {
      "text/plain": [
       "['EOS',\n",
       " 'GO',\n",
       " ',0',\n",
       " '0,EOS',\n",
       " '1,GO',\n",
       " '10,[=B-1]',\n",
       " '11,[=B]',\n",
       " '12,[=Branch1]',\n",
       " '13,[=Branch2]',\n",
       " '14,[=C-1]',\n",
       " '15,[=C]',\n",
       " '16,[=N+1]',\n",
       " '17,[=N-1]',\n",
       " '18,[=NH1+1]',\n",
       " '19,[=N]',\n",
       " '2,[#Branch1]',\n",
       " '20,[=O+1]',\n",
       " '21,[=O]',\n",
       " '22,[=PH1]',\n",
       " '23,[=PH2]',\n",
       " '24,[=P]',\n",
       " '25,[=Ring1]',\n",
       " '26,[=Ring2]',\n",
       " '27,[=S+1]',\n",
       " '28,[=SH1]',\n",
       " '29,[=S]',\n",
       " '3,[#Branch2]',\n",
       " '30,[=Se+1]',\n",
       " '31,[=Se]',\n",
       " '32,[=Te+1]',\n",
       " '33,[As+1]',\n",
       " '34,[As]',\n",
       " '35,[B-1]',\n",
       " '36,[BH0]',\n",
       " '37,[BH1-1]',\n",
       " '38,[BH2-1]',\n",
       " '39,[BH3-1]',\n",
       " '4,[#C-1]',\n",
       " '40,[B]',\n",
       " '41,[Br]',\n",
       " '42,[Branch1]',\n",
       " '43,[Branch2]',\n",
       " '44,[C+1]',\n",
       " '45,[C-1]',\n",
       " '46,[CH1-1]',\n",
       " '47,[CH1]',\n",
       " '48,[CH2-1]',\n",
       " '49,[CH2]',\n",
       " '5,[#C]',\n",
       " '50,[C]',\n",
       " '51,[Cl]',\n",
       " '52,[F]',\n",
       " '53,[I+1]',\n",
       " '54,[I]',\n",
       " '55,[N+1]',\n",
       " '56,[N-1]',\n",
       " '57,[NH0]',\n",
       " '58,[NH1+1]',\n",
       " '59,[NH1-1]',\n",
       " '6,[#N+1]',\n",
       " '60,[NH1]',\n",
       " '61,[NH2+1]',\n",
       " '62,[NH3+1]',\n",
       " '63,[N]',\n",
       " '64,[O+1]',\n",
       " '65,[O-1]',\n",
       " '66,[OH0]',\n",
       " '67,[OH1+1]',\n",
       " '68,[O]',\n",
       " '69,[P+1]',\n",
       " '7,[#N]',\n",
       " '70,[PH1]',\n",
       " '71,[P]',\n",
       " '72,[Ring1]',\n",
       " '73,[Ring2]',\n",
       " '74,[S+1]',\n",
       " '75,[S-1]',\n",
       " '76,[SH1+1]',\n",
       " '77,[SH1]',\n",
       " '78,[SH2]',\n",
       " '79,[S]',\n",
       " '8,[#S]',\n",
       " '80,[Se+1]',\n",
       " '81,[SeH1]',\n",
       " '82,[Se]',\n",
       " '83,[SiH1]',\n",
       " '84,[SiH2]',\n",
       " '85,[Si]',\n",
       " '86,[Te]',\n",
       " '87,[nop]',\n",
       " '9,[=As]']"
      ]
     },
     "execution_count": 89,
     "metadata": {},
     "output_type": "execute_result"
    }
   ],
   "source": [
    "voc.words"
   ]
  },
  {
   "cell_type": "code",
   "execution_count": null,
   "id": "d418e868-60a5-43b0-b77d-347a9e72a24c",
   "metadata": {},
   "outputs": [],
   "source": []
  }
 ],
 "metadata": {
  "kernelspec": {
   "display_name": "Python 3 (ipykernel)",
   "language": "python",
   "name": "python3"
  },
  "language_info": {
   "codemirror_mode": {
    "name": "ipython",
    "version": 3
   },
   "file_extension": ".py",
   "mimetype": "text/x-python",
   "name": "python",
   "nbconvert_exporter": "python",
   "pygments_lexer": "ipython3",
   "version": "3.9.13"
  }
 },
 "nbformat": 4,
 "nbformat_minor": 5
}
