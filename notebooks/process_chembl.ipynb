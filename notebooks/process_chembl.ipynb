{
 "cells": [
  {
   "cell_type": "code",
   "execution_count": 1,
   "id": "30f3233e-d3c4-460d-a4ff-80aaad8c28b7",
   "metadata": {},
   "outputs": [
    {
     "name": "stderr",
     "output_type": "stream",
     "text": [
      "/home/julius/miniconda3/envs/rxt-dev/lib/python3.8/site-packages/tqdm/auto.py:22: TqdmWarning: IProgress not found. Please update jupyter and ipywidgets. See https://ipywidgets.readthedocs.io/en/stable/user_install.html\n",
      "  from .autonotebook import tqdm as notebook_tqdm\n"
     ]
    }
   ],
   "source": [
    "import gzip\n",
    "import logging\n",
    "from pathlib import Path\n",
    "from typing import List, Optional\n",
    "\n",
    "import pandas as pd\n",
    "from rdkit import Chem\n",
    "from tqdm import tqdm\n",
    "from joblib import Parallel, delayed\n",
    "\n",
    "\n",
    "from rxitect.chem import mol_utils\n",
    "from rxitect.structs.vocabulary import SmilesVocabulary\n",
    "\n",
    "logger = logging.getLogger(__name__)\n",
    "MIN_TOKEN_LEN = 10\n",
    "MAX_TOKEN_LEN = 100\n",
    "N_CHEMBL_COMPOUNDS = {\n",
    "    \"v30\": 2_157_379\n",
    "}\n",
    "\n",
    "\n",
    "def generate_smiles_corpus(\n",
    "    raw_data_filepath: Path,\n",
    "    destdir: Path,\n",
    "    corpus_type: str,\n",
    "    requires_clean: bool = True,\n",
    "    is_isomeric: bool = False,\n",
    "    create_voc_file: bool = False,\n",
    "):\n",
    "    \"\"\"\n",
    "    This method constructs a dataset with molecules represented as SMILES. Each molecule will be decomposed\n",
    "    into a series of tokens. In the end, all the tokens will be put into one set as vocabulary.\n",
    "\n",
    "    Args:\n",
    "        raw_data_filepath (Path): The file path of input, either .sdf file or tab-delimited file\n",
    "        destdir (Path): The file path to write the created files to.\n",
    "        corpus_type (str): type of the file to be processed and written. Can be 'chembl' or 'ligand'.\n",
    "        requires_clean (bool): If the molecule is required to be clean, the charge metal will be\n",
    "                removed and only the largest fragment will be kept.\n",
    "        is_isomeric (bool): If the molecules in the dataset keep conformational information. If not,\n",
    "                the conformational tokens (e.g. @@, @, \\, /) will be removed. False by default.\n",
    "        create_voc_file:\n",
    "    \"\"\"\n",
    "    if corpus_type == \"chembl\":\n",
    "        df = _get_mols_from_sdf(is_isomeric, raw_data_filepath)\n",
    "    elif corpus_type == \"ligand\":\n",
    "        df = pd.read_table(raw_data_filepath).Smiles.dropna()\n",
    "    else:\n",
    "        raise ValueError(\"Only valid corpus types are 'chembl' and 'ligand'.\")\n",
    "\n",
    "    voc = SmilesVocabulary(vocabulary_file_path=None)\n",
    "    words = set()\n",
    "    canons = []\n",
    "    tokens = []\n",
    "    if requires_clean:\n",
    "        smiles = set()\n",
    "        for smile in tqdm(df, desc=\"Cleaning molecules\"):\n",
    "            try:\n",
    "                smile = mol_utils.clean_mol(smile, is_isomeric=is_isomeric)\n",
    "                smiles.add(Chem.CanonSmiles(smile))\n",
    "            except Exception as e:\n",
    "                logger.warning(\"Parsing Error: \", e)\n",
    "    else:\n",
    "        smiles = df.values\n",
    "    for smile in tqdm(smiles, desc=\"Tokenizing SMILES\"):\n",
    "        token = voc.tokenize(smile)\n",
    "        # Only collect the organic molecules\n",
    "        if {\"C\", \"c\"}.isdisjoint(token):\n",
    "            logger.warning(\"Non-organic token detected: \", smile)\n",
    "            continue\n",
    "        # Remove the metal tokens\n",
    "        if not {\"[Na]\", \"[Zn]\"}.isdisjoint(token):\n",
    "            logger.warning(\"Metal token detected: \", smile)\n",
    "            continue\n",
    "        # control the minimum and maximum of sequence length.\n",
    "        if MIN_TOKEN_LEN < len(token) <= MAX_TOKEN_LEN:\n",
    "            words.update(token)\n",
    "            canons.append(smile)\n",
    "            tokens.append(\" \".join(token))\n",
    "\n",
    "    if create_voc_file:\n",
    "        # output the vocabulary file\n",
    "        with open(destdir / f\"smiles_voc.txt\", \"w\") as voc_file:\n",
    "            voc_file.write(\"\\n\".join(sorted(words)))\n",
    "\n",
    "    outfile = destdir / f\"smiles_{corpus_type}_corpus.txt\"\n",
    "    _write_corpus(canon_smiles=canons, outfile=outfile, tokens=tokens)\n",
    "\n",
    "\n",
    "def _write_corpus(canon_smiles, outfile, tokens):\n",
    "    \"\"\"Output the dataset file as tab-delimited file\"\"\"\n",
    "    corpus_df = pd.DataFrame()\n",
    "    corpus_df[\"smiles\"] = canon_smiles\n",
    "    corpus_df[\"token\"] = tokens\n",
    "    corpus_df.drop_duplicates(subset=\"smiles\")\n",
    "    corpus_df.to_csv(path_or_buf=outfile, sep=\"\\t\", index=False)\n",
    "\n",
    "\n",
    "def _get_mols_from_sdf(is_isomeric: bool, raw_data_filepath: Path, chembl_version: Optional[str] = \"v30\") -> List[str]:\n",
    "    \"\"\"Handle sdf file with RDkit\"\"\"\n",
    "    inf = gzip.open(raw_data_filepath)\n",
    "    fsuppl = Chem.ForwardSDMolSupplier(inf)\n",
    "    smiles = []\n",
    "    total_mols = N_CHEMBL_COMPOUNDS.get(chembl_version) if chembl_version else None\n",
    "    for mol in tqdm(fsuppl, total=total_mols, desc=\"Processing ChEMBL molecules\"):\n",
    "        try:\n",
    "            smiles.append(Chem.MolToSmiles(mol, is_isomeric))\n",
    "        except Exception as e:\n",
    "            logger.warning(f\"Was not able to convert {mol} to smiles: {e}\")\n",
    "    return smiles\n"
   ]
  },
  {
   "cell_type": "code",
   "execution_count": 2,
   "id": "633ebbe9-e167-4774-82a3-e0313b9042e7",
   "metadata": {},
   "outputs": [
    {
     "name": "stderr",
     "output_type": "stream",
     "text": [
      "Processing ChEMBL molecules:  99%|████████████████████████████████████████████████████████████████████████████████████████████████████████████▉ | 2136187/2157379 [09:31<00:05, 3739.12it/s]\n"
     ]
    }
   ],
   "source": [
    "df = _get_mols_from_sdf(raw_data_filepath=\"../data/raw/chembl_30.sdf.gz\", is_isomeric=False)"
   ]
  },
  {
   "cell_type": "code",
   "execution_count": 3,
   "id": "d194be12-ea8d-43ad-be47-69aec7ddc49e",
   "metadata": {},
   "outputs": [],
   "source": [
    "# 2_136_187"
   ]
  },
  {
   "cell_type": "code",
   "execution_count": 6,
   "id": "3e2fc772-b7a7-497c-837e-c839f85fbd6e",
   "metadata": {},
   "outputs": [
    {
     "data": {
      "text/plain": [
       "115060425"
      ]
     },
     "execution_count": 6,
     "metadata": {},
     "output_type": "execute_result"
    }
   ],
   "source": [
    "open(\"../data/processed/chembl_30_smiles.txt\", \"w\").write('\\n'.join(smi for smi in df))"
   ]
  },
  {
   "cell_type": "code",
   "execution_count": 10,
   "id": "f01aa422-5a16-4ba5-9d99-826c63c6175c",
   "metadata": {},
   "outputs": [
    {
     "name": "stderr",
     "output_type": "stream",
     "text": [
      "Cleaning molecules: 100%|██████████████████████████████████████████████████████████████████████████████████████████████████████████████████████████████| 1000/1000 [00:03<00:00, 320.27it/s]"
     ]
    },
    {
     "name": "stdout",
     "output_type": "stream",
     "text": [
      "CPU times: user 3.12 s, sys: 12 ms, total: 3.13 s\n",
      "Wall time: 3.12 s\n"
     ]
    },
    {
     "name": "stderr",
     "output_type": "stream",
     "text": [
      "\n"
     ]
    }
   ],
   "source": [
    "%%time\n",
    "smiles = set()\n",
    "for smile in tqdm(df[:1000], desc=\"Cleaning molecules\"):\n",
    "    try:\n",
    "        smile = mol_utils.clean_mol(smile)\n",
    "        smiles.add(Chem.CanonSmiles(smile))\n",
    "    except Exception as e:\n",
    "        print(\"Parsing Error: \", e)"
   ]
  },
  {
   "cell_type": "code",
   "execution_count": 12,
   "id": "8e71744d-bd83-47d8-be6a-5b6b246b7a6f",
   "metadata": {},
   "outputs": [
    {
     "name": "stderr",
     "output_type": "stream",
     "text": [
      "Cleaning molecules: 100%|████████████████████████████████████████████████████████████████████████████████████████████████████████████████████████████████| 992/992 [00:03<00:00, 324.89it/s]\n"
     ]
    }
   ],
   "source": [
    "df_set = set(df[:1000])\n",
    "for smile in tqdm(df_set, desc=\"Cleaning molecules\"):\n",
    "    try:\n",
    "        smile = mol_utils.clean_mol(smile)\n",
    "        smiles.add(Chem.CanonSmiles(smile))\n",
    "    except Exception as e:\n",
    "        print(\"Parsing Error: \", e)"
   ]
  },
  {
   "cell_type": "code",
   "execution_count": 30,
   "id": "c4d1e680-5588-43cd-93b4-9361ac9be0cf",
   "metadata": {},
   "outputs": [
    {
     "name": "stdout",
     "output_type": "stream",
     "text": [
      "CPU times: user 3.02 s, sys: 0 ns, total: 3.02 s\n",
      "Wall time: 3.02 s\n"
     ]
    }
   ],
   "source": [
    "%%time\n",
    "smiles = set()\n",
    "for smile in df[:1000]:\n",
    "    try:\n",
    "        smile = mol_utils.clean_mol(smile)\n",
    "        smiles.add(Chem.CanonSmiles(smile))\n",
    "    except Exception as e:\n",
    "        print(\"Parsing Error: \", e)"
   ]
  },
  {
   "cell_type": "code",
   "execution_count": 24,
   "id": "00ffddd4-5621-4cb3-86d4-2c7349b9b293",
   "metadata": {},
   "outputs": [],
   "source": [
    "def clean_and_canonalize(smiles: str) -> str:\n",
    "    processed_smiles = None\n",
    "    try:\n",
    "        smiles = mol_utils.clean_mol(smiles)\n",
    "        processed_smiles = Chem.CanonSmiles(smiles)\n",
    "    except Exception as e:\n",
    "        print(\"Parsing Error: \", e)\n",
    "    return processed_smiles"
   ]
  },
  {
   "cell_type": "code",
   "execution_count": 33,
   "id": "9a9f537b-14ee-4207-b04a-4f1f86734be2",
   "metadata": {},
   "outputs": [
    {
     "name": "stdout",
     "output_type": "stream",
     "text": [
      "CPU times: user 426 ms, sys: 208 ms, total: 634 ms\n",
      "Wall time: 908 ms\n"
     ]
    }
   ],
   "source": [
    "%%time\n",
    "clean_smiles = set(Parallel(n_jobs=-1)(delayed(clean_and_canonalize)(smi) for smi in df[:1000]))"
   ]
  },
  {
   "cell_type": "code",
   "execution_count": 28,
   "id": "f6ecd0c5-6a71-4646-b2df-ec598a63e48b",
   "metadata": {},
   "outputs": [
    {
     "data": {
      "text/plain": [
       "992"
      ]
     },
     "execution_count": 28,
     "metadata": {},
     "output_type": "execute_result"
    }
   ],
   "source": [
    "len(clean_smiles)"
   ]
  },
  {
   "cell_type": "code",
   "execution_count": 29,
   "id": "6d30df88-3bcd-4803-9996-f2604781f4f2",
   "metadata": {},
   "outputs": [
    {
     "name": "stdout",
     "output_type": "stream",
     "text": [
      "CPU times: user 3.02 s, sys: 0 ns, total: 3.02 s\n",
      "Wall time: 3.02 s\n"
     ]
    }
   ],
   "source": [
    "%%time\n",
    "clean_smiles = set((clean_and_canonalize(smi) for smi in df[:1000]))"
   ]
  },
  {
   "cell_type": "code",
   "execution_count": 34,
   "id": "388270f7-5da3-47a9-a1a8-b28de7719486",
   "metadata": {},
   "outputs": [],
   "source": [
    "sv = SmilesVocabulary()"
   ]
  },
  {
   "cell_type": "code",
   "execution_count": 37,
   "id": "e80a9063-015d-432e-b91f-a45eb9503349",
   "metadata": {},
   "outputs": [],
   "source": [
    "tks = [sv.tokenize(cs) for cs in clean_smiles]"
   ]
  },
  {
   "cell_type": "code",
   "execution_count": 43,
   "id": "13a647a1-dbb8-463f-8e6f-06f9c3cdb516",
   "metadata": {
    "collapsed": true,
    "jupyter": {
     "outputs_hidden": true
    },
    "tags": []
   },
   "outputs": [
    {
     "name": "stderr",
     "output_type": "stream",
     "text": [
      "Tokenizing SMILES:   2%|██▎                                                                                                                     | 41903/2136187 [00:00<00:09, 212092.24it/s]"
     ]
    },
    {
     "name": "stdout",
     "output_type": "stream",
     "text": [
      "Non-organic token detected:  O=S(=O)(O)NS(=O)(=O)O\n",
      "Non-organic token detected:  OB(O)O\n",
      "Non-organic token detected:  F[Ag]\n"
     ]
    },
    {
     "name": "stderr",
     "output_type": "stream",
     "text": [
      "Tokenizing SMILES:   4%|████▉                                                                                                                   | 86810/2136187 [00:00<00:09, 220585.43it/s]"
     ]
    },
    {
     "name": "stdout",
     "output_type": "stream",
     "text": [
      "Non-organic token detected:  O=O.[O-][Cl+]O.[O-][Cl+]O.[O-][Cl+]O.[O-][Cl+]O\n",
      "Non-organic token detected:  NS(=O)(=O)O\n",
      "Non-organic token detected:  [Cl-].[Li+]\n",
      "Non-organic token detected:  OO\n",
      "Non-organic token detected:  [N-]=[N+]=[N-]\n",
      "Non-organic token detected:  [N-]=[N+]=[N-].[Na+]\n",
      "Non-organic token detected:  O=N[O-].[Na+]\n",
      "Non-organic token detected:  NN\n"
     ]
    },
    {
     "name": "stderr",
     "output_type": "stream",
     "text": [
      "Tokenizing SMILES:   6%|███████▎                                                                                                               | 130811/2136187 [00:00<00:09, 218615.17it/s]"
     ]
    },
    {
     "name": "stdout",
     "output_type": "stream",
     "text": [
      "Non-organic token detected:  [I-].[K+]\n",
      "Non-organic token detected:  O=[Se]([O-])[O-].[Na+].[Na+]\n",
      "Non-organic token detected:  O=S(=O)([O-])OS(=O)(=O)[O-].[Na+].[Na+]\n",
      "Non-organic token detected:  O=[Se](=O)([O-])[O-].[Na+].[Na+]\n",
      "Non-organic token detected:  [Ra]\n",
      "Non-organic token detected:  NP(=O)(O)O\n",
      "Metal token detected:  Nc1c(N=Nc2ccc(-c3ccccc3OCCC[Na])nc2)cc(S(=O)(=O)O)c2ccccc12\n",
      "Non-organic token detected:  [Cs]\n",
      "Metal token detected:  C=CCCCCCCCCC(=O)O[Zn]OC(=O)CCCCCCCCC=C\n",
      "Metal token detected:  Nc1ccc(S(=O)(=O)O[Zn]OS(=O)(=O)c2ccc(N)cc2)cc1\n",
      "Non-organic token detected:  N#N\n",
      "Metal token detected:  CC(=O)OCC1=C2C(=O)O[Zn]OC(=O)C(N)CCCC(=O)NC3C(=O)N2C3SC1\n"
     ]
    },
    {
     "name": "stderr",
     "output_type": "stream",
     "text": [
      "Tokenizing SMILES:   9%|██████████▉                                                                                                            | 196790/2136187 [00:00<00:08, 217958.62it/s]"
     ]
    },
    {
     "name": "stdout",
     "output_type": "stream",
     "text": [
      "Non-organic token detected:  F[P-](F)(F)(F)(F)F.[Na+]\n",
      "Non-organic token detected:  [Ag+].[Ag+].[S-2]\n",
      "Metal token detected:  OC1COc2ccccc2CNCCNCCNCc2ccccc2OC1.[O-][Cl+3]([O-])([O-])O[Zn]O[Cl+3]([O-])([O-])[O-]\n",
      "Non-organic token detected:  O=[N+]([O-])[O-].[Ag+]\n",
      "Non-organic token detected:  F[Al-3](F)(F)(F)(F)F\n",
      "Non-organic token detected:  [Cl-].[Rb+]\n",
      "Non-organic token detected:  O=[N+]([O-])[O-]\n",
      "Non-organic token detected:  [N-]=[N+]=N\n",
      "Non-organic token detected:  [Ag+].[Cl-]\n",
      "Non-organic token detected:  NS(=O)(=O)NO\n"
     ]
    },
    {
     "name": "stderr",
     "output_type": "stream",
     "text": [
      "Tokenizing SMILES:  11%|█████████████▎                                                                                                         | 240074/2136187 [00:01<00:08, 213481.80it/s]"
     ]
    },
    {
     "name": "stdout",
     "output_type": "stream",
     "text": [
      "Non-organic token detected:  O.O=[Mg].O=[Mg].O=[Mg].O=[Si]=O.O=[Si]=O.O=[Si]=O.O=[Si]=O\n",
      "Metal token detected:  O=C(CCCCC1CCS[Zn]S1)NC(Cc1c[nH]cn1)C(=O)[O-].[Na+]\n",
      "Non-organic token detected:  [Ag+].[OH-]\n",
      "Non-organic token detected:  [Ag+].[Ag+].[Se-2]\n",
      "Non-organic token detected:  NS(=O)(=O)[O-].[Na+]\n",
      "Non-organic token detected:  O=S(=O)([O-])[O-].[Na+].[Na+]\n",
      "Non-organic token detected:  [F-].[Na+]\n"
     ]
    },
    {
     "name": "stderr",
     "output_type": "stream",
     "text": [
      "Tokenizing SMILES:  14%|████████████████▉                                                                                                      | 303975/2136187 [00:01<00:08, 210885.62it/s]"
     ]
    },
    {
     "name": "stdout",
     "output_type": "stream",
     "text": [
      "Non-organic token detected:  [Cl-].[Cs+]\n",
      "Non-organic token detected:  O=P(O)(O)NP(=O)(O)O\n",
      "Non-organic token detected:  O=BOB([O-])OB([O-])OB=O.[Na+].[Na+]\n",
      "Non-organic token detected:  [N-]=[N+]=N.[Na+]\n"
     ]
    },
    {
     "name": "stderr",
     "output_type": "stream",
     "text": [
      "Tokenizing SMILES:  16%|███████████████████▎                                                                                                   | 346259/2136187 [00:01<00:08, 210154.11it/s]"
     ]
    },
    {
     "name": "stdout",
     "output_type": "stream",
     "text": [
      "Non-organic token detected:  ClP1(Cl)=NP(Cl)(Cl)=NP(Cl)(Cl)=NP(Cl)(Cl)=N1\n",
      "Non-organic token detected:  O=P([O-])([O-])O.[Na+].[Na+]\n",
      "Non-organic token detected:  O=P(O)(O)O\n",
      "Non-organic token detected:  NP(N)(=O)O\n",
      "Non-organic token detected:  O=P([O-])([O-])[O-].[Ag+].[Ag+].[Ag+]\n",
      "Non-organic token detected:  NS(N)(=O)=O\n"
     ]
    },
    {
     "name": "stderr",
     "output_type": "stream",
     "text": [
      "Tokenizing SMILES:  18%|█████████████████████▋                                                                                                 | 388784/2136187 [00:01<00:08, 210570.42it/s]"
     ]
    },
    {
     "name": "stdout",
     "output_type": "stream",
     "text": [
      "Non-organic token detected:  O=P([O-])(O)O.[Na+]\n",
      "Non-organic token detected:  O=P([O-])([O-])[O-].[Na+].[Na+].[Na+]\n",
      "Metal token detected:  [O-][Cl+3]([O-])([O-])O[Zn]O[Cl+3]([O-])([O-])[O-].c1ccc2c(c1)CNCCNCCNCc1ccccc1OCC(Oc1ccc3ccccc3c1)CO2\n",
      "Non-organic token detected:  O=[N+]([O-])O\n",
      "Non-organic token detected:  [O-][N+](O)=NO\n",
      "Metal token detected:  COC1COc2ccccc2CNCCNCCNCc2ccccc2OC1.[O-][Cl+3]([O-])([O-])O[Zn]O[Cl+3]([O-])([O-])[O-]\n"
     ]
    },
    {
     "name": "stderr",
     "output_type": "stream",
     "text": [
      "Tokenizing SMILES:  20%|███████████████████████▉                                                                                               | 430632/2136187 [00:02<00:08, 206992.03it/s]"
     ]
    },
    {
     "name": "stdout",
     "output_type": "stream",
     "text": [
      "Non-organic token detected:  O=[PH]([O-])O.[K+]\n",
      "Non-organic token detected:  O=S(=O)([O-])F.[Na+]\n",
      "Non-organic token detected:  O=P([O-])([O-])OP(=O)([O-])[O-].[Na+].[Na+].[Na+].[Na+]\n",
      "Non-organic token detected:  O=S(=O)(O)OS(=O)(=O)O\n"
     ]
    },
    {
     "name": "stderr",
     "output_type": "stream",
     "text": [
      "Tokenizing SMILES:  23%|███████████████████████████▌                                                                                           | 493794/2136187 [00:02<00:07, 209440.75it/s]"
     ]
    },
    {
     "name": "stdout",
     "output_type": "stream",
     "text": [
      "Non-organic token detected:  O=[SH](=O)O\n",
      "Non-organic token detected:  O=S(O)S(=O)O\n",
      "Non-organic token detected:  O=NOO\n",
      "Metal token detected:  NS(=O)(=O)c1ccc(CCNC(=O)CN(CCN(CCN(CC(=O)O)CC(=O)NCCc2ccc(S(N)(=O)=O)cc2)CC(=O)O)CC(=O)O)cc1.[Zn]\n",
      "Non-organic token detected:  [Al]#P\n",
      "Metal token detected:  NS(=O)(=O)c1ccc(CNC(=O)CN(CCOCCOCCN(CC(=O)O)CC(=O)NCc2ccc(S(N)(=O)=O)cc2)CC(=O)O)cc1.[Zn]\n",
      "Non-organic token detected:  [He]\n",
      "Non-organic token detected:  O=S(=O)([O-])NS(=O)(=O)[O-].[Na+].[Na+]\n",
      "Non-organic token detected:  FS(F)(F)(F)(F)F\n",
      "Non-organic token detected:  O=[Te](=O)([O-])[O-].[Na+].[Na+]\n",
      "Metal token detected:  Cn1nc(S(N)(=O)=O)sc1=NC(=O)CN(CCN(CC(=O)O)CC(=O)N=c1sc(S(N)(=O)=O)nn1C)CC(=O)O.[Zn]\n",
      "Metal token detected:  NS(=O)(=O)c1nnc(NC(=O)CN(CCN(CC(=O)O)CC(=O)Nc2nnc(S(N)(=O)=O)s2)CC(=O)O)s1.[Zn]\n",
      "Metal token detected:  NS(=O)(=O)c1ccc(CNC(=O)CN(CCN(CC(=O)O)CC(=O)NCc2ccc(S(N)(=O)=O)cc2)CC(=O)O)cc1.[Zn]\n",
      "Metal token detected:  NS(=O)(=O)c1ccc(NC(=O)CN(CCN(CC(=O)O)CC(=O)Nc2ccc(S(N)(=O)=O)cc2)CC(=O)O)cc1.[Zn]\n",
      "Metal token detected:  NS(=O)(=O)c1nnc(NC(=O)CN(CCOCCOCCN(CC(=O)O)CC(=O)O)CC(=O)O)s1.[Zn]\n",
      "Metal token detected:  NS(=O)(=O)c1nnc(NC(=O)CN(CCOCCOCCN(CC(=O)O)CC(=O)Nc2nnc(S(N)(=O)=O)s2)CC(=O)O)s1.[Zn]\n",
      "Metal token detected:  Cn1nc(S(N)(=O)=O)sc1=NC(=O)CN(CCOCCOCCN(CC(=O)O)CC(=O)N=c1sc(S(N)(=O)=O)nn1C)CC(=O)O.[Zn]\n",
      "Metal token detected:  NS(=O)(=O)c1ccc(CCNC(=O)CN(CCOCCOCCN(CC(=O)O)CC(=O)NCCc2ccc(S(N)(=O)=O)cc2)CC(=O)O)cc1.[Zn]\n",
      "Metal token detected:  Cn1nc(S(N)(=O)=O)sc1=NC(=O)CN(CCN(CCN(CC(=O)O)CC(=O)N=c1sc(S(N)(=O)=O)nn1C)CC(=O)O)CC(=O)O.[Zn]\n",
      "Metal token detected:  NS(=O)(=O)c1ccc(CCNC(=O)CN(CCN(CC(=O)O)CC(=O)NCCc2ccc(S(N)(=O)=O)cc2)CC(=O)O)cc1.[Zn]\n",
      "Metal token detected:  NS(=O)(=O)c1ccc(NC(=O)CN(CCOCCOCCN(CC(=O)O)CC(=O)Nc2ccc(S(N)(=O)=O)cc2)CC(=O)O)cc1.[Zn]\n"
     ]
    },
    {
     "name": "stderr",
     "output_type": "stream",
     "text": [
      "Tokenizing SMILES:  25%|█████████████████████████████▊                                                                                         | 535518/2136187 [00:02<00:07, 207201.55it/s]"
     ]
    },
    {
     "name": "stdout",
     "output_type": "stream",
     "text": [
      "Non-organic token detected:  OP1(O)=NP(O)(O)=NP(O)(O)=NP(O)(O)=N1\n",
      "Metal token detected:  [O-][Cl+3]([O-])([O-])O[Zn]O[Cl+3]([O-])([O-])[O-].c1ccc(OC2COc3ccccc3CNCCNCCNCc3ccccc3OC2)cc1\n",
      "Non-organic token detected:  [O-][N+]([O-])=NO\n",
      "Non-organic token detected:  O=S(=O)(O)F\n",
      "Non-organic token detected:  O=S(=O)(O)OOS(=O)(=O)O\n",
      "Metal token detected:  [O-][Cl+3]([O-])([O-])O.[O-][Cl+3]([O-])([O-])O.[Zn].c1ccc2c(-n3cc(CN4CCCNCCN(Cc5cn(-c6cccc7ccccc67)nn5)CCCNCC4)nn3)cccc2c1\n"
     ]
    },
    {
     "name": "stderr",
     "output_type": "stream",
     "text": [
      "Tokenizing SMILES:  28%|█████████████████████████████████▎                                                                                     | 598688/2136187 [00:02<00:07, 209189.53it/s]"
     ]
    },
    {
     "name": "stdout",
     "output_type": "stream",
     "text": [
      "Non-organic token detected:  Cl.NO\n",
      "Non-organic token detected:  Cl.Cl.NN\n",
      "Non-organic token detected:  [Xe]\n",
      "Non-organic token detected:  O=[Al]O[Al]=O\n",
      "Non-organic token detected:  O=S(=O)(O)S\n"
     ]
    },
    {
     "name": "stderr",
     "output_type": "stream",
     "text": [
      "Tokenizing SMILES:  32%|██████████████████████████████████████                                                                                 | 683629/2136187 [00:03<00:06, 209134.23it/s]"
     ]
    },
    {
     "name": "stdout",
     "output_type": "stream",
     "text": [
      "Non-organic token detected:  O=S(=O)(O)O\n",
      "Non-organic token detected:  [Se-2]\n"
     ]
    },
    {
     "name": "stderr",
     "output_type": "stream",
     "text": [
      "Tokenizing SMILES:  38%|████████████████████████████████████████████▉                                                                          | 807551/2136187 [00:03<00:06, 205082.63it/s]"
     ]
    },
    {
     "name": "stdout",
     "output_type": "stream",
     "text": [
      "Non-organic token detected:  O\n",
      "Non-organic token detected:  O=NO\n",
      "Non-organic token detected:  O=P(O)(O)OP(=O)(O)O\n",
      "Non-organic token detected:  O=S(O)O\n",
      "Non-organic token detected:  N\n",
      "Non-organic token detected:  [O-][Cl+3]([O-])([O-])O\n",
      "Non-organic token detected:  [O-][Br+2]([O-])O\n",
      "Non-organic token detected:  [O-][I+2]([O-])O\n",
      "Non-organic token detected:  [O-][I+3]([O-])([O-])O\n",
      "Non-organic token detected:  O=P(O)(O)OO\n",
      "Non-organic token detected:  NO\n",
      "Non-organic token detected:  O=P([O-])([O-])O.[K+].[K+]\n",
      "Non-organic token detected:  II\n",
      "Non-organic token detected:  [Al+3].[OH-].[OH-].[OH-]\n",
      "Non-organic token detected:  [Cl-].[Na+]\n",
      "Non-organic token detected:  [Zn]\n",
      "Non-organic token detected:  [Mg+2].[OH-].[OH-]\n",
      "Non-organic token detected:  [K+].[O-][Cl+3]([O-])([O-])[O-]\n",
      "Non-organic token detected:  [I-].[Na+]\n",
      "Non-organic token detected:  [I-].[Na+]\n",
      "Non-organic token detected:  [Ca+2].[Cl-].[Cl-]\n",
      "Non-organic token detected:  [Cl-].[Cl-].[Zn+2]\n",
      "Non-organic token detected:  [Xe]\n",
      "Non-organic token detected:  S=[Se]=S\n",
      "Non-organic token detected:  [Xe]\n",
      "Non-organic token detected:  [Cl-].[Cl-].[Sr+2]\n",
      "Non-organic token detected:  O=S(=O)([O-])[O-].[Zn+2]\n",
      "Non-organic token detected:  [N]=O\n",
      "Non-organic token detected:  O=[Mg]\n",
      "Non-organic token detected:  [Cl-].[Rb+]\n",
      "Non-organic token detected:  O=[As]O[As]=O\n",
      "Non-organic token detected:  [Rb]\n",
      "Non-organic token detected:  O=S(=O)([O-])O.[Na+]\n",
      "Non-organic token detected:  O=P([O-])(O)O.[K+]\n",
      "Non-organic token detected:  [Cl-].[K+]\n",
      "Non-organic token detected:  Cl.N\n",
      "Non-organic token detected:  S\n",
      "Non-organic token detected:  [Kr]\n",
      "Non-organic token detected:  [F-].[Na+]\n",
      "Non-organic token detected:  N\n"
     ]
    },
    {
     "name": "stderr",
     "output_type": "stream",
     "text": [
      "Tokenizing SMILES:  40%|███████████████████████████████████████████████▎                                                                       | 850101/2136187 [00:04<00:06, 195618.44it/s]"
     ]
    },
    {
     "name": "stdout",
     "output_type": "stream",
     "text": [
      "Non-organic token detected:  [K]\n",
      "Non-organic token detected:  O=S(=O)([O-])OOS(=O)(=O)[O-].[Na+].[Na+]\n",
      "Non-organic token detected:  [O-][Cl+2]([O-])O\n",
      "Metal token detected:  CN(C)c1ccc2nc3ccc(=[N+](C)C)cc-3oc2c1.Cl[Zn]Cl.[Cl-]\n"
     ]
    },
    {
     "name": "stderr",
     "output_type": "stream",
     "text": [
      "Tokenizing SMILES:  43%|██████████████████████████████████████████████████▋                                                                    | 910466/2136187 [00:04<00:06, 197259.42it/s]"
     ]
    },
    {
     "name": "stdout",
     "output_type": "stream",
     "text": [
      "Non-organic token detected:  Br\n",
      "Non-organic token detected:  I\n",
      "Non-organic token detected:  [Ag+]\n",
      "Non-organic token detected:  O=[PH](O)O\n",
      "Non-organic token detected:  Cl\n",
      "Non-organic token detected:  O=P(O)(O)OP(=O)(O)OP(=O)(O)O\n",
      "Non-organic token detected:  [H]O[H]\n",
      "Non-organic token detected:  F\n",
      "Non-organic token detected:  O[As](O)O\n",
      "Non-organic token detected:  [C-]#[O+]\n",
      "Non-organic token detected:  O=S=O\n",
      "Non-organic token detected:  [SeH2]\n",
      "Non-organic token detected:  [AsH3]\n",
      "Non-organic token detected:  [Kr]\n",
      "Non-organic token detected:  O=O\n",
      "Non-organic token detected:  N#[N+][O-]\n",
      "Non-organic token detected:  [Zn+2]\n",
      "Non-organic token detected:  [Li+]\n",
      "Non-organic token detected:  [Xe]\n",
      "Non-organic token detected:  N=O\n",
      "Non-organic token detected:  SSS\n",
      "Non-organic token detected:  [Na+].[O-]Cl\n",
      "Non-organic token detected:  N.N.O=NN(O)S(=O)(=O)O\n"
     ]
    },
    {
     "name": "stderr",
     "output_type": "stream",
     "text": [
      "Tokenizing SMILES:  45%|█████████████████████████████████████████████████████▎                                                                 | 956044/2136187 [00:04<00:05, 212769.85it/s]"
     ]
    },
    {
     "name": "stdout",
     "output_type": "stream",
     "text": [
      "Non-organic token detected:  [Na+].[O-][Br+2]([O-])[O-]\n"
     ]
    },
    {
     "name": "stderr",
     "output_type": "stream",
     "text": [
      "Tokenizing SMILES:  49%|█████████████████████████████████████████████████████████▉                                                            | 1048934/2136187 [00:04<00:04, 228094.41it/s]"
     ]
    },
    {
     "name": "stdout",
     "output_type": "stream",
     "text": [
      "Non-organic token detected:  ClP(Cl)(Cl)(Cl)Cl\n"
     ]
    },
    {
     "name": "stderr",
     "output_type": "stream",
     "text": [
      "Tokenizing SMILES:  52%|█████████████████████████████████████████████████████████████▊                                                        | 1119245/2136187 [00:05<00:04, 232175.81it/s]"
     ]
    },
    {
     "name": "stdout",
     "output_type": "stream",
     "text": [
      "Non-organic token detected:  O=[N+]([O-])[O-].[NH4+]\n"
     ]
    },
    {
     "name": "stderr",
     "output_type": "stream",
     "text": [
      "Tokenizing SMILES:  56%|█████████████████████████████████████████████████████████████████▋                                                    | 1189043/2136187 [00:05<00:04, 231985.64it/s]"
     ]
    },
    {
     "name": "stdout",
     "output_type": "stream",
     "text": [
      "Non-organic token detected:  O.O.O.O.O.O.O.O.O.O.O=S(=O)([O-])[O-].[Na+].[Na+]\n",
      "Non-organic token detected:  [Na+].[O-][Cl+2]([O-])[O-]\n",
      "Non-organic token detected:  [F-].[K+]\n",
      "Non-organic token detected:  [Na+].[Na+].[O-]N=[N+]([O-])[O-]\n",
      "Non-organic token detected:  [I-].[Na+]\n",
      "Non-organic token detected:  O=S(=O)([O-])ONOS(=O)(=O)[O-].[Na+].[Na+]\n"
     ]
    },
    {
     "name": "stderr",
     "output_type": "stream",
     "text": [
      "Tokenizing SMILES:  58%|████████████████████████████████████████████████████████████████████▏                                                 | 1234977/2136187 [00:05<00:03, 226142.21it/s]"
     ]
    },
    {
     "name": "stdout",
     "output_type": "stream",
     "text": [
      "Non-organic token detected:  [Br-].[K+]\n",
      "Non-organic token detected:  [Br-].[Na+]\n",
      "Metal token detected:  CN(C)c1ccc2nc3ccc(=[N+](C)C)cc-3oc2c1.Cl[Zn]Cl\n",
      "Non-organic token detected:  [Na+].[O-][Cl+3]([O-])([O-])[O-]\n",
      "Non-organic token detected:  O=[N+]([O-])[O-].[Na+]\n",
      "Non-organic token detected:  [C-]#N.[Na+]\n",
      "Non-organic token detected:  [Na+].[SH-]\n",
      "Non-organic token detected:  OCl\n",
      "Non-organic token detected:  O=P1(O)OP(=O)(O)OP(=O)(O)O1\n",
      "Non-organic token detected:  O=S([O-])O.[Na+]\n",
      "Non-organic token detected:  O=[N+]([O-])[O-].[K+]\n",
      "Non-organic token detected:  [OH]\n"
     ]
    },
    {
     "name": "stderr",
     "output_type": "stream",
     "text": [
      "Tokenizing SMILES:  61%|███████████████████████████████████████████████████████████████████████▉                                              | 1301792/2136187 [00:06<00:03, 219335.72it/s]"
     ]
    },
    {
     "name": "stdout",
     "output_type": "stream",
     "text": [
      "Non-organic token detected:  O=S(=O)(O)ONOS(=O)(=O)O\n",
      "Non-organic token detected:  F[B-](F)(F)F\n",
      "Non-organic token detected:  NO.NO.O=S(=O)(O)O\n",
      "Non-organic token detected:  Cl[Al](Cl)Cl.O.O.O.O.O.O\n",
      "Non-organic token detected:  O=P([O-])([O-])[O-].[Al+3]\n",
      "Non-organic token detected:  N.[O-][Cl+3]([O-])([O-])O\n",
      "Non-organic token detected:  F[B-](F)(F)F.[Na+]\n",
      "Non-organic token detected:  N=S(=O)([O-])[O-].[Na+].[Na+]\n",
      "Non-organic token detected:  F\n",
      "Non-organic token detected:  I\n"
     ]
    },
    {
     "name": "stderr",
     "output_type": "stream",
     "text": [
      "Tokenizing SMILES:  63%|██████████████████████████████████████████████████████████████████████████▎                                           | 1345338/2136187 [00:06<00:03, 212639.14it/s]"
     ]
    },
    {
     "name": "stdout",
     "output_type": "stream",
     "text": [
      "Non-organic token detected:  O=[As]O\n",
      "Non-organic token detected:  [Na+].[O-][Cl+][O-]\n",
      "Non-organic token detected:  NN.O=S(=O)(O)O\n",
      "Non-organic token detected:  O.O.O.O.O.O.[Cl-].[Cl-].[Sr+2]\n",
      "Non-organic token detected:  O=[As][O-].[Na+]\n",
      "Non-organic token detected:  [O-][Cl+]O\n",
      "Non-organic token detected:  O=P([O-])([O-])F.[Na+].[Na+]\n",
      "Non-organic token detected:  O=S([O-])[O-].[Na+].[Na+]\n"
     ]
    },
    {
     "name": "stderr",
     "output_type": "stream",
     "text": [
      "Tokenizing SMILES:  66%|█████████████████████████████████████████████████████████████████████████████▉                                        | 1410340/2136187 [00:06<00:03, 209903.18it/s]"
     ]
    },
    {
     "name": "stdout",
     "output_type": "stream",
     "text": [
      "Non-organic token detected:  O=S(O)S(=O)(=O)O\n",
      "Non-organic token detected:  O=[Se](O)O\n",
      "Non-organic token detected:  O=S(=O)([O-])[O-].[Mg+2]\n",
      "Non-organic token detected:  O=S(=O)([O-])[O-].[K+].[K+]\n",
      "Non-organic token detected:  O=[As][O-].[K+]\n",
      "Non-organic token detected:  ClP1(Cl)=NP(Cl)(Cl)=NP(Cl)(Cl)=N1\n",
      "Non-organic token detected:  O=P([O-])(O)OP(=O)(O)O.[Na+]\n",
      "Non-organic token detected:  O=[Se]([O-])O.[Na+]\n",
      "Non-organic token detected:  O=S([O-])S(=O)(=O)[O-].[Na+].[Na+]\n",
      "Non-organic token detected:  O=[Si](O)O\n",
      "Non-organic token detected:  O=[Te](=O)(O)O\n",
      "Non-organic token detected:  O=[Si]([O-])O[Si]([O-])([O-])O[Si](=O)[O-].[Mg+2].[Mg+2]\n",
      "Metal token detected:  O=C(CCCCC1CCS[Zn]S1)NC(Cc1c[nH]cn1)C(=O)O\n",
      "Non-organic token detected:  O=BOB(O)OB(O)OB=O\n",
      "Non-organic token detected:  O.O.O.O.O.O=S([O-])([O-])=S.[Na+].[Na+]\n"
     ]
    },
    {
     "name": "stderr",
     "output_type": "stream",
     "text": [
      "Tokenizing SMILES:  68%|████████████████████████████████████████████████████████████████████████████████▏                                     | 1452153/2136187 [00:06<00:03, 204364.84it/s]"
     ]
    },
    {
     "name": "stdout",
     "output_type": "stream",
     "text": [
      "Non-organic token detected:  O=[Se](=O)(O)O\n",
      "Non-organic token detected:  O=[Si](O)O[Si](O)(O)O[Si](=O)O\n",
      "Non-organic token detected:  O=P[O-].[Na+]\n",
      "Non-organic token detected:  [CaH2]\n",
      "Non-organic token detected:  [MgH2]\n",
      "Non-organic token detected:  [LiH]\n",
      "Non-organic token detected:  O=S(O)S(=O)(=O)[O-].[K+]\n",
      "Non-organic token detected:  [C-]#[N+][O-].[Na+]\n",
      "Non-organic token detected:  [NH-]S(N)(=O)=O.[Na+]\n",
      "Non-organic token detected:  O=P(=O)[O-].[K+]\n",
      "Non-organic token detected:  O=P([O-])([O-])[O-].O=P([O-])([O-])[O-].[Ca+2].[Ca+2].[Ca+2]\n",
      "Non-organic token detected:  [C]\n",
      "Non-organic token detected:  [H]O[H]\n",
      "Non-organic token detected:  O=[Ca]\n",
      "Non-organic token detected:  [Cl-].[K+]\n",
      "Non-organic token detected:  O=S(=O)([O-])[O-].[Ba+2]\n",
      "Non-organic token detected:  [K+].[OH-]\n",
      "Non-organic token detected:  O.O.O.O.O.O.O.O.O.[Na+].[Na+].[S-2]\n",
      "Non-organic token detected:  O=[Ca].[Na+].[OH-]\n",
      "Non-organic token detected:  [Cl-].[Cl-].[Ra+2]\n",
      "Non-organic token detected:  [Na+].[OH-]\n",
      "Non-organic token detected:  [S]\n",
      "Non-organic token detected:  [Cl-].[Cl-].[Ra+2]\n",
      "Non-organic token detected:  [Cl-].[Na+]\n",
      "Non-organic token detected:  [I-].[Na+]\n",
      "Non-organic token detected:  [Cl-].[Cl-].[Sr+2]\n",
      "Non-organic token detected:  O=P1([O-])OP(=O)([O-])OP(=O)([O-])O1.[Na+].[Na+].[Na+]\n",
      "Non-organic token detected:  O=[PH2]O\n",
      "Non-organic token detected:  O=P([O-])([O-])[O-].O=P([O-])([O-])[O-].[Mg+2].[Mg+2].[Mg+2]\n",
      "Non-organic token detected:  O=S(=O)([O-])[O-].[Ca+2]\n",
      "Non-organic token detected:  [SrH2]\n",
      "Non-organic token detected:  [Ca+2].[OH-].[OH-]\n",
      "Non-organic token detected:  O=P([O-])([O-])O.[Na+].[Na+]\n",
      "Non-organic token detected:  O\n",
      "Non-organic token detected:  [Ca+2].[Cl-].[Cl-]\n",
      "Non-organic token detected:  O.O.O=P([O-])([O-])O.[Na+].[Na+]\n",
      "Non-organic token detected:  O=P([O-])([O-])O.[Ca+2]\n",
      "Non-organic token detected:  O=[N+]([O-])[O-].O=[N+]([O-])[O-].[Sr+2]\n",
      "Non-organic token detected:  O=S([O-])S(=O)(=O)[O-].[K+].[K+]\n",
      "Non-organic token detected:  N.N.O=P(O)(O)O\n",
      "Non-organic token detected:  [SrH2]\n",
      "Non-organic token detected:  [Na+].[Na+].[S-2]\n",
      "Non-organic token detected:  N.N.O=S(=O)(O)O\n",
      "Non-organic token detected:  [Ca+2].[Cl-].[Cl-]\n",
      "Non-organic token detected:  O=P([O-])(O)O.O=P([O-])([O-])O.O=S(=O)([O-])[O-].[Cl-].[Cl-].[K+].[K+].[Mg+2].[Na+].[Na+].[Na+]\n",
      "Non-organic token detected:  [Br-].[Br-].[Ca+2]\n",
      "Non-organic token detected:  [Cl-].[Cl-].[Sr+2]\n",
      "Non-organic token detected:  [Cl-].[Cl-].[Mg+2]\n",
      "Non-organic token detected:  O=[N+]([O-])[O-].O=[N+]([O-])[O-].[Sr+2]\n",
      "Non-organic token detected:  O=[PH2][O-].O=[PH2][O-].[Ca+2]\n",
      "Non-organic token detected:  O=P([O-])([O-])[O-].O=P([O-])([O-])[O-].O=P([O-])([O-])[O-].[Ca+2].[Ca+2].[Ca+2].[Ca+2].[Ca+2].[OH-]\n",
      "Non-organic token detected:  [C-]#[N+][O-]\n",
      "Non-organic token detected:  FB(F)F\n",
      "Non-organic token detected:  FB(F)F.O.O\n"
     ]
    },
    {
     "name": "stderr",
     "output_type": "stream",
     "text": [
      "Tokenizing SMILES:  71%|███████████████████████████████████████████████████████████████████████████████████▌                                  | 1513327/2136187 [00:07<00:03, 194186.41it/s]"
     ]
    },
    {
     "name": "stdout",
     "output_type": "stream",
     "text": [
      "Non-organic token detected:  [K+].[O-][Br+2]([O-])[O-]\n",
      "Non-organic token detected:  [C-]#[O+]\n",
      "Non-organic token detected:  O[As](O)O[As](O)O[As](O)O\n",
      "Non-organic token detected:  O1[As]2O[As]3O[As]1O[As](O2)O3\n",
      "Non-organic token detected:  [Ba+2].[Ca+2].[OH-].[OH-].[OH-].[OH-]\n",
      "Metal token detected:  O=S(=O)(O)C1CCC(O)C2NCCCC21.O=S(=O)(O)C1CCC(O)C2NCCCC21.[Zn]\n"
     ]
    },
    {
     "name": "stderr",
     "output_type": "stream",
     "text": [
      "Tokenizing SMILES:  73%|█████████████████████████████████████████████████████████████████████████████████████▊                                | 1554607/2136187 [00:07<00:02, 200120.95it/s]"
     ]
    },
    {
     "name": "stdout",
     "output_type": "stream",
     "text": [
      "Non-organic token detected:  O=[As](O)(O)O\n",
      "Non-organic token detected:  O=NN(O)S(=O)(=O)O\n",
      "Non-organic token detected:  O=P([O-])([O-])[O-].O=P([O-])([O-])[O-].[Zn+2].[Zn+2].[Zn+2]\n",
      "Metal token detected:  N=C(N)c1ccc2nc(Cc3nc4ccc(C(=N)N)cc4[nH]3)[nH]c2c1.[Zn]\n",
      "Metal token detected:  CC(=O)[O-].CC(=O)[O-].CC(=O)[O-].CC(=O)[O-].COc1ccc2[nH]c3c(C)c4cc[n+](CCCCC(=O)Nc5ccc(-c6c7nc(c(-c8cc[n+](C)cc8)c8ccc([nH]8)c(-c8cc[n+](C)cc8)c8nc(c(-c9cc[n+](C)cc9)c9ccc6[nH]9)C=C8)C=C7)cc5)cc4c(C)c3c2c1.[Zn]\n",
      "Metal token detected:  CCCCc1ccc2c(c1)-c1nc-2nc2[nH]c(nc3nc(nc4[nH]c(n1)c1ccc(CCCC)cc41)-c1cccc(C#CC4(O)CCC5C6CCc7cc(O)ccc7C6CCC54C)c1-3)c1ccc(CCCC)cc21.[Zn]\n",
      "Non-organic token detected:  [C-]#N.[K+]\n",
      "Non-organic token detected:  [Ca+2].[O-]Cl.[O-]Cl\n",
      "Non-organic token detected:  N.N.O=S(=O)(O)OOS(=O)(=O)O\n",
      "Non-organic token detected:  Cl[Ca]Cl.Cl[Mg]Cl\n",
      "Metal token detected:  CC12CCC3c4ccc(O)cc4CCC3C1CCC2(O)CCCCC#CC#Cc1cccc2c1-c1nc-2nc2[nH]c(nc3nc(nc4[nH]c(n1)c1ccc(S(=O)(=O)[O-])cc41)-c1ccc(S(=O)(=O)[O-])cc1-3)c1ccc(S(=O)(=O)[O-])cc21.[Na+].[Na+].[Na+].[Zn]\n",
      "Metal token detected:  O=C([O-])c1cc(Oc2cc3c(cc2Oc2cc(C(=O)[O-])cc(C(=O)[O-])c2)-c2nc-3nc3[nH]c(nc4nc(nc5[nH]c(n2)c2cc(Oc6cc(C(=O)[O-])cc(C(=O)[O-])c6)c(Oc6cc(C(=O)[O-])cc(C(=O)[O-])c6)cc52)-c2cc(Oc5cc(C(=O)[O-])cc(C(=O)[O-])c5)c(Oc5cc(C(=O)[O-])cc(C(=O)[O-])c5)cc2-4)c2cc(Oc4cc(C(=O)[O-])cc(C(=O)[O-])c4)c(Oc4cc(C(=O)[O-])cc(C(=O)[O-])c4)cc32)cc(C(=O)[O-])c1.[Na+].[Na+].[Na+].[Na+].[Na+].[Na+].[Na+].[Na+].[Na+].[Na+].[Na+].[Na+].[Na+].[Na+].[Na+].[Na+].[Zn]\n",
      "Metal token detected:  CC12CCC3c4ccc(O)cc4CCC3C1CCC2(O)c1cccc(C#CC#Cc2ccc3c(c2)-c2nc-3nc3[nH]c(nc4nc(nc5[nH]c(n2)c2ccc(S(=O)(=O)[O-])cc52)-c2ccc(S(=O)(=O)[O-])cc2-4)c2ccc(S(=O)(=O)[O-])cc32)c1.[Na+].[Na+].[Na+].[Zn]\n",
      "Metal token detected:  CC12CCC3c4ccc(O)cc4CCC3C1CCC2(O)CCCCC#CC#Cc1ccc2c(c1)-c1nc-2nc2[nH]c(nc3nc(nc4[nH]c(n1)c1ccc(S(=O)(=O)[O-])cc41)-c1ccc(S(=O)(=O)[O-])cc1-3)c1ccc(S(=O)(=O)[O-])cc21.[Na+].[Na+].[Na+].[Zn]\n",
      "Metal token detected:  CC12CCC3c4ccc(O)cc4CCC3C1CCC2(O)C#Cc1ccc2c(c1)-c1nc-2nc2[nH]c(nc3nc(nc4[nH]c(n1)c1ccc(S(=O)(=O)[O-])cc41)-c1ccc(S(=O)(=O)[O-])cc1-3)c1cc(S(=O)(=O)[O-])ccc21.[Na+].[Na+].[Na+].[Zn]\n",
      "Metal token detected:  CC12CCC3c4ccc(O)cc4CCC3C1CCC2(O)c1ccc(C#CC#Cc2ccc3c(c2)-c2nc-3nc3[nH]c(nc4nc(nc5[nH]c(n2)c2ccc(S(=O)(=O)[O-])cc52)-c2ccc(S(=O)(=O)[O-])cc2-4)c2ccc(S(=O)(=O)[O-])cc32)cc1.[Na+].[Na+].[Na+].[Zn]\n",
      "Non-organic token detected:  [Na+].[Na+].[Na+].[O-][As](O)O[As]([O-])O[As]([O-])O\n",
      "Metal token detected:  CC12CCC3c4ccc(O)cc4CCC3C1CCC2(O)C#Cc1cccc2cc3c(cc12)-c1nc-3nc2[nH]c(nc3nc(nc4[nH]c(n1)c1ccc(S(=O)(=O)[O-])cc41)-c1ccc(S(=O)(=O)[O-])cc1-3)c1cc(S(=O)(=O)[O-])ccc21.[Na+].[Na+].[Na+].[Zn]\n",
      "Non-organic token detected:  O=[O+][O-]\n",
      "Non-organic token detected:  O=S([O-])([O-])=S.[Ag+].[Ag+]\n",
      "Non-organic token detected:  P\n"
     ]
    },
    {
     "name": "stderr",
     "output_type": "stream",
     "text": [
      "Tokenizing SMILES:  78%|███████████████████████████████████████████████████████████████████████████████████████████▊                          | 1662848/2136187 [00:07<00:02, 215141.78it/s]"
     ]
    },
    {
     "name": "stdout",
     "output_type": "stream",
     "text": [
      "Non-organic token detected:  O=P(Cl)(Cl)Cl\n",
      "Non-organic token detected:  O.O.O.O.O.O.O=P([O-])([O-])OP(=O)([O-])OP(=O)([O-])[O-].[Na+].[Na+].[Na+].[Na+].[Na+]\n",
      "Non-organic token detected:  O=[N+]([O-])[O-].O=[N+]([O-])[O-].[Ca+2]\n",
      "Non-organic token detected:  N.NS(=O)(=O)O\n",
      "Non-organic token detected:  O=[Se]=O\n",
      "Non-organic token detected:  O.O.O.O.O.O.[Cl-].[Cl-].[Mg+2]\n",
      "Non-organic token detected:  O=[N+]([O-])[O-].O=[N+]([O-])[O-].[Ba+2]\n",
      "Non-organic token detected:  [Ba+2].[Cl-].[Cl-]\n",
      "Metal token detected:  NCCC(=O)N1[Zn]OC(=O)C1Cc1cnc[nH]1\n",
      "Non-organic token detected:  O.O.O.O.O=S(=O)([O-])[O-].[Be+2]\n",
      "Non-organic token detected:  O=P([O-])(O)OP(=O)([O-])O.[Na+].[Na+]\n",
      "Non-organic token detected:  [K+].[O-][Cl+2]([O-])[O-]\n",
      "Non-organic token detected:  O=[Si]=O\n",
      "Non-organic token detected:  O.O[Al](O)O\n",
      "Non-organic token detected:  F[B-](F)(F)F.[K+]\n",
      "Non-organic token detected:  O=S(=O)([O-])OOS(=O)(=O)[O-].[K+].[K+]\n",
      "Non-organic token detected:  [Ag+].[C-]#N.[C-]#N.[K+]\n",
      "Non-organic token detected:  O.O.[Ba+2].[Cl-].[Cl-]\n",
      "Non-organic token detected:  F[B-](F)(F)F.[H+]\n",
      "Non-organic token detected:  O.O.O.O.O.O.O.O=[As]([O-])([O-])O.[Na+].[Na+]\n",
      "Non-organic token detected:  O=N[O-].[K+]\n",
      "Non-organic token detected:  O=S(=O)([O-])SSS(=O)(=O)[O-].[K+].[K+]\n",
      "Non-organic token detected:  O.O.O.O.O.O.O=[N+]([O-])[O-].O=[N+]([O-])[O-].[Mg+2]\n",
      "Non-organic token detected:  O=S(=O)(Cl)Cl\n",
      "Non-organic token detected:  O=[N+]([O-])[O-].O=[N+]([O-])[O-].[Mg+2]\n",
      "Non-organic token detected:  O=S(=O)([O-])[O-].[Be+2]\n"
     ]
    },
    {
     "name": "stderr",
     "output_type": "stream",
     "text": [
      "Tokenizing SMILES:  81%|███████████████████████████████████████████████████████████████████████████████████████████████▋                      | 1731687/2136187 [00:08<00:01, 226146.79it/s]"
     ]
    },
    {
     "name": "stdout",
     "output_type": "stream",
     "text": [
      "Non-organic token detected:  O.O=[Si]([O-])[O-].O=[Si]([O-])[O-].O=[Si]([O-])[O-].O=[Si]([O-])[O-].[Al+3].[Al+3].[Mg+2]\n",
      "Non-organic token detected:  O=S([O-])S(=O)[O-].[Na+].[Na+]\n",
      "Non-organic token detected:  O=S(=O)(O)SSS(=O)(=O)O\n"
     ]
    },
    {
     "name": "stderr",
     "output_type": "stream",
     "text": [
      "Tokenizing SMILES:  84%|███████████████████████████████████████████████████████████████████████████████████████████████████▋                  | 1803954/2136187 [00:08<00:01, 219546.80it/s]"
     ]
    },
    {
     "name": "stdout",
     "output_type": "stream",
     "text": [
      "Non-organic token detected:  [Na+].[Na+].[S-]S[S-]\n",
      "Non-organic token detected:  [Li+].[O-][Cl+3]([O-])([O-])[O-]\n",
      "Non-organic token detected:  O.O=S(=O)([O-])[O-].O=S(=O)([O-])[O-].O=S(=O)([O-])[O-].[Al+3].[Al+3]\n"
     ]
    },
    {
     "name": "stderr",
     "output_type": "stream",
     "text": [
      "Tokenizing SMILES:  87%|███████████████████████████████████████████████████████████████████████████████████████████████████████▏              | 1868711/2136187 [00:08<00:01, 208695.11it/s]"
     ]
    },
    {
     "name": "stdout",
     "output_type": "stream",
     "text": [
      "Non-organic token detected:  F[Ag].N.N\n",
      "Non-organic token detected:  [I-].[Na+]\n",
      "Non-organic token detected:  [Mg+2].[O-][O-]\n",
      "Non-organic token detected:  O[B-]1(O)OO[B-](O)(O)OO1.[Na+].[Na+]\n",
      "Non-organic token detected:  O[B-]1(O)OO[B-](O)(O)OO1\n",
      "Non-organic token detected:  O.O=O.[O-][Cl+][O-].[O-][Cl+][O-].[O-][Cl+][O-].[O-][Cl+][O-]\n"
     ]
    },
    {
     "name": "stderr",
     "output_type": "stream",
     "text": [
      "Tokenizing SMILES:  89%|█████████████████████████████████████████████████████████████████████████████████████████████████████████▌            | 1910365/2136187 [00:09<00:01, 206480.71it/s]"
     ]
    },
    {
     "name": "stdout",
     "output_type": "stream",
     "text": [
      "Non-organic token detected:  O=S(=O)([O-])SSSSS(=O)(=O)[O-].[K+].[K+]\n",
      "Non-organic token detected:  O=S(=O)([O-])SSSS(=O)(=O)[O-].[K+].[K+]\n",
      "Non-organic token detected:  O=S(=O)([O-])SS(=O)(=O)[O-].[K+].[K+]\n",
      "Non-organic token detected:  O=S([O-])([O-])=S.[Na+].[Na+]\n",
      "Non-organic token detected:  O=S(=O)(O)SSSSS(=O)(=O)O\n",
      "Non-organic token detected:  O=S(=O)(O)SSSS(=O)(=O)O\n",
      "Non-organic token detected:  O=S(=O)(O)SS(=O)(=O)O\n",
      "Non-organic token detected:  O=S(=O)(O)NS(=O)(=O)O.[Na+]\n",
      "Non-organic token detected:  O.O=S(=O)([O-])[O-].O=S(=O)([O-])[O-].[Al+3].[Al+3].[Al+3].[Al+3].[Al+3].[Mg+2].[Mg+2].[Mg+2].[Mg+2].[Mg+2].[Mg+2].[Mg+2].[Mg+2].[Mg+2].[Mg+2].[OH-].[OH-].[OH-].[OH-].[OH-].[OH-].[OH-].[OH-].[OH-].[OH-].[OH-].[OH-].[OH-].[OH-].[OH-].[OH-].[OH-].[OH-].[OH-].[OH-].[OH-].[OH-].[OH-].[OH-].[OH-].[OH-].[OH-].[OH-].[OH-].[OH-].[OH-]\n",
      "Non-organic token detected:  O=[SH](=O)[O-].[Na+]\n",
      "Non-organic token detected:  O.O.O=[Al]O[Si](=O)O[Si](=O)O[Al]=O\n",
      "Non-organic token detected:  O.O.O.O.O.O.O.O.O.O.[Na+].[Na+].[O-]B1OB2OB([O-])OB(O1)O2\n",
      "Non-organic token detected:  Cl[Al](Cl)Cl\n",
      "Non-organic token detected:  O=S(=O)([O-])[O-].O=S(=O)([O-])[O-].O=S(=O)([O-])[O-].[Al+3].[Al+3]\n",
      "Non-organic token detected:  O=S(=O)([O-])[O-].O=S(=O)([O-])[O-].[Al+3].[Al+3].[Al+3].[Al+3].[Al+3].[Mg+2].[Mg+2].[Mg+2].[Mg+2].[Mg+2].[Mg+2].[Mg+2].[Mg+2].[Mg+2].[Mg+2].[OH-].[OH-].[OH-].[OH-].[OH-].[OH-].[OH-].[OH-].[OH-].[OH-].[OH-].[OH-].[OH-].[OH-].[OH-].[OH-].[OH-].[OH-].[OH-].[OH-].[OH-].[OH-].[OH-].[OH-].[OH-].[OH-].[OH-].[OH-].[OH-].[OH-].[OH-]\n",
      "Non-organic token detected:  O=[Al]O[Si](=O)O[Si](=O)O[Al]=O\n",
      "Non-organic token detected:  OB1OB2OB(O)OB(O1)O2\n",
      "Non-organic token detected:  O=P1([O-])OP(=O)([O-])OP(=O)([O-])O1.[Al+3]\n"
     ]
    },
    {
     "name": "stderr",
     "output_type": "stream",
     "text": [
      "Tokenizing SMILES:  95%|████████████████████████████████████████████████████████████████████████████████████████████████████████████████▏     | 2029843/2136187 [00:09<00:00, 192835.98it/s]"
     ]
    },
    {
     "name": "stdout",
     "output_type": "stream",
     "text": [
      "Non-organic token detected:  [Ag+].[C-]#N.[C-]#N.[Na+]\n",
      "Non-organic token detected:  F[As-](F)(F)(F)(F)F.[Na+]\n",
      "Non-organic token detected:  F[Al-3](F)(F)(F)(F)F.[Na+].[Na+].[Na+]\n",
      "Non-organic token detected:  [O-2].[Zn+2]\n",
      "Non-organic token detected:  O.O.O.O.O.O.O.O=S(=O)([O-])[O-].[Mg+2]\n",
      "Non-organic token detected:  O=S([O-])([O-])=S.[K+].[K+].[K]S[K]\n",
      "Non-organic token detected:  O.O.O.O.O.O=P([O-])([O-])[O-].O=P([O-])([O-])[O-].[Mg+2].[Mg+2].[Mg+2]\n",
      "Non-organic token detected:  O=[Mg].O=[Mg].O=[Mg].O=[Si]=O.O=[Si]=O.O=[Si]=O.O=[Si]=O\n",
      "Non-organic token detected:  O=S(O)(O)=S.[K]S[K]\n"
     ]
    },
    {
     "name": "stderr",
     "output_type": "stream",
     "text": [
      "Tokenizing SMILES:  98%|███████████████████████████████████████████████████████████████████████████████████████████████████████████████████▍  | 2089526/2136187 [00:09<00:00, 196790.18it/s]"
     ]
    },
    {
     "name": "stdout",
     "output_type": "stream",
     "text": [
      "Non-organic token detected:  S.S.S\n",
      "Metal token detected:  Nc1c(N=Nc2ccc(-c3ccccc3OCCC[Na])nc2)cc(S(=O)(=O)[O-])c2ccccc12.[Na+]\n",
      "Non-organic token detected:  OP(O)(=S)S\n"
     ]
    },
    {
     "name": "stderr",
     "output_type": "stream",
     "text": [
      "Tokenizing SMILES: 100%|██████████████████████████████████████████████████████████████████████████████████████████████████████████████████████| 2136187/2136187 [00:10<00:00, 210032.95it/s]"
     ]
    },
    {
     "name": "stdout",
     "output_type": "stream",
     "text": [
      "Non-organic token detected:  [Ba]\n",
      "Non-organic token detected:  [Ra]\n",
      "Non-organic token detected:  [Rb]\n",
      "Non-organic token detected:  Br\n",
      "Non-organic token detected:  F[AsH](F)(F)(F)(F)F\n",
      "Non-organic token detected:  [Cs]\n",
      "Non-organic token detected:  I\n",
      "CPU times: user 10.2 s, sys: 116 ms, total: 10.3 s\n",
      "Wall time: 10.3 s\n"
     ]
    },
    {
     "name": "stderr",
     "output_type": "stream",
     "text": [
      "\n"
     ]
    }
   ],
   "source": [
    "%%time\n",
    "\n",
    "words = set()\n",
    "canon_smiles = []\n",
    "tokenized_smiles = []\n",
    "for smi in tqdm(df, desc=\"Tokenizing SMILES\"):\n",
    "    tokens = sv.tokenize(smi)\n",
    "    # Only collect the organic molecules\n",
    "    if {\"C\", \"c\"}.isdisjoint(tokens):\n",
    "        print(\"Non-organic token detected: \", smi)\n",
    "        continue\n",
    "    # Remove the metal tokens\n",
    "    if not {\"[Na]\", \"[Zn]\"}.isdisjoint(tokens):\n",
    "        print(\"Metal token detected: \", smi)\n",
    "        continue\n",
    "    # control the minimum and maximum of sequence length.\n",
    "    if 10 < len(tokens) <= 100:\n",
    "        words.update(tokens)\n",
    "        canon_smiles.append(smi)\n",
    "        tokenized_smiles.append(\" \".join(tokens))\n"
   ]
  },
  {
   "cell_type": "code",
   "execution_count": 45,
   "id": "08f907bc-b309-4ff0-8ed5-56e9833ec29c",
   "metadata": {},
   "outputs": [
    {
     "ename": "AttributeError",
     "evalue": "module 'rxitect.chem.mol_utils' has no attribute 'clean_and_canonalize'",
     "output_type": "error",
     "traceback": [
      "\u001b[0;31m---------------------------------------------------------------------------\u001b[0m",
      "\u001b[0;31mEmpty\u001b[0m                                     Traceback (most recent call last)",
      "File \u001b[0;32m~/miniconda3/envs/rxt-dev/lib/python3.8/site-packages/joblib/parallel.py:822\u001b[0m, in \u001b[0;36mParallel.dispatch_one_batch\u001b[0;34m(self, iterator)\u001b[0m\n\u001b[1;32m    821\u001b[0m \u001b[38;5;28;01mtry\u001b[39;00m:\n\u001b[0;32m--> 822\u001b[0m     tasks \u001b[38;5;241m=\u001b[39m \u001b[38;5;28;43mself\u001b[39;49m\u001b[38;5;241;43m.\u001b[39;49m\u001b[43m_ready_batches\u001b[49m\u001b[38;5;241;43m.\u001b[39;49m\u001b[43mget\u001b[49m\u001b[43m(\u001b[49m\u001b[43mblock\u001b[49m\u001b[38;5;241;43m=\u001b[39;49m\u001b[38;5;28;43;01mFalse\u001b[39;49;00m\u001b[43m)\u001b[49m\n\u001b[1;32m    823\u001b[0m \u001b[38;5;28;01mexcept\u001b[39;00m queue\u001b[38;5;241m.\u001b[39mEmpty:\n\u001b[1;32m    824\u001b[0m     \u001b[38;5;66;03m# slice the iterator n_jobs * batchsize items at a time. If the\u001b[39;00m\n\u001b[1;32m    825\u001b[0m     \u001b[38;5;66;03m# slice returns less than that, then the current batchsize puts\u001b[39;00m\n\u001b[0;32m   (...)\u001b[0m\n\u001b[1;32m    828\u001b[0m     \u001b[38;5;66;03m# accordingly to distribute evenly the last items between all\u001b[39;00m\n\u001b[1;32m    829\u001b[0m     \u001b[38;5;66;03m# workers.\u001b[39;00m\n",
      "File \u001b[0;32m~/miniconda3/envs/rxt-dev/lib/python3.8/queue.py:167\u001b[0m, in \u001b[0;36mQueue.get\u001b[0;34m(self, block, timeout)\u001b[0m\n\u001b[1;32m    166\u001b[0m     \u001b[38;5;28;01mif\u001b[39;00m \u001b[38;5;129;01mnot\u001b[39;00m \u001b[38;5;28mself\u001b[39m\u001b[38;5;241m.\u001b[39m_qsize():\n\u001b[0;32m--> 167\u001b[0m         \u001b[38;5;28;01mraise\u001b[39;00m Empty\n\u001b[1;32m    168\u001b[0m \u001b[38;5;28;01melif\u001b[39;00m timeout \u001b[38;5;129;01mis\u001b[39;00m \u001b[38;5;28;01mNone\u001b[39;00m:\n",
      "\u001b[0;31mEmpty\u001b[0m: ",
      "\nDuring handling of the above exception, another exception occurred:\n",
      "\u001b[0;31mAttributeError\u001b[0m                            Traceback (most recent call last)",
      "File \u001b[0;32m<timed exec>:1\u001b[0m, in \u001b[0;36m<module>\u001b[0;34m\u001b[0m\n",
      "File \u001b[0;32m~/miniconda3/envs/rxt-dev/lib/python3.8/site-packages/joblib/parallel.py:1043\u001b[0m, in \u001b[0;36mParallel.__call__\u001b[0;34m(self, iterable)\u001b[0m\n\u001b[1;32m   1034\u001b[0m \u001b[38;5;28;01mtry\u001b[39;00m:\n\u001b[1;32m   1035\u001b[0m     \u001b[38;5;66;03m# Only set self._iterating to True if at least a batch\u001b[39;00m\n\u001b[1;32m   1036\u001b[0m     \u001b[38;5;66;03m# was dispatched. In particular this covers the edge\u001b[39;00m\n\u001b[0;32m   (...)\u001b[0m\n\u001b[1;32m   1040\u001b[0m     \u001b[38;5;66;03m# was very quick and its callback already dispatched all the\u001b[39;00m\n\u001b[1;32m   1041\u001b[0m     \u001b[38;5;66;03m# remaining jobs.\u001b[39;00m\n\u001b[1;32m   1042\u001b[0m     \u001b[38;5;28mself\u001b[39m\u001b[38;5;241m.\u001b[39m_iterating \u001b[38;5;241m=\u001b[39m \u001b[38;5;28;01mFalse\u001b[39;00m\n\u001b[0;32m-> 1043\u001b[0m     \u001b[38;5;28;01mif\u001b[39;00m \u001b[38;5;28;43mself\u001b[39;49m\u001b[38;5;241;43m.\u001b[39;49m\u001b[43mdispatch_one_batch\u001b[49m\u001b[43m(\u001b[49m\u001b[43miterator\u001b[49m\u001b[43m)\u001b[49m:\n\u001b[1;32m   1044\u001b[0m         \u001b[38;5;28mself\u001b[39m\u001b[38;5;241m.\u001b[39m_iterating \u001b[38;5;241m=\u001b[39m \u001b[38;5;28mself\u001b[39m\u001b[38;5;241m.\u001b[39m_original_iterator \u001b[38;5;129;01mis\u001b[39;00m \u001b[38;5;129;01mnot\u001b[39;00m \u001b[38;5;28;01mNone\u001b[39;00m\n\u001b[1;32m   1046\u001b[0m     \u001b[38;5;28;01mwhile\u001b[39;00m \u001b[38;5;28mself\u001b[39m\u001b[38;5;241m.\u001b[39mdispatch_one_batch(iterator):\n",
      "File \u001b[0;32m~/miniconda3/envs/rxt-dev/lib/python3.8/site-packages/joblib/parallel.py:833\u001b[0m, in \u001b[0;36mParallel.dispatch_one_batch\u001b[0;34m(self, iterator)\u001b[0m\n\u001b[1;32m    830\u001b[0m n_jobs \u001b[38;5;241m=\u001b[39m \u001b[38;5;28mself\u001b[39m\u001b[38;5;241m.\u001b[39m_cached_effective_n_jobs\n\u001b[1;32m    831\u001b[0m big_batch_size \u001b[38;5;241m=\u001b[39m batch_size \u001b[38;5;241m*\u001b[39m n_jobs\n\u001b[0;32m--> 833\u001b[0m islice \u001b[38;5;241m=\u001b[39m \u001b[38;5;28;43mlist\u001b[39;49m\u001b[43m(\u001b[49m\u001b[43mitertools\u001b[49m\u001b[38;5;241;43m.\u001b[39;49m\u001b[43mislice\u001b[49m\u001b[43m(\u001b[49m\u001b[43miterator\u001b[49m\u001b[43m,\u001b[49m\u001b[43m \u001b[49m\u001b[43mbig_batch_size\u001b[49m\u001b[43m)\u001b[49m\u001b[43m)\u001b[49m\n\u001b[1;32m    834\u001b[0m \u001b[38;5;28;01mif\u001b[39;00m \u001b[38;5;28mlen\u001b[39m(islice) \u001b[38;5;241m==\u001b[39m \u001b[38;5;241m0\u001b[39m:\n\u001b[1;32m    835\u001b[0m     \u001b[38;5;28;01mreturn\u001b[39;00m \u001b[38;5;28;01mFalse\u001b[39;00m\n",
      "File \u001b[0;32m<timed exec>:1\u001b[0m, in \u001b[0;36m<genexpr>\u001b[0;34m(.0)\u001b[0m\n",
      "\u001b[0;31mAttributeError\u001b[0m: module 'rxitect.chem.mol_utils' has no attribute 'clean_and_canonalize'"
     ]
    }
   ],
   "source": [
    "%%time\n",
    "smiles = set(Parallel(n_jobs=-1)(delayed(mol_utils.clean_and_canonalize)(smi) for smi in df))"
   ]
  },
  {
   "cell_type": "code",
   "execution_count": null,
   "id": "13bdeb69-89a9-476a-8216-d0a1df8f906f",
   "metadata": {},
   "outputs": [],
   "source": []
  }
 ],
 "metadata": {
  "kernelspec": {
   "display_name": "Python 3 (ipykernel)",
   "language": "python",
   "name": "python3"
  },
  "language_info": {
   "codemirror_mode": {
    "name": "ipython",
    "version": 3
   },
   "file_extension": ".py",
   "mimetype": "text/x-python",
   "name": "python",
   "nbconvert_exporter": "python",
   "pygments_lexer": "ipython3",
   "version": "3.8.13"
  }
 },
 "nbformat": 4,
 "nbformat_minor": 5
}
