{
 "cells": [
  {
   "cell_type": "code",
   "execution_count": 31,
   "id": "f7d991c9-698f-40ec-a074-55e581c617bb",
   "metadata": {},
   "outputs": [],
   "source": [
    "from rdkit import Chem\n",
    "from rdkit.Chem.Draw import IPythonConsole\n",
    "# IPythonConsole.drawOptions.addAtomIndices = True\n",
    "from rdkit.Chem import Draw\n",
    "from rdkit.Chem.Draw import DrawingOptions\n",
    "IPythonConsole.ipython_useSVG=False  #< set this to False if you want PNGs instead of SVGs\n",
    "import pandas as pd"
   ]
  },
  {
   "cell_type": "code",
   "execution_count": 32,
   "id": "f5445560-07b7-46fc-82b3-0b1ca62b6334",
   "metadata": {},
   "outputs": [],
   "source": [
    "DrawingOptions.atomLabelFontSize = 72\n",
    "DrawingOptions.dotsPerAngstrom = 100\n",
    "DrawingOptions.bondLineWidth = 3.0"
   ]
  },
  {
   "cell_type": "code",
   "execution_count": 33,
   "id": "5c015890-b72a-43bb-bf62-1abc90b7b3b6",
   "metadata": {},
   "outputs": [],
   "source": [
    "a = pd.read_csv(\"../data/temp/drugex_rascore_synthesizable_samples.csv\")"
   ]
  },
  {
   "cell_type": "code",
   "execution_count": 34,
   "id": "b70ce151-93d3-4551-8e8d-6aace6263880",
   "metadata": {},
   "outputs": [],
   "source": [
    "a_smi = a[\"smiles\"]"
   ]
  },
  {
   "cell_type": "code",
   "execution_count": 35,
   "id": "1303015c-435a-4147-b4b3-2c0e96706fd7",
   "metadata": {},
   "outputs": [],
   "source": [
    "a_mols = [Chem.MolFromSmiles(smi) for smi in a_smi]"
   ]
  },
  {
   "cell_type": "code",
   "execution_count": 36,
   "id": "813e37bb-d26a-4700-992b-00876faee6fc",
   "metadata": {},
   "outputs": [],
   "source": [
    "img = Draw.MolsToGridImage(a_mols, molsPerRow=4, subImgSize=(250, 250))"
   ]
  },
  {
   "cell_type": "code",
   "execution_count": 37,
   "id": "4291d252-b67a-4b87-91bf-30f74989adf3",
   "metadata": {},
   "outputs": [
    {
     "data": {
      "text/plain": [
       "122653"
      ]
     },
     "execution_count": 37,
     "metadata": {},
     "output_type": "execute_result"
    }
   ],
   "source": [
    "open('../data/temp/drugex_rascore_synthesizable_samples.png', 'wb').write(img.data)"
   ]
  },
  {
   "cell_type": "code",
   "execution_count": null,
   "id": "186145fc-ba82-4695-9fbe-b80f75aa4933",
   "metadata": {},
   "outputs": [],
   "source": []
  }
 ],
 "metadata": {
  "kernelspec": {
   "display_name": "Python 3 (ipykernel)",
   "language": "python",
   "name": "python3"
  },
  "language_info": {
   "codemirror_mode": {
    "name": "ipython",
    "version": 3
   },
   "file_extension": ".py",
   "mimetype": "text/x-python",
   "name": "python",
   "nbconvert_exporter": "python",
   "pygments_lexer": "ipython3",
   "version": "3.9.13"
  }
 },
 "nbformat": 4,
 "nbformat_minor": 5
}
