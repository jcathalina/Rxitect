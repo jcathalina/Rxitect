{
 "cells": [
  {
   "cell_type": "code",
   "execution_count": 1,
   "id": "e2198d3e",
   "metadata": {},
   "outputs": [],
   "source": [
    "import numpy as np\n",
    "import gym\n",
    "from gym import spaces\n",
    "from rxitect.models.lightning.generator import Generator\n",
    "from rxitect.models.vanilla.predictor import Predictor\n",
    "from typing import List\n",
    "import selfies as sf\n",
    "\n",
    "\n",
    "class DrugPropEnv(gym.Env):\n",
    "    \"\"\"\n",
    "    Custom Environment that follows gym interface.\n",
    "    This is a simple env where the agent must learn to go always left. \n",
    "    \"\"\"\n",
    "    metadata = {'render.modes': ['console']}\n",
    "\n",
    "    def __init__(self, generator: Generator, predictor: Predictor):\n",
    "        super(DrugPropEnv, self).__init__()\n",
    "\n",
    "        self.generator = generator\n",
    "        self.predictor = predictor\n",
    "\n",
    "        n_actions = 1\n",
    "        self.action_space = spaces.Discrete(n_actions)\n",
    "        self.observation_space = spaces.Box(low=0, high=self.grid_size,\n",
    "                                            shape=(1,), dtype=np.float32)\n",
    "\n",
    "    def reset(self):\n",
    "        \"\"\"\n",
    "        Important: the observation must be a numpy array\n",
    "        :return: (np.array) \n",
    "        \"\"\"\n",
    "        pass\n",
    "\n",
    "    def step(self, action):\n",
    "        enc_selfies = self.generator.sample(10)\n",
    "        selfies = self.generator.voc.decode(enc_selfies)\n",
    "        smiles = [sf.decoder(selfie) for selfie in selfies]\n",
    "        reward = get_reward(predictor=self.predictor, mols=smiles)\n",
    "        done = True\n",
    "\n",
    "        # Optionally we can pass additional info, we are not using that for now\n",
    "        info = {}\n",
    "\n",
    "        return np.array([]), reward, done, info\n",
    "\n",
    "    def render(self, mode='console'):\n",
    "        pass\n",
    "\n",
    "    def close(self):\n",
    "        pass\n"
   ]
  },
  {
   "cell_type": "code",
   "execution_count": null,
   "id": "89e16137",
   "metadata": {},
   "outputs": [],
   "source": [
    "from stable_baselines3.common.env_checker import check_env"
   ]
  },
  {
   "cell_type": "code",
   "execution_count": null,
   "id": "0d1a763a",
   "metadata": {},
   "outputs": [],
   "source": [
    "env = GoLeftEnv()"
   ]
  },
  {
   "cell_type": "code",
   "execution_count": null,
   "id": "76983945",
   "metadata": {},
   "outputs": [],
   "source": [
    "check_env(env, warn=True)"
   ]
  },
  {
   "cell_type": "code",
   "execution_count": 2,
   "id": "ea242161",
   "metadata": {},
   "outputs": [],
   "source": [
    "p = Predictor(path=\"../models/RF_REG_CHEMBL226.pkg\", type_=\"REG\")"
   ]
  },
  {
   "cell_type": "code",
   "execution_count": null,
   "id": "b836775c",
   "metadata": {},
   "outputs": [],
   "source": [
    "fps = p.calc_fp([\"CCC\", \"CCC\"])"
   ]
  },
  {
   "cell_type": "code",
   "execution_count": 3,
   "id": "a96af547",
   "metadata": {},
   "outputs": [
    {
     "data": {
      "text/plain": [
       "array([4.01651, 4.01651])"
      ]
     },
     "execution_count": 3,
     "metadata": {},
     "output_type": "execute_result"
    }
   ],
   "source": [
    "p.get_reward([\"CCC\", \"CCC\"])"
   ]
  },
  {
   "cell_type": "code",
   "execution_count": 14,
   "id": "fabfd6f9",
   "metadata": {},
   "outputs": [],
   "source": [
    "def get_scores(predictor: Predictor, mols: List[str]) -> np.ndarray:\n",
    "    \"\"\"Calculates the rewards for a list of SMILES\n",
    "    Args:\n",
    "        mols: A list of molecules in SMILES representation.\n",
    "    Returns:\n",
    "        A list of rewards per molecule\n",
    "    \"\"\"\n",
    "    fps = predictor.calc_fp(mols)\n",
    "    scores = predictor.__call__(fps)\n",
    "    return scores\n",
    "\n",
    "def get_reward(predictor: Predictor, mols: List[str]):\n",
    "    scores = get_scores(predictor, mols)\n",
    "    reward = np.exp(scores[0]/3)\n",
    "    return reward"
   ]
  },
  {
   "cell_type": "code",
   "execution_count": 15,
   "id": "bbaacf22",
   "metadata": {},
   "outputs": [
    {
     "data": {
      "text/plain": [
       "3.814603267993802"
      ]
     },
     "execution_count": 15,
     "metadata": {},
     "output_type": "execute_result"
    }
   ],
   "source": [
    "get_reward(predictor=p, mols=[\"CCC\"])"
   ]
  },
  {
   "cell_type": "code",
   "execution_count": null,
   "id": "b95e45db",
   "metadata": {},
   "outputs": [],
   "source": []
  }
 ],
 "metadata": {
  "kernelspec": {
   "display_name": "Python 3 (ipykernel)",
   "language": "python",
   "name": "python3"
  },
  "language_info": {
   "codemirror_mode": {
    "name": "ipython",
    "version": 3
   },
   "file_extension": ".py",
   "mimetype": "text/x-python",
   "name": "python",
   "nbconvert_exporter": "python",
   "pygments_lexer": "ipython3",
   "version": "3.7.12"
  }
 },
 "nbformat": 4,
 "nbformat_minor": 5
}
