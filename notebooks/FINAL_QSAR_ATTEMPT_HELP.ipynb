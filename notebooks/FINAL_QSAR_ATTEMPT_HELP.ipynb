{
 "cells": [
  {
   "cell_type": "code",
   "execution_count": 1,
   "id": "9815bc36-d251-4d00-af47-e65e766b488a",
   "metadata": {},
   "outputs": [],
   "source": [
    "import pandas as pd\n",
    "import selfies as sf\n",
    "import matplotlib.pyplot as plt\n",
    "import seaborn as sns\n",
    "import numpy as np\n",
    "from rxitect.chem.utils import batch_calc_fp, calc_fp, calc_ecfp, calc_physchem\n",
    "from rdkit import Chem\n",
    "from rdkit.Chem import PandasTools, AllChem"
   ]
  },
  {
   "cell_type": "code",
   "execution_count": 2,
   "id": "0c40d18c-db49-42ab-9ca6-7f33e6aa61a1",
   "metadata": {},
   "outputs": [],
   "source": [
    "def safe_smiles_to_selfies(smiles):\n",
    "    try:\n",
    "        return sf.encoder(smiles)\n",
    "    except sf.EncoderError:\n",
    "        pass"
   ]
  },
  {
   "cell_type": "code",
   "execution_count": 3,
   "id": "a9f02a8a-3bf1-4199-bb21-f8b7a909f079",
   "metadata": {},
   "outputs": [],
   "source": [
    "df = pd.read_parquet(\"../data/processed/CHEMBL240_dataset_xuhan.pq\")\n",
    "# df['selfies'] = [safe_smiles_to_selfies(smi) for smi in df['smiles']]"
   ]
  },
  {
   "cell_type": "code",
   "execution_count": 4,
   "id": "6b507f33-8cd8-418b-8a3a-7824c602fcb2",
   "metadata": {},
   "outputs": [],
   "source": [
    "df = df.dropna(subset=['pchembl value'])"
   ]
  },
  {
   "cell_type": "code",
   "execution_count": 5,
   "id": "47ab93f8-e326-4c40-a3ec-b09dc3a89ba4",
   "metadata": {},
   "outputs": [],
   "source": [
    "PandasTools.AddMoleculeColumnToFrame(df, 'smiles', 'mol')"
   ]
  },
  {
   "cell_type": "code",
   "execution_count": 6,
   "id": "ae4a24a4-6a5e-4652-8cc1-554415264799",
   "metadata": {},
   "outputs": [],
   "source": [
    "df['fingerprint'] = df.mol.apply(calc_fp)"
   ]
  },
  {
   "cell_type": "code",
   "execution_count": 7,
   "id": "b5e6cc95-54b8-421b-be5f-f9028e4e3d44",
   "metadata": {},
   "outputs": [],
   "source": [
    "timeidx_test = (df['document year'] > 2015).values\n",
    "timeidx_train = (df['document year'] <= 2015).values"
   ]
  },
  {
   "cell_type": "code",
   "execution_count": 8,
   "id": "ddbd0fcd-bdd5-4c19-8723-e6f0dc89b1ca",
   "metadata": {},
   "outputs": [],
   "source": [
    "X = np.stack(df.fingerprint.values)"
   ]
  },
  {
   "cell_type": "code",
   "execution_count": 9,
   "id": "1ba34628-b605-4321-a7f4-ed17f0b39bd0",
   "metadata": {},
   "outputs": [],
   "source": [
    "from sklearn.preprocessing import StandardScaler\n",
    "from sklearn.model_selection import train_test_split"
   ]
  },
  {
   "cell_type": "code",
   "execution_count": 10,
   "id": "746a8069-04e3-42f6-9c44-2b3bbd4e0c6a",
   "metadata": {},
   "outputs": [],
   "source": [
    "y = df['pchembl value'].values.reshape((-1, 1))"
   ]
  },
  {
   "cell_type": "code",
   "execution_count": 11,
   "id": "2841e7a1-5e2c-4bc0-b062-e41c12a13d1e",
   "metadata": {},
   "outputs": [],
   "source": [
    "NORMAL_SPLIT = True\n",
    "\n",
    "if NORMAL_SPLIT:\n",
    "    X_train, X_test, y_train, y_test = train_test_split(X, y, test_size=0.2, random_state=42)\n",
    "    # X_train, X_val, y_train, y_val = train_test_split(X_train, y_train,  test_size=0.05, random_state=42)\n",
    "else:\n",
    "    X_train, X_test, y_train, y_test = X[timeidx_train], X[timeidx_test], y[timeidx_train], y[timeidx_test]\n",
    "    \n",
    "scaler = StandardScaler()\n",
    "y_train = scaler.fit_transform(y_train)\n",
    "y_test = scaler.transform(y_test)\n",
    "# y_val = scaler.transform(y_val)"
   ]
  },
  {
   "cell_type": "code",
   "execution_count": 12,
   "id": "f2732acd-1c20-4be6-8983-041550208973",
   "metadata": {},
   "outputs": [
    {
     "data": {
      "text/plain": [
       "(9951, 263)"
      ]
     },
     "execution_count": 12,
     "metadata": {},
     "output_type": "execute_result"
    }
   ],
   "source": [
    "from sklearn.feature_selection import VarianceThreshold\n",
    "\n",
    "feature_select = VarianceThreshold(threshold=0.05)\n",
    "X_train = feature_select.fit_transform(X_train)\n",
    "# X_val = feature_select.transform(X_val)\n",
    "X_test = feature_select.transform(X_test)\n",
    "X_train.shape"
   ]
  },
  {
   "cell_type": "code",
   "execution_count": 13,
   "id": "d6556db6-7a1b-4554-9f40-8c174647ac3b",
   "metadata": {},
   "outputs": [
    {
     "name": "stderr",
     "output_type": "stream",
     "text": [
      "/home/julius/miniconda3/envs/rxt-dev/lib/python3.10/site-packages/tqdm/auto.py:22: TqdmWarning: IProgress not found. Please update jupyter and ipywidgets. See https://ipywidgets.readthedocs.io/en/stable/user_install.html\n",
      "  from .autonotebook import tqdm as notebook_tqdm\n"
     ]
    }
   ],
   "source": [
    "import torch\n",
    "device = \"cuda\""
   ]
  },
  {
   "cell_type": "code",
   "execution_count": 14,
   "id": "f658e2bc-7e87-41b1-a1b7-5468e2733c07",
   "metadata": {},
   "outputs": [],
   "source": [
    "X_train = torch.tensor(X_train, device=device, dtype=torch.float32)\n",
    "X_test = torch.tensor(X_test, device=device, dtype=torch.float32)\n",
    "# X_val = torch.tensor(X_val, device=device, dtype=torch.float32)\n",
    "y_train = torch.tensor(y_train, device=device, dtype=torch.float32)\n",
    "y_test = torch.tensor(y_test, device=device, dtype=torch.float32)\n",
    "# y_val = torch.tensor(y_val, device=device, dtype=torch.float32)\n"
   ]
  },
  {
   "cell_type": "code",
   "execution_count": 15,
   "id": "dbbd7ba4-cc98-4ea9-9ff5-77b2c3342d27",
   "metadata": {},
   "outputs": [
    {
     "data": {
      "text/plain": [
       "torch.Size([9951, 263])"
      ]
     },
     "execution_count": 15,
     "metadata": {},
     "output_type": "execute_result"
    }
   ],
   "source": [
    "X_train.shape"
   ]
  },
  {
   "cell_type": "code",
   "execution_count": 16,
   "id": "20161180-fac7-46d9-8ccf-fba7d7d22c98",
   "metadata": {},
   "outputs": [],
   "source": [
    "from torch.utils.data import TensorDataset, DataLoader\n",
    "train_dataset = TensorDataset(X_train, y_train)\n",
    "# val_dataset = TensorDataset(X_val, y_val)"
   ]
  },
  {
   "cell_type": "code",
   "execution_count": 17,
   "id": "08a36d64-be67-4fe0-a924-54d04bbfa1e3",
   "metadata": {},
   "outputs": [],
   "source": [
    "train_loader = DataLoader(dataset=train_dataset, batch_size=256, shuffle=True)\n",
    "# val_loader = DataLoader(dataset=val_dataset, batch_size=256, shuffle=False)"
   ]
  },
  {
   "cell_type": "code",
   "execution_count": 18,
   "id": "19d71bdf-6e0d-463d-8999-79bfa1780cee",
   "metadata": {},
   "outputs": [],
   "source": [
    "import torch.nn as nn\n",
    "\n",
    "class Net(nn.Module):\n",
    "    def __init__(self, input_size, hidden_size, dropout_rate, out_size):\n",
    "        super(Net, self).__init__()\n",
    "        # Three layers and a output layer\n",
    "        self.fc1 = nn.Linear(input_size, hidden_size)  # 1st Full-Connected Layer\n",
    "        self.fc2 = nn.Linear(hidden_size, hidden_size)\n",
    "        self.fc3 = nn.Linear(hidden_size, hidden_size)\n",
    "        self.fc_out = nn.Linear(hidden_size, out_size) # Output layer\n",
    "        #Layer normalization for faster training\n",
    "        self.ln1 = nn.LayerNorm(hidden_size)\n",
    "        self.ln2 = nn.LayerNorm(hidden_size)\n",
    "        self.ln3 = nn.LayerNorm(hidden_size)        \n",
    "        #LeakyReLU will be used as the activation function\n",
    "        self.activation = nn.LeakyReLU()\n",
    "        #Dropout for regularization\n",
    "        self.dropout = nn.Dropout(dropout_rate)\n",
    "     \n",
    "    def forward(self, x):# Forward pass: stacking each layer together\n",
    "        # Fully connected =&amp;gt; Layer Norm =&amp;gt; LeakyReLU =&amp;gt; Dropout times 3\n",
    "        out = self.fc1(x)\n",
    "        out = self.ln1(out)\n",
    "        out = self.activation(out)\n",
    "        out = self.dropout(out)\n",
    "        out = self.fc2(out)\n",
    "        out = self.ln2(out)\n",
    "        out = self.activation(out)\n",
    "        out = self.dropout(out)\n",
    "        out = self.fc3(out)\n",
    "        out = self.ln3(out)\n",
    "        out = self.activation(out)\n",
    "        out = self.dropout(out)\n",
    "        #Final output layer\n",
    "        out = self.fc_out(out)\n",
    "        return out"
   ]
  },
  {
   "cell_type": "code",
   "execution_count": 49,
   "id": "c85691a4-32a9-4d46-a98b-6c8a89512c8d",
   "metadata": {},
   "outputs": [],
   "source": [
    "input_size = X_train.size()[-1]\n",
    "hidden_size = 1024\n",
    "dropout_rate = 0.8\n",
    "out_size = 1\n",
    "learning_rate = 0.001\n",
    "model = Net(input_size, hidden_size, dropout_rate, out_size)"
   ]
  },
  {
   "cell_type": "code",
   "execution_count": 50,
   "id": "a6276641-02b3-45ae-9bf7-9d48c474cf13",
   "metadata": {},
   "outputs": [
    {
     "data": {
      "text/plain": [
       "Net(\n",
       "  (fc1): Linear(in_features=263, out_features=1024, bias=True)\n",
       "  (fc2): Linear(in_features=1024, out_features=1024, bias=True)\n",
       "  (fc3): Linear(in_features=1024, out_features=1024, bias=True)\n",
       "  (fc_out): Linear(in_features=1024, out_features=1, bias=True)\n",
       "  (ln1): LayerNorm((1024,), eps=1e-05, elementwise_affine=True)\n",
       "  (ln2): LayerNorm((1024,), eps=1e-05, elementwise_affine=True)\n",
       "  (ln3): LayerNorm((1024,), eps=1e-05, elementwise_affine=True)\n",
       "  (activation): LeakyReLU(negative_slope=0.01)\n",
       "  (dropout): Dropout(p=0.8, inplace=False)\n",
       ")"
      ]
     },
     "execution_count": 50,
     "metadata": {},
     "output_type": "execute_result"
    }
   ],
   "source": [
    "model.cuda()"
   ]
  },
  {
   "cell_type": "code",
   "execution_count": 51,
   "id": "094f0349-c37d-49a4-bc34-c92415e800d9",
   "metadata": {},
   "outputs": [],
   "source": [
    "criterion = nn.MSELoss()\n",
    "optimizer = torch.optim.Adam(model.parameters(), lr=learning_rate)"
   ]
  },
  {
   "cell_type": "code",
   "execution_count": 52,
   "id": "63a37266-225f-4268-be99-32476b597bce",
   "metadata": {},
   "outputs": [],
   "source": [
    "scaled_px = scaler.transform(np.array([3.99]).reshape(1,-1)).item()"
   ]
  },
  {
   "cell_type": "code",
   "execution_count": 53,
   "id": "83cd6199-f82f-4336-9979-97699b6b74c1",
   "metadata": {
    "collapsed": true,
    "jupyter": {
     "outputs_hidden": true
    },
    "tags": []
   },
   "outputs": [
    {
     "name": "stderr",
     "output_type": "stream",
     "text": [
      "/tmp/ipykernel_37629/3957737693.py:9: UserWarning: To copy construct from a tensor, it is recommended to use sourceTensor.clone().detach() or sourceTensor.clone().detach().requires_grad_(True), rather than torch.tensor(sourceTensor).\n",
      "  indep_set = TensorDataset(torch.tensor(X_test), torch.tensor(y_test))\n",
      "/tmp/ipykernel_37629/3957737693.py:15: UserWarning: To copy construct from a tensor, it is recommended to use sourceTensor.clone().detach() or sourceTensor.clone().detach().requires_grad_(True), rather than torch.tensor(sourceTensor).\n",
      "  train_set = TensorDataset(torch.tensor(X_train[trained]), torch.tensor(y_train[trained]))\n",
      "/tmp/ipykernel_37629/3957737693.py:17: UserWarning: To copy construct from a tensor, it is recommended to use sourceTensor.clone().detach() or sourceTensor.clone().detach().requires_grad_(True), rather than torch.tensor(sourceTensor).\n",
      "  valid_set = TensorDataset(torch.tensor(X_train[valided]), torch.tensor(y_train[valided]))\n",
      "/home/julius/miniconda3/envs/rxt-dev/lib/python3.10/site-packages/torch/nn/modules/loss.py:529: UserWarning: Using a target size (torch.Size([256])) that is different to the input size (torch.Size([256, 256])). This will likely lead to incorrect results due to broadcasting. Please ensure they have the same size.\n",
      "  return F.mse_loss(input, target, reduction=self.reduction)\n",
      "/home/julius/miniconda3/envs/rxt-dev/lib/python3.10/site-packages/torch/nn/modules/loss.py:529: UserWarning: Using a target size (torch.Size([171])) that is different to the input size (torch.Size([171, 171])). This will likely lead to incorrect results due to broadcasting. Please ensure they have the same size.\n",
      "  return F.mse_loss(input, target, reduction=self.reduction)\n"
     ]
    },
    {
     "name": "stdout",
     "output_type": "stream",
     "text": [
      "Fold:   0 Epoch:   0 Training loss: 1.66\n",
      "Fold:   0 Epoch:  25 Training loss: 1.65\n",
      "Fold:   0 Epoch:  50 Training loss: 1.64\n",
      "Fold:   0 Epoch:  75 Training loss: 1.65\n",
      "Fold:   0 Epoch: 100 Training loss: 1.63\n",
      "Fold:   0 Epoch: 125 Training loss: 1.62\n",
      "Fold:   0 Epoch: 150 Training loss: 1.63\n",
      "Fold:   0 Epoch: 175 Training loss: 1.63\n"
     ]
    },
    {
     "name": "stderr",
     "output_type": "stream",
     "text": [
      "/tmp/ipykernel_37629/3957737693.py:43: UserWarning: To copy construct from a tensor, it is recommended to use sourceTensor.clone().detach() or sourceTensor.clone().detach().requires_grad_(True), rather than torch.tensor(sourceTensor).\n",
      "  cvs[valided] = model(torch.tensor(X_train[valided])).cpu().detach().numpy().reshape(-1)\n",
      "/tmp/ipykernel_37629/3957737693.py:44: UserWarning: To copy construct from a tensor, it is recommended to use sourceTensor.clone().detach() or sourceTensor.clone().detach().requires_grad_(True), rather than torch.tensor(sourceTensor).\n",
      "  inds += model(torch.tensor(X_test)).cpu().detach().numpy().reshape(-1)\n"
     ]
    },
    {
     "name": "stdout",
     "output_type": "stream",
     "text": [
      "Fold:   1 Epoch:   0 Training loss: 1.64\n",
      "Fold:   1 Epoch:  25 Training loss: 1.61\n",
      "Fold:   1 Epoch:  50 Training loss: 1.65\n",
      "Fold:   1 Epoch:  75 Training loss: 1.64\n",
      "Fold:   1 Epoch: 100 Training loss: 1.61\n",
      "Fold:   1 Epoch: 125 Training loss: 1.61\n",
      "Fold:   1 Epoch: 150 Training loss: 1.63\n",
      "Fold:   1 Epoch: 175 Training loss: 1.64\n",
      "Fold:   2 Epoch:   0 Training loss: 1.66\n",
      "Fold:   2 Epoch:  25 Training loss: 1.65\n",
      "Fold:   2 Epoch:  50 Training loss: 1.66\n",
      "Fold:   2 Epoch:  75 Training loss: 1.65\n",
      "Fold:   2 Epoch: 100 Training loss: 1.66\n",
      "Fold:   2 Epoch: 125 Training loss: 1.63\n",
      "Fold:   2 Epoch: 150 Training loss: 1.65\n",
      "Fold:   2 Epoch: 175 Training loss: 1.64\n",
      "Fold:   3 Epoch:   0 Training loss: 1.62\n",
      "Fold:   3 Epoch:  25 Training loss: 1.64\n",
      "Fold:   3 Epoch:  50 Training loss: 1.65\n",
      "Fold:   3 Epoch:  75 Training loss: 1.62\n",
      "Fold:   3 Epoch: 100 Training loss: 1.61\n",
      "Fold:   3 Epoch: 125 Training loss: 1.64\n",
      "Fold:   3 Epoch: 150 Training loss: 1.66\n",
      "Fold:   3 Epoch: 175 Training loss: 1.62\n"
     ]
    },
    {
     "name": "stderr",
     "output_type": "stream",
     "text": [
      "/home/julius/miniconda3/envs/rxt-dev/lib/python3.10/site-packages/torch/nn/modules/loss.py:529: UserWarning: Using a target size (torch.Size([172])) that is different to the input size (torch.Size([172, 172])). This will likely lead to incorrect results due to broadcasting. Please ensure they have the same size.\n",
      "  return F.mse_loss(input, target, reduction=self.reduction)\n"
     ]
    },
    {
     "name": "stdout",
     "output_type": "stream",
     "text": [
      "Fold:   4 Epoch:   0 Training loss: 1.63\n",
      "Fold:   4 Epoch:  25 Training loss: 1.64\n",
      "Fold:   4 Epoch:  50 Training loss: 1.66\n",
      "Fold:   4 Epoch:  75 Training loss: 1.62\n",
      "Fold:   4 Epoch: 100 Training loss: 1.65\n",
      "Fold:   4 Epoch: 125 Training loss: 1.65\n",
      "Fold:   4 Epoch: 150 Training loss: 1.67\n",
      "Fold:   4 Epoch: 175 Training loss: 1.67\n"
     ]
    }
   ],
   "source": [
    "# 5CV ATTEMPT, it ain't looking good...\n",
    "\n",
    "from sklearn.model_selection import KFold\n",
    "model = Net(input_size, hidden_size, dropout_rate, out_size)\n",
    "model.cuda()\n",
    "epochs = 200\n",
    "# model.train()\n",
    "folds = KFold(5).split(X_train)\n",
    "indep_set = TensorDataset(torch.tensor(X_test), torch.tensor(y_test))\n",
    "indep_loader = DataLoader(indep_set, batch_size=256, shuffle=False)\n",
    "cvs = np.zeros(y_train.shape)\n",
    "inds = np.zeros(y_test.shape)\n",
    "for i, (trained, valided) in enumerate(folds):\n",
    "    model.train()\n",
    "    train_set = TensorDataset(torch.tensor(X_train[trained]), torch.tensor(y_train[trained]))\n",
    "    train_loader = DataLoader(train_set, batch_size=256, shuffle=False)\n",
    "    valid_set = TensorDataset(torch.tensor(X_train[valided]), torch.tensor(y_train[valided]))\n",
    "    valid_loader = DataLoader(valid_set, batch_size=256, shuffle=False)\n",
    "    # net = NET(X.shape[1], y.shape[1], is_reg=reg)\n",
    "    # net.fit(train_loader, valid_loader, out='%s_%d' % (out, i), epochs=N_EPOCH, lr=LR)\n",
    "    for e in range(epochs):\n",
    "        running_loss = 0\n",
    "        for fp, label in train_loader:\n",
    "            optimizer.zero_grad()\n",
    "\n",
    "            output = model(fp)\n",
    "            weight = torch.zeros(label.size()).to(device)\n",
    "            down_idx = (label == scaled_px)#.reshape(-1)\n",
    "            up_idx = (label != scaled_px)#.reshape(-1)\n",
    "            weight[down_idx] = 0.05\n",
    "            weight[up_idx] = 1\n",
    "            # loss function calculation based on predicted tensor and label tensor\n",
    "            loss = criterion(output * weight, label * weight)  # Weighted loss updates to discount negative examples\n",
    "            # loss = criterion(output, label)\n",
    "            loss.backward()\n",
    "            optimizer.step()\n",
    "\n",
    "            running_loss += loss.item()\n",
    "\n",
    "        if e%25 == 0:\n",
    "            print(\"Fold: %3i Epoch: %3i Training loss: %0.2F\"%(i, e,(running_loss/len(train_loader))))\n",
    "    model.eval()\n",
    "    cvs[valided] = model(torch.tensor(X_train[valided])).cpu().detach().numpy().reshape(-1)\n",
    "    inds += model(torch.tensor(X_test)).cpu().detach().numpy().reshape(-1)\n",
    "# return cvs, inds / 5"
   ]
  },
  {
   "cell_type": "code",
   "execution_count": 57,
   "id": "23c42f10-dd04-4419-a2ba-132ce820fe39",
   "metadata": {},
   "outputs": [
    {
     "data": {
      "text/plain": [
       "-0.035532236547141105"
      ]
     },
     "execution_count": 57,
     "metadata": {},
     "output_type": "execute_result"
    }
   ],
   "source": [
    "# Worst R2 of all time :<\n",
    "r2_score(y_test.cpu(), (inds / 5))"
   ]
  },
  {
   "cell_type": "code",
   "execution_count": 23,
   "id": "03befcb3-3c0f-48cb-9c56-4c2af1039945",
   "metadata": {
    "tags": []
   },
   "outputs": [
    {
     "name": "stdout",
     "output_type": "stream",
     "text": [
      "Epoch:   0 Training loss: 1.15\n",
      "Epoch:  10 Training loss: 0.68\n",
      "Epoch:  20 Training loss: 0.67\n",
      "Epoch:  30 Training loss: 0.66\n",
      "Epoch:  40 Training loss: 0.62\n",
      "Epoch:  50 Training loss: 0.59\n",
      "Epoch:  60 Training loss: 0.56\n",
      "Epoch:  70 Training loss: 0.48\n",
      "Epoch:  80 Training loss: 0.44\n",
      "Epoch:  90 Training loss: 0.43\n",
      "Epoch: 100 Training loss: 0.41\n",
      "Epoch: 110 Training loss: 0.40\n",
      "Epoch: 120 Training loss: 0.38\n",
      "Epoch: 130 Training loss: 0.38\n",
      "Epoch: 140 Training loss: 0.37\n",
      "Epoch: 150 Training loss: 0.36\n",
      "Epoch: 160 Training loss: 0.35\n",
      "Epoch: 170 Training loss: 0.35\n",
      "Epoch: 180 Training loss: 0.34\n",
      "Epoch: 190 Training loss: 0.32\n",
      "Epoch: 200 Training loss: 0.33\n",
      "Epoch: 210 Training loss: 0.32\n",
      "Epoch: 220 Training loss: 0.32\n",
      "Epoch: 230 Training loss: 0.32\n",
      "Epoch: 240 Training loss: 0.31\n",
      "Epoch: 250 Training loss: 0.30\n",
      "Epoch: 260 Training loss: 0.30\n",
      "Epoch: 270 Training loss: 0.29\n",
      "Epoch: 280 Training loss: 0.29\n",
      "Epoch: 290 Training loss: 0.29\n",
      "Epoch: 300 Training loss: 0.28\n",
      "Epoch: 310 Training loss: 0.28\n",
      "Epoch: 320 Training loss: 0.27\n",
      "Epoch: 330 Training loss: 0.27\n",
      "Epoch: 340 Training loss: 0.27\n",
      "Epoch: 350 Training loss: 0.26\n",
      "Epoch: 360 Training loss: 0.26\n",
      "Epoch: 370 Training loss: 0.26\n",
      "Epoch: 380 Training loss: 0.25\n",
      "Epoch: 390 Training loss: 0.25\n",
      "Epoch: 400 Training loss: 0.24\n",
      "Epoch: 410 Training loss: 0.25\n",
      "Epoch: 420 Training loss: 0.24\n",
      "Epoch: 430 Training loss: 0.24\n",
      "Epoch: 440 Training loss: 0.24\n",
      "Epoch: 450 Training loss: 0.23\n",
      "Epoch: 460 Training loss: 0.23\n",
      "Epoch: 470 Training loss: 0.23\n",
      "Epoch: 480 Training loss: 0.22\n",
      "Epoch: 490 Training loss: 0.22\n"
     ]
    }
   ],
   "source": [
    "model.train()\n",
    "epochs = 500\n",
    "for e in range(epochs):\n",
    "    running_loss = 0\n",
    "    for fp, label in train_loader:\n",
    "        optimizer.zero_grad()\n",
    "        \n",
    "        output = model(fp)\n",
    "        weight = torch.zeros(label.size()).to(device)\n",
    "        down_idx = (label == scaled_px)#.reshape(-1)\n",
    "        up_idx = (label != scaled_px)#.reshape(-1)\n",
    "        weight[down_idx] = 0.05\n",
    "        weight[up_idx] = 1\n",
    "        # loss function calculation based on predicted tensor and label tensor\n",
    "        loss = criterion(output * weight, label * weight)  # Weighted loss updates to discount negative examples\n",
    "        # loss = criterion(output, label)\n",
    "        loss.backward()\n",
    "        optimizer.step()\n",
    "        \n",
    "        running_loss += loss.item()\n",
    "        \n",
    "    if e%10 == 0:\n",
    "        print(\"Epoch: %3i Training loss: %0.2F\"%(e,(running_loss/len(train_loader))))\n",
    "        # model.eval()\n",
    "        # with torch.no_grad():\n",
    "        #     val_loss = torch.mean(( y_val - model(X_val) )**2).item()\n",
    "        #     print(\"Epoch: %3i Training loss: %0.2F Validation loss: %0.2F\"%(e,(running_loss/len(train_loader)), val_loss))\n",
    "        # model.train()"
   ]
  },
  {
   "cell_type": "code",
   "execution_count": 24,
   "id": "7e5d905f-88f8-4f5b-a560-804fbb355670",
   "metadata": {},
   "outputs": [],
   "source": [
    "# print(f\"samples before clean: {y_train.shape}\")\n",
    "to_keep = (y_train != scaled_px)\n",
    "y_train = y_train[to_keep]\n",
    "X_train = X_train[to_keep.reshape(-1)]\n",
    "# print(f\"samples afteR clean: {y_train.shape}\")"
   ]
  },
  {
   "cell_type": "code",
   "execution_count": 25,
   "id": "1a033602-6db6-41a5-afac-e104a621a9d0",
   "metadata": {},
   "outputs": [],
   "source": [
    "# X_train[to_keep].shape\n",
    "to_keep = (y_test != scaled_px)\n",
    "y_test = y_test[to_keep]\n",
    "X_test = X_test[to_keep.reshape(-1)]"
   ]
  },
  {
   "cell_type": "code",
   "execution_count": 26,
   "id": "deddbe98-f0f8-4b1a-90b3-3adc0d3f07f8",
   "metadata": {},
   "outputs": [],
   "source": [
    "model.eval()\n",
    "y_pred_train = model(X_train)\n",
    "# y_pred_val = model(X_val)\n",
    "y_pred_test = model(X_test)"
   ]
  },
  {
   "cell_type": "code",
   "execution_count": 27,
   "id": "b932cc7c-877b-4195-a525-ba9315a3254d",
   "metadata": {},
   "outputs": [
    {
     "data": {
      "text/plain": [
       "1.3820466995239258"
      ]
     },
     "execution_count": 27,
     "metadata": {},
     "output_type": "execute_result"
    }
   ],
   "source": [
    "torch.mean(( y_train - y_pred_train )**2).item()"
   ]
  },
  {
   "cell_type": "code",
   "execution_count": 28,
   "id": "807ad20b-015e-42b1-adb0-b92605927532",
   "metadata": {},
   "outputs": [],
   "source": [
    "def flatten(tensor):\n",
    "    return tensor.cpu().detach().numpy().flatten()"
   ]
  },
  {
   "cell_type": "code",
   "execution_count": 29,
   "id": "3581b462-6d21-4f67-84d8-1593f5720048",
   "metadata": {},
   "outputs": [
    {
     "data": {
      "text/plain": [
       "torch.Size([2035])"
      ]
     },
     "execution_count": 29,
     "metadata": {},
     "output_type": "execute_result"
    }
   ],
   "source": [
    "y_test.shape"
   ]
  },
  {
   "cell_type": "code",
   "execution_count": 30,
   "id": "ec40272c-532f-416d-b427-9ff7b70346cb",
   "metadata": {},
   "outputs": [
    {
     "data": {
      "text/plain": [
       "[<matplotlib.lines.Line2D at 0x7f6e74217040>]"
      ]
     },
     "execution_count": 30,
     "metadata": {},
     "output_type": "execute_result"
    },
    {
     "data": {
      "image/png": "[encoded data removed]",
      "text/plain": [
       "<Figure size 432x288 with 1 Axes>"
      ]
     },
     "metadata": {
      "needs_background": "light"
     },
     "output_type": "display_data"
    }
   ],
   "source": [
    "plt.scatter(flatten(y_pred_test), flatten(y_test), alpha=0.5, label=\"Test\")\n",
    "plt.scatter(flatten(y_pred_train), flatten(y_train), alpha=0.1, label=\"Train\")\n",
    "plt.legend()\n",
    "plt.plot([-1.5, 1.5], [-1.5,1.5], c=\"b\")"
   ]
  },
  {
   "cell_type": "code",
   "execution_count": 31,
   "id": "4eb5605b-dc34-4081-bceb-ff72a90e3a83",
   "metadata": {},
   "outputs": [
    {
     "data": {
      "text/plain": [
       "[<matplotlib.lines.Line2D at 0x7f6e7411e200>]"
      ]
     },
     "execution_count": 31,
     "metadata": {},
     "output_type": "execute_result"
    },
    {
     "data": {
      "image/png": "[encoded data removed]",
      "text/plain": [
       "<Figure size 432x288 with 1 Axes>"
      ]
     },
     "metadata": {
      "needs_background": "light"
     },
     "output_type": "display_data"
    }
   ],
   "source": [
    "plt.scatter(y=scaler.inverse_transform(y_pred_test.cpu().detach().numpy()).reshape(-1), x=scaler.inverse_transform(y_test.cpu().detach().numpy().reshape(-1, 1)), alpha=0.5, label=\"Test\")\n",
    "plt.scatter(y=scaler.inverse_transform(y_pred_train.cpu().detach().numpy()).reshape(-1), x=scaler.inverse_transform(y_train.cpu().detach().numpy().reshape(-1, 1)), alpha=0.1, label=\"Train\")\n",
    "plt.legend()\n",
    "plt.plot()\n",
    "plt.plot([4, 8], [4,8], c=\"b\")"
   ]
  },
  {
   "cell_type": "code",
   "execution_count": 32,
   "id": "1e07bd36-5f60-4ec8-835b-dedb3e1906eb",
   "metadata": {},
   "outputs": [
    {
     "data": {
      "text/plain": [
       "5.148722"
      ]
     },
     "execution_count": 32,
     "metadata": {},
     "output_type": "execute_result"
    }
   ],
   "source": [
    "def predict_smiles(smiles):\n",
    "    fp =calc_fp(Chem.MolFromSmiles(smiles)).reshape(1,-1)\n",
    "    fp_filtered = feature_select.transform(fp)\n",
    "    fp_tensor = torch.tensor(fp_filtered, device=device).float()\n",
    "    prediction = model(fp_tensor)\n",
    "    #return prediction.cpu().detach().numpy()\n",
    "    pchembl_value = scaler.inverse_transform(prediction.cpu().detach().numpy())\n",
    "    return pchembl_value[0][0]\n",
    "predict_smiles('Cc1ccc2c(N3CCNCC3)cc(F)cc2n1')"
   ]
  },
  {
   "cell_type": "code",
   "execution_count": 33,
   "id": "33372bfc-a515-4615-8dc1-7ea72267c728",
   "metadata": {},
   "outputs": [],
   "source": [
    "from sklearn.metrics import r2_score, mean_squared_error"
   ]
  },
  {
   "cell_type": "code",
   "execution_count": 34,
   "id": "0a320cff-d313-4f94-b23f-6500b6bb31ce",
   "metadata": {},
   "outputs": [
    {
     "data": {
      "text/plain": [
       "0.6454855656155047"
      ]
     },
     "execution_count": 34,
     "metadata": {},
     "output_type": "execute_result"
    }
   ],
   "source": [
    "r2_score(y_test.cpu(), y_pred_test.detach().cpu())"
   ]
  },
  {
   "cell_type": "code",
   "execution_count": 35,
   "id": "073a2152-475a-4908-a393-8d9c8ae222a2",
   "metadata": {},
   "outputs": [
    {
     "data": {
      "text/plain": [
       "0.5379534"
      ]
     },
     "execution_count": 35,
     "metadata": {},
     "output_type": "execute_result"
    }
   ],
   "source": [
    "mean_squared_error(y_test.cpu(), y_pred_test.detach().cpu(), squared=False)"
   ]
  },
  {
   "cell_type": "code",
   "execution_count": null,
   "id": "efd4b0a3-7e7b-4c38-b595-973e94432258",
   "metadata": {},
   "outputs": [],
   "source": []
  }
 ],
 "metadata": {
  "kernelspec": {
   "display_name": "Python 3 (ipykernel)",
   "language": "python",
   "name": "python3"
  },
  "language_info": {
   "codemirror_mode": {
    "name": "ipython",
    "version": 3
   },
   "file_extension": ".py",
   "mimetype": "text/x-python",
   "name": "python",
   "nbconvert_exporter": "python",
   "pygments_lexer": "ipython3",
   "version": "3.10.5"
  }
 },
 "nbformat": 4,
 "nbformat_minor": 5
}
