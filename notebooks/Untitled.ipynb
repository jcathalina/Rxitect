{
 "cells": [
  {
   "cell_type": "code",
   "execution_count": 6,
   "id": "6f0b0f87-3f01-4885-bc39-a4db06a712a1",
   "metadata": {},
   "outputs": [
    {
     "name": "stdout",
     "output_type": "stream",
     "text": [
      "The autoreload extension is already loaded. To reload it, use:\n",
      "  %reload_ext autoreload\n"
     ]
    }
   ],
   "source": [
    "%load_ext autoreload\n",
    "%autoreload 2"
   ]
  },
  {
   "cell_type": "code",
   "execution_count": 57,
   "id": "dce46bce-4807-41a6-a680-820a7bef6ddf",
   "metadata": {},
   "outputs": [],
   "source": [
    "import torch\n",
    "\n",
    "from rxitect.tokenizers import get_tokenizer\n",
    "from rxitect.models import LSTMGenerator"
   ]
  },
  {
   "cell_type": "code",
   "execution_count": 58,
   "id": "ab9c43b9-c33b-4c3c-8b77-90ae855c727f",
   "metadata": {},
   "outputs": [],
   "source": [
    "lstm_gen = LSTMGenerator(vocabulary_filepath=\"../data/processed/chembl_v30_smi_voc.txt\")"
   ]
  },
  {
   "cell_type": "code",
   "execution_count": 66,
   "id": "aad7dfeb-c25d-4bfe-8269-401ad0498d96",
   "metadata": {},
   "outputs": [],
   "source": [
    "t = lstm_gen.tokenizer"
   ]
  },
  {
   "cell_type": "code",
   "execution_count": 68,
   "id": "3cbe5d53-4199-4345-b9a7-8d1810c9b74d",
   "metadata": {},
   "outputs": [
    {
     "name": "stdout",
     "output_type": "stream",
     "text": [
      "Encoding some SMILES!\n"
     ]
    }
   ],
   "source": [
    "x = t.encode([\"CCC\", \"CC\"])"
   ]
  },
  {
   "cell_type": "code",
   "execution_count": 71,
   "id": "e11e32ea-9983-45e7-8385-38b7767b9797",
   "metadata": {},
   "outputs": [],
   "source": [
    "h = lstm_gen.init_hidden(2)"
   ]
  },
  {
   "cell_type": "code",
   "execution_count": 75,
   "id": "2006f8d7-da4d-49ba-abf7-cb628ebdc496",
   "metadata": {},
   "outputs": [
    {
     "data": {
      "text/plain": [
       "tensor(4.4080, grad_fn=<NegBackward0>)"
      ]
     },
     "execution_count": 75,
     "metadata": {},
     "output_type": "execute_result"
    }
   ],
   "source": [
    "-lstm_gen.likelihood(x).mean()"
   ]
  },
  {
   "cell_type": "code",
   "execution_count": null,
   "id": "25e8af54-7d7f-495f-b996-6e0acae5b247",
   "metadata": {},
   "outputs": [],
   "source": []
  }
 ],
 "metadata": {
  "kernelspec": {
   "display_name": "Python 3 (ipykernel)",
   "language": "python",
   "name": "python3"
  },
  "language_info": {
   "codemirror_mode": {
    "name": "ipython",
    "version": 3
   },
   "file_extension": ".py",
   "mimetype": "text/x-python",
   "name": "python",
   "nbconvert_exporter": "python",
   "pygments_lexer": "ipython3",
   "version": "3.8.13"
  }
 },
 "nbformat": 4,
 "nbformat_minor": 5
}
