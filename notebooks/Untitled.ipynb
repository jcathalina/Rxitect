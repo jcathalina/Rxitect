{
 "cells": [
  {
   "cell_type": "code",
   "execution_count": 18,
   "id": "be7779e4-7c36-4957-956c-7f9b6c6813e1",
   "metadata": {},
   "outputs": [],
   "source": [
    "import numpy as np\n",
    "import pandas as pd"
   ]
  },
  {
   "cell_type": "code",
   "execution_count": 19,
   "id": "7a02b330-56e3-466c-ab0b-15dc6211cc47",
   "metadata": {},
   "outputs": [],
   "source": [
    "ligand_raw = pd.read_table(\"../data/ligand_raw.tsv\")"
   ]
  },
  {
   "cell_type": "code",
   "execution_count": 20,
   "id": "93ea1db7-c6b7-427c-9e17-8451b0bbc4d1",
   "metadata": {},
   "outputs": [],
   "source": [
    "chembl_251_trgs = ligand_raw.query(\"Target_ChEMBL_ID == 'CHEMBL251'\")\n",
    "chembl_251_trgs = chembl_251_trgs[\"pChEMBL_Value\"].dropna()"
   ]
  },
  {
   "cell_type": "code",
   "execution_count": 22,
   "id": "5b4089e8-c260-4c80-84d4-162d9f4060d5",
   "metadata": {},
   "outputs": [
    {
     "name": "stdout",
     "output_type": "stream",
     "text": [
      "Min of ChEMBL251 pChEMBL Values: 4.0\n",
      "Max of ChEMBL251 pChEMBL Values: 11.0\n",
      "Mean of ChEMBL251 pChEMBL Values: 6.926036574944454\n",
      "Median of ChEMBL251 pChEMBL Values: 6.89\n"
     ]
    }
   ],
   "source": [
    "print(f\"Min of ChEMBL251 pChEMBL Values: {np.min(chembl_251_trgs)}\")\n",
    "print(f\"Max of ChEMBL251 pChEMBL Values: {np.max(chembl_251_trgs)}\")\n",
    "print(f\"Mean of ChEMBL251 pChEMBL Values: {np.mean(chembl_251_trgs)}\")\n",
    "print(f\"Median of ChEMBL251 pChEMBL Values: {np.median(chembl_251_trgs)}\")\n"
   ]
  },
  {
   "cell_type": "code",
   "execution_count": 24,
   "id": "596c080f-da77-44fb-a3c7-e2e6b2f370ae",
   "metadata": {},
   "outputs": [],
   "source": [
    "from sklearn.preprocessing import MinMaxScaler"
   ]
  },
  {
   "cell_type": "code",
   "execution_count": 25,
   "id": "ac018116-ff4f-4c36-bfd7-d04dfdfa8836",
   "metadata": {},
   "outputs": [],
   "source": [
    "# minmax_scaler = MinMaxScaler()\n",
    "# minmax_scaler.fit()"
   ]
  },
  {
   "cell_type": "code",
   "execution_count": 26,
   "id": "7d806858-81c0-48a8-b6d5-4aa92b44a79a",
   "metadata": {},
   "outputs": [],
   "source": [
    "from sklearn.ensemble import RandomForestRegressor"
   ]
  },
  {
   "cell_type": "code",
   "execution_count": 27,
   "id": "a2abe334-dab4-4829-9111-cd23500898ea",
   "metadata": {},
   "outputs": [],
   "source": [
    "import logging\n",
    "from enum import Enum\n",
    "from pathlib import Path\n",
    "from typing import List, Tuple\n",
    "\n",
    "import joblib\n",
    "import numpy as np\n",
    "import pandas as pd\n",
    "from pyprojroot import here\n",
    "from rdkit import Chem, DataStructs\n",
    "from rdkit.Chem import Crippen, Descriptors, AllChem, Lipinski\n",
    "from rdkit.Chem.GraphDescriptors import BertzCT\n",
    "from rdkit.Chem.QED import qed\n",
    "from sklearn.ensemble import RandomForestClassifier, RandomForestRegressor\n",
    "from sklearn.model_selection import KFold, StratifiedKFold\n",
    "from tqdm import tqdm\n",
    "\n",
    "\n",
    "class AlgorithmType(Enum):\n",
    "    RF = \"RF\"\n",
    "\n",
    "class Predictor:\n",
    "    def __init__(self, path: Path, type_=\"REG\"):\n",
    "        self.type = type_\n",
    "        self.model = joblib.load(path)\n",
    "\n",
    "    def __call__(self, fps):\n",
    "        if self.type == \"CLF\":\n",
    "            scores = self.model.predict_proba(fps)[:, 1]\n",
    "        else:\n",
    "            scores = self.model.predict(fps)\n",
    "        return scores\n",
    "\n",
    "    @classmethod\n",
    "    def calc_fp(cls, mols, radius: int = 3, bit_len: int = 2048):\n",
    "        ecfp = cls.calc_ecfp(mols, radius=radius, bit_len=bit_len)\n",
    "        phch = cls.calc_physchem(mols)\n",
    "        fps = np.concatenate([ecfp, phch], axis=1)\n",
    "        return fps\n",
    "\n",
    "    @classmethod\n",
    "    def calc_ecfp(cls, mols, radius: int = 3, bit_len: int = 2048):\n",
    "        fps = np.zeros((len(mols), bit_len))\n",
    "        for i, mol in enumerate(mols):\n",
    "            try:\n",
    "                if isinstance(mol, str):\n",
    "                    mol = Chem.MolFromSmiles(mol)  # Make Mol object before calculating morgan FP or else it breaks.\n",
    "                fp = AllChem.GetMorganFingerprintAsBitVect(mol, radius=radius, nBits=bit_len)\n",
    "                DataStructs.ConvertToNumpyArray(fp, fps[i, :])\n",
    "            except Exception as e:\n",
    "                logging.error(f\"Something went wrong while creating fingerprints: {e}\")\n",
    "        return fps\n",
    "\n",
    "    @classmethod\n",
    "    def calc_physchem(cls, mols):\n",
    "        prop_list = [\n",
    "            \"MW\",\n",
    "            \"logP\",\n",
    "            \"HBA\",\n",
    "            \"HBD\",\n",
    "            \"Rotable\",\n",
    "            \"Amide\",\n",
    "            \"Bridge\",\n",
    "            \"Hetero\",\n",
    "            \"Heavy\",\n",
    "            \"Spiro\",\n",
    "            \"FCSP3\",\n",
    "            \"Ring\",\n",
    "            \"Aliphatic\",\n",
    "            \"Aromatic\",\n",
    "            \"Saturated\",\n",
    "            \"HeteroR\",\n",
    "            \"TPSA\",\n",
    "            \"Valence\",\n",
    "            \"MR\",\n",
    "        ]\n",
    "        fps = np.zeros((len(mols), 19))\n",
    "        props = Property()\n",
    "        for i, prop in enumerate(prop_list):\n",
    "            props.prop = prop\n",
    "            fps[:, i] = props(mols)\n",
    "        return fps\n",
    "\n",
    "\n",
    "class Property:\n",
    "    def __init__(self, prop=\"MW\"):\n",
    "        self.prop = prop\n",
    "        self.prop_dict = {\n",
    "            \"MW\": Descriptors.MolWt,\n",
    "            \"logP\": Crippen.MolLogP,\n",
    "            \"HBA\": AllChem.CalcNumLipinskiHBA,\n",
    "            \"HBD\": AllChem.CalcNumLipinskiHBD,\n",
    "            \"Rotable\": AllChem.CalcNumRotatableBonds,\n",
    "            \"Amide\": AllChem.CalcNumAmideBonds,\n",
    "            \"Bridge\": AllChem.CalcNumBridgeheadAtoms,\n",
    "            \"Hetero\": AllChem.CalcNumHeteroatoms,\n",
    "            \"Heavy\": Lipinski.HeavyAtomCount,\n",
    "            \"Spiro\": AllChem.CalcNumSpiroAtoms,\n",
    "            \"FCSP3\": AllChem.CalcFractionCSP3,\n",
    "            \"Ring\": Lipinski.RingCount,\n",
    "            \"Aliphatic\": AllChem.CalcNumAliphaticRings,\n",
    "            \"Aromatic\": AllChem.CalcNumAromaticRings,\n",
    "            \"Saturated\": AllChem.CalcNumSaturatedRings,\n",
    "            \"HeteroR\": AllChem.CalcNumHeterocycles,\n",
    "            \"TPSA\": AllChem.CalcTPSA,\n",
    "            \"Valence\": Descriptors.NumValenceElectrons,\n",
    "            \"MR\": Crippen.MolMR,\n",
    "            \"QED\": qed,\n",
    "            \"Bertz\": BertzCT,\n",
    "        }\n",
    "\n",
    "    def __call__(self, mols):\n",
    "        scores = np.zeros(len(mols))\n",
    "        for i, mol in enumerate(mols):\n",
    "            try:\n",
    "                scores[i] = self.prop_dict[self.prop](mol)\n",
    "            except Exception as e:\n",
    "                print(f\"The following exception occurred during property calculation: {e}\")\n",
    "                # TODO: This exception is actually handle-able.\n",
    "                continue\n",
    "        return scores"
   ]
  },
  {
   "cell_type": "code",
   "execution_count": 28,
   "id": "09d5a898-2988-4775-8163-c116826cc599",
   "metadata": {},
   "outputs": [],
   "source": [
    "rf = Predictor(\"../models/RF_REG_CHEMBL251.pkg\")"
   ]
  },
  {
   "cell_type": "code",
   "execution_count": 35,
   "id": "fd6f70c0-43eb-4f14-a42f-fcce21f80ae5",
   "metadata": {},
   "outputs": [
    {
     "data": {
      "text/plain": [
       "array([4.0147 , 4.02987])"
      ]
     },
     "execution_count": 35,
     "metadata": {},
     "output_type": "execute_result"
    }
   ],
   "source": [
    "rf(Predictor.calc_fp([Chem.MolFromSmiles(\"CCC\"), Chem.MolFromSmiles(\"CCCCC\")]))"
   ]
  },
  {
   "cell_type": "code",
   "execution_count": 36,
   "id": "67153c2e-637e-4bbc-a843-de2683705409",
   "metadata": {},
   "outputs": [
    {
     "name": "stdout",
     "output_type": "stream",
     "text": [
      "Collecting seaborn\n",
      "  Downloading seaborn-0.12.1-py3-none-any.whl (288 kB)\n",
      "\u001b[2K     \u001b[90m━━━━━━━━━━━━━━━━━━━━━━━━━━━━━━━━━━━━━━━\u001b[0m \u001b[32m288.2/288.2 kB\u001b[0m \u001b[31m6.5 MB/s\u001b[0m eta \u001b[36m0:00:00\u001b[0ma \u001b[36m0:00:01\u001b[0m\n",
      "\u001b[?25hRequirement already satisfied: numpy>=1.17 in /home/julius/miniconda3/envs/gflownet/lib/python3.9/site-packages (from seaborn) (1.23.4)\n",
      "Requirement already satisfied: pandas>=0.25 in /home/julius/miniconda3/envs/gflownet/lib/python3.9/site-packages (from seaborn) (1.5.0)\n",
      "Collecting matplotlib!=3.6.1,>=3.1\n",
      "  Downloading matplotlib-3.6.0-cp39-cp39-manylinux_2_17_x86_64.manylinux2014_x86_64.whl (11.8 MB)\n",
      "\u001b[2K     \u001b[90m━━━━━━━━━━━━━━━━━━━━━━━━━━━━━━━━━━━━━━━━\u001b[0m \u001b[32m11.8/11.8 MB\u001b[0m \u001b[31m20.4 MB/s\u001b[0m eta \u001b[36m0:00:00\u001b[0m00:01\u001b[0m00:01\u001b[0m\n",
      "\u001b[?25hCollecting fonttools>=4.22.0\n",
      "  Downloading fonttools-4.38.0-py3-none-any.whl (965 kB)\n",
      "\u001b[2K     \u001b[90m━━━━━━━━━━━━━━━━━━━━━━━━━━━━━━━━━━━━━━\u001b[0m \u001b[32m965.4/965.4 kB\u001b[0m \u001b[31m26.7 MB/s\u001b[0m eta \u001b[36m0:00:00\u001b[0m00:01\u001b[0m\n",
      "\u001b[?25hCollecting cycler>=0.10\n",
      "  Using cached cycler-0.11.0-py3-none-any.whl (6.4 kB)\n",
      "Requirement already satisfied: pillow>=6.2.0 in /home/julius/miniconda3/envs/gflownet/lib/python3.9/site-packages (from matplotlib!=3.6.1,>=3.1->seaborn) (9.2.0)\n",
      "Requirement already satisfied: python-dateutil>=2.7 in /home/julius/miniconda3/envs/gflownet/lib/python3.9/site-packages (from matplotlib!=3.6.1,>=3.1->seaborn) (2.8.2)\n",
      "Collecting contourpy>=1.0.1\n",
      "  Downloading contourpy-1.0.6-cp39-cp39-manylinux_2_17_x86_64.manylinux2014_x86_64.whl (296 kB)\n",
      "\u001b[2K     \u001b[90m━━━━━━━━━━━━━━━━━━━━━━━━━━━━━━━━━━━━━━\u001b[0m \u001b[32m296.3/296.3 kB\u001b[0m \u001b[31m24.3 MB/s\u001b[0m eta \u001b[36m0:00:00\u001b[0m\n",
      "\u001b[?25hCollecting kiwisolver>=1.0.1\n",
      "  Using cached kiwisolver-1.4.4-cp39-cp39-manylinux_2_12_x86_64.manylinux2010_x86_64.whl (1.6 MB)\n",
      "Requirement already satisfied: packaging>=20.0 in /home/julius/miniconda3/envs/gflownet/lib/python3.9/site-packages (from matplotlib!=3.6.1,>=3.1->seaborn) (21.3)\n",
      "Requirement already satisfied: pyparsing>=2.2.1 in /home/julius/miniconda3/envs/gflownet/lib/python3.9/site-packages (from matplotlib!=3.6.1,>=3.1->seaborn) (3.0.9)\n",
      "Requirement already satisfied: pytz>=2020.1 in /home/julius/miniconda3/envs/gflownet/lib/python3.9/site-packages (from pandas>=0.25->seaborn) (2022.5)\n",
      "Requirement already satisfied: six>=1.5 in /home/julius/miniconda3/envs/gflownet/lib/python3.9/site-packages (from python-dateutil>=2.7->matplotlib!=3.6.1,>=3.1->seaborn) (1.16.0)\n",
      "Installing collected packages: kiwisolver, fonttools, cycler, contourpy, matplotlib, seaborn\n",
      "Successfully installed contourpy-1.0.6 cycler-0.11.0 fonttools-4.38.0 kiwisolver-1.4.4 matplotlib-3.6.0 seaborn-0.12.1\n",
      "Note: you may need to restart the kernel to use updated packages.\n"
     ]
    }
   ],
   "source": [
    "%pip install seaborn"
   ]
  },
  {
   "cell_type": "code",
   "execution_count": 37,
   "id": "af61ee71-f57f-42a0-838f-7110df64bdeb",
   "metadata": {},
   "outputs": [],
   "source": [
    "import seaborn as sns"
   ]
  },
  {
   "cell_type": "code",
   "execution_count": 39,
   "id": "1188153b-c345-4987-8068-85e3d6b2abdc",
   "metadata": {},
   "outputs": [
    {
     "data": {
      "text/plain": [
       "<seaborn.axisgrid.FacetGrid at 0x7f10b4b87370>"
      ]
     },
     "execution_count": 39,
     "metadata": {},
     "output_type": "execute_result"
    },
    {
     "data": {
      "image/png": "[encoded data removed]",
      "text/plain": [
       "<Figure size 500x500 with 1 Axes>"
      ]
     },
     "metadata": {},
     "output_type": "display_data"
    }
   ],
   "source": [
    "sns.displot(chembl_251_trgs)"
   ]
  },
  {
   "cell_type": "code",
   "execution_count": 40,
   "id": "18c1cd7b-c935-4bf9-93b7-3a8e38fdcb06",
   "metadata": {},
   "outputs": [
    {
     "data": {
      "text/plain": [
       "9.0"
      ]
     },
     "execution_count": 40,
     "metadata": {},
     "output_type": "execute_result"
    }
   ],
   "source": [
    "np.percentile(chembl_251_trgs, 95)"
   ]
  },
  {
   "cell_type": "code",
   "execution_count": null,
   "id": "eed17726-7f04-449d-80c2-a886723e44bf",
   "metadata": {},
   "outputs": [],
   "source": []
  }
 ],
 "metadata": {
  "kernelspec": {
   "display_name": "Python 3 (ipykernel)",
   "language": "python",
   "name": "python3"
  },
  "language_info": {
   "codemirror_mode": {
    "name": "ipython",
    "version": 3
   },
   "file_extension": ".py",
   "mimetype": "text/x-python",
   "name": "python",
   "nbconvert_exporter": "python",
   "pygments_lexer": "ipython3",
   "version": "3.9.13"
  }
 },
 "nbformat": 4,
 "nbformat_minor": 5
}
