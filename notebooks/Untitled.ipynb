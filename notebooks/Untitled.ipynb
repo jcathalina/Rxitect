{
 "cells": [
  {
   "cell_type": "code",
   "execution_count": 1,
   "id": "dce46bce-4807-41a6-a680-820a7bef6ddf",
   "metadata": {},
   "outputs": [],
   "source": [
    "from rxitect.models import RNNGenerator"
   ]
  },
  {
   "cell_type": "code",
   "execution_count": 3,
   "id": "286f3a02-1b16-465a-92c0-a9f43a75ffc4",
   "metadata": {},
   "outputs": [],
   "source": [
    "import torch.nn as nn\n",
    "\n",
    "\n",
    "gen = RNNGenerator(1)"
   ]
  },
  {
   "cell_type": "code",
   "execution_count": 4,
   "id": "565d8414-86c1-45c4-a71d-8ff2889f490a",
   "metadata": {},
   "outputs": [
    {
     "data": {
      "text/plain": [
       "RNNGenerator()"
      ]
     },
     "execution_count": 4,
     "metadata": {},
     "output_type": "execute_result"
    }
   ],
   "source": [
    "gen"
   ]
  },
  {
   "cell_type": "code",
   "execution_count": null,
   "id": "0e475327-f1b9-40bd-8997-875d864d5d7d",
   "metadata": {},
   "outputs": [],
   "source": []
  }
 ],
 "metadata": {
  "kernelspec": {
   "display_name": "Python 3 (ipykernel)",
   "language": "python",
   "name": "python3"
  },
  "language_info": {
   "codemirror_mode": {
    "name": "ipython",
    "version": 3
   },
   "file_extension": ".py",
   "mimetype": "text/x-python",
   "name": "python",
   "nbconvert_exporter": "python",
   "pygments_lexer": "ipython3",
   "version": "3.8.13"
  }
 },
 "nbformat": 4,
 "nbformat_minor": 5
}
