{
 "cells": [
  {
   "cell_type": "code",
   "execution_count": 2,
   "id": "fc2f46f5-49cd-4cc8-9f32-4f13a0fc4770",
   "metadata": {},
   "outputs": [],
   "source": [
    "import pandas as pd\n",
    "import seaborn as sns\n",
    "import matplotlib.pyplot as plt\n",
    "import xgboost as xgb\n",
    "import numpy as np\n",
    "\n",
    "from sklearn.model_selection import GridSearchCV, KFold, train_test_split, cross_validate\n",
    "from sklearn import preprocessing\n",
    "from sklearn.pipeline import make_pipeline\n",
    "from sklearn.ensemble import RandomForestRegressor\n",
    "\n",
    "from rxitect.chem.utils import calc_fp\n",
    "from rxitect.process_qsar_data import load_and_transform"
   ]
  },
  {
   "cell_type": "code",
   "execution_count": 3,
   "id": "722ab5c6-35fd-4da5-a2a0-b2a24d57f03d",
   "metadata": {},
   "outputs": [],
   "source": [
    "raw_path=\"../data/raw/ligand_raw.tsv\"\n",
    "# targets=[\"CHEMBL226\", \"CHEMBL240\", \"CHEMBL251\"]\n",
    "targets=[\"CHEMBL226\"]\n",
    "cols=[\n",
    "    \"target_chembl_id\",\n",
    "    \"smiles\",\n",
    "    \"pchembl_value\",\n",
    "    \"comment\",\n",
    "    \"standard_type\",\n",
    "    \"standard_relation\",\n",
    "    \"document_year\",\n",
    "    ]\n",
    "px_placeholder=3.99"
   ]
  },
  {
   "cell_type": "code",
   "execution_count": 4,
   "id": "b851fb05-840b-48e1-bdc7-cd18118d32a6",
   "metadata": {},
   "outputs": [
    {
     "name": "stderr",
     "output_type": "stream",
     "text": [
      "Calculating Extended-Connectivity Fingerprints: 100%|██████████████████████████████████████████████████████████████████████████████████| 5187/5187 [00:01<00:00, 3710.85it/s]\n",
      "Calculating physico-chemical properties: 100%|██████████████████████████████████████████████████████████████████████████████████████████████| 19/19 [00:00<00:00, 360.58it/s]\n"
     ]
    }
   ],
   "source": [
    "dataset = load_and_transform(raw_path,\n",
    "                             targets,\n",
    "                             cols,\n",
    "                             px_placeholder)\n",
    "\n",
    "res = dataset.copy()\n",
    "X, y = calc_fp(dataset[\"smiles\"]), dataset[\"pchembl_value\"]\n",
    "X_train, X_test, y_train, y_test, idx_train, idx_test = train_test_split(X, y, res.index, test_size=0.2, random_state=42)"
   ]
  },
  {
   "cell_type": "code",
   "execution_count": 15,
   "id": "6a99f25c-7197-44a8-a8d0-6fd1c5148a73",
   "metadata": {},
   "outputs": [],
   "source": [
    "max_features = [\"sqrt\", \"log2\", \"auto\"]\n",
    "params = {\"max_features\": max_features}\n",
    "reg = RandomForestRegressor(n_estimators=1_000, n_jobs=-1)\n",
    "\n",
    "gs2 = GridSearchCV(reg, param_grid=params, n_jobs=10, cv=5, return_train_score=True)"
   ]
  },
  {
   "cell_type": "code",
   "execution_count": 16,
   "id": "c93615be-1325-4e0c-b782-8c5e81dc52e9",
   "metadata": {},
   "outputs": [
    {
     "name": "stderr",
     "output_type": "stream",
     "text": [
      "/home/julius/miniconda3/envs/rxt-dev/lib/python3.8/site-packages/sklearn/ensemble/_forest.py:416: FutureWarning: `max_features='auto'` has been deprecated in 1.1 and will be removed in 1.3. To keep the past behaviour, explicitly set `max_features=1.0` or remove this parameter as it is also the default value for RandomForestRegressors and ExtraTreesRegressors.\n",
      "  warn(\n"
     ]
    },
    {
     "name": "stdout",
     "output_type": "stream",
     "text": [
      "CPU times: user 19min 14s, sys: 3.58 s, total: 19min 18s\n",
      "Wall time: 9min 43s\n"
     ]
    },
    {
     "name": "stderr",
     "output_type": "stream",
     "text": [
      "/home/julius/miniconda3/envs/rxt-dev/lib/python3.8/site-packages/sklearn/ensemble/_forest.py:416: FutureWarning: `max_features='auto'` has been deprecated in 1.1 and will be removed in 1.3. To keep the past behaviour, explicitly set `max_features=1.0` or remove this parameter as it is also the default value for RandomForestRegressors and ExtraTreesRegressors.\n",
      "  warn(\n",
      "/home/julius/miniconda3/envs/rxt-dev/lib/python3.8/site-packages/sklearn/ensemble/_forest.py:416: FutureWarning: `max_features='auto'` has been deprecated in 1.1 and will be removed in 1.3. To keep the past behaviour, explicitly set `max_features=1.0` or remove this parameter as it is also the default value for RandomForestRegressors and ExtraTreesRegressors.\n",
      "  warn(\n",
      "/home/julius/miniconda3/envs/rxt-dev/lib/python3.8/site-packages/sklearn/ensemble/_forest.py:416: FutureWarning: `max_features='auto'` has been deprecated in 1.1 and will be removed in 1.3. To keep the past behaviour, explicitly set `max_features=1.0` or remove this parameter as it is also the default value for RandomForestRegressors and ExtraTreesRegressors.\n",
      "  warn(\n",
      "/home/julius/miniconda3/envs/rxt-dev/lib/python3.8/site-packages/sklearn/ensemble/_forest.py:416: FutureWarning: `max_features='auto'` has been deprecated in 1.1 and will be removed in 1.3. To keep the past behaviour, explicitly set `max_features=1.0` or remove this parameter as it is also the default value for RandomForestRegressors and ExtraTreesRegressors.\n",
      "  warn(\n",
      "/home/julius/miniconda3/envs/rxt-dev/lib/python3.8/site-packages/sklearn/ensemble/_forest.py:416: FutureWarning: `max_features='auto'` has been deprecated in 1.1 and will be removed in 1.3. To keep the past behaviour, explicitly set `max_features=1.0` or remove this parameter as it is also the default value for RandomForestRegressors and ExtraTreesRegressors.\n",
      "  warn(\n"
     ]
    }
   ],
   "source": [
    "%time gs_results = gs2.fit(X_train, y_train, sample_weight=[1 if px_val >= 4 else 0.1 for px_val in y_train])"
   ]
  },
  {
   "cell_type": "code",
   "execution_count": 17,
   "id": "6f1c38b8-3463-4417-b2c8-6a3b0b69c9c8",
   "metadata": {},
   "outputs": [
    {
     "data": {
      "text/plain": [
       "{'mean_fit_time': array([ 26.64692764,  18.56722255, 476.89196577]),\n",
       " 'std_fit_time': array([0.83885241, 0.25106217, 7.99794799]),\n",
       " 'mean_score_time': array([2.01708465, 1.46205673, 0.82697372]),\n",
       " 'std_score_time': array([0.19289043, 0.07571978, 0.56846012]),\n",
       " 'param_max_features': masked_array(data=['sqrt', 'log2', 'auto'],\n",
       "              mask=[False, False, False],\n",
       "        fill_value='?',\n",
       "             dtype=object),\n",
       " 'params': [{'max_features': 'sqrt'},\n",
       "  {'max_features': 'log2'},\n",
       "  {'max_features': 'auto'}],\n",
       " 'split0_test_score': array([0.6917232 , 0.67516516, 0.69936202]),\n",
       " 'split1_test_score': array([0.61988434, 0.60736925, 0.61381949]),\n",
       " 'split2_test_score': array([0.63215502, 0.62638676, 0.63974714]),\n",
       " 'split3_test_score': array([0.61952677, 0.60666428, 0.6195254 ]),\n",
       " 'split4_test_score': array([0.6539664 , 0.64400387, 0.64977639]),\n",
       " 'mean_test_score': array([0.64345115, 0.63191786, 0.64444609]),\n",
       " 'std_test_score': array([0.02718873, 0.02564126, 0.03041474]),\n",
       " 'rank_test_score': array([2, 3, 1], dtype=int32),\n",
       " 'split0_train_score': array([0.94997108, 0.94815296, 0.94950295]),\n",
       " 'split1_train_score': array([0.95231029, 0.95085389, 0.95261022]),\n",
       " 'split2_train_score': array([0.95064756, 0.9490154 , 0.95102259]),\n",
       " 'split3_train_score': array([0.9523598 , 0.95122886, 0.95318066]),\n",
       " 'split4_train_score': array([0.95134435, 0.94981327, 0.95094129]),\n",
       " 'mean_train_score': array([0.95132662, 0.94981288, 0.95145154]),\n",
       " 'std_train_score': array([0.00093102, 0.00113842, 0.00130948])}"
      ]
     },
     "execution_count": 17,
     "metadata": {},
     "output_type": "execute_result"
    }
   ],
   "source": [
    "gs_results.cv_results_"
   ]
  },
  {
   "cell_type": "code",
   "execution_count": 29,
   "id": "66c9054d-f578-41f4-88b1-994e614c7593",
   "metadata": {},
   "outputs": [
    {
     "data": {
      "text/plain": [
       "0.5980021433624763"
      ]
     },
     "execution_count": 29,
     "metadata": {},
     "output_type": "execute_result"
    }
   ],
   "source": [
    "gs2.best_estimator_.score(X=X_test, y=y_test, sample_weight=[1 if px_val >= 4 else 0.1 for px_val in y_test])"
   ]
  },
  {
   "cell_type": "code",
   "execution_count": 36,
   "id": "2f74443c-a194-4e2e-9578-9f1a60578b41",
   "metadata": {},
   "outputs": [],
   "source": [
    "df_gs = pd.DataFrame(data=gs2.cv_results_)"
   ]
  },
  {
   "cell_type": "code",
   "execution_count": 37,
   "id": "8712cf9a-4681-4087-a3fd-7a806dd60b76",
   "metadata": {},
   "outputs": [
    {
     "data": {
      "text/html": [
       "<div>\n",
       "<style scoped>\n",
       "    .dataframe tbody tr th:only-of-type {\n",
       "        vertical-align: middle;\n",
       "    }\n",
       "\n",
       "    .dataframe tbody tr th {\n",
       "        vertical-align: top;\n",
       "    }\n",
       "\n",
       "    .dataframe thead th {\n",
       "        text-align: right;\n",
       "    }\n",
       "</style>\n",
       "<table border=\"1\" class=\"dataframe\">\n",
       "  <thead>\n",
       "    <tr style=\"text-align: right;\">\n",
       "      <th></th>\n",
       "      <th>mean_fit_time</th>\n",
       "      <th>std_fit_time</th>\n",
       "      <th>mean_score_time</th>\n",
       "      <th>std_score_time</th>\n",
       "      <th>param_max_features</th>\n",
       "      <th>params</th>\n",
       "      <th>split0_test_score</th>\n",
       "      <th>split1_test_score</th>\n",
       "      <th>split2_test_score</th>\n",
       "      <th>split3_test_score</th>\n",
       "      <th>...</th>\n",
       "      <th>mean_test_score</th>\n",
       "      <th>std_test_score</th>\n",
       "      <th>rank_test_score</th>\n",
       "      <th>split0_train_score</th>\n",
       "      <th>split1_train_score</th>\n",
       "      <th>split2_train_score</th>\n",
       "      <th>split3_train_score</th>\n",
       "      <th>split4_train_score</th>\n",
       "      <th>mean_train_score</th>\n",
       "      <th>std_train_score</th>\n",
       "    </tr>\n",
       "  </thead>\n",
       "  <tbody>\n",
       "    <tr>\n",
       "      <th>0</th>\n",
       "      <td>26.646928</td>\n",
       "      <td>0.838852</td>\n",
       "      <td>2.017085</td>\n",
       "      <td>0.19289</td>\n",
       "      <td>sqrt</td>\n",
       "      <td>{'max_features': 'sqrt'}</td>\n",
       "      <td>0.691723</td>\n",
       "      <td>0.619884</td>\n",
       "      <td>0.632155</td>\n",
       "      <td>0.619527</td>\n",
       "      <td>...</td>\n",
       "      <td>0.643451</td>\n",
       "      <td>0.027189</td>\n",
       "      <td>2</td>\n",
       "      <td>0.949971</td>\n",
       "      <td>0.952310</td>\n",
       "      <td>0.950648</td>\n",
       "      <td>0.952360</td>\n",
       "      <td>0.951344</td>\n",
       "      <td>0.951327</td>\n",
       "      <td>0.000931</td>\n",
       "    </tr>\n",
       "    <tr>\n",
       "      <th>1</th>\n",
       "      <td>18.567223</td>\n",
       "      <td>0.251062</td>\n",
       "      <td>1.462057</td>\n",
       "      <td>0.07572</td>\n",
       "      <td>log2</td>\n",
       "      <td>{'max_features': 'log2'}</td>\n",
       "      <td>0.675165</td>\n",
       "      <td>0.607369</td>\n",
       "      <td>0.626387</td>\n",
       "      <td>0.606664</td>\n",
       "      <td>...</td>\n",
       "      <td>0.631918</td>\n",
       "      <td>0.025641</td>\n",
       "      <td>3</td>\n",
       "      <td>0.948153</td>\n",
       "      <td>0.950854</td>\n",
       "      <td>0.949015</td>\n",
       "      <td>0.951229</td>\n",
       "      <td>0.949813</td>\n",
       "      <td>0.949813</td>\n",
       "      <td>0.001138</td>\n",
       "    </tr>\n",
       "    <tr>\n",
       "      <th>2</th>\n",
       "      <td>476.891966</td>\n",
       "      <td>7.997948</td>\n",
       "      <td>0.826974</td>\n",
       "      <td>0.56846</td>\n",
       "      <td>auto</td>\n",
       "      <td>{'max_features': 'auto'}</td>\n",
       "      <td>0.699362</td>\n",
       "      <td>0.613819</td>\n",
       "      <td>0.639747</td>\n",
       "      <td>0.619525</td>\n",
       "      <td>...</td>\n",
       "      <td>0.644446</td>\n",
       "      <td>0.030415</td>\n",
       "      <td>1</td>\n",
       "      <td>0.949503</td>\n",
       "      <td>0.952610</td>\n",
       "      <td>0.951023</td>\n",
       "      <td>0.953181</td>\n",
       "      <td>0.950941</td>\n",
       "      <td>0.951452</td>\n",
       "      <td>0.001309</td>\n",
       "    </tr>\n",
       "  </tbody>\n",
       "</table>\n",
       "<p>3 rows × 21 columns</p>\n",
       "</div>"
      ],
      "text/plain": [
       "   mean_fit_time  std_fit_time  mean_score_time  std_score_time  \\\n",
       "0      26.646928      0.838852         2.017085         0.19289   \n",
       "1      18.567223      0.251062         1.462057         0.07572   \n",
       "2     476.891966      7.997948         0.826974         0.56846   \n",
       "\n",
       "  param_max_features                    params  split0_test_score  \\\n",
       "0               sqrt  {'max_features': 'sqrt'}           0.691723   \n",
       "1               log2  {'max_features': 'log2'}           0.675165   \n",
       "2               auto  {'max_features': 'auto'}           0.699362   \n",
       "\n",
       "   split1_test_score  split2_test_score  split3_test_score  ...  \\\n",
       "0           0.619884           0.632155           0.619527  ...   \n",
       "1           0.607369           0.626387           0.606664  ...   \n",
       "2           0.613819           0.639747           0.619525  ...   \n",
       "\n",
       "   mean_test_score  std_test_score  rank_test_score  split0_train_score  \\\n",
       "0         0.643451        0.027189                2            0.949971   \n",
       "1         0.631918        0.025641                3            0.948153   \n",
       "2         0.644446        0.030415                1            0.949503   \n",
       "\n",
       "   split1_train_score  split2_train_score  split3_train_score  \\\n",
       "0            0.952310            0.950648            0.952360   \n",
       "1            0.950854            0.949015            0.951229   \n",
       "2            0.952610            0.951023            0.953181   \n",
       "\n",
       "   split4_train_score  mean_train_score  std_train_score  \n",
       "0            0.951344          0.951327         0.000931  \n",
       "1            0.949813          0.949813         0.001138  \n",
       "2            0.950941          0.951452         0.001309  \n",
       "\n",
       "[3 rows x 21 columns]"
      ]
     },
     "execution_count": 37,
     "metadata": {},
     "output_type": "execute_result"
    }
   ],
   "source": [
    "df_gs.head()"
   ]
  },
  {
   "cell_type": "code",
   "execution_count": 47,
   "id": "c5c85f91-e66e-4eda-8033-9ca37ebf672c",
   "metadata": {},
   "outputs": [
    {
     "data": {
      "image/png": "[encoded data removed]",
      "text/plain": [
       "<Figure size 432x1080 with 1 Axes>"
      ]
     },
     "metadata": {},
     "output_type": "display_data"
    }
   ],
   "source": [
    "import matplotlib.pyplot as plt\n",
    "sns.set_theme(style=\"whitegrid\")\n",
    "\n",
    "sns.set_context('paper')\n",
    "\n",
    "f, ax = plt.subplots(figsize=(6, 15))\n",
    "\n",
    "sns.barplot(x = 'param_max_features', y = 'mean_test_score', hue = 'param_max_features', data = df_gs,\n",
    "            palette = 'hls',\n",
    "            saturation = 8,             \n",
    "            errcolor = 'gray', errwidth = 2,\n",
    "            capsize=0.05,\n",
    "            ci = 'sd'   \n",
    "            )\n",
    "\n",
    "ax.legend(ncol=2, loc=\"lower right\", frameon=True)\n",
    "sns.despine(left = True, bottom = True)"
   ]
  },
  {
   "cell_type": "code",
   "execution_count": 57,
   "id": "b732af95-040c-4135-84ea-01ec439ccede",
   "metadata": {},
   "outputs": [
    {
     "data": {
      "text/plain": [
       "Index(['split0_test_score', 'split1_test_score', 'split2_test_score',\n",
       "       'split3_test_score', 'split4_test_score'],\n",
       "      dtype='object')"
      ]
     },
     "execution_count": 57,
     "metadata": {},
     "output_type": "execute_result"
    }
   ],
   "source": [
    "df_gs.filter(regex=\"split\\d_test_score\").columns"
   ]
  },
  {
   "cell_type": "code",
   "execution_count": 61,
   "id": "341a3793-ff19-428c-b9ab-2719fb43c2bb",
   "metadata": {},
   "outputs": [],
   "source": [
    "reg_sqrt = RandomForestRegressor(n_estimators=1_000, max_features=\"sqrt\", n_jobs=-1)"
   ]
  },
  {
   "cell_type": "code",
   "execution_count": 63,
   "id": "86aeb3ea-ebf8-4ca9-a2b4-ed8e82033ed0",
   "metadata": {},
   "outputs": [
    {
     "data": {
      "text/html": [
       "<style>#sk-container-id-6 {color: black;background-color: white;}#sk-container-id-6 pre{padding: 0;}#sk-container-id-6 div.sk-toggleable {background-color: white;}#sk-container-id-6 label.sk-toggleable__label {cursor: pointer;display: block;width: 100%;margin-bottom: 0;padding: 0.3em;box-sizing: border-box;text-align: center;}#sk-container-id-6 label.sk-toggleable__label-arrow:before {content: \"▸\";float: left;margin-right: 0.25em;color: #696969;}#sk-container-id-6 label.sk-toggleable__label-arrow:hover:before {color: black;}#sk-container-id-6 div.sk-estimator:hover label.sk-toggleable__label-arrow:before {color: black;}#sk-container-id-6 div.sk-toggleable__content {max-height: 0;max-width: 0;overflow: hidden;text-align: left;background-color: #f0f8ff;}#sk-container-id-6 div.sk-toggleable__content pre {margin: 0.2em;color: black;border-radius: 0.25em;background-color: #f0f8ff;}#sk-container-id-6 input.sk-toggleable__control:checked~div.sk-toggleable__content {max-height: 200px;max-width: 100%;overflow: auto;}#sk-container-id-6 input.sk-toggleable__control:checked~label.sk-toggleable__label-arrow:before {content: \"▾\";}#sk-container-id-6 div.sk-estimator input.sk-toggleable__control:checked~label.sk-toggleable__label {background-color: #d4ebff;}#sk-container-id-6 div.sk-label input.sk-toggleable__control:checked~label.sk-toggleable__label {background-color: #d4ebff;}#sk-container-id-6 input.sk-hidden--visually {border: 0;clip: rect(1px 1px 1px 1px);clip: rect(1px, 1px, 1px, 1px);height: 1px;margin: -1px;overflow: hidden;padding: 0;position: absolute;width: 1px;}#sk-container-id-6 div.sk-estimator {font-family: monospace;background-color: #f0f8ff;border: 1px dotted black;border-radius: 0.25em;box-sizing: border-box;margin-bottom: 0.5em;}#sk-container-id-6 div.sk-estimator:hover {background-color: #d4ebff;}#sk-container-id-6 div.sk-parallel-item::after {content: \"\";width: 100%;border-bottom: 1px solid gray;flex-grow: 1;}#sk-container-id-6 div.sk-label:hover label.sk-toggleable__label {background-color: #d4ebff;}#sk-container-id-6 div.sk-serial::before {content: \"\";position: absolute;border-left: 1px solid gray;box-sizing: border-box;top: 0;bottom: 0;left: 50%;z-index: 0;}#sk-container-id-6 div.sk-serial {display: flex;flex-direction: column;align-items: center;background-color: white;padding-right: 0.2em;padding-left: 0.2em;position: relative;}#sk-container-id-6 div.sk-item {position: relative;z-index: 1;}#sk-container-id-6 div.sk-parallel {display: flex;align-items: stretch;justify-content: center;background-color: white;position: relative;}#sk-container-id-6 div.sk-item::before, #sk-container-id-6 div.sk-parallel-item::before {content: \"\";position: absolute;border-left: 1px solid gray;box-sizing: border-box;top: 0;bottom: 0;left: 50%;z-index: -1;}#sk-container-id-6 div.sk-parallel-item {display: flex;flex-direction: column;z-index: 1;position: relative;background-color: white;}#sk-container-id-6 div.sk-parallel-item:first-child::after {align-self: flex-end;width: 50%;}#sk-container-id-6 div.sk-parallel-item:last-child::after {align-self: flex-start;width: 50%;}#sk-container-id-6 div.sk-parallel-item:only-child::after {width: 0;}#sk-container-id-6 div.sk-dashed-wrapped {border: 1px dashed gray;margin: 0 0.4em 0.5em 0.4em;box-sizing: border-box;padding-bottom: 0.4em;background-color: white;}#sk-container-id-6 div.sk-label label {font-family: monospace;font-weight: bold;display: inline-block;line-height: 1.2em;}#sk-container-id-6 div.sk-label-container {text-align: center;}#sk-container-id-6 div.sk-container {/* jupyter's `normalize.less` sets `[hidden] { display: none; }` but bootstrap.min.css set `[hidden] { display: none !important; }` so we also need the `!important` here to be able to override the default hidden behavior on the sphinx rendered scikit-learn.org. See: https://github.com/scikit-learn/scikit-learn/issues/21755 */display: inline-block !important;position: relative;}#sk-container-id-6 div.sk-text-repr-fallback {display: none;}</style><div id=\"sk-container-id-6\" class=\"sk-top-container\"><div class=\"sk-text-repr-fallback\"><pre>RandomForestRegressor(max_features=&#x27;sqrt&#x27;, n_estimators=1000, n_jobs=-1)</pre><b>In a Jupyter environment, please rerun this cell to show the HTML representation or trust the notebook. <br />On GitHub, the HTML representation is unable to render, please try loading this page with nbviewer.org.</b></div><div class=\"sk-container\" hidden><div class=\"sk-item\"><div class=\"sk-estimator sk-toggleable\"><input class=\"sk-toggleable__control sk-hidden--visually\" id=\"sk-estimator-id-12\" type=\"checkbox\" checked><label for=\"sk-estimator-id-12\" class=\"sk-toggleable__label sk-toggleable__label-arrow\">RandomForestRegressor</label><div class=\"sk-toggleable__content\"><pre>RandomForestRegressor(max_features=&#x27;sqrt&#x27;, n_estimators=1000, n_jobs=-1)</pre></div></div></div></div></div>"
      ],
      "text/plain": [
       "RandomForestRegressor(max_features='sqrt', n_estimators=1000, n_jobs=-1)"
      ]
     },
     "execution_count": 63,
     "metadata": {},
     "output_type": "execute_result"
    }
   ],
   "source": [
    "reg_sqrt.fit(X_train, y_train, sample_weight=[1 if px_val >= 4 else 0.1 for px_val in y_train])"
   ]
  },
  {
   "cell_type": "code",
   "execution_count": 67,
   "id": "90bfac06-a4d2-464a-8485-8f015bb5be4e",
   "metadata": {},
   "outputs": [],
   "source": [
    "preds = reg_sqrt.predict(X_test)"
   ]
  },
  {
   "cell_type": "code",
   "execution_count": 68,
   "id": "7de6a9c7-6d62-4c89-842b-5fb3ce1ac0ad",
   "metadata": {},
   "outputs": [
    {
     "data": {
      "text/plain": [
       "<AxesSubplot:>"
      ]
     },
     "execution_count": 68,
     "metadata": {},
     "output_type": "execute_result"
    },
    {
     "data": {
      "image/png": "[encoded data removed]",
      "text/plain": [
       "<Figure size 432x288 with 1 Axes>"
      ]
     },
     "metadata": {},
     "output_type": "display_data"
    }
   ],
   "source": [
    "sns.scatterplot(x=preds, y=y_test.values,)"
   ]
  },
  {
   "cell_type": "code",
   "execution_count": 70,
   "id": "f0a9c306-5383-4bd5-8602-aebcad3557ab",
   "metadata": {},
   "outputs": [],
   "source": [
    "import joblib"
   ]
  },
  {
   "cell_type": "code",
   "execution_count": 71,
   "id": "2e612010-d604-48f2-b2d8-3d482d43f01d",
   "metadata": {},
   "outputs": [
    {
     "name": "stderr",
     "output_type": "stream",
     "text": [
      "/home/julius/miniconda3/envs/rxt-dev/lib/python3.8/site-packages/sklearn/base.py:329: UserWarning: Trying to unpickle estimator DecisionTreeRegressor from version 0.22.1 when using version 1.1.1. This might lead to breaking code or invalid results. Use at your own risk. For more info please refer to:\n",
      "https://scikit-learn.org/stable/model_persistence.html#security-maintainability-limitations\n",
      "  warnings.warn(\n",
      "/home/julius/miniconda3/envs/rxt-dev/lib/python3.8/site-packages/sklearn/base.py:329: UserWarning: Trying to unpickle estimator RandomForestRegressor from version 0.22.1 when using version 1.1.1. This might lead to breaking code or invalid results. Use at your own risk. For more info please refer to:\n",
      "https://scikit-learn.org/stable/model_persistence.html#security-maintainability-limitations\n",
      "  warnings.warn(\n"
     ]
    }
   ],
   "source": [
    "old_reg = joblib.load(\"/home/julius/Downloads/RF_REG_CHEMBL226.pkg\")"
   ]
  },
  {
   "cell_type": "code",
   "execution_count": 74,
   "id": "f8ce2d45-4ac8-4f3a-9d49-4dd5646ef070",
   "metadata": {},
   "outputs": [],
   "source": [
    "old_preds = old_reg.predict(X_test)"
   ]
  },
  {
   "cell_type": "code",
   "execution_count": 76,
   "id": "b91346e5-e86e-4f1f-8d65-1b6d4fca4cc7",
   "metadata": {},
   "outputs": [
    {
     "data": {
      "text/plain": [
       "<AxesSubplot:>"
      ]
     },
     "execution_count": 76,
     "metadata": {},
     "output_type": "execute_result"
    },
    {
     "data": {
      "image/png": "[encoded data removed]",
      "text/plain": [
       "<Figure size 432x288 with 1 Axes>"
      ]
     },
     "metadata": {},
     "output_type": "display_data"
    }
   ],
   "source": [
    "sns.scatterplot(x=old_preds, y=y_test.values,)"
   ]
  },
  {
   "cell_type": "code",
   "execution_count": 80,
   "id": "598be56c-f763-491e-84ab-ed7d50b9f7aa",
   "metadata": {},
   "outputs": [
    {
     "data": {
      "text/plain": [
       "-3.297444820606575"
      ]
     },
     "execution_count": 80,
     "metadata": {},
     "output_type": "execute_result"
    }
   ],
   "source": [
    "old_reg.score(X=X_test, y=y_test, sample_weight=[1 if px_val >= 4 else 0.1 for px_val in y_test])"
   ]
  },
  {
   "cell_type": "code",
   "execution_count": null,
   "id": "6fd2f7f4-4c4f-4fcd-b65d-a0f7e0828846",
   "metadata": {},
   "outputs": [],
   "source": []
  }
 ],
 "metadata": {
  "kernelspec": {
   "display_name": "Python 3 (ipykernel)",
   "language": "python",
   "name": "python3"
  },
  "language_info": {
   "codemirror_mode": {
    "name": "ipython",
    "version": 3
   },
   "file_extension": ".py",
   "mimetype": "text/x-python",
   "name": "python",
   "nbconvert_exporter": "python",
   "pygments_lexer": "ipython3",
   "version": "3.8.13"
  }
 },
 "nbformat": 4,
 "nbformat_minor": 5
}
