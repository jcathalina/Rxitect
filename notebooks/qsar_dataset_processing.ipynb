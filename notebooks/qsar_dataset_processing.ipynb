{
 "cells": [
  {
   "cell_type": "code",
   "execution_count": 1,
   "id": "21b474f0-e762-4cdc-ae55-60dd520635b5",
   "metadata": {},
   "outputs": [],
   "source": [
    "import pandas as pd"
   ]
  },
  {
   "cell_type": "code",
   "execution_count": 2,
   "id": "87d99dad-571e-4475-923b-482e8c8c7945",
   "metadata": {},
   "outputs": [],
   "source": [
    "targets = [\"CHEMBL226\", \"CHEMBL240\", \"CHEMBL251\"]\n",
    "cols = [\n",
    "        \"target_chembl_id\",\n",
    "        \"smiles\",\n",
    "        \"pchembl_value\",\n",
    "        \"comment\",\n",
    "        \"standard_type\",\n",
    "        \"standard_relation\",\n",
    "        \"document_year\",\n",
    "       ]\n",
    "px_placeholder = 3.99\n",
    "temporal_split_year = 2015"
   ]
  },
  {
   "cell_type": "code",
   "execution_count": 3,
   "id": "e2369706-efa8-40e1-9764-6a9cb1b918fc",
   "metadata": {},
   "outputs": [],
   "source": [
    "df = pd.read_csv(\"../data/raw/ligand_raw.tsv\", sep=\"\\t\")"
   ]
  },
  {
   "cell_type": "code",
   "execution_count": 5,
   "id": "a4962e13-f30e-4e4d-88c4-baf73009d503",
   "metadata": {},
   "outputs": [],
   "source": [
    "df.columns = df.columns.str.lower()\n",
    "df.dropna(subset=[\"smiles\"], inplace=True)"
   ]
  },
  {
   "cell_type": "code",
   "execution_count": 6,
   "id": "b9e794a0-e7e1-4e08-becf-17a09cf0754d",
   "metadata": {},
   "outputs": [],
   "source": [
    "df = df[df[\"target_chembl_id\"].isin(targets)]"
   ]
  },
  {
   "cell_type": "code",
   "execution_count": 7,
   "id": "0293275e-3df4-49a9-9ceb-ae5d90413e6d",
   "metadata": {},
   "outputs": [],
   "source": [
    "s_year = df.groupby(\"smiles\")[\"document_year\"].min().dropna()\n",
    "s_year = s_year.astype(\"Int16\")"
   ]
  },
  {
   "cell_type": "code",
   "execution_count": 8,
   "id": "233ff5a9-1b49-48ca-9297-8186bfe82f1b",
   "metadata": {},
   "outputs": [],
   "source": [
    "idx_test = s_year[s_year > 2015].index"
   ]
  },
  {
   "cell_type": "code",
   "execution_count": 11,
   "id": "439b1a33-73e7-4f23-b377-6e6787a30237",
   "metadata": {},
   "outputs": [],
   "source": [
    "df = df[cols].set_index(['target_chembl_id', 'smiles'])"
   ]
  },
  {
   "cell_type": "code",
   "execution_count": 12,
   "id": "fb6abfa0-f507-411d-a2c2-e3260506e692",
   "metadata": {},
   "outputs": [],
   "source": [
    "numery = df['pchembl_value'].groupby(['target_chembl_id', 'smiles']).mean().dropna()"
   ]
  },
  {
   "cell_type": "code",
   "execution_count": 15,
   "id": "481ae018-bf9c-4962-9b97-30abb9cb778e",
   "metadata": {},
   "outputs": [],
   "source": [
    "comments = df[(df['comment'].str.contains('Not Active') == True)]"
   ]
  },
  {
   "cell_type": "code",
   "execution_count": 19,
   "id": "67d10b90-c72c-4df6-a7fe-7c8c7452f8b0",
   "metadata": {},
   "outputs": [],
   "source": [
    "inhibits = df[(df['standard_type'] == 'Inhibition') & df['standard_relation'].isin(['<', '<='])]"
   ]
  },
  {
   "cell_type": "code",
   "execution_count": 21,
   "id": "50a1d8ea-b3dd-490b-868f-aeaec0bf7698",
   "metadata": {},
   "outputs": [],
   "source": [
    "relations = df[df['standard_type'].isin(['EC50', 'IC50', 'Kd', 'Ki']) & df['standard_relation'].isin(['>', '>='])]"
   ]
  },
  {
   "cell_type": "code",
   "execution_count": 25,
   "id": "82f57c63-c542-4076-8e23-5acea0eef7ae",
   "metadata": {},
   "outputs": [],
   "source": [
    "negatives = pd.concat([comments, inhibits, relations], axis=0)"
   ]
  },
  {
   "cell_type": "code",
   "execution_count": 29,
   "id": "41fe3253-db2f-4812-96e6-04c8233cc642",
   "metadata": {},
   "outputs": [],
   "source": [
    "negatives_clean = negatives[~negatives.index.isin(numery.index)]"
   ]
  },
  {
   "cell_type": "code",
   "execution_count": 31,
   "id": "695edd82-8788-450b-9676-da851fb4b746",
   "metadata": {},
   "outputs": [
    {
     "name": "stderr",
     "output_type": "stream",
     "text": [
      "/tmp/ipykernel_122455/4128785534.py:1: SettingWithCopyWarning: \n",
      "A value is trying to be set on a copy of a slice from a DataFrame.\n",
      "Try using .loc[row_indexer,col_indexer] = value instead\n",
      "\n",
      "See the caveats in the documentation: https://pandas.pydata.org/pandas-docs/stable/user_guide/indexing.html#returning-a-view-versus-a-copy\n",
      "  negatives_clean.loc[:, 'pchembl_value'] = px_placeholder\n"
     ]
    }
   ],
   "source": [
    "negatives_clean.loc[:, 'pchembl_value'] = px_placeholder"
   ]
  },
  {
   "cell_type": "code",
   "execution_count": 33,
   "id": "14c1476d-3f9d-4edb-bd88-9216a6afe148",
   "metadata": {},
   "outputs": [],
   "source": [
    " negatives_clean = negatives_clean['pchembl_value'].groupby(['target_chembl_id', 'smiles']).first()"
   ]
  },
  {
   "cell_type": "code",
   "execution_count": 34,
   "id": "b4dc418b-36f5-414e-95b2-990b2f0c9f51",
   "metadata": {},
   "outputs": [
    {
     "data": {
      "text/plain": [
       "target_chembl_id  smiles                                                      \n",
       "CHEMBL226         Br.CN1[C@H]2CC[C@@H]1C[C@H](OC(=O)C(O)c1ccccc1)C2               3.99\n",
       "                  Brc1c(NC2=NCCN2)ccc2nccnc12                                     3.99\n",
       "                  Brc1cccc(Nc2nc3c(N4CCCC4)ncnc3s2)c1                             3.99\n",
       "                  Brc1ccccc1                                                      3.99\n",
       "                  C#CC1(O)CC[C@H]2[C@@H]3CCC4=CC(=O)CC[C@@H]4[C@H]3CC[C@@]21CC    3.99\n",
       "                                                                                  ... \n",
       "CHEMBL251         c1cncc(Nc2ncc(-c3ccncn3)c(-c3ccco3)n2)c1                        3.99\n",
       "                  c1coc(-c2cn3ccccc3n2)c1                                         3.99\n",
       "                  c1coc(-c2nc(Nc3cnccn3)ncc2-c2ccncn2)c1                          3.99\n",
       "                  c1coc(-c2nc(Nc3cncnc3)ncc2-c2ccncn2)c1                          3.99\n",
       "                  c1nc2c(NC3CCCCC3)nc(Nc3ccc(N4CCOCC4)cc3)nc2[nH]1                3.99\n",
       "Name: pchembl_value, Length: 5154, dtype: float64"
      ]
     },
     "execution_count": 34,
     "metadata": {},
     "output_type": "execute_result"
    }
   ],
   "source": [
    "negatives_clean"
   ]
  },
  {
   "cell_type": "code",
   "execution_count": 39,
   "id": "b500950e-8233-4676-b0ed-4ac6d31bde67",
   "metadata": {},
   "outputs": [],
   "source": [
    "dfx = pd.concat([numery, negatives_clean])"
   ]
  },
  {
   "cell_type": "code",
   "execution_count": 45,
   "id": "322990cc-e5dd-4c26-aff8-5dd04e6db87f",
   "metadata": {},
   "outputs": [],
   "source": [
    "dfx = dfx.unstack('target_chembl_id')"
   ]
  },
  {
   "cell_type": "code",
   "execution_count": 50,
   "id": "85d63d1e-a669-4a87-bdc8-31e24aec4866",
   "metadata": {},
   "outputs": [],
   "source": [
    "idx_test_p = list(set(dfx.index).intersection(idx_test))"
   ]
  },
  {
   "cell_type": "code",
   "execution_count": 51,
   "id": "c9f43e86-dfd8-4ef7-9601-eb7fc42060aa",
   "metadata": {},
   "outputs": [],
   "source": [
    "df_test = dfx.loc[idx_test_p]"
   ]
  },
  {
   "cell_type": "code",
   "execution_count": 53,
   "id": "0c366a3f-5b76-4e0e-afa8-0df6c77c3e13",
   "metadata": {},
   "outputs": [],
   "source": [
    "df_train = dfx.drop(index=df_test.index)"
   ]
  },
  {
   "cell_type": "code",
   "execution_count": 92,
   "id": "0e89f599-a47f-4c8d-abee-dacc67c8f6bd",
   "metadata": {},
   "outputs": [
    {
     "data": {
      "text/plain": [
       "array(['Br.CN1[C@H]2CC[C@@H]1C[C@H](OC(=O)C(O)c1ccccc1)C2',\n",
       "       'Brc1c(NC2=NCCN2)ccc2nccnc12', 'Brc1ccccc1', ...,\n",
       "       'c1csc(-c2nc(C3CC3)nc3ccsc23)n1',\n",
       "       'c1nc2c(NC3CCCCC3)nc(Nc3ccc(N4CCOCC4)cc3)nc2[nH]1',\n",
       "       'c1nc2nc(Nc3ccc(N4CCOCC4)cc3)nc(NC3CC4CCC3C4)c2[nH]1'],\n",
       "      dtype=object)"
      ]
     },
     "execution_count": 92,
     "metadata": {},
     "output_type": "execute_result"
    }
   ],
   "source": [
    "df_train['CHEMBL226'].dropna().index.values"
   ]
  },
  {
   "cell_type": "code",
   "execution_count": 109,
   "id": "2dd61956-1ee1-40f5-979e-577da835de24",
   "metadata": {},
   "outputs": [
    {
     "data": {
      "text/plain": [
       "array([], dtype=float64)"
      ]
     },
     "execution_count": 109,
     "metadata": {},
     "output_type": "execute_result"
    }
   ],
   "source": [
    "import numpy as np\n",
    "\n",
    "np.empty(0)"
   ]
  },
  {
   "cell_type": "code",
   "execution_count": 118,
   "id": "db477f35-f1f6-40ea-91ef-eaf45689771e",
   "metadata": {},
   "outputs": [],
   "source": [
    "from dataclasses import dataclass\n",
    "from typing import Dict, List, Any\n",
    "from rxitect.chem.utils import calc_fp\n",
    "from dataclasses import field\n",
    "\n",
    "@dataclass\n",
    "class QSARDataset:\n",
    "    dataset: pd.DataFrame\n",
    "    idx_test_temporal_split: pd.Index\n",
    "    params_used: Dict[str, Any]\n",
    "    df_test: pd.DataFrame = field(init=False)\n",
    "    df_train: pd.DataFrame = field(init=False)\n",
    "    _X_train: Dict[str, Any] = field(init=False)\n",
    "    _X_test: Dict[str, Any] = field(init=False)\n",
    "    _y_train: Dict[str, Any] = field(init=False)\n",
    "    _y_test: Dict[str, Any] = field(init=False)\n",
    "    \n",
    "    def __post_init__(self) -> None:\n",
    "        \"\"\"Initializes the train and test data based on a temporal split in the data to be used for QSAR model fitting.\"\"\"\n",
    "        self.df_test = self.dataset.loc[self.idx_test_temporal_split]\n",
    "        self.df_train = self.dataset.drop(self.df_test.index)\n",
    "        self._X_train = {k: np.array([]) for k in self.params_used[\"targets\"]}\n",
    "        self._X_test = {k: np.array([]) for k in self.params_used[\"targets\"]}\n",
    "        self._y_train = {k: np.array([]) for k in self.params_used[\"targets\"]}\n",
    "        self._y_test = {k: np.array([]) for k in self.params_used[\"targets\"]}\n",
    "        \n",
    "    def X_train(self, target_chembl_id: str) -> np.ndarray:\n",
    "        \"\"\"Lazily evaluates the train data points for a given target ChEMBL ID\n",
    "        \n",
    "        Args:\n",
    "            target_chembl_id:\n",
    "        \n",
    "        Returns:\n",
    "            An array containing the fingerprints of all train data points for the given target ChEMBL ID\n",
    "        \"\"\"\n",
    "        if not self._X_train[target_chembl_id].size:\n",
    "            data = self.df_train[target_chembl_id].dropna().index\n",
    "            self._X_train[target_chembl_id] = calc_fp(data)\n",
    "        return self._X_train[target_chembl_id]\n",
    "    \n",
    "    def X_test(self, target_chembl_id: str) -> np.ndarray:\n",
    "        \"\"\"Lazily evaluates the train data points for a given target ChEMBL ID\n",
    "        \n",
    "        Args:\n",
    "            target_chembl_id:\n",
    "        \n",
    "        Returns:\n",
    "            An array containing the fingerprints of all test data points for the given target ChEMBL ID\n",
    "        \"\"\"\n",
    "        if not self._X_test[target_chembl_id].size:\n",
    "            data = self.df_test[target_chembl_id].dropna().index\n",
    "            self._X_test[target_chembl_id] = calc_fp(data)\n",
    "        return self._X_test[target_chembl_id]\n",
    "    \n",
    "    def y_train(self, target_chembl_id: str) -> np.ndarray:\n",
    "        \"\"\"Lazily evaluates the train data points for a given target ChEMBL ID\n",
    "        \n",
    "        Args:\n",
    "            target_chembl_id:\n",
    "        \n",
    "        Returns:\n",
    "            An array containing the pChEMBL value of all train data points for the given target ChEMBL ID\n",
    "        \"\"\"\n",
    "        if not self._y_train[target_chembl_id].size:\n",
    "            data = self.df_train[target_chembl_id].dropna().values\n",
    "            self._y_train[target_chembl_id] = data\n",
    "        return self._y_train[target_chembl_id]\n",
    "    \n",
    "    def y_test(self, target_chembl_id: str) -> np.ndarray:\n",
    "        \"\"\"Lazily evaluates the train data points for a given target ChEMBL ID\n",
    "        \n",
    "        Args:\n",
    "            target_chembl_id:\n",
    "        \n",
    "        Returns:\n",
    "            An array containing the pChEMBL value of all test data points for the given target ChEMBL ID\n",
    "        \"\"\"\n",
    "        if not self._y_test[target_chembl_id].size:\n",
    "            data = self.df_test[target_chembl_id].dropna().values\n",
    "            self._y_test[target_chembl_id] = data\n",
    "        return self._y_test[target_chembl_id]"
   ]
  },
  {
   "cell_type": "code",
   "execution_count": 146,
   "id": "1d230167-6a5d-419a-8ab2-bdb2f8e8ee28",
   "metadata": {},
   "outputs": [],
   "source": [
    "def construct_qsar_dataset(raw_data_path: str, out_data_path: str, targets: List[str], cols: List[str],\n",
    "                           px_placeholder: float = 3.99, temporal_split_year: int = 2015,\n",
    "                           negative_samples: bool = True) -> QSARDataset:\n",
    "    \"\"\"Method that constructs a dataset from ChEMBL data to train QSAR regression models on,\n",
    "    using a temporal split to create a hold-out test dataset for evaluation.\n",
    "    \n",
    "    Args:\n",
    "        raw_data_path:\n",
    "        out_data_path:\n",
    "        targets:\n",
    "        cols:\n",
    "        px_placeholder:\n",
    "        temporal_split_year:\n",
    "        negative_samples:\n",
    "        \n",
    "    Returns:\n",
    "        A QSARDataset object\n",
    "    \"\"\"\n",
    "    # Load and standardize raw data\n",
    "    df = pd.read_csv(raw_data_path, sep='\\t')\n",
    "    df.columns = df.columns.str.lower()\n",
    "    df.dropna(subset=['smiles'], inplace=True)\n",
    "    \n",
    "    # Filter data to only contain relevant targets\n",
    "    df = df[df['target_chembl_id'].isin(targets)]\n",
    "    \n",
    "    # Create temporal split for hold-out test set creation downstream\n",
    "    s_year = df.groupby(\"smiles\")[\"document_year\"].min().dropna()\n",
    "    s_year = s_year.astype(\"Int16\")\n",
    "    idx_test = s_year[s_year > 2015].index\n",
    "    \n",
    "    # Re-index data to divide SMILES per target\n",
    "    df = df[cols].set_index(['target_chembl_id', 'smiles'])\n",
    "    \n",
    "    # Process positive examples from data, taking the mean of duplicates and removing missing entries\n",
    "    pos_samples = df['pchembl_value'].groupby(['target_chembl_id', 'smiles']).mean().dropna()\n",
    "    \n",
    "    df_processed = pos_samples\n",
    "    if negative_samples:\n",
    "        # Process negative examples from data, setting their default pChEMBL values to some threshold (default 3.99)\n",
    "        # Looks for where inhibition or no activity are implied\n",
    "        comments = df[(df['comment'].str.contains('Not Active') == True)]\n",
    "        inhibitions = df[(df['standard_type'] == 'Inhibition') & df['standard_relation'].isin(['<', '<='])]\n",
    "        relations = df[df['standard_type'].isin(['EC50', 'IC50', 'Kd', 'Ki']) & df['standard_relation'].isin(['>', '>='])]\n",
    "        neg_samples = pd.concat([comments, inhibitions, relations])\n",
    "        # Ensure only true negative samples remain in the negative sample set\n",
    "        neg_samples = neg_samples[~neg_samples.index.isin(pos_samples.index)]\n",
    "        neg_samples['pchembl_value'] = px_placeholder\n",
    "        neg_samples = neg_samples['pchembl_value'].groupby(['target_chembl_id', 'smiles']).first()  # Regroup indices\n",
    "        df_processed = pd.concat([pos_samples, neg_samples])\n",
    "        \n",
    "    df_processed = df_processed.unstack('target_chembl_id')\n",
    "    idx_test = list(set(df_processed.index).intersection(idx_test))\n",
    "\n",
    "    # df_test = df_processed.loc[idx_test]\n",
    "    # df_train = df_processed.drop(index=df_test.index)\n",
    "    \n",
    "    qsar_dataset = QSARDataset(dataset=df_processed,\n",
    "                               idx_test_temporal_split=idx_test,\n",
    "                               params_used={\n",
    "                                   \"targets\": targets,\n",
    "                                   \"px_placeholder\": px_placeholder,\n",
    "                                   \"temporal_split_year\": temporal_split_year,\n",
    "                                   \"negative_samples\": negative_samples,\n",
    "                               })\n",
    "\n",
    "    return qsar_dataset, df_test, df_train\n"
   ]
  },
  {
   "cell_type": "code",
   "execution_count": 147,
   "id": "e736b986-3849-4486-9a65-27cb0bf7109d",
   "metadata": {},
   "outputs": [],
   "source": [
    "data, test, train = construct_qsar_dataset(raw_data_path=\"../data/raw/ligand_raw.tsv\",\n",
    "                       out_data_path=\"\",\n",
    "                       targets=targets,\n",
    "                       cols=cols,\n",
    "                       px_placeholder=px_placeholder,\n",
    "                       temporal_split_year=temporal_split_year,\n",
    "                       negative_samples=True)"
   ]
  },
  {
   "cell_type": "code",
   "execution_count": 148,
   "id": "1adfabbc-2235-4485-ab74-765cd625efcf",
   "metadata": {},
   "outputs": [
    {
     "data": {
      "text/html": [
       "<div>\n",
       "<style scoped>\n",
       "    .dataframe tbody tr th:only-of-type {\n",
       "        vertical-align: middle;\n",
       "    }\n",
       "\n",
       "    .dataframe tbody tr th {\n",
       "        vertical-align: top;\n",
       "    }\n",
       "\n",
       "    .dataframe thead th {\n",
       "        text-align: right;\n",
       "    }\n",
       "</style>\n",
       "<table border=\"1\" class=\"dataframe\">\n",
       "  <thead>\n",
       "    <tr style=\"text-align: right;\">\n",
       "      <th>target_chembl_id</th>\n",
       "      <th>CHEMBL226</th>\n",
       "      <th>CHEMBL240</th>\n",
       "      <th>CHEMBL251</th>\n",
       "    </tr>\n",
       "    <tr>\n",
       "      <th>smiles</th>\n",
       "      <th></th>\n",
       "      <th></th>\n",
       "      <th></th>\n",
       "    </tr>\n",
       "  </thead>\n",
       "  <tbody>\n",
       "    <tr>\n",
       "      <th>Br.CCn1c(O)c(N=NC2=NC(=O)CS2)c2ccccc21</th>\n",
       "      <td>NaN</td>\n",
       "      <td>5.32</td>\n",
       "      <td>NaN</td>\n",
       "    </tr>\n",
       "    <tr>\n",
       "      <th>Br.CN1[C@H]2CC[C@@H]1C[C@H](OC(=O)C(O)c1ccccc1)C2</th>\n",
       "      <td>3.99</td>\n",
       "      <td>3.99</td>\n",
       "      <td>3.99</td>\n",
       "    </tr>\n",
       "    <tr>\n",
       "      <th>Brc1c(NC2=NCCN2)ccc2nccnc12</th>\n",
       "      <td>3.99</td>\n",
       "      <td>3.99</td>\n",
       "      <td>3.99</td>\n",
       "    </tr>\n",
       "    <tr>\n",
       "      <th>Brc1cccc2nc(C#Cc3ccccn3)ccc12</th>\n",
       "      <td>NaN</td>\n",
       "      <td>4.64</td>\n",
       "      <td>NaN</td>\n",
       "    </tr>\n",
       "    <tr>\n",
       "      <th>Brc1ccccc1</th>\n",
       "      <td>3.99</td>\n",
       "      <td>3.99</td>\n",
       "      <td>3.99</td>\n",
       "    </tr>\n",
       "    <tr>\n",
       "      <th>...</th>\n",
       "      <td>...</td>\n",
       "      <td>...</td>\n",
       "      <td>...</td>\n",
       "    </tr>\n",
       "    <tr>\n",
       "      <th>c1nc2c(NC3CCCCC3)nc(Nc3ccc(N4CCOCC4)cc3)nc2[nH]1</th>\n",
       "      <td>3.99</td>\n",
       "      <td>NaN</td>\n",
       "      <td>3.99</td>\n",
       "    </tr>\n",
       "    <tr>\n",
       "      <th>c1nc2nc(Nc3ccc(N4CCOCC4)cc3)nc(NC3CC4CCC3C4)c2[nH]1</th>\n",
       "      <td>4.47</td>\n",
       "      <td>NaN</td>\n",
       "      <td>4.41</td>\n",
       "    </tr>\n",
       "    <tr>\n",
       "      <th>c1ncc(-c2cc3sc(N4CCC(N5CCCCC5)CC4)nc3cn2)cn1</th>\n",
       "      <td>NaN</td>\n",
       "      <td>5.19</td>\n",
       "      <td>NaN</td>\n",
       "    </tr>\n",
       "    <tr>\n",
       "      <th>c1ncc(-c2ccc(OCCCN3CCCCC3)cc2)o1</th>\n",
       "      <td>NaN</td>\n",
       "      <td>5.92</td>\n",
       "      <td>NaN</td>\n",
       "    </tr>\n",
       "    <tr>\n",
       "      <th>c1ncc(-c2cnc3nc(N4CCC(N5CCCCC5)CC4)sc3c2)cn1</th>\n",
       "      <td>NaN</td>\n",
       "      <td>4.63</td>\n",
       "      <td>NaN</td>\n",
       "    </tr>\n",
       "  </tbody>\n",
       "</table>\n",
       "<p>13173 rows × 3 columns</p>\n",
       "</div>"
      ],
      "text/plain": [
       "target_chembl_id                                    CHEMBL226  CHEMBL240  \\\n",
       "smiles                                                                     \n",
       "Br.CCn1c(O)c(N=NC2=NC(=O)CS2)c2ccccc21                    NaN       5.32   \n",
       "Br.CN1[C@H]2CC[C@@H]1C[C@H](OC(=O)C(O)c1ccccc1)C2        3.99       3.99   \n",
       "Brc1c(NC2=NCCN2)ccc2nccnc12                              3.99       3.99   \n",
       "Brc1cccc2nc(C#Cc3ccccn3)ccc12                             NaN       4.64   \n",
       "Brc1ccccc1                                               3.99       3.99   \n",
       "...                                                       ...        ...   \n",
       "c1nc2c(NC3CCCCC3)nc(Nc3ccc(N4CCOCC4)cc3)nc2[nH]1         3.99        NaN   \n",
       "c1nc2nc(Nc3ccc(N4CCOCC4)cc3)nc(NC3CC4CCC3C4)c2[...       4.47        NaN   \n",
       "c1ncc(-c2cc3sc(N4CCC(N5CCCCC5)CC4)nc3cn2)cn1              NaN       5.19   \n",
       "c1ncc(-c2ccc(OCCCN3CCCCC3)cc2)o1                          NaN       5.92   \n",
       "c1ncc(-c2cnc3nc(N4CCC(N5CCCCC5)CC4)sc3c2)cn1              NaN       4.63   \n",
       "\n",
       "target_chembl_id                                    CHEMBL251  \n",
       "smiles                                                         \n",
       "Br.CCn1c(O)c(N=NC2=NC(=O)CS2)c2ccccc21                    NaN  \n",
       "Br.CN1[C@H]2CC[C@@H]1C[C@H](OC(=O)C(O)c1ccccc1)C2        3.99  \n",
       "Brc1c(NC2=NCCN2)ccc2nccnc12                              3.99  \n",
       "Brc1cccc2nc(C#Cc3ccccn3)ccc12                             NaN  \n",
       "Brc1ccccc1                                               3.99  \n",
       "...                                                       ...  \n",
       "c1nc2c(NC3CCCCC3)nc(Nc3ccc(N4CCOCC4)cc3)nc2[nH]1         3.99  \n",
       "c1nc2nc(Nc3ccc(N4CCOCC4)cc3)nc(NC3CC4CCC3C4)c2[...       4.41  \n",
       "c1ncc(-c2cc3sc(N4CCC(N5CCCCC5)CC4)nc3cn2)cn1              NaN  \n",
       "c1ncc(-c2ccc(OCCCN3CCCCC3)cc2)o1                          NaN  \n",
       "c1ncc(-c2cnc3nc(N4CCC(N5CCCCC5)CC4)sc3c2)cn1              NaN  \n",
       "\n",
       "[13173 rows x 3 columns]"
      ]
     },
     "execution_count": 148,
     "metadata": {},
     "output_type": "execute_result"
    }
   ],
   "source": [
    "train"
   ]
  },
  {
   "cell_type": "code",
   "execution_count": 145,
   "id": "6289ff01-a0da-44d2-bf52-20de423c8d70",
   "metadata": {
    "tags": []
   },
   "outputs": [
    {
     "name": "stderr",
     "output_type": "stream",
     "text": [
      "Calculating Extended-Connectivity Fingerprints: 100%|███████████████████████████████████████████████████████████████████████████████████████████| 5323/5323 [00:01<00:00, 3734.02it/s]\n",
      "Calculating physico-chemical properties: 100%|███████████████████████████████████████████████████████████████████████████████████████████████████████| 19/19 [00:00<00:00, 340.41it/s]\n"
     ]
    }
   ],
   "source": [
    "chembl226_fps = data.X_train(\"CHEMBL226\")"
   ]
  },
  {
   "cell_type": "code",
   "execution_count": 131,
   "id": "6d1ab73d-8aea-4fac-92bb-05837d4734a6",
   "metadata": {},
   "outputs": [
    {
     "data": {
      "text/plain": [
       "smiles\n",
       "Br.CN1[C@H]2CC[C@@H]1C[C@H](OC(=O)C(O)c1ccccc1)C2               3.99\n",
       "Brc1c(NC2=NCCN2)ccc2nccnc12                                     3.99\n",
       "Brc1cccc(Nc2nc3c(N4CCCC4)ncnc3s2)c1                             3.99\n",
       "Brc1ccccc1                                                      3.99\n",
       "C#CC1(O)CC[C@H]2[C@@H]3CCC4=CC(=O)CC[C@@H]4[C@H]3CC[C@@]21CC    3.99\n",
       "                                                                ... \n",
       "c1coc(-c2nc3nc(NC4CCCCC4)nc(NC4CCCCC4)n3n2)c1                   6.51\n",
       "c1coc(CNc2nc3ccccc3n3nc(-c4ccco4)nc23)c1                        7.48\n",
       "c1csc(-c2nc(C3CC3)nc3ccsc23)n1                                  6.59\n",
       "c1nc2c(NC3CCCCC3)nc(Nc3ccc(N4CCOCC4)cc3)nc2[nH]1                3.99\n",
       "c1nc2nc(Nc3ccc(N4CCOCC4)cc3)nc(NC3CC4CCC3C4)c2[nH]1             4.47\n",
       "Name: CHEMBL226, Length: 5952, dtype: float64"
      ]
     },
     "execution_count": 131,
     "metadata": {},
     "output_type": "execute_result"
    }
   ],
   "source": [
    "data.dataset[\"CHEMBL226\"].dropna()"
   ]
  },
  {
   "cell_type": "code",
   "execution_count": 133,
   "id": "e8a3c065-3087-452a-bf27-65d366b086d4",
   "metadata": {},
   "outputs": [
    {
     "data": {
      "text/html": [
       "<div>\n",
       "<style scoped>\n",
       "    .dataframe tbody tr th:only-of-type {\n",
       "        vertical-align: middle;\n",
       "    }\n",
       "\n",
       "    .dataframe tbody tr th {\n",
       "        vertical-align: top;\n",
       "    }\n",
       "\n",
       "    .dataframe thead th {\n",
       "        text-align: right;\n",
       "    }\n",
       "</style>\n",
       "<table border=\"1\" class=\"dataframe\">\n",
       "  <thead>\n",
       "    <tr style=\"text-align: right;\">\n",
       "      <th>target_chembl_id</th>\n",
       "      <th>CHEMBL226</th>\n",
       "      <th>CHEMBL240</th>\n",
       "      <th>CHEMBL251</th>\n",
       "    </tr>\n",
       "    <tr>\n",
       "      <th>smiles</th>\n",
       "      <th></th>\n",
       "      <th></th>\n",
       "      <th></th>\n",
       "    </tr>\n",
       "  </thead>\n",
       "  <tbody>\n",
       "    <tr>\n",
       "      <th>CC(CCc1ccccc1)Nc1nc2nn(C)cc2c2nc(-c3ccco3)nn12</th>\n",
       "      <td>6.88</td>\n",
       "      <td>NaN</td>\n",
       "      <td>6.83</td>\n",
       "    </tr>\n",
       "    <tr>\n",
       "      <th>CCCCC#Cc1nc(N)c2ncn([C@@H]3O[C@H](CSCCC)[C@@H](O)[C@H]3O)c2n1</th>\n",
       "      <td>NaN</td>\n",
       "      <td>NaN</td>\n",
       "      <td>6.10</td>\n",
       "    </tr>\n",
       "    <tr>\n",
       "      <th>C=CCn1c(=O)c2[nH]c(Cc3cccs3)nc2n(Cc2ccco2)c1=O</th>\n",
       "      <td>NaN</td>\n",
       "      <td>NaN</td>\n",
       "      <td>5.84</td>\n",
       "    </tr>\n",
       "    <tr>\n",
       "      <th>Cc1cc(-c2ccc3c(c2)CCN(CCCSc2nnc(-c4ccccc4Cl)n2C)CC3)no1</th>\n",
       "      <td>NaN</td>\n",
       "      <td>7.20</td>\n",
       "      <td>NaN</td>\n",
       "    </tr>\n",
       "    <tr>\n",
       "      <th>Cc1cccnc1CNC(=O)c1cc(-c2ccccc2F)nc(N)n1</th>\n",
       "      <td>7.42</td>\n",
       "      <td>NaN</td>\n",
       "      <td>7.85</td>\n",
       "    </tr>\n",
       "    <tr>\n",
       "      <th>...</th>\n",
       "      <td>...</td>\n",
       "      <td>...</td>\n",
       "      <td>...</td>\n",
       "    </tr>\n",
       "    <tr>\n",
       "      <th>COc1ccc(-c2nc(COc3cccc(CN(CC(=O)O)C(=O)Oc4ccc(C)cc4)c3)c(C)o2)cc1</th>\n",
       "      <td>NaN</td>\n",
       "      <td>5.07</td>\n",
       "      <td>NaN</td>\n",
       "    </tr>\n",
       "    <tr>\n",
       "      <th>CCOC(=O)[C@@]12C[C@@H]1[C@@H](n1cnc3c(NC(C4CC4)C4CC4)nc(Cl)nc31)[C@H](O)[C@@H]2O</th>\n",
       "      <td>6.44</td>\n",
       "      <td>NaN</td>\n",
       "      <td>5.80</td>\n",
       "    </tr>\n",
       "    <tr>\n",
       "      <th>CCCn1c(=O)c2nc(-c3cnn(Cc4nc(-c5ccccc5OC)no4)c3)[nH]c2n(CCC)c1=O</th>\n",
       "      <td>5.72</td>\n",
       "      <td>NaN</td>\n",
       "      <td>5.80</td>\n",
       "    </tr>\n",
       "    <tr>\n",
       "      <th>C[C@@H](Oc1ccc(S(C)(=O)=O)cc1C(=O)N1CCN(c2ncc(C(F)(F)F)cc2F)CC1)C(C)(C)C</th>\n",
       "      <td>NaN</td>\n",
       "      <td>4.55</td>\n",
       "      <td>NaN</td>\n",
       "    </tr>\n",
       "    <tr>\n",
       "      <th>CCn1cc2c(nc(NC(=O)C(c3ccccc3)c3ccccc3)n3nc(-c4ccco4)nc23)n1</th>\n",
       "      <td>NaN</td>\n",
       "      <td>NaN</td>\n",
       "      <td>6.88</td>\n",
       "    </tr>\n",
       "  </tbody>\n",
       "</table>\n",
       "<p>14518 rows × 3 columns</p>\n",
       "</div>"
      ],
      "text/plain": [
       "target_chembl_id                                    CHEMBL226  CHEMBL240  \\\n",
       "smiles                                                                     \n",
       "CC(CCc1ccccc1)Nc1nc2nn(C)cc2c2nc(-c3ccco3)nn12           6.88        NaN   \n",
       "CCCCC#Cc1nc(N)c2ncn([C@@H]3O[C@H](CSCCC)[C@@H](...        NaN        NaN   \n",
       "C=CCn1c(=O)c2[nH]c(Cc3cccs3)nc2n(Cc2ccco2)c1=O            NaN        NaN   \n",
       "Cc1cc(-c2ccc3c(c2)CCN(CCCSc2nnc(-c4ccccc4Cl)n2C...        NaN       7.20   \n",
       "Cc1cccnc1CNC(=O)c1cc(-c2ccccc2F)nc(N)n1                  7.42        NaN   \n",
       "...                                                       ...        ...   \n",
       "COc1ccc(-c2nc(COc3cccc(CN(CC(=O)O)C(=O)Oc4ccc(C...        NaN       5.07   \n",
       "CCOC(=O)[C@@]12C[C@@H]1[C@@H](n1cnc3c(NC(C4CC4)...       6.44        NaN   \n",
       "CCCn1c(=O)c2nc(-c3cnn(Cc4nc(-c5ccccc5OC)no4)c3)...       5.72        NaN   \n",
       "C[C@@H](Oc1ccc(S(C)(=O)=O)cc1C(=O)N1CCN(c2ncc(C...        NaN       4.55   \n",
       "CCn1cc2c(nc(NC(=O)C(c3ccccc3)c3ccccc3)n3nc(-c4c...        NaN        NaN   \n",
       "\n",
       "target_chembl_id                                    CHEMBL251  \n",
       "smiles                                                         \n",
       "CC(CCc1ccccc1)Nc1nc2nn(C)cc2c2nc(-c3ccco3)nn12           6.83  \n",
       "CCCCC#Cc1nc(N)c2ncn([C@@H]3O[C@H](CSCCC)[C@@H](...       6.10  \n",
       "C=CCn1c(=O)c2[nH]c(Cc3cccs3)nc2n(Cc2ccco2)c1=O           5.84  \n",
       "Cc1cc(-c2ccc3c(c2)CCN(CCCSc2nnc(-c4ccccc4Cl)n2C...        NaN  \n",
       "Cc1cccnc1CNC(=O)c1cc(-c2ccccc2F)nc(N)n1                  7.85  \n",
       "...                                                       ...  \n",
       "COc1ccc(-c2nc(COc3cccc(CN(CC(=O)O)C(=O)Oc4ccc(C...        NaN  \n",
       "CCOC(=O)[C@@]12C[C@@H]1[C@@H](n1cnc3c(NC(C4CC4)...       5.80  \n",
       "CCCn1c(=O)c2nc(-c3cnn(Cc4nc(-c5ccccc5OC)no4)c3)...       5.80  \n",
       "C[C@@H](Oc1ccc(S(C)(=O)=O)cc1C(=O)N1CCN(c2ncc(C...        NaN  \n",
       "CCn1cc2c(nc(NC(=O)C(c3ccccc3)c3ccccc3)n3nc(-c4c...       6.88  \n",
       "\n",
       "[14518 rows x 3 columns]"
      ]
     },
     "execution_count": 133,
     "metadata": {},
     "output_type": "execute_result"
    }
   ],
   "source": [
    "data.df_test"
   ]
  },
  {
   "cell_type": "code",
   "execution_count": null,
   "id": "a809ad09-b8e0-42c4-a8e7-3b0d1efb83a7",
   "metadata": {},
   "outputs": [],
   "source": []
  }
 ],
 "metadata": {
  "kernelspec": {
   "display_name": "Python 3 (ipykernel)",
   "language": "python",
   "name": "python3"
  },
  "language_info": {
   "codemirror_mode": {
    "name": "ipython",
    "version": 3
   },
   "file_extension": ".py",
   "mimetype": "text/x-python",
   "name": "python",
   "nbconvert_exporter": "python",
   "pygments_lexer": "ipython3",
   "version": "3.8.13"
  }
 },
 "nbformat": 4,
 "nbformat_minor": 5
}
