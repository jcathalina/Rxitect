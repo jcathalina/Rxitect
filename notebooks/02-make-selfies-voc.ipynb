{
 "cells": [
  {
   "cell_type": "code",
   "execution_count": 3,
   "id": "4c69cd0f",
   "metadata": {},
   "outputs": [],
   "source": [
    "import pickle\n",
    "from rxitect.features.featurize_selfies import SelfiesEncodings\n",
    "\n",
    "with open(\"../data/processed/selfies_chembl_enc.dat\", \"rb\") as f:\n",
    "    chembl_data = pickle.load(f)\n",
    "    \n",
    "with open(\"../data/processed/selfies_ligand_enc.dat\", \"rb\") as f:\n",
    "    ligand_data = pickle.load(f)\n",
    "    \n",
    "_, chembl_voc, _ = chembl_data\n",
    "_, ligand_voc, _ = ligand_data\n",
    "# set(ligand_voc) - set(chembl_voc) = empty set(), so we can use chembl voc directly."
   ]
  },
  {
   "cell_type": "code",
   "execution_count": 7,
   "id": "035c02ad",
   "metadata": {},
   "outputs": [],
   "source": [
    "with open(\"../data/processed/selfies_voc.txt\", \"w\") as f:\n",
    "    f.write('\\n'.join(chembl_voc))"
   ]
  },
  {
   "cell_type": "code",
   "execution_count": null,
   "id": "a0dc8261",
   "metadata": {},
   "outputs": [],
   "source": []
  }
 ],
 "metadata": {
  "kernelspec": {
   "display_name": "Python 3 (ipykernel)",
   "language": "python",
   "name": "python3"
  },
  "language_info": {
   "codemirror_mode": {
    "name": "ipython",
    "version": 3
   },
   "file_extension": ".py",
   "mimetype": "text/x-python",
   "name": "python",
   "nbconvert_exporter": "python",
   "pygments_lexer": "ipython3",
   "version": "3.7.12"
  }
 },
 "nbformat": 4,
 "nbformat_minor": 5
}
