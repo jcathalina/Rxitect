{
 "cells": [
  {
   "cell_type": "code",
   "execution_count": 1,
   "id": "72619bb1-8fda-4853-8bc5-36bf9796178b",
   "metadata": {},
   "outputs": [
    {
     "name": "stderr",
     "output_type": "stream",
     "text": [
      "/home/julius/miniconda3/envs/rxt-dev/lib/python3.8/site-packages/tqdm/auto.py:22: TqdmWarning: IProgress not found. Please update jupyter and ipywidgets. See https://ipywidgets.readthedocs.io/en/stable/user_install.html\n",
      "  from .autonotebook import tqdm as notebook_tqdm\n"
     ]
    }
   ],
   "source": [
    "import dask.dataframe as dd\n",
    "\n",
    "from rxitect.generator.datamodules.chembl_datamodule import ChemblSmilesDataModule\n",
    "from rxitect.generator.datamodules.components.molecule_dataset import MoleculeDataset\n",
    "from rxitect.structs.vocabulary import SmilesVocabulary"
   ]
  },
  {
   "cell_type": "code",
   "execution_count": 3,
   "id": "2f858848-3eec-4209-b8b9-102439f36ab6",
   "metadata": {},
   "outputs": [],
   "source": [
    "voc = SmilesVocabulary(vocabulary_filepath=\"../data/processed/smiles_voc.txt\")"
   ]
  },
  {
   "cell_type": "code",
   "execution_count": 4,
   "id": "87cfd070-7530-4ca5-b402-62cb8f10a128",
   "metadata": {},
   "outputs": [
    {
     "data": {
      "text/html": [
       "<div>\n",
       "<style scoped>\n",
       "    .dataframe tbody tr th:only-of-type {\n",
       "        vertical-align: middle;\n",
       "    }\n",
       "\n",
       "    .dataframe tbody tr th {\n",
       "        vertical-align: top;\n",
       "    }\n",
       "\n",
       "    .dataframe thead th {\n",
       "        text-align: right;\n",
       "    }\n",
       "</style>\n",
       "<table border=\"1\" class=\"dataframe\">\n",
       "  <thead>\n",
       "    <tr style=\"text-align: right;\">\n",
       "      <th></th>\n",
       "      <th>smiles</th>\n",
       "      <th>token</th>\n",
       "    </tr>\n",
       "  </thead>\n",
       "  <tbody>\n",
       "    <tr>\n",
       "      <th>0</th>\n",
       "      <td>CCOc1ccc2[nH]nc(-c3cc(N4CC(F)C(F)C4)ncn3)c2c1</td>\n",
       "      <td>C C O c 1 c c c 2 [nH] n c ( - c 3 c c ( N 4 C...</td>\n",
       "    </tr>\n",
       "    <tr>\n",
       "      <th>1</th>\n",
       "      <td>N=C(N)Nc1nnn(Cc2cccc(Cn3nnc(C(=N)N)n3)c2)n1</td>\n",
       "      <td>N = C ( N ) N c 1 n n n ( C c 2 c c c c ( C n ...</td>\n",
       "    </tr>\n",
       "    <tr>\n",
       "      <th>2</th>\n",
       "      <td>CCCCNC(=O)c1cnc(S)n1C(CC)c1ccc(F)c(F)c1</td>\n",
       "      <td>C C C C N C ( = O ) c 1 c n c ( S ) n 1 C ( C ...</td>\n",
       "    </tr>\n",
       "    <tr>\n",
       "      <th>3</th>\n",
       "      <td>CC(=O)Oc1ccc(I)cc1C(=O)Nc1ccc(Cl)cc1</td>\n",
       "      <td>C C ( = O ) O c 1 c c c ( I ) c c 1 C ( = O ) ...</td>\n",
       "    </tr>\n",
       "    <tr>\n",
       "      <th>4</th>\n",
       "      <td>COc1ccc(C(=O)N2CCN(Cc3ccc(-c4ccncc4)cc3)CC2)cc1</td>\n",
       "      <td>C O c 1 c c c ( C ( = O ) N 2 C C N ( C c 3 c ...</td>\n",
       "    </tr>\n",
       "    <tr>\n",
       "      <th>...</th>\n",
       "      <td>...</td>\n",
       "      <td>...</td>\n",
       "    </tr>\n",
       "    <tr>\n",
       "      <th>995</th>\n",
       "      <td>CCOC(=O)C=C1CC(C)(CC)CC(=O)N1Cc1ccc(-c2ccccc2-...</td>\n",
       "      <td>C C O C ( = O ) C = C 1 C C ( C ) ( C C ) C C ...</td>\n",
       "    </tr>\n",
       "    <tr>\n",
       "      <th>996</th>\n",
       "      <td>CCCCC(=O)NC(=S)Nc1ccc(Cl)c(C(=O)O)c1</td>\n",
       "      <td>C C C C C ( = O ) N C ( = S ) N c 1 c c c ( L ...</td>\n",
       "    </tr>\n",
       "    <tr>\n",
       "      <th>997</th>\n",
       "      <td>O=C(NCc1ccccc1)NCC(CCCN1CCC(O)(c2ccc(Cl)cc2)CC...</td>\n",
       "      <td>O = C ( N C c 1 c c c c c 1 ) N C C ( C C C N ...</td>\n",
       "    </tr>\n",
       "    <tr>\n",
       "      <th>998</th>\n",
       "      <td>Cc1nc(N)c2ccn(C3OC(CO)C(O)C3O)c2n1</td>\n",
       "      <td>C c 1 n c ( N ) c 2 c c n ( C 3 O C ( C O ) C ...</td>\n",
       "    </tr>\n",
       "    <tr>\n",
       "      <th>999</th>\n",
       "      <td>COc1cc(OC)cc(-c2nc(CN3CCN(c4ccnc5cc(-c6ccncc6)...</td>\n",
       "      <td>C O c 1 c c ( O C ) c c ( - c 2 n c ( C N 3 C ...</td>\n",
       "    </tr>\n",
       "  </tbody>\n",
       "</table>\n",
       "<p>1000 rows × 2 columns</p>\n",
       "</div>"
      ],
      "text/plain": [
       "                                                smiles  \\\n",
       "0        CCOc1ccc2[nH]nc(-c3cc(N4CC(F)C(F)C4)ncn3)c2c1   \n",
       "1          N=C(N)Nc1nnn(Cc2cccc(Cn3nnc(C(=N)N)n3)c2)n1   \n",
       "2              CCCCNC(=O)c1cnc(S)n1C(CC)c1ccc(F)c(F)c1   \n",
       "3                 CC(=O)Oc1ccc(I)cc1C(=O)Nc1ccc(Cl)cc1   \n",
       "4      COc1ccc(C(=O)N2CCN(Cc3ccc(-c4ccncc4)cc3)CC2)cc1   \n",
       "..                                                 ...   \n",
       "995  CCOC(=O)C=C1CC(C)(CC)CC(=O)N1Cc1ccc(-c2ccccc2-...   \n",
       "996               CCCCC(=O)NC(=S)Nc1ccc(Cl)c(C(=O)O)c1   \n",
       "997  O=C(NCc1ccccc1)NCC(CCCN1CCC(O)(c2ccc(Cl)cc2)CC...   \n",
       "998                 Cc1nc(N)c2ccn(C3OC(CO)C(O)C3O)c2n1   \n",
       "999  COc1cc(OC)cc(-c2nc(CN3CCN(c4ccnc5cc(-c6ccncc6)...   \n",
       "\n",
       "                                                 token  \n",
       "0    C C O c 1 c c c 2 [nH] n c ( - c 3 c c ( N 4 C...  \n",
       "1    N = C ( N ) N c 1 n n n ( C c 2 c c c c ( C n ...  \n",
       "2    C C C C N C ( = O ) c 1 c n c ( S ) n 1 C ( C ...  \n",
       "3    C C ( = O ) O c 1 c c c ( I ) c c 1 C ( = O ) ...  \n",
       "4    C O c 1 c c c ( C ( = O ) N 2 C C N ( C c 3 c ...  \n",
       "..                                                 ...  \n",
       "995  C C O C ( = O ) C = C 1 C C ( C ) ( C C ) C C ...  \n",
       "996  C C C C C ( = O ) N C ( = S ) N c 1 c c c ( L ...  \n",
       "997  O = C ( N C c 1 c c c c c 1 ) N C C ( C C C N ...  \n",
       "998  C c 1 n c ( N ) c 2 c c n ( C 3 O C ( C O ) C ...  \n",
       "999  C O c 1 c c ( O C ) c c ( - c 2 n c ( C N 3 C ...  \n",
       "\n",
       "[1000 rows x 2 columns]"
      ]
     },
     "execution_count": 4,
     "metadata": {},
     "output_type": "execute_result"
    }
   ],
   "source": [
    "data = dd.read_table(\"../data/processed/smiles_chembl_corpus.tsv\").head(n=1000)\n",
    "data"
   ]
  },
  {
   "cell_type": "code",
   "execution_count": 10,
   "id": "ed70fff7-8c8e-455c-b0eb-b471ea0fb28a",
   "metadata": {},
   "outputs": [],
   "source": [
    "ds = MoleculeDataset(data=data, vocabulary=voc)"
   ]
  },
  {
   "cell_type": "code",
   "execution_count": 11,
   "id": "049f6ec8-3084-483e-b7ca-0f907beb61c6",
   "metadata": {},
   "outputs": [
    {
     "data": {
      "text/plain": [
       "torch.Size([100])"
      ]
     },
     "execution_count": 11,
     "metadata": {},
     "output_type": "execute_result"
    }
   ],
   "source": [
    "ds[0].reshape(-1).shape"
   ]
  },
  {
   "cell_type": "code",
   "execution_count": 12,
   "id": "e3622bdc-1f86-452e-8244-4ab4ed8c3f67",
   "metadata": {},
   "outputs": [],
   "source": [
    "from torch.utils.data import DataLoader\n",
    "\n",
    "dl = DataLoader(ds, batch_size=128, pin_memory=True)"
   ]
  },
  {
   "cell_type": "code",
   "execution_count": 13,
   "id": "29a99460-b040-426b-806e-b4cd76e401e0",
   "metadata": {},
   "outputs": [
    {
     "data": {
      "text/plain": [
       "tensor([[19, 19, 24,  ...,  0,  0,  0],\n",
       "        [23, 17, 19,  ...,  0,  0,  0],\n",
       "        [19, 19, 19,  ...,  0,  0,  0],\n",
       "        ...,\n",
       "        [19, 19, 24,  ...,  0,  0,  0],\n",
       "        [19, 24, 19,  ...,  0,  0,  0],\n",
       "        [24, 17, 19,  ...,  0,  0,  0]])"
      ]
     },
     "execution_count": 13,
     "metadata": {},
     "output_type": "execute_result"
    }
   ],
   "source": [
    "test_batch = next(iter(dl))\n",
    "test_batch"
   ]
  },
  {
   "cell_type": "code",
   "execution_count": 14,
   "id": "09859b3a-8003-4d8a-b822-48df6f9392d3",
   "metadata": {},
   "outputs": [],
   "source": [
    "reshaped = test_batch.reshape(128, 100)"
   ]
  },
  {
   "cell_type": "code",
   "execution_count": 17,
   "id": "15c9ed58-e004-4ca5-9c2f-ff28565316da",
   "metadata": {},
   "outputs": [
    {
     "ename": "NameError",
     "evalue": "name 'reshaped' is not defined",
     "output_type": "error",
     "traceback": [
      "\u001b[0;31m---------------------------------------------------------------------------\u001b[0m",
      "\u001b[0;31mNameError\u001b[0m                                 Traceback (most recent call last)",
      "Input \u001b[0;32mIn [17]\u001b[0m, in \u001b[0;36m<cell line: 4>\u001b[0;34m()\u001b[0m\n\u001b[1;32m      1\u001b[0m \u001b[38;5;28;01mimport\u001b[39;00m \u001b[38;5;21;01mmatplotlib\u001b[39;00m\u001b[38;5;21;01m.\u001b[39;00m\u001b[38;5;21;01mpyplot\u001b[39;00m \u001b[38;5;28;01mas\u001b[39;00m \u001b[38;5;21;01mplt\u001b[39;00m\n\u001b[0;32m----> 4\u001b[0m plt\u001b[38;5;241m.\u001b[39mmatshow(\u001b[43mreshaped\u001b[49m)\n",
      "\u001b[0;31mNameError\u001b[0m: name 'reshaped' is not defined"
     ]
    }
   ],
   "source": [
    "import matplotlib.pyplot as plt\n",
    "\n",
    "\n",
    "plt.matshow(reshaped)"
   ]
  },
  {
   "cell_type": "code",
   "execution_count": 16,
   "id": "d8a5bb42-64f8-4782-a16f-3dc134772a99",
   "metadata": {},
   "outputs": [
    {
     "data": {
      "image/png": "[encoded data removed]",
      "text/plain": [
       "<Figure size 432x288 with 1 Axes>"
      ]
     },
     "metadata": {
      "needs_background": "light"
     },
     "output_type": "display_data"
    }
   ],
   "source": [
    "from rdkit.Chem import PandasTools, Descriptors\n",
    "\n",
    "PandasTools.AddMoleculeColumnToFrame(data,'smiles','ROMol')\n",
    "data[\"MW\"] = data.ROMol.apply(Descriptors.MolWt)\n",
    "_ = plt.hist(data[\"MW\"])"
   ]
  },
  {
   "cell_type": "code",
   "execution_count": 6,
   "id": "3a922f59-a010-4cd2-81fa-512ef71cf874",
   "metadata": {},
   "outputs": [],
   "source": [
    "mydm = ChemblSmilesDataModule(\"../data/processed/smiles_chembl_corpus.tsv\", \"../data/processed/smiles_voc.txt\", train_val_test_split=(70_000, 10_000, 20_000))"
   ]
  },
  {
   "cell_type": "code",
   "execution_count": 7,
   "id": "54623595-734d-446a-a0ba-36efe106b865",
   "metadata": {},
   "outputs": [],
   "source": [
    "mydm.prepare_data()\n",
    "mydm.setup()"
   ]
  },
  {
   "cell_type": "code",
   "execution_count": 13,
   "id": "9ddb49d9-3a81-472f-bea1-57fdaa993467",
   "metadata": {},
   "outputs": [],
   "source": [
    "vdl = mydm.val_dataloader()"
   ]
  },
  {
   "cell_type": "code",
   "execution_count": 15,
   "id": "52a89ff3-2055-4a30-ae4d-71e5e4a5630d",
   "metadata": {},
   "outputs": [
    {
     "data": {
      "text/plain": [
       "tensor([[23,  2, 19,  ...,  0,  0,  0],\n",
       "        [19, 19, 19,  ...,  0,  0,  0],\n",
       "        [19, 24, 80,  ...,  0,  0,  0],\n",
       "        ...,\n",
       "        [24, 17, 19,  ...,  0,  0,  0],\n",
       "        [19, 81,  8,  ...,  0,  0,  0],\n",
       "        [19, 19,  4,  ...,  0,  0,  0]])"
      ]
     },
     "execution_count": 15,
     "metadata": {},
     "output_type": "execute_result"
    }
   ],
   "source": [
    "val_batch = next(iter(vdl))\n",
    "val_batch"
   ]
  },
  {
   "cell_type": "code",
   "execution_count": 18,
   "id": "c88e265f-c35b-40a4-9d6b-d23cccb4fc17",
   "metadata": {},
   "outputs": [
    {
     "data": {
      "text/plain": [
       "<matplotlib.image.AxesImage at 0x7f3c2119da30>"
      ]
     },
     "execution_count": 18,
     "metadata": {},
     "output_type": "execute_result"
    },
    {
     "data": {
      "image/png": "[encoded data removed]",
      "text/plain": [
       "<Figure size 288x737.28 with 1 Axes>"
      ]
     },
     "metadata": {
      "needs_background": "light"
     },
     "output_type": "display_data"
    }
   ],
   "source": [
    "plt.matshow(val_batch)"
   ]
  },
  {
   "cell_type": "code",
   "execution_count": null,
   "id": "d163768c-3382-4cc6-8170-cf5b3017ad72",
   "metadata": {},
   "outputs": [],
   "source": []
  }
 ],
 "metadata": {
  "kernelspec": {
   "display_name": "Python 3 (ipykernel)",
   "language": "python",
   "name": "python3"
  },
  "language_info": {
   "codemirror_mode": {
    "name": "ipython",
    "version": 3
   },
   "file_extension": ".py",
   "mimetype": "text/x-python",
   "name": "python",
   "nbconvert_exporter": "python",
   "pygments_lexer": "ipython3",
   "version": "3.8.13"
  }
 },
 "nbformat": 4,
 "nbformat_minor": 5
}
