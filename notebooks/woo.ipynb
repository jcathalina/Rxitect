{
 "cells": [
  {
   "cell_type": "code",
   "execution_count": 1,
   "id": "5b88471f-2ae0-46d1-a398-91df830c8477",
   "metadata": {},
   "outputs": [
    {
     "name": "stderr",
     "output_type": "stream",
     "text": [
      "/home/catj/miniforge3/envs/rxt-dev/lib/python3.10/site-packages/xgboost/compat.py:36: FutureWarning: pandas.Int64Index is deprecated and will be removed from pandas in a future version. Use pandas.Index with the appropriate dtype instead.\n",
      "  from pandas import MultiIndex, Int64Index\n"
     ]
    }
   ],
   "source": [
    "import pandas as pd\n",
    "from xgboost import XGBRegressor\n",
    "from sklearn.ensemble import RandomForestRegressor\n",
    "import numpy as np"
   ]
  },
  {
   "cell_type": "code",
   "execution_count": 2,
   "id": "5c1db5da-67bf-4d84-a322-ef40fe1dab49",
   "metadata": {},
   "outputs": [],
   "source": [
    "df = pd.read_parquet(\"../data/processed/CHEMBL240_dataset.pq\")"
   ]
  },
  {
   "cell_type": "code",
   "execution_count": 3,
   "id": "964a8f96-3c16-4337-9712-0152224710ad",
   "metadata": {},
   "outputs": [
    {
     "data": {
      "text/html": [
       "<div>\n",
       "<style scoped>\n",
       "    .dataframe tbody tr th:only-of-type {\n",
       "        vertical-align: middle;\n",
       "    }\n",
       "\n",
       "    .dataframe tbody tr th {\n",
       "        vertical-align: top;\n",
       "    }\n",
       "\n",
       "    .dataframe thead th {\n",
       "        text-align: right;\n",
       "    }\n",
       "</style>\n",
       "<table border=\"1\" class=\"dataframe\">\n",
       "  <thead>\n",
       "    <tr style=\"text-align: right;\">\n",
       "      <th></th>\n",
       "      <th>smiles</th>\n",
       "      <th>standard type</th>\n",
       "      <th>standard relation</th>\n",
       "      <th>pchembl value</th>\n",
       "      <th>comment</th>\n",
       "      <th>target chembl id</th>\n",
       "      <th>document year</th>\n",
       "    </tr>\n",
       "    <tr>\n",
       "      <th>index</th>\n",
       "      <th></th>\n",
       "      <th></th>\n",
       "      <th></th>\n",
       "      <th></th>\n",
       "      <th></th>\n",
       "      <th></th>\n",
       "      <th></th>\n",
       "    </tr>\n",
       "  </thead>\n",
       "  <tbody>\n",
       "    <tr>\n",
       "      <th>0</th>\n",
       "      <td>Cc1nc2cc(-n3ncc(C(=O)c4cc5ccc(S(C)(=O)=O)cc5[n...</td>\n",
       "      <td>IC50</td>\n",
       "      <td>'&gt;'</td>\n",
       "      <td>NaN</td>\n",
       "      <td>None</td>\n",
       "      <td>CHEMBL240</td>\n",
       "      <td>2016.0</td>\n",
       "    </tr>\n",
       "    <tr>\n",
       "      <th>1</th>\n",
       "      <td>Cc1ncc(OC[C@@]2(c3ccc(F)c(F)c3)C[C@H]2C(=O)Nc2...</td>\n",
       "      <td>IC50</td>\n",
       "      <td>'='</td>\n",
       "      <td>5.66</td>\n",
       "      <td>None</td>\n",
       "      <td>CHEMBL240</td>\n",
       "      <td>2015.0</td>\n",
       "    </tr>\n",
       "    <tr>\n",
       "      <th>2</th>\n",
       "      <td>O=S(=O)(NCCCCN1CCN(c2nsc3ccccc23)CC1)c1ccc2cc(...</td>\n",
       "      <td>Inhibition</td>\n",
       "      <td>'='</td>\n",
       "      <td>NaN</td>\n",
       "      <td>None</td>\n",
       "      <td>CHEMBL240</td>\n",
       "      <td>2014.0</td>\n",
       "    </tr>\n",
       "    <tr>\n",
       "      <th>3</th>\n",
       "      <td>O=S(=O)(NCCCCN1CCN(c2noc3ccccc23)CC1)c1ccc(OC(...</td>\n",
       "      <td>Inhibition</td>\n",
       "      <td>'='</td>\n",
       "      <td>NaN</td>\n",
       "      <td>None</td>\n",
       "      <td>CHEMBL240</td>\n",
       "      <td>2014.0</td>\n",
       "    </tr>\n",
       "    <tr>\n",
       "      <th>4</th>\n",
       "      <td>O=S(=O)(NCCCN1CCN(c2noc3ccccc23)CC1)c1cccs1</td>\n",
       "      <td>Inhibition</td>\n",
       "      <td>'='</td>\n",
       "      <td>NaN</td>\n",
       "      <td>None</td>\n",
       "      <td>CHEMBL240</td>\n",
       "      <td>2014.0</td>\n",
       "    </tr>\n",
       "    <tr>\n",
       "      <th>...</th>\n",
       "      <td>...</td>\n",
       "      <td>...</td>\n",
       "      <td>...</td>\n",
       "      <td>...</td>\n",
       "      <td>...</td>\n",
       "      <td>...</td>\n",
       "      <td>...</td>\n",
       "    </tr>\n",
       "    <tr>\n",
       "      <th>25223</th>\n",
       "      <td>NCCCCN(C[C@H]1Cc2ccccc2CN1)[C@H]1CCCc2cccnc21</td>\n",
       "      <td>IC50</td>\n",
       "      <td>'='</td>\n",
       "      <td>5.05</td>\n",
       "      <td>None</td>\n",
       "      <td>CHEMBL240</td>\n",
       "      <td>2018.0</td>\n",
       "    </tr>\n",
       "    <tr>\n",
       "      <th>25224</th>\n",
       "      <td>CN(C[C@H]1Cc2c(cccc2N2CCNCC2)CN1)[C@H]1CCCc2cc...</td>\n",
       "      <td>IC50</td>\n",
       "      <td>'='</td>\n",
       "      <td>4.69</td>\n",
       "      <td>None</td>\n",
       "      <td>CHEMBL240</td>\n",
       "      <td>2018.0</td>\n",
       "    </tr>\n",
       "    <tr>\n",
       "      <th>25225</th>\n",
       "      <td>N#Cc1cccc2c1C=Cc1ncc(-c3ccccc3)cc1C2O</td>\n",
       "      <td>IP</td>\n",
       "      <td>'='</td>\n",
       "      <td>NaN</td>\n",
       "      <td>None</td>\n",
       "      <td>CHEMBL240</td>\n",
       "      <td>2009.0</td>\n",
       "    </tr>\n",
       "    <tr>\n",
       "      <th>25226</th>\n",
       "      <td>O=C(O)Cc1ccccc1Nc1c(Cl)cccc1Cl</td>\n",
       "      <td>Ki</td>\n",
       "      <td>None</td>\n",
       "      <td>3.99</td>\n",
       "      <td>Not Active (inhibition &lt; 50% @ 10 uM and thus ...</td>\n",
       "      <td>CHEMBL240</td>\n",
       "      <td>NaN</td>\n",
       "    </tr>\n",
       "    <tr>\n",
       "      <th>25227</th>\n",
       "      <td>O=C(CCCCN1CCC(c2noc3cc(F)ccc23)CC1)c1cc2c3c(c1...</td>\n",
       "      <td>IC50</td>\n",
       "      <td>'='</td>\n",
       "      <td>5.54</td>\n",
       "      <td>None</td>\n",
       "      <td>CHEMBL240</td>\n",
       "      <td>2018.0</td>\n",
       "    </tr>\n",
       "  </tbody>\n",
       "</table>\n",
       "<p>25228 rows × 7 columns</p>\n",
       "</div>"
      ],
      "text/plain": [
       "                                                  smiles standard type  \\\n",
       "index                                                                    \n",
       "0      Cc1nc2cc(-n3ncc(C(=O)c4cc5ccc(S(C)(=O)=O)cc5[n...          IC50   \n",
       "1      Cc1ncc(OC[C@@]2(c3ccc(F)c(F)c3)C[C@H]2C(=O)Nc2...          IC50   \n",
       "2      O=S(=O)(NCCCCN1CCN(c2nsc3ccccc23)CC1)c1ccc2cc(...    Inhibition   \n",
       "3      O=S(=O)(NCCCCN1CCN(c2noc3ccccc23)CC1)c1ccc(OC(...    Inhibition   \n",
       "4            O=S(=O)(NCCCN1CCN(c2noc3ccccc23)CC1)c1cccs1    Inhibition   \n",
       "...                                                  ...           ...   \n",
       "25223      NCCCCN(C[C@H]1Cc2ccccc2CN1)[C@H]1CCCc2cccnc21          IC50   \n",
       "25224  CN(C[C@H]1Cc2c(cccc2N2CCNCC2)CN1)[C@H]1CCCc2cc...          IC50   \n",
       "25225              N#Cc1cccc2c1C=Cc1ncc(-c3ccccc3)cc1C2O            IP   \n",
       "25226                     O=C(O)Cc1ccccc1Nc1c(Cl)cccc1Cl            Ki   \n",
       "25227  O=C(CCCCN1CCC(c2noc3cc(F)ccc23)CC1)c1cc2c3c(c1...          IC50   \n",
       "\n",
       "      standard relation  pchembl value  \\\n",
       "index                                    \n",
       "0                   '>'            NaN   \n",
       "1                   '='           5.66   \n",
       "2                   '='            NaN   \n",
       "3                   '='            NaN   \n",
       "4                   '='            NaN   \n",
       "...                 ...            ...   \n",
       "25223               '='           5.05   \n",
       "25224               '='           4.69   \n",
       "25225               '='            NaN   \n",
       "25226              None           3.99   \n",
       "25227               '='           5.54   \n",
       "\n",
       "                                                 comment target chembl id  \\\n",
       "index                                                                       \n",
       "0                                                   None        CHEMBL240   \n",
       "1                                                   None        CHEMBL240   \n",
       "2                                                   None        CHEMBL240   \n",
       "3                                                   None        CHEMBL240   \n",
       "4                                                   None        CHEMBL240   \n",
       "...                                                  ...              ...   \n",
       "25223                                               None        CHEMBL240   \n",
       "25224                                               None        CHEMBL240   \n",
       "25225                                               None        CHEMBL240   \n",
       "25226  Not Active (inhibition < 50% @ 10 uM and thus ...        CHEMBL240   \n",
       "25227                                               None        CHEMBL240   \n",
       "\n",
       "       document year  \n",
       "index                 \n",
       "0             2016.0  \n",
       "1             2015.0  \n",
       "2             2014.0  \n",
       "3             2014.0  \n",
       "4             2014.0  \n",
       "...              ...  \n",
       "25223         2018.0  \n",
       "25224         2018.0  \n",
       "25225         2009.0  \n",
       "25226            NaN  \n",
       "25227         2018.0  \n",
       "\n",
       "[25228 rows x 7 columns]"
      ]
     },
     "execution_count": 3,
     "metadata": {},
     "output_type": "execute_result"
    }
   ],
   "source": [
    "df"
   ]
  },
  {
   "cell_type": "code",
   "execution_count": 4,
   "id": "81071a8b-efdb-4c02-9484-4095f6fdabd2",
   "metadata": {},
   "outputs": [
    {
     "data": {
      "text/plain": [
       "11292"
      ]
     },
     "execution_count": 4,
     "metadata": {},
     "output_type": "execute_result"
    }
   ],
   "source": [
    "df[\"pchembl value\"].isna().sum()"
   ]
  },
  {
   "cell_type": "code",
   "execution_count": 5,
   "id": "965f7a74-846b-4424-b4aa-e92d4370dcc0",
   "metadata": {},
   "outputs": [
    {
     "data": {
      "text/plain": [
       "smiles\n",
       "Br.CCn1c(O)c(N=NC2=NC(=O)CS2)c2ccccc21               5.32\n",
       "Br.CN1[C@H]2CC[C@@H]1C[C@H](OC(=O)C(O)c1ccccc1)C2    3.99\n",
       "Brc1c(NC2=NCCN2)ccc2nccnc12                          3.99\n",
       "Brc1ccc(Nc2ccc(CN3CCC4(CC3)OCCc3sccc34)cc2)cc1       5.37\n",
       "Brc1ccc2c(NC3=NC[C@@]4(CN5CCC4CC5)O3)ncnn12          5.60\n",
       "                                                     ... \n",
       "c1coc(-c2ccc(OCCCN3CCCCC3)cc2)c1                     7.05\n",
       "c1csc(-c2ccc(OCCCN3CCCCC3)cc2)c1                     7.85\n",
       "c1ncc(-c2cc3sc(N4CCC(N5CCCCC5)CC4)nc3cn2)cn1         5.19\n",
       "c1ncc(-c2ccc(OCCCN3CCCCC3)cc2)o1                     5.92\n",
       "c1ncc(-c2cnc3nc(N4CCC(N5CCCCC5)CC4)sc3c2)cn1         4.63\n",
       "Name: pchembl value, Length: 9850, dtype: float64"
      ]
     },
     "execution_count": 5,
     "metadata": {},
     "output_type": "execute_result"
    }
   ],
   "source": [
    "# df[df[\"pchembl value\"].isna()]\n",
    "# df[\"smiles\"].__len__()\n",
    "dummy_pchembl_value = 3.99\n",
    "df = df.set_index(\"smiles\")\n",
    "numery = df[\"pchembl value\"].groupby(\"smiles\").mean().dropna()\n",
    "comments = df[(df[\"comment\"].str.contains(\"Not Active\") == True)]\n",
    "inhibits = df[(df[\"standard type\"] == \"Inhibition\") & df[\"standard relation\"].isin([\"<\", \"<=\"])]\n",
    "relations = df[\n",
    "    df[\"standard type\"].isin([\"EC50\", \"IC50\", \"Kd\", \"Ki\"])\n",
    "    & df[\"standard relation\"].isin([\">\", \">=\"])\n",
    "]\n",
    "binary = pd.concat([comments, inhibits, relations], axis=0)\n",
    "binary = binary[~binary.index.isin(numery.index)]\n",
    "binary[\"pchembl value\"] = dummy_pchembl_value\n",
    "binary = binary[\"pchembl value\"].groupby(binary.index).first()\n",
    "new_values = pd.concat([numery, binary])\n",
    "new_values"
   ]
  },
  {
   "cell_type": "code",
   "execution_count": 6,
   "id": "89b603f3-49e4-4e6e-be4c-7e7cf78fc8d5",
   "metadata": {},
   "outputs": [],
   "source": [
    "ts_set = df[df[\"document year\"] > 2015]#.dropna(subset=[\"pchembl value\"])"
   ]
  },
  {
   "cell_type": "code",
   "execution_count": 10,
   "id": "d2037a63-5cec-4859-94a5-1e553b5ea064",
   "metadata": {},
   "outputs": [
    {
     "ename": "NameError",
     "evalue": "name 'train_set' is not defined",
     "output_type": "error",
     "traceback": [
      "\u001b[0;31m---------------------------------------------------------------------------\u001b[0m",
      "\u001b[0;31mNameError\u001b[0m                                 Traceback (most recent call last)",
      "Input \u001b[0;32mIn [10]\u001b[0m, in \u001b[0;36m<cell line: 1>\u001b[0;34m()\u001b[0m\n\u001b[0;32m----> 1\u001b[0m \u001b[43mtrain_set\u001b[49m[\u001b[38;5;124m\"\u001b[39m\u001b[38;5;124mpchembl value\u001b[39m\u001b[38;5;124m\"\u001b[39m]\u001b[38;5;241m.\u001b[39misna()\u001b[38;5;241m.\u001b[39msum()\n",
      "\u001b[0;31mNameError\u001b[0m: name 'train_set' is not defined"
     ]
    }
   ],
   "source": [
    "train_set[\"pchembl value\"].isna().sum()"
   ]
  },
  {
   "cell_type": "code",
   "execution_count": 9,
   "id": "1706730c-7028-4031-8f32-df55ad46547a",
   "metadata": {},
   "outputs": [],
   "source": [
    "import seaborn as sns"
   ]
  },
  {
   "cell_type": "code",
   "execution_count": 8,
   "id": "fe7deb3f-1fa2-43e8-bcf7-fe7f491de7db",
   "metadata": {},
   "outputs": [
    {
     "ename": "NameError",
     "evalue": "name 'sns' is not defined",
     "output_type": "error",
     "traceback": [
      "\u001b[0;31m---------------------------------------------------------------------------\u001b[0m",
      "\u001b[0;31mNameError\u001b[0m                                 Traceback (most recent call last)",
      "Input \u001b[0;32mIn [8]\u001b[0m, in \u001b[0;36m<cell line: 1>\u001b[0;34m()\u001b[0m\n\u001b[0;32m----> 1\u001b[0m \u001b[43msns\u001b[49m\u001b[38;5;241m.\u001b[39mhistplot(ts_set[\u001b[38;5;124m\"\u001b[39m\u001b[38;5;124mpchembl value\u001b[39m\u001b[38;5;124m\"\u001b[39m])\n",
      "\u001b[0;31mNameError\u001b[0m: name 'sns' is not defined"
     ]
    }
   ],
   "source": [
    "sns.histplot(ts_set[\"pchembl value\"])"
   ]
  },
  {
   "cell_type": "code",
   "execution_count": 18,
   "id": "19c41a47-465a-43e2-a019-2504641f0200",
   "metadata": {},
   "outputs": [],
   "source": [
    "train_set = df[df[\"document year\"] <= 2015].dropna(subset=[\"pchembl value\"])"
   ]
  },
  {
   "cell_type": "code",
   "execution_count": 20,
   "id": "dda9ca92-e2bc-4825-86b6-b8de97967c87",
   "metadata": {},
   "outputs": [
    {
     "data": {
      "text/plain": [
       "<AxesSubplot:xlabel='pchembl value', ylabel='Count'>"
      ]
     },
     "execution_count": 20,
     "metadata": {},
     "output_type": "execute_result"
    },
    {
     "data": {
      "image/png": "[encoded data removed]",
      "text/plain": [
       "<Figure size 432x288 with 1 Axes>"
      ]
     },
     "metadata": {
      "needs_background": "light"
     },
     "output_type": "display_data"
    }
   ],
   "source": [
    "sns.histplot(train_set[\"pchembl value\"])"
   ]
  },
  {
   "cell_type": "code",
   "execution_count": 11,
   "id": "e2868825-0c38-407d-bbf9-a68f8de2e8e8",
   "metadata": {},
   "outputs": [],
   "source": [
    "from rxitect.chem.utils import calc_fp"
   ]
  },
  {
   "cell_type": "code",
   "execution_count": 12,
   "id": "a344f160-ef07-49cf-9469-165e3321dffa",
   "metadata": {},
   "outputs": [
    {
     "ename": "NameError",
     "evalue": "name 'train_set' is not defined",
     "output_type": "error",
     "traceback": [
      "\u001b[0;31m---------------------------------------------------------------------------\u001b[0m",
      "\u001b[0;31mNameError\u001b[0m                                 Traceback (most recent call last)",
      "Input \u001b[0;32mIn [12]\u001b[0m, in \u001b[0;36m<cell line: 1>\u001b[0;34m()\u001b[0m\n\u001b[0;32m----> 1\u001b[0m X_train, y_train \u001b[38;5;241m=\u001b[39m calc_fp(\u001b[43mtrain_set\u001b[49m[\u001b[38;5;124m\"\u001b[39m\u001b[38;5;124msmiles\u001b[39m\u001b[38;5;124m\"\u001b[39m], accept_smiles\u001b[38;5;241m=\u001b[39m\u001b[38;5;28;01mTrue\u001b[39;00m), train_set[\u001b[38;5;124m\"\u001b[39m\u001b[38;5;124mpchembl value\u001b[39m\u001b[38;5;124m\"\u001b[39m]\n",
      "\u001b[0;31mNameError\u001b[0m: name 'train_set' is not defined"
     ]
    }
   ],
   "source": [
    "X_train, y_train = calc_fp(train_set[\"smiles\"], accept_smiles=True), train_set[\"pchembl value\"]"
   ]
  },
  {
   "cell_type": "code",
   "execution_count": 13,
   "id": "3dee96e0-19ea-4d23-a069-1ad24406786c",
   "metadata": {},
   "outputs": [],
   "source": [
    "rf = RandomForestRegressor(n_jobs=-1, max_features=0.33)"
   ]
  },
  {
   "cell_type": "code",
   "execution_count": 14,
   "id": "d529bc73-6bbb-44ce-a672-4d7415d5186d",
   "metadata": {},
   "outputs": [
    {
     "ename": "NameError",
     "evalue": "name 'X_train' is not defined",
     "output_type": "error",
     "traceback": [
      "\u001b[0;31m---------------------------------------------------------------------------\u001b[0m",
      "\u001b[0;31mNameError\u001b[0m                                 Traceback (most recent call last)",
      "Input \u001b[0;32mIn [14]\u001b[0m, in \u001b[0;36m<cell line: 1>\u001b[0;34m()\u001b[0m\n\u001b[0;32m----> 1\u001b[0m rf\u001b[38;5;241m.\u001b[39mfit(\u001b[43mX_train\u001b[49m, y_train, sample_weight\u001b[38;5;241m=\u001b[39m[\u001b[38;5;241m1\u001b[39m \u001b[38;5;28;01mif\u001b[39;00m v\u001b[38;5;241m>\u001b[39m\u001b[38;5;241m=\u001b[39m\u001b[38;5;241m4.0\u001b[39m \u001b[38;5;28;01melse\u001b[39;00m \u001b[38;5;241m0.1\u001b[39m \u001b[38;5;28;01mfor\u001b[39;00m v \u001b[38;5;129;01min\u001b[39;00m y_train])\n",
      "\u001b[0;31mNameError\u001b[0m: name 'X_train' is not defined"
     ]
    }
   ],
   "source": [
    "rf.fit(X_train, y_train, sample_weight=[1 if v>=4.0 else 0.1 for v in y_train])"
   ]
  },
  {
   "cell_type": "code",
   "execution_count": 15,
   "id": "7b26f9d5-90db-4063-80ba-b445c3fe3b55",
   "metadata": {},
   "outputs": [
    {
     "ename": "KeyError",
     "evalue": "'smiles'",
     "output_type": "error",
     "traceback": [
      "\u001b[0;31m---------------------------------------------------------------------------\u001b[0m",
      "\u001b[0;31mKeyError\u001b[0m                                  Traceback (most recent call last)",
      "File \u001b[0;32m~/miniforge3/envs/rxt-dev/lib/python3.10/site-packages/pandas/core/indexes/base.py:3621\u001b[0m, in \u001b[0;36mIndex.get_loc\u001b[0;34m(self, key, method, tolerance)\u001b[0m\n\u001b[1;32m   3620\u001b[0m \u001b[38;5;28;01mtry\u001b[39;00m:\n\u001b[0;32m-> 3621\u001b[0m     \u001b[38;5;28;01mreturn\u001b[39;00m \u001b[38;5;28;43mself\u001b[39;49m\u001b[38;5;241;43m.\u001b[39;49m\u001b[43m_engine\u001b[49m\u001b[38;5;241;43m.\u001b[39;49m\u001b[43mget_loc\u001b[49m\u001b[43m(\u001b[49m\u001b[43mcasted_key\u001b[49m\u001b[43m)\u001b[49m\n\u001b[1;32m   3622\u001b[0m \u001b[38;5;28;01mexcept\u001b[39;00m \u001b[38;5;167;01mKeyError\u001b[39;00m \u001b[38;5;28;01mas\u001b[39;00m err:\n",
      "File \u001b[0;32m~/miniforge3/envs/rxt-dev/lib/python3.10/site-packages/pandas/_libs/index.pyx:136\u001b[0m, in \u001b[0;36mpandas._libs.index.IndexEngine.get_loc\u001b[0;34m()\u001b[0m\n",
      "File \u001b[0;32m~/miniforge3/envs/rxt-dev/lib/python3.10/site-packages/pandas/_libs/index.pyx:163\u001b[0m, in \u001b[0;36mpandas._libs.index.IndexEngine.get_loc\u001b[0;34m()\u001b[0m\n",
      "File \u001b[0;32mpandas/_libs/hashtable_class_helper.pxi:5198\u001b[0m, in \u001b[0;36mpandas._libs.hashtable.PyObjectHashTable.get_item\u001b[0;34m()\u001b[0m\n",
      "File \u001b[0;32mpandas/_libs/hashtable_class_helper.pxi:5206\u001b[0m, in \u001b[0;36mpandas._libs.hashtable.PyObjectHashTable.get_item\u001b[0;34m()\u001b[0m\n",
      "\u001b[0;31mKeyError\u001b[0m: 'smiles'",
      "\nThe above exception was the direct cause of the following exception:\n",
      "\u001b[0;31mKeyError\u001b[0m                                  Traceback (most recent call last)",
      "Input \u001b[0;32mIn [15]\u001b[0m, in \u001b[0;36m<cell line: 1>\u001b[0;34m()\u001b[0m\n\u001b[0;32m----> 1\u001b[0m X_test, y_test \u001b[38;5;241m=\u001b[39m calc_fp(\u001b[43mts_set\u001b[49m\u001b[43m[\u001b[49m\u001b[38;5;124;43m\"\u001b[39;49m\u001b[38;5;124;43msmiles\u001b[39;49m\u001b[38;5;124;43m\"\u001b[39;49m\u001b[43m]\u001b[49m, accept_smiles\u001b[38;5;241m=\u001b[39m\u001b[38;5;28;01mTrue\u001b[39;00m), ts_set[\u001b[38;5;124m\"\u001b[39m\u001b[38;5;124mpchembl value\u001b[39m\u001b[38;5;124m\"\u001b[39m]\n",
      "File \u001b[0;32m~/miniforge3/envs/rxt-dev/lib/python3.10/site-packages/pandas/core/frame.py:3505\u001b[0m, in \u001b[0;36mDataFrame.__getitem__\u001b[0;34m(self, key)\u001b[0m\n\u001b[1;32m   3503\u001b[0m \u001b[38;5;28;01mif\u001b[39;00m \u001b[38;5;28mself\u001b[39m\u001b[38;5;241m.\u001b[39mcolumns\u001b[38;5;241m.\u001b[39mnlevels \u001b[38;5;241m>\u001b[39m \u001b[38;5;241m1\u001b[39m:\n\u001b[1;32m   3504\u001b[0m     \u001b[38;5;28;01mreturn\u001b[39;00m \u001b[38;5;28mself\u001b[39m\u001b[38;5;241m.\u001b[39m_getitem_multilevel(key)\n\u001b[0;32m-> 3505\u001b[0m indexer \u001b[38;5;241m=\u001b[39m \u001b[38;5;28;43mself\u001b[39;49m\u001b[38;5;241;43m.\u001b[39;49m\u001b[43mcolumns\u001b[49m\u001b[38;5;241;43m.\u001b[39;49m\u001b[43mget_loc\u001b[49m\u001b[43m(\u001b[49m\u001b[43mkey\u001b[49m\u001b[43m)\u001b[49m\n\u001b[1;32m   3506\u001b[0m \u001b[38;5;28;01mif\u001b[39;00m is_integer(indexer):\n\u001b[1;32m   3507\u001b[0m     indexer \u001b[38;5;241m=\u001b[39m [indexer]\n",
      "File \u001b[0;32m~/miniforge3/envs/rxt-dev/lib/python3.10/site-packages/pandas/core/indexes/base.py:3623\u001b[0m, in \u001b[0;36mIndex.get_loc\u001b[0;34m(self, key, method, tolerance)\u001b[0m\n\u001b[1;32m   3621\u001b[0m     \u001b[38;5;28;01mreturn\u001b[39;00m \u001b[38;5;28mself\u001b[39m\u001b[38;5;241m.\u001b[39m_engine\u001b[38;5;241m.\u001b[39mget_loc(casted_key)\n\u001b[1;32m   3622\u001b[0m \u001b[38;5;28;01mexcept\u001b[39;00m \u001b[38;5;167;01mKeyError\u001b[39;00m \u001b[38;5;28;01mas\u001b[39;00m err:\n\u001b[0;32m-> 3623\u001b[0m     \u001b[38;5;28;01mraise\u001b[39;00m \u001b[38;5;167;01mKeyError\u001b[39;00m(key) \u001b[38;5;28;01mfrom\u001b[39;00m \u001b[38;5;21;01merr\u001b[39;00m\n\u001b[1;32m   3624\u001b[0m \u001b[38;5;28;01mexcept\u001b[39;00m \u001b[38;5;167;01mTypeError\u001b[39;00m:\n\u001b[1;32m   3625\u001b[0m     \u001b[38;5;66;03m# If we have a listlike key, _check_indexing_error will raise\u001b[39;00m\n\u001b[1;32m   3626\u001b[0m     \u001b[38;5;66;03m#  InvalidIndexError. Otherwise we fall through and re-raise\u001b[39;00m\n\u001b[1;32m   3627\u001b[0m     \u001b[38;5;66;03m#  the TypeError.\u001b[39;00m\n\u001b[1;32m   3628\u001b[0m     \u001b[38;5;28mself\u001b[39m\u001b[38;5;241m.\u001b[39m_check_indexing_error(key)\n",
      "\u001b[0;31mKeyError\u001b[0m: 'smiles'"
     ]
    }
   ],
   "source": [
    "X_test, y_test = calc_fp(ts_set[\"smiles\"], accept_smiles=True), ts_set[\"pchembl value\"]"
   ]
  },
  {
   "cell_type": "code",
   "execution_count": null,
   "id": "fa2f71d5-0549-45a9-a0fd-b349987087f6",
   "metadata": {},
   "outputs": [],
   "source": [
    "y_test.min()"
   ]
  },
  {
   "cell_type": "code",
   "execution_count": null,
   "id": "f6c0a23e-e72b-4cdc-9591-d147816ee2ed",
   "metadata": {},
   "outputs": [],
   "source": [
    "preds = rf.predict(X_test)"
   ]
  },
  {
   "cell_type": "code",
   "execution_count": 16,
   "id": "c40a7b1b-e949-4b67-8b63-1a99662d2307",
   "metadata": {},
   "outputs": [
    {
     "ename": "NameError",
     "evalue": "name 'y_test' is not defined",
     "output_type": "error",
     "traceback": [
      "\u001b[0;31m---------------------------------------------------------------------------\u001b[0m",
      "\u001b[0;31mNameError\u001b[0m                                 Traceback (most recent call last)",
      "Input \u001b[0;32mIn [16]\u001b[0m, in \u001b[0;36m<cell line: 1>\u001b[0;34m()\u001b[0m\n\u001b[0;32m----> 1\u001b[0m sns\u001b[38;5;241m.\u001b[39mscatterplot(x\u001b[38;5;241m=\u001b[39m\u001b[43my_test\u001b[49m, y\u001b[38;5;241m=\u001b[39mpreds)\n",
      "\u001b[0;31mNameError\u001b[0m: name 'y_test' is not defined"
     ]
    }
   ],
   "source": [
    "sns.scatterplot(x=y_test, y=preds)"
   ]
  },
  {
   "cell_type": "code",
   "execution_count": 17,
   "id": "c8610700-ab2b-47c4-8210-e6d796fb7899",
   "metadata": {},
   "outputs": [
    {
     "ename": "KeyError",
     "evalue": "'smiles'",
     "output_type": "error",
     "traceback": [
      "\u001b[0;31m---------------------------------------------------------------------------\u001b[0m",
      "\u001b[0;31mKeyError\u001b[0m                                  Traceback (most recent call last)",
      "File \u001b[0;32m~/miniforge3/envs/rxt-dev/lib/python3.10/site-packages/pandas/core/indexes/base.py:3621\u001b[0m, in \u001b[0;36mIndex.get_loc\u001b[0;34m(self, key, method, tolerance)\u001b[0m\n\u001b[1;32m   3620\u001b[0m \u001b[38;5;28;01mtry\u001b[39;00m:\n\u001b[0;32m-> 3621\u001b[0m     \u001b[38;5;28;01mreturn\u001b[39;00m \u001b[38;5;28;43mself\u001b[39;49m\u001b[38;5;241;43m.\u001b[39;49m\u001b[43m_engine\u001b[49m\u001b[38;5;241;43m.\u001b[39;49m\u001b[43mget_loc\u001b[49m\u001b[43m(\u001b[49m\u001b[43mcasted_key\u001b[49m\u001b[43m)\u001b[49m\n\u001b[1;32m   3622\u001b[0m \u001b[38;5;28;01mexcept\u001b[39;00m \u001b[38;5;167;01mKeyError\u001b[39;00m \u001b[38;5;28;01mas\u001b[39;00m err:\n",
      "File \u001b[0;32m~/miniforge3/envs/rxt-dev/lib/python3.10/site-packages/pandas/_libs/index.pyx:136\u001b[0m, in \u001b[0;36mpandas._libs.index.IndexEngine.get_loc\u001b[0;34m()\u001b[0m\n",
      "File \u001b[0;32m~/miniforge3/envs/rxt-dev/lib/python3.10/site-packages/pandas/_libs/index.pyx:163\u001b[0m, in \u001b[0;36mpandas._libs.index.IndexEngine.get_loc\u001b[0;34m()\u001b[0m\n",
      "File \u001b[0;32mpandas/_libs/hashtable_class_helper.pxi:5198\u001b[0m, in \u001b[0;36mpandas._libs.hashtable.PyObjectHashTable.get_item\u001b[0;34m()\u001b[0m\n",
      "File \u001b[0;32mpandas/_libs/hashtable_class_helper.pxi:5206\u001b[0m, in \u001b[0;36mpandas._libs.hashtable.PyObjectHashTable.get_item\u001b[0;34m()\u001b[0m\n",
      "\u001b[0;31mKeyError\u001b[0m: 'smiles'",
      "\nThe above exception was the direct cause of the following exception:\n",
      "\u001b[0;31mKeyError\u001b[0m                                  Traceback (most recent call last)",
      "Input \u001b[0;32mIn [17]\u001b[0m, in \u001b[0;36m<cell line: 1>\u001b[0;34m()\u001b[0m\n\u001b[0;32m----> 1\u001b[0m \u001b[43mdf\u001b[49m\u001b[43m[\u001b[49m\u001b[38;5;124;43m'\u001b[39;49m\u001b[38;5;124;43msmiles\u001b[39;49m\u001b[38;5;124;43m'\u001b[39;49m\u001b[43m]\u001b[49m\n",
      "File \u001b[0;32m~/miniforge3/envs/rxt-dev/lib/python3.10/site-packages/pandas/core/frame.py:3505\u001b[0m, in \u001b[0;36mDataFrame.__getitem__\u001b[0;34m(self, key)\u001b[0m\n\u001b[1;32m   3503\u001b[0m \u001b[38;5;28;01mif\u001b[39;00m \u001b[38;5;28mself\u001b[39m\u001b[38;5;241m.\u001b[39mcolumns\u001b[38;5;241m.\u001b[39mnlevels \u001b[38;5;241m>\u001b[39m \u001b[38;5;241m1\u001b[39m:\n\u001b[1;32m   3504\u001b[0m     \u001b[38;5;28;01mreturn\u001b[39;00m \u001b[38;5;28mself\u001b[39m\u001b[38;5;241m.\u001b[39m_getitem_multilevel(key)\n\u001b[0;32m-> 3505\u001b[0m indexer \u001b[38;5;241m=\u001b[39m \u001b[38;5;28;43mself\u001b[39;49m\u001b[38;5;241;43m.\u001b[39;49m\u001b[43mcolumns\u001b[49m\u001b[38;5;241;43m.\u001b[39;49m\u001b[43mget_loc\u001b[49m\u001b[43m(\u001b[49m\u001b[43mkey\u001b[49m\u001b[43m)\u001b[49m\n\u001b[1;32m   3506\u001b[0m \u001b[38;5;28;01mif\u001b[39;00m is_integer(indexer):\n\u001b[1;32m   3507\u001b[0m     indexer \u001b[38;5;241m=\u001b[39m [indexer]\n",
      "File \u001b[0;32m~/miniforge3/envs/rxt-dev/lib/python3.10/site-packages/pandas/core/indexes/base.py:3623\u001b[0m, in \u001b[0;36mIndex.get_loc\u001b[0;34m(self, key, method, tolerance)\u001b[0m\n\u001b[1;32m   3621\u001b[0m     \u001b[38;5;28;01mreturn\u001b[39;00m \u001b[38;5;28mself\u001b[39m\u001b[38;5;241m.\u001b[39m_engine\u001b[38;5;241m.\u001b[39mget_loc(casted_key)\n\u001b[1;32m   3622\u001b[0m \u001b[38;5;28;01mexcept\u001b[39;00m \u001b[38;5;167;01mKeyError\u001b[39;00m \u001b[38;5;28;01mas\u001b[39;00m err:\n\u001b[0;32m-> 3623\u001b[0m     \u001b[38;5;28;01mraise\u001b[39;00m \u001b[38;5;167;01mKeyError\u001b[39;00m(key) \u001b[38;5;28;01mfrom\u001b[39;00m \u001b[38;5;21;01merr\u001b[39;00m\n\u001b[1;32m   3624\u001b[0m \u001b[38;5;28;01mexcept\u001b[39;00m \u001b[38;5;167;01mTypeError\u001b[39;00m:\n\u001b[1;32m   3625\u001b[0m     \u001b[38;5;66;03m# If we have a listlike key, _check_indexing_error will raise\u001b[39;00m\n\u001b[1;32m   3626\u001b[0m     \u001b[38;5;66;03m#  InvalidIndexError. Otherwise we fall through and re-raise\u001b[39;00m\n\u001b[1;32m   3627\u001b[0m     \u001b[38;5;66;03m#  the TypeError.\u001b[39;00m\n\u001b[1;32m   3628\u001b[0m     \u001b[38;5;28mself\u001b[39m\u001b[38;5;241m.\u001b[39m_check_indexing_error(key)\n",
      "\u001b[0;31mKeyError\u001b[0m: 'smiles'"
     ]
    }
   ],
   "source": [
    "df['smiles']"
   ]
  },
  {
   "cell_type": "code",
   "execution_count": 18,
   "id": "9c8fd091-5bea-44b2-9036-83017889a7a2",
   "metadata": {},
   "outputs": [],
   "source": [
    "import selfies as sf"
   ]
  },
  {
   "cell_type": "code",
   "execution_count": 19,
   "id": "33c554c5-321e-498d-ae98-11e00c4f89f4",
   "metadata": {},
   "outputs": [
    {
     "ename": "KeyError",
     "evalue": "'smiles'",
     "output_type": "error",
     "traceback": [
      "\u001b[0;31m---------------------------------------------------------------------------\u001b[0m",
      "\u001b[0;31mKeyError\u001b[0m                                  Traceback (most recent call last)",
      "File \u001b[0;32m~/miniforge3/envs/rxt-dev/lib/python3.10/site-packages/pandas/core/indexes/base.py:3621\u001b[0m, in \u001b[0;36mIndex.get_loc\u001b[0;34m(self, key, method, tolerance)\u001b[0m\n\u001b[1;32m   3620\u001b[0m \u001b[38;5;28;01mtry\u001b[39;00m:\n\u001b[0;32m-> 3621\u001b[0m     \u001b[38;5;28;01mreturn\u001b[39;00m \u001b[38;5;28;43mself\u001b[39;49m\u001b[38;5;241;43m.\u001b[39;49m\u001b[43m_engine\u001b[49m\u001b[38;5;241;43m.\u001b[39;49m\u001b[43mget_loc\u001b[49m\u001b[43m(\u001b[49m\u001b[43mcasted_key\u001b[49m\u001b[43m)\u001b[49m\n\u001b[1;32m   3622\u001b[0m \u001b[38;5;28;01mexcept\u001b[39;00m \u001b[38;5;167;01mKeyError\u001b[39;00m \u001b[38;5;28;01mas\u001b[39;00m err:\n",
      "File \u001b[0;32m~/miniforge3/envs/rxt-dev/lib/python3.10/site-packages/pandas/_libs/index.pyx:136\u001b[0m, in \u001b[0;36mpandas._libs.index.IndexEngine.get_loc\u001b[0;34m()\u001b[0m\n",
      "File \u001b[0;32m~/miniforge3/envs/rxt-dev/lib/python3.10/site-packages/pandas/_libs/index.pyx:163\u001b[0m, in \u001b[0;36mpandas._libs.index.IndexEngine.get_loc\u001b[0;34m()\u001b[0m\n",
      "File \u001b[0;32mpandas/_libs/hashtable_class_helper.pxi:5198\u001b[0m, in \u001b[0;36mpandas._libs.hashtable.PyObjectHashTable.get_item\u001b[0;34m()\u001b[0m\n",
      "File \u001b[0;32mpandas/_libs/hashtable_class_helper.pxi:5206\u001b[0m, in \u001b[0;36mpandas._libs.hashtable.PyObjectHashTable.get_item\u001b[0;34m()\u001b[0m\n",
      "\u001b[0;31mKeyError\u001b[0m: 'smiles'",
      "\nThe above exception was the direct cause of the following exception:\n",
      "\u001b[0;31mKeyError\u001b[0m                                  Traceback (most recent call last)",
      "Input \u001b[0;32mIn [19]\u001b[0m, in \u001b[0;36m<cell line: 1>\u001b[0;34m()\u001b[0m\n\u001b[0;32m----> 1\u001b[0m stoi \u001b[38;5;241m=\u001b[39m {x:i \u001b[38;5;28;01mfor\u001b[39;00m i,x \u001b[38;5;129;01min\u001b[39;00m \u001b[38;5;28menumerate\u001b[39m(sf\u001b[38;5;241m.\u001b[39mget_alphabet_from_selfies([sf\u001b[38;5;241m.\u001b[39mencoder(\u001b[43mdf\u001b[49m\u001b[43m[\u001b[49m\u001b[38;5;124;43m'\u001b[39;49m\u001b[38;5;124;43msmiles\u001b[39;49m\u001b[38;5;124;43m'\u001b[39;49m\u001b[43m]\u001b[49m[\u001b[38;5;241m0\u001b[39m])]), start\u001b[38;5;241m=\u001b[39m\u001b[38;5;241m2\u001b[39m)}\n\u001b[1;32m      2\u001b[0m stoi[\u001b[38;5;124m'\u001b[39m\u001b[38;5;124m[nop]\u001b[39m\u001b[38;5;124m'\u001b[39m] \u001b[38;5;241m=\u001b[39m \u001b[38;5;241m0\u001b[39m\n\u001b[1;32m      3\u001b[0m stoi[\u001b[38;5;124m'\u001b[39m\u001b[38;5;124m.\u001b[39m\u001b[38;5;124m'\u001b[39m] \u001b[38;5;241m=\u001b[39m \u001b[38;5;241m1\u001b[39m\n",
      "File \u001b[0;32m~/miniforge3/envs/rxt-dev/lib/python3.10/site-packages/pandas/core/frame.py:3505\u001b[0m, in \u001b[0;36mDataFrame.__getitem__\u001b[0;34m(self, key)\u001b[0m\n\u001b[1;32m   3503\u001b[0m \u001b[38;5;28;01mif\u001b[39;00m \u001b[38;5;28mself\u001b[39m\u001b[38;5;241m.\u001b[39mcolumns\u001b[38;5;241m.\u001b[39mnlevels \u001b[38;5;241m>\u001b[39m \u001b[38;5;241m1\u001b[39m:\n\u001b[1;32m   3504\u001b[0m     \u001b[38;5;28;01mreturn\u001b[39;00m \u001b[38;5;28mself\u001b[39m\u001b[38;5;241m.\u001b[39m_getitem_multilevel(key)\n\u001b[0;32m-> 3505\u001b[0m indexer \u001b[38;5;241m=\u001b[39m \u001b[38;5;28;43mself\u001b[39;49m\u001b[38;5;241;43m.\u001b[39;49m\u001b[43mcolumns\u001b[49m\u001b[38;5;241;43m.\u001b[39;49m\u001b[43mget_loc\u001b[49m\u001b[43m(\u001b[49m\u001b[43mkey\u001b[49m\u001b[43m)\u001b[49m\n\u001b[1;32m   3506\u001b[0m \u001b[38;5;28;01mif\u001b[39;00m is_integer(indexer):\n\u001b[1;32m   3507\u001b[0m     indexer \u001b[38;5;241m=\u001b[39m [indexer]\n",
      "File \u001b[0;32m~/miniforge3/envs/rxt-dev/lib/python3.10/site-packages/pandas/core/indexes/base.py:3623\u001b[0m, in \u001b[0;36mIndex.get_loc\u001b[0;34m(self, key, method, tolerance)\u001b[0m\n\u001b[1;32m   3621\u001b[0m     \u001b[38;5;28;01mreturn\u001b[39;00m \u001b[38;5;28mself\u001b[39m\u001b[38;5;241m.\u001b[39m_engine\u001b[38;5;241m.\u001b[39mget_loc(casted_key)\n\u001b[1;32m   3622\u001b[0m \u001b[38;5;28;01mexcept\u001b[39;00m \u001b[38;5;167;01mKeyError\u001b[39;00m \u001b[38;5;28;01mas\u001b[39;00m err:\n\u001b[0;32m-> 3623\u001b[0m     \u001b[38;5;28;01mraise\u001b[39;00m \u001b[38;5;167;01mKeyError\u001b[39;00m(key) \u001b[38;5;28;01mfrom\u001b[39;00m \u001b[38;5;21;01merr\u001b[39;00m\n\u001b[1;32m   3624\u001b[0m \u001b[38;5;28;01mexcept\u001b[39;00m \u001b[38;5;167;01mTypeError\u001b[39;00m:\n\u001b[1;32m   3625\u001b[0m     \u001b[38;5;66;03m# If we have a listlike key, _check_indexing_error will raise\u001b[39;00m\n\u001b[1;32m   3626\u001b[0m     \u001b[38;5;66;03m#  InvalidIndexError. Otherwise we fall through and re-raise\u001b[39;00m\n\u001b[1;32m   3627\u001b[0m     \u001b[38;5;66;03m#  the TypeError.\u001b[39;00m\n\u001b[1;32m   3628\u001b[0m     \u001b[38;5;28mself\u001b[39m\u001b[38;5;241m.\u001b[39m_check_indexing_error(key)\n",
      "\u001b[0;31mKeyError\u001b[0m: 'smiles'"
     ]
    }
   ],
   "source": [
    "stoi = {x:i for i,x in enumerate(sf.get_alphabet_from_selfies([sf.encoder(df['smiles'][0])]), start=2)}\n",
    "stoi['[nop]'] = 0\n",
    "stoi['.'] = 1\n",
    "\n",
    "ohe = sf.selfies_to_encoding(sf.encoder(df['smiles'][0]), enc_type='one_hot', pad_to_len=128, vocab_stoi=stoi)"
   ]
  },
  {
   "cell_type": "code",
   "execution_count": 94,
   "id": "a858e395-c936-4ff5-839f-6a34481db81d",
   "metadata": {},
   "outputs": [
    {
     "data": {
      "text/plain": [
       "128"
      ]
     },
     "execution_count": 94,
     "metadata": {},
     "output_type": "execute_result"
    }
   ],
   "source": [
    "np.count_nonzero(ohe)"
   ]
  },
  {
   "cell_type": "code",
   "execution_count": 95,
   "id": "e47a76fa-0e41-46ae-8aa7-d3d74790da9d",
   "metadata": {},
   "outputs": [
    {
     "data": {
      "text/plain": [
       "<matplotlib.image.AxesImage at 0x7f097e3e3790>"
      ]
     },
     "execution_count": 95,
     "metadata": {},
     "output_type": "execute_result"
    },
    {
     "data": {
      "image/png": "[encoded data removed]",
      "text/plain": [
       "<Figure size 432x288 with 1 Axes>"
      ]
     },
     "metadata": {
      "needs_background": "light"
     },
     "output_type": "display_data"
    }
   ],
   "source": [
    "%matplotlib inline\n",
    "import matplotlib.pyplot as plt\n",
    "\n",
    "plt.imshow(ohe)"
   ]
  },
  {
   "cell_type": "code",
   "execution_count": 103,
   "id": "f9c9e131-c5c5-43e5-9379-3321b03c1ce3",
   "metadata": {},
   "outputs": [
    {
     "data": {
      "text/plain": [
       "70"
      ]
     },
     "execution_count": 103,
     "metadata": {},
     "output_type": "execute_result"
    }
   ],
   "source": [
    "count = 0\n",
    "for i in range(128):\n",
    "    if ohe[i][0] == 1:\n",
    "        count += 1\n",
    "count    "
   ]
  },
  {
   "cell_type": "code",
   "execution_count": 98,
   "id": "1d454326-eec1-4a2f-b12d-4a512f1b4946",
   "metadata": {},
   "outputs": [
    {
     "data": {
      "text/plain": [
       "<rdkit.Chem.rdchem.Mol at 0x7f098907d000>"
      ]
     },
     "execution_count": 98,
     "metadata": {},
     "output_type": "execute_result"
    }
   ],
   "source": [
    "from rdkit import Chem\n",
    "Chem.MolFromSmiles(df[\"smiles\"][0])"
   ]
  },
  {
   "cell_type": "code",
   "execution_count": null,
   "id": "fab4e4d7-3e0e-4eac-b2f6-749d4708290d",
   "metadata": {},
   "outputs": [],
   "source": [
    "def one_hot_len_without_padding(one_hot: np.ndarray, padding_idx: int = 0) -> int:\n",
    "    count = 0\n",
    "    for row in range(len(one_hot)):\n",
    "        if one_hot[row][padding_idx] == 0:\n",
    "            count += 1\n",
    "    return count"
   ]
  }
 ],
 "metadata": {
  "kernelspec": {
   "display_name": "Python 3 (ipykernel)",
   "language": "python",
   "name": "python3"
  },
  "language_info": {
   "codemirror_mode": {
    "name": "ipython",
    "version": 3
   },
   "file_extension": ".py",
   "mimetype": "text/x-python",
   "name": "python",
   "nbconvert_exporter": "python",
   "pygments_lexer": "ipython3",
   "version": "3.10.5"
  }
 },
 "nbformat": 4,
 "nbformat_minor": 5
}
