{
 "cells": [
  {
   "cell_type": "code",
   "execution_count": 1,
   "id": "bc758174-5e12-45b8-b20d-16d651119428",
   "metadata": {},
   "outputs": [],
   "source": [
    "import sqlite3\n",
    "import pandas as pd\n",
    "import matplotlib.pyplot as plt\n",
    "import seaborn as sns\n",
    "import numpy as np"
   ]
  },
  {
   "cell_type": "code",
   "execution_count": 2,
   "id": "f00cbf96-dbb8-47a2-8c27-72bcf03e5d05",
   "metadata": {},
   "outputs": [],
   "source": [
    "lows_a2a = []\n",
    "highs_a2a = []\n",
    "for i in range(8):\n",
    "    cnx = sqlite3.connect(f'/home/julius/thesis/rxitect/logs/mogfn/synth_a2a_tb_beta_96/generated_mols_{i}.db')\n",
    "    df = pd.read_sql_query(\"SELECT * FROM results2\", cnx)\n",
    "    lows_a2a.extend(df[:10_000][\"fr_0\"])\n",
    "    highs_a2a.extend(df[-10_000:][\"fr_0\"])\n",
    "    cnx.close()"
   ]
  },
  {
   "cell_type": "code",
   "execution_count": 3,
   "id": "c3562f7a-1215-4976-9f7e-e2b5e323488d",
   "metadata": {},
   "outputs": [],
   "source": [
    "lows_a2a_p = []\n",
    "highs_a2a_p = []\n",
    "for i in range(8):\n",
    "    cnx = sqlite3.connect(f'/home/julius/thesis/rxitect/logs/mogfn/synth_a2a_tb_beta_96/generated_mols_{i}.db')\n",
    "    df = pd.read_sql_query(\"SELECT * FROM results2\", cnx)\n",
    "    lows_a2a_p.extend(df[:10_000][\"pref_0\"])\n",
    "    highs_a2a_p.extend(df[-10_000:][\"pref_0\"])\n",
    "    cnx.close()"
   ]
  },
  {
   "cell_type": "code",
   "execution_count": 4,
   "id": "7c2b78d4-16ea-41a4-b28e-99e40b825763",
   "metadata": {},
   "outputs": [],
   "source": [
    "lows_ras = []\n",
    "highs_ras = []\n",
    "for i in range(8):\n",
    "    cnx = sqlite3.connect(f'/home/julius/thesis/rxitect/logs/mogfn/synth_a2a_tb_beta_96/generated_mols_{i}.db')\n",
    "    df = pd.read_sql_query(\"SELECT * FROM results2\", cnx)\n",
    "    lows_ras.extend(df[:10_000][\"fr_1\"])\n",
    "    highs_ras.extend(df[-10_000:][\"fr_1\"])\n",
    "    cnx.close()"
   ]
  },
  {
   "cell_type": "code",
   "execution_count": 5,
   "id": "57958d30-8735-4039-b3e9-e75623a3933d",
   "metadata": {},
   "outputs": [],
   "source": [
    "lows_ras_p = []\n",
    "highs_ras_p = []\n",
    "for i in range(8):\n",
    "    cnx = sqlite3.connect(f'/home/julius/thesis/rxitect/logs/mogfn/synth_a2a_tb_beta_96/generated_mols_{i}.db')\n",
    "    df = pd.read_sql_query(\"SELECT * FROM results2\", cnx)\n",
    "    lows_ras_p.extend(df[:10_000][\"pref_1\"])\n",
    "    highs_ras_p.extend(df[-10_000:][\"pref_1\"])\n",
    "    cnx.close()"
   ]
  },
  {
   "cell_type": "code",
   "execution_count": 6,
   "id": "89fd7d8b-b91a-4573-b68a-8e3406af91b4",
   "metadata": {},
   "outputs": [],
   "source": [
    "lows_sas = []\n",
    "highs_sas = []\n",
    "for i in range(8):\n",
    "    cnx = sqlite3.connect(f'/home/julius/thesis/rxitect/logs/mogfn/synth_a2a_tb_beta_96/generated_mols_{i}.db')\n",
    "    df = pd.read_sql_query(\"SELECT * FROM results2\", cnx)\n",
    "    lows_sas.extend(df[:10_000][\"fr_2\"])\n",
    "    highs_sas.extend(df[-10_000:][\"fr_2\"])\n",
    "    cnx.close()"
   ]
  },
  {
   "cell_type": "code",
   "execution_count": 7,
   "id": "bb1d0554-cd47-4e5f-9198-6b2aff0d2d5b",
   "metadata": {},
   "outputs": [],
   "source": [
    "lows_sas_p = []\n",
    "highs_sas_p = []\n",
    "for i in range(8):\n",
    "    cnx = sqlite3.connect(f'/home/julius/thesis/rxitect/logs/mogfn/synth_a2a_tb_beta_96/generated_mols_{i}.db')\n",
    "    df = pd.read_sql_query(\"SELECT * FROM results2\", cnx)\n",
    "    lows_sas_p.extend(df[:10_000][\"pref_2\"])\n",
    "    highs_sas_p.extend(df[-10_000:][\"pref_2\"])\n",
    "    cnx.close()"
   ]
  },
  {
   "cell_type": "code",
   "execution_count": null,
   "id": "6e5d1d1b-84b8-4a46-9e25-c12c7c9a06b4",
   "metadata": {},
   "outputs": [],
   "source": [
    "a = pd.DataFrame(pd.Series(lows_a2a), columns=[\"A2A\"])\n",
    "b = pd.DataFrame(pd.Series(lows_ras), columns=[\"RA Score\"])\n",
    "c = pd.DataFrame(pd.Series(lows_sas), columns=[\"SA Score\"])\n",
    "d = pd.concat([a, b, c], axis=1)"
   ]
  },
  {
   "cell_type": "code",
   "execution_count": null,
   "id": "22454d93-ac8a-45f2-be86-0154de020f57",
   "metadata": {},
   "outputs": [],
   "source": [
    "e = pd.DataFrame(pd.Series(highs_a2a), columns=[\"A2A\"])\n",
    "f = pd.DataFrame(pd.Series(highs_ras), columns=[\"RA Score\"])\n",
    "g = pd.DataFrame(pd.Series(highs_sas), columns=[\"SA Score\"])\n",
    "h = pd.concat([e, f, g], axis=1)"
   ]
  },
  {
   "cell_type": "code",
   "execution_count": null,
   "id": "2748318a-7e11-443c-9913-585541e568c5",
   "metadata": {},
   "outputs": [],
   "source": [
    "i = pd.concat([d, h], axis=0)\n",
    "i.reset_index(inplace=True)\n"
   ]
  },
  {
   "cell_type": "code",
   "execution_count": null,
   "id": "0dfde542-c2ee-4585-b615-4dd336272235",
   "metadata": {},
   "outputs": [],
   "source": [
    "i[\"index\"].iloc[0:80_000] = \"First 80K\""
   ]
  },
  {
   "cell_type": "code",
   "execution_count": null,
   "id": "a8edc68e-7260-429d-abb4-c0e7dd7abeb3",
   "metadata": {},
   "outputs": [],
   "source": [
    "i[\"index\"].iloc[-80_000:] = \"Last 80K\""
   ]
  },
  {
   "cell_type": "code",
   "execution_count": null,
   "id": "e7c567b0-ba31-425f-acb1-0ec3fe97a534",
   "metadata": {},
   "outputs": [],
   "source": [
    "i.rename(columns={\"index\":\"samples\"}, inplace=True)\n",
    "i"
   ]
  },
  {
   "cell_type": "code",
   "execution_count": null,
   "id": "b52ee4b1-1846-4976-8cb6-b8213a207280",
   "metadata": {},
   "outputs": [],
   "source": [
    "g = sns.pairplot(i, hue=\"samples\", kind=\"kde\")"
   ]
  },
  {
   "cell_type": "code",
   "execution_count": null,
   "id": "bb46b329-9557-4ac3-b494-316931fd72c9",
   "metadata": {},
   "outputs": [],
   "source": [
    "fig = g.fig"
   ]
  },
  {
   "cell_type": "code",
   "execution_count": null,
   "id": "253f0f5b-822d-4cf3-93ac-c5342b8f79b5",
   "metadata": {},
   "outputs": [],
   "source": [
    "fig.savefig(\"../reports/synth_a2a_pairplot_first_v_last_80K_kde.png\")"
   ]
  },
  {
   "cell_type": "code",
   "execution_count": null,
   "id": "355c5a7c-70c8-4a85-8b6c-036ebf6a9819",
   "metadata": {},
   "outputs": [],
   "source": [
    "sns.load_dataset(\"penguins\")"
   ]
  },
  {
   "cell_type": "code",
   "execution_count": null,
   "id": "1f46f577-a28f-4409-add8-8372c4ed3992",
   "metadata": {},
   "outputs": [],
   "source": [
    "sns.pairplot(data=d)\n",
    "sns.pairplot(data=h)"
   ]
  },
  {
   "cell_type": "code",
   "execution_count": null,
   "id": "bf64a601-ce4f-4db5-8444-7a0a60cc81d7",
   "metadata": {},
   "outputs": [],
   "source": [
    "sns.kdeplot(lows, fill=True)\n",
    "sns.kdeplot(highs, fill=True)"
   ]
  },
  {
   "cell_type": "code",
   "execution_count": null,
   "id": "c87daaf8-f87e-4a4c-a23f-4c2a2011f60b",
   "metadata": {},
   "outputs": [],
   "source": [
    "reward_history = (df[df[\"r\"] > 0][\"r\"]).to_numpy()"
   ]
  },
  {
   "cell_type": "code",
   "execution_count": null,
   "id": "64c9bca8-75b5-402b-98c8-faecc26cc90e",
   "metadata": {},
   "outputs": [],
   "source": [
    "len(reward_history)"
   ]
  },
  {
   "cell_type": "code",
   "execution_count": null,
   "id": "fe85b29a-6634-4f21-bd17-0bd5a13a0e5c",
   "metadata": {},
   "outputs": [],
   "source": [
    "sns.lineplot(df[\"r\"])"
   ]
  },
  {
   "cell_type": "code",
   "execution_count": null,
   "id": "3513478c-b496-4e6a-bba3-04cc74ba7e88",
   "metadata": {},
   "outputs": [],
   "source": [
    "sns.regplot(x=np.arange(20_000), y=df[:20000][\"r\"], label=\"first 20K\")\n",
    "sns.regplot(x=np.arange(20_000), y=df[-20000:][\"r\"], label=\"last 20K\")"
   ]
  },
  {
   "cell_type": "code",
   "execution_count": 2,
   "id": "5592a6ea-d0af-4726-b39f-c0e0c1dcb74e",
   "metadata": {},
   "outputs": [],
   "source": [
    "import torch"
   ]
  },
  {
   "cell_type": "code",
   "execution_count": 9,
   "id": "636d538e-99bf-4492-b9ee-b0bf52bfe004",
   "metadata": {},
   "outputs": [],
   "source": [
    "pareto = torch.load(\"../logs/mogfn/synth_a2a_tb_beta_96/pareto.pt\")"
   ]
  },
  {
   "cell_type": "code",
   "execution_count": 10,
   "id": "4735dbeb-dc58-4258-b2d3-5f739d20765e",
   "metadata": {
    "tags": []
   },
   "outputs": [],
   "source": [
    "pf = pareto[\"pareto_front\"]"
   ]
  },
  {
   "cell_type": "code",
   "execution_count": 11,
   "id": "204b7d28-6da5-4eb4-9a24-a6de90aca552",
   "metadata": {},
   "outputs": [
    {
     "data": {
      "image/png": "[encoded data removed]",
      "text/plain": [
       "<Figure size 640x480 with 1 Axes>"
      ]
     },
     "metadata": {},
     "output_type": "display_data"
    }
   ],
   "source": [
    "axes = plt.axes(projection=\"3d\")\n",
    "axes.scatter3D(pf[:,0], pf[:,1], pf[:,2], c=pf[:,2], alpha=1)\n",
    "axes.set_xlabel(\"$A_{2}AR$\")\n",
    "axes.set_ylabel(\"$A_{1}R$\")\n",
    "axes.set_zlabel(\"$(-)hERG$\")\n",
    "axes.yaxis.set_rotate_label(False)\n",
    "axes.zaxis.set_rotate_label(False)\n",
    "# plt.savefig(\"../reports/drugex_v2_beta_96_trajectory_balance_5000.png\")\n",
    "plt.show()\n",
    "# axes.plot_surface(x1, y1, z1)\n",
    "# plt.show()"
   ]
  },
  {
   "cell_type": "code",
   "execution_count": 3,
   "id": "0158de17-7fba-4739-a2bd-5f1c9481d1ae",
   "metadata": {},
   "outputs": [],
   "source": [
    "syntha2a_gfn = torch.load(\"../logs/mogfn/synth_a2a_tb_beta_96/model_state.pt\")"
   ]
  },
  {
   "cell_type": "code",
   "execution_count": 13,
   "id": "f1ae69a0-7d53-47ae-ac11-7787792e1d3f",
   "metadata": {},
   "outputs": [
    {
     "data": {
      "text/plain": [
       "dict_keys(['models_state_dict', 'hps'])"
      ]
     },
     "execution_count": 13,
     "metadata": {},
     "output_type": "execute_result"
    }
   ],
   "source": [
    "syntha2a_gfn.keys()"
   ]
  },
  {
   "cell_type": "code",
   "execution_count": 13,
   "id": "c52287dd-c0bd-4965-a0e5-b4c5ed3d1302",
   "metadata": {},
   "outputs": [],
   "source": [
    "hps = syntha2a_gfn['hps']"
   ]
  },
  {
   "cell_type": "code",
   "execution_count": 14,
   "id": "c63d3607-8c79-4a1d-985d-8e9db263c35e",
   "metadata": {},
   "outputs": [
    {
     "data": {
      "text/plain": [
       "{'bootstrap_own_reward': False,\n",
       " 'learning_rate': 0.0001,\n",
       " 'global_batch_size': 128,\n",
       " 'num_emb': 128,\n",
       " 'num_layers': 6,\n",
       " 'tb_epsilon': None,\n",
       " 'illegal_action_logreward': -75,\n",
       " 'reward_loss_multiplier': 1,\n",
       " 'temperature_sample_dist': 'uniform',\n",
       " 'temperature_dist_params': '(96, 96)',\n",
       " 'weight_decay': 1e-08,\n",
       " 'num_data_loader_workers': 8,\n",
       " 'momentum': 0.9,\n",
       " 'adam_eps': 1e-08,\n",
       " 'lr_decay': 20000,\n",
       " 'Z_lr_decay': 20000,\n",
       " 'clip_grad_type': 'norm',\n",
       " 'clip_grad_param': 10,\n",
       " 'random_action_prob': 0.05,\n",
       " 'num_cond_dim': 35,\n",
       " 'sampling_tau': 0.95,\n",
       " 'seed': 0,\n",
       " 'preference_type': 'seeded_many',\n",
       " 'algo': 'TB',\n",
       " 'log_dir': '/home/julius/thesis/rxitect/logs/mogfn/synth_a2a_tb_beta_96',\n",
       " 'num_training_steps': 5000,\n",
       " 'validate_every': 250,\n",
       " 'valid_sample_cond_info': False,\n",
       " 'mask_invalid_rewards': False}"
      ]
     },
     "execution_count": 14,
     "metadata": {},
     "output_type": "execute_result"
    }
   ],
   "source": [
    "hps"
   ]
  },
  {
   "cell_type": "code",
   "execution_count": 15,
   "id": "ec30b05d-6f38-441c-821e-6f941cd724f4",
   "metadata": {},
   "outputs": [],
   "source": [
    "state_dict = syntha2a_gfn['models_state_dict'][0]"
   ]
  },
  {
   "cell_type": "code",
   "execution_count": 16,
   "id": "1d4ed6f0-a9b5-4007-92ac-b0a75305cb6d",
   "metadata": {},
   "outputs": [],
   "source": [
    "from rxitect.gflownet.models.frag_graph_gfn import FragBasedGraphGFN\n",
    "from rxitect.gflownet.contexts.frag_graph_context import FragBasedGraphContext\n",
    "from rxitect.gflownet.utils.graph_sampler import GraphSampler\n",
    "from rxitect.gflownet.contexts.envs.graph_building_env import GraphBuildingEnv"
   ]
  },
  {
   "cell_type": "code",
   "execution_count": 17,
   "id": "be701e6b-1ae4-46ba-957a-72a55ac504a7",
   "metadata": {},
   "outputs": [],
   "source": [
    "ctx = FragBasedGraphContext(num_cond_dim=hps[\"num_cond_dim\"])"
   ]
  },
  {
   "cell_type": "code",
   "execution_count": 18,
   "id": "0be2af82-1709-4428-821d-70e1c798ce2b",
   "metadata": {},
   "outputs": [],
   "source": [
    "gfn = FragBasedGraphGFN(ctx=ctx, estimate_init_state_flow=True)"
   ]
  },
  {
   "cell_type": "code",
   "execution_count": 19,
   "id": "f3df81c9-cfb0-476c-bee1-360471fa2f8f",
   "metadata": {},
   "outputs": [
    {
     "data": {
      "text/plain": [
       "<All keys matched successfully>"
      ]
     },
     "execution_count": 19,
     "metadata": {},
     "output_type": "execute_result"
    }
   ],
   "source": [
    "gfn.load_state_dict(state_dict=state_dict)"
   ]
  },
  {
   "cell_type": "code",
   "execution_count": 20,
   "id": "564903f3-9257-4ec8-9462-cc3a26934376",
   "metadata": {
    "collapsed": true,
    "jupyter": {
     "outputs_hidden": true
    },
    "tags": []
   },
   "outputs": [
    {
     "data": {
      "text/plain": [
       "FragBasedGraphGFN(\n",
       "  (transf): GraphTransformer(\n",
       "    (x2h): Sequential(\n",
       "      (0): Linear(in_features=106, out_features=128, bias=True)\n",
       "      (1): LeakyReLU(negative_slope=0.01)\n",
       "      (2): Linear(in_features=128, out_features=128, bias=True)\n",
       "      (3): LeakyReLU(negative_slope=0.01)\n",
       "      (4): Linear(in_features=128, out_features=128, bias=True)\n",
       "    )\n",
       "    (e2h): Sequential(\n",
       "      (0): Linear(in_features=12, out_features=128, bias=True)\n",
       "      (1): LeakyReLU(negative_slope=0.01)\n",
       "      (2): Linear(in_features=128, out_features=128, bias=True)\n",
       "      (3): LeakyReLU(negative_slope=0.01)\n",
       "      (4): Linear(in_features=128, out_features=128, bias=True)\n",
       "    )\n",
       "    (c2h): Sequential(\n",
       "      (0): Linear(in_features=35, out_features=128, bias=True)\n",
       "      (1): LeakyReLU(negative_slope=0.01)\n",
       "      (2): Linear(in_features=128, out_features=128, bias=True)\n",
       "      (3): LeakyReLU(negative_slope=0.01)\n",
       "      (4): Linear(in_features=128, out_features=128, bias=True)\n",
       "    )\n",
       "    (graph2emb): ModuleList(\n",
       "      (0): GENConv(128, 128, aggr=add)\n",
       "      (1): TransformerConv(256, 128, heads=2)\n",
       "      (2): Linear(in_features=256, out_features=128, bias=True)\n",
       "      (3): LayerNorm(128, mode=graph)\n",
       "      (4): Sequential(\n",
       "        (0): Linear(in_features=128, out_features=512, bias=True)\n",
       "        (1): LeakyReLU(negative_slope=0.01)\n",
       "        (2): Linear(in_features=512, out_features=128, bias=True)\n",
       "      )\n",
       "      (5): LayerNorm(128, mode=graph)\n",
       "      (6): GENConv(128, 128, aggr=add)\n",
       "      (7): TransformerConv(256, 128, heads=2)\n",
       "      (8): Linear(in_features=256, out_features=128, bias=True)\n",
       "      (9): LayerNorm(128, mode=graph)\n",
       "      (10): Sequential(\n",
       "        (0): Linear(in_features=128, out_features=512, bias=True)\n",
       "        (1): LeakyReLU(negative_slope=0.01)\n",
       "        (2): Linear(in_features=512, out_features=128, bias=True)\n",
       "      )\n",
       "      (11): LayerNorm(128, mode=graph)\n",
       "      (12): GENConv(128, 128, aggr=add)\n",
       "      (13): TransformerConv(256, 128, heads=2)\n",
       "      (14): Linear(in_features=256, out_features=128, bias=True)\n",
       "      (15): LayerNorm(128, mode=graph)\n",
       "      (16): Sequential(\n",
       "        (0): Linear(in_features=128, out_features=512, bias=True)\n",
       "        (1): LeakyReLU(negative_slope=0.01)\n",
       "        (2): Linear(in_features=512, out_features=128, bias=True)\n",
       "      )\n",
       "      (17): LayerNorm(128, mode=graph)\n",
       "      (18): GENConv(128, 128, aggr=add)\n",
       "      (19): TransformerConv(256, 128, heads=2)\n",
       "      (20): Linear(in_features=256, out_features=128, bias=True)\n",
       "      (21): LayerNorm(128, mode=graph)\n",
       "      (22): Sequential(\n",
       "        (0): Linear(in_features=128, out_features=512, bias=True)\n",
       "        (1): LeakyReLU(negative_slope=0.01)\n",
       "        (2): Linear(in_features=512, out_features=128, bias=True)\n",
       "      )\n",
       "      (23): LayerNorm(128, mode=graph)\n",
       "      (24): GENConv(128, 128, aggr=add)\n",
       "      (25): TransformerConv(256, 128, heads=2)\n",
       "      (26): Linear(in_features=256, out_features=128, bias=True)\n",
       "      (27): LayerNorm(128, mode=graph)\n",
       "      (28): Sequential(\n",
       "        (0): Linear(in_features=128, out_features=512, bias=True)\n",
       "        (1): LeakyReLU(negative_slope=0.01)\n",
       "        (2): Linear(in_features=512, out_features=128, bias=True)\n",
       "      )\n",
       "      (29): LayerNorm(128, mode=graph)\n",
       "      (30): GENConv(128, 128, aggr=add)\n",
       "      (31): TransformerConv(256, 128, heads=2)\n",
       "      (32): Linear(in_features=256, out_features=128, bias=True)\n",
       "      (33): LayerNorm(128, mode=graph)\n",
       "      (34): Sequential(\n",
       "        (0): Linear(in_features=128, out_features=512, bias=True)\n",
       "        (1): LeakyReLU(negative_slope=0.01)\n",
       "        (2): Linear(in_features=512, out_features=128, bias=True)\n",
       "      )\n",
       "      (35): LayerNorm(128, mode=graph)\n",
       "    )\n",
       "  )\n",
       "  (emb2add_node): Sequential(\n",
       "    (0): Linear(in_features=256, out_features=105, bias=True)\n",
       "  )\n",
       "  (emb2set_edge_attr): Sequential(\n",
       "    (0): Linear(in_features=384, out_features=6, bias=True)\n",
       "  )\n",
       "  (emb2stop): Sequential(\n",
       "    (0): Linear(in_features=384, out_features=1, bias=True)\n",
       "  )\n",
       "  (emb2reward): Sequential(\n",
       "    (0): Linear(in_features=384, out_features=1, bias=True)\n",
       "  )\n",
       "  (edge2emb): Sequential(\n",
       "    (0): Linear(in_features=256, out_features=128, bias=True)\n",
       "  )\n",
       "  (logZ): Sequential(\n",
       "    (0): Linear(in_features=35, out_features=256, bias=True)\n",
       "    (1): LeakyReLU(negative_slope=0.01)\n",
       "    (2): Linear(in_features=256, out_features=256, bias=True)\n",
       "    (3): LeakyReLU(negative_slope=0.01)\n",
       "    (4): Linear(in_features=256, out_features=1, bias=True)\n",
       "  )\n",
       ")"
      ]
     },
     "execution_count": 20,
     "metadata": {},
     "output_type": "execute_result"
    }
   ],
   "source": [
    "gfn.eval()"
   ]
  },
  {
   "cell_type": "code",
   "execution_count": 21,
   "id": "0b7670fe-d969-4233-b113-8df9a463f93b",
   "metadata": {},
   "outputs": [],
   "source": [
    "env = GraphBuildingEnv(ctx=ctx)\n",
    "sampler = GraphSampler(ctx, env, max_steps=None, max_nodes=9, rng=np.random.default_rng(123))"
   ]
  },
  {
   "cell_type": "code",
   "execution_count": 23,
   "id": "58dde6b5-f1f4-466c-a9dc-4fb81e418009",
   "metadata": {},
   "outputs": [],
   "source": [
    "from rxitect.gflownet.tasks.a import thermometer\n",
    "from torch.distributions import Dirichlet\n",
    "from typing import Optional\n",
    "\n",
    "def generate_encoded_ci(n: int, num_prefs: int, rexp_distribution = (96, 96), rng = np.random.default_rng(123), preferences: Optional[torch.Tensor] = None):\n",
    "    beta = rng.uniform(*rexp_distribution, n).astype(np.float32)\n",
    "    upper_bound = rexp_distribution[1]\n",
    "    beta_enc = thermometer(torch.tensor(beta), 32, 0, upper_bound)  # TODO: hyperparameters\n",
    "    if preferences is None:\n",
    "        m = Dirichlet(torch.FloatTensor([1.] * num_prefs))\n",
    "        preferences = m.sample([n])\n",
    "    encoding = torch.cat([beta_enc, preferences], 1)\n",
    "    info = {'beta': torch.tensor(beta), 'encoding': encoding, 'preferences': preferences}\n",
    "    return info"
   ]
  },
  {
   "cell_type": "code",
   "execution_count": 27,
   "id": "af8d0a7a-c15d-422c-ae0d-f4aa69c5059f",
   "metadata": {},
   "outputs": [],
   "source": [
    "n_samples = 1_000\n",
    "ci = generate_encoded_ci(n=n_samples, num_prefs=3, preferences=torch.tensor([[1.0, 0.0, 0.0]] * n_samples))\n",
    "res = sampler.sample_from_model(model=gfn, n=n_samples, cond_info=ci[\"encoding\"], device=\"cpu\")"
   ]
  },
  {
   "cell_type": "code",
   "execution_count": 28,
   "id": "87eb344b-69cf-4f3d-b37b-28c22de2608e",
   "metadata": {},
   "outputs": [],
   "source": [
    "from rdkit import Chem\n",
    "from rdkit.Chem.Draw import IPythonConsole\n",
    "IPythonConsole.drawOptions.addAtomIndices = True\n",
    "from rdkit.Chem import Draw\n",
    "from rdkit.Chem.Draw import DrawingOptions\n",
    "IPythonConsole.ipython_useSVG=False  #< set this to False if you want PNGs instead of SVGs"
   ]
  },
  {
   "cell_type": "code",
   "execution_count": 29,
   "id": "da48e43a-f459-4565-9532-cc3ac4055536",
   "metadata": {},
   "outputs": [],
   "source": [
    "def _replenish_stems(g, ctx):\n",
    "    if hasattr(ctx, \"frags_stems\"):\n",
    "        for i in g.nodes:\n",
    "            g.nodes[i]['stems'] = ctx.frags_stems[g.nodes[i]['v']]\n",
    "    else:\n",
    "        raise ValueError(\"This context does not use stems\")"
   ]
  },
  {
   "cell_type": "code",
   "execution_count": 31,
   "id": "2ef802c5-6d30-4b4f-889b-c3b29cf3aacc",
   "metadata": {},
   "outputs": [],
   "source": [
    "def sampled_trajs_to_mols(trajs, ctx):\n",
    "    graphs = []\n",
    "    for t in trajs:\n",
    "        G = t[\"traj\"][-1][0]\n",
    "        _replenish_stems(G, ctx)\n",
    "        graphs.append(G)\n",
    "    mols = [ctx.graph_to_mol(G) for G in graphs]\n",
    "    return mols"
   ]
  },
  {
   "cell_type": "code",
   "execution_count": 32,
   "id": "101a3386-ad44-4fc8-9291-472149e2597c",
   "metadata": {},
   "outputs": [],
   "source": [
    "mols = sampled_trajs_to_mols(res, ctx)"
   ]
  },
  {
   "cell_type": "code",
   "execution_count": 33,
   "id": "895b2260-13c9-4bdc-8ab5-039ff028b7b4",
   "metadata": {},
   "outputs": [
    {
     "data": {
      "image/png": "[encoded data removed]",
      "text/plain": [
       "<rdkit.Chem.rdchem.Mol at 0x7f805db785e0>"
      ]
     },
     "execution_count": 33,
     "metadata": {},
     "output_type": "execute_result"
    }
   ],
   "source": [
    "Chem.MolFromSmiles(Chem.MolToSmiles(mols[21]))"
   ]
  },
  {
   "cell_type": "code",
   "execution_count": 34,
   "id": "0bd459a1-362f-4def-98f0-0569f2b50d21",
   "metadata": {},
   "outputs": [],
   "source": [
    "from rxitect.scorers.a2ascore import Predictor\n",
    "\n",
    "enhanced_fps = Predictor.calc_fp(mols=mols)\n",
    "a2a = Predictor(path=\"../models/RF_REG_CHEMBL251.pkg\")\n",
    "a2ascore_preds = a2a(enhanced_fps)"
   ]
  },
  {
   "cell_type": "code",
   "execution_count": 35,
   "id": "614b317a-ad16-4b57-a3f2-a1b99d0612f8",
   "metadata": {},
   "outputs": [
    {
     "data": {
      "text/plain": [
       "<AxesSubplot: ylabel='Count'>"
      ]
     },
     "execution_count": 35,
     "metadata": {},
     "output_type": "execute_result"
    },
    {
     "data": {
      "image/png": "[encoded data removed]",
      "text/plain": [
       "<Figure size 640x480 with 1 Axes>"
      ]
     },
     "metadata": {},
     "output_type": "display_data"
    }
   ],
   "source": [
    "sns.histplot(a2ascore_preds)"
   ]
  },
  {
   "cell_type": "code",
   "execution_count": null,
   "id": "1b3dd8bd-e77b-41a2-871e-574c1de5bb6b",
   "metadata": {},
   "outputs": [],
   "source": [
    "g0 = res[0][\"traj\"][-1][0]\n",
    "replenish_stems(g0, ctx)"
   ]
  },
  {
   "cell_type": "code",
   "execution_count": null,
   "id": "6cc9a13e-6f0c-4312-9fd2-fef5af333f69",
   "metadata": {},
   "outputs": [],
   "source": [
    "ctx.graph_to_mol(g0)"
   ]
  },
  {
   "cell_type": "code",
   "execution_count": null,
   "id": "0e9612f4-9fe5-4b6e-abae-d04be088d9b5",
   "metadata": {},
   "outputs": [],
   "source": [
    "g0"
   ]
  },
  {
   "cell_type": "code",
   "execution_count": null,
   "id": "1c966821-878e-4857-800d-57e0ee85704e",
   "metadata": {},
   "outputs": [],
   "source": [
    "pref0 = df[-20_000:][\"pref_2\"]\n",
    "fr0 = df[-20_000:][\"fr_2\"]"
   ]
  },
  {
   "cell_type": "code",
   "execution_count": null,
   "id": "4de2dfc2-3b24-483a-a13a-a641f0610190",
   "metadata": {},
   "outputs": [],
   "source": [
    "sns.scatterplot(x=pref0, y=fr0)"
   ]
  },
  {
   "cell_type": "code",
   "execution_count": null,
   "id": "121536d6-74fb-4039-b9e7-d653ab73e86c",
   "metadata": {},
   "outputs": [],
   "source": [
    "sns.distplot(df[:20_000][\"fr_2\"])\n",
    "sns.distplot(df[-20_000:][\"fr_2\"])"
   ]
  },
  {
   "cell_type": "code",
   "execution_count": null,
   "id": "467a96e4-a0f3-4bf7-8453-e469b15388ba",
   "metadata": {},
   "outputs": [],
   "source": [
    "# sns.lineplot(df96[\"fr_0\"])\n",
    "sns.regplot(x=df96.index, y=df96[\"fr_0\"], fit_reg=True, line_kws={\"color\": \"red\"})"
   ]
  },
  {
   "cell_type": "code",
   "execution_count": null,
   "id": "0a82e1eb-5daf-4ad7-94f0-902ee223c80b",
   "metadata": {},
   "outputs": [],
   "source": [
    "data = df[-10_000:]\n",
    "# g = sns.pairplot(data[[\"fr_0\", \"fr_1\", \"fr_2\"]])\n",
    "# sns.scatterplot(x=data[[\"fr_0\", \"fr_1\", \"fr_2\"]], y=data[[\"pref_0\", \"pref_1\", \"pref_2\"]])\n",
    "sns.scatterplot(x=data[\"fr_1\"], y=data[\"pref_1\"])\n",
    "sns.histplot(df[\"fr_0\"], stat='count')\n",
    "# sns.pairplot(data[\"fr_1\"])"
   ]
  },
  {
   "cell_type": "code",
   "execution_count": null,
   "id": "ab53d431-521a-4c9d-b7cc-dc51269a8555",
   "metadata": {},
   "outputs": [],
   "source": []
  },
  {
   "cell_type": "code",
   "execution_count": null,
   "id": "b8cbe72a-9fea-4697-b014-6a93de369763",
   "metadata": {},
   "outputs": [],
   "source": [
    "g = sns.pairplot(data[[\"fr_0\", \"fr_1\", \"fr_2\"]])\n",
    "# g = sns.pairplot(data_2[[\"fr_0\", \"fr_1\", \"fr_2\"]], kind=\"kde\")\n",
    "# g.axes[0,0].set_xlim((0, 1))\n",
    "# g.axes[0,1].set_xlim((0, 1))\n",
    "# g.axes[0,2].set_xlim((0, 1))\n",
    "# g.axes[0,0].set_ylim((0, 1))\n",
    "# g.axes[1,1].set_ylim((0, 1))\n",
    "# g.axes[2,2].set_ylim((0, 1))\n",
    "# g.map_upper(sns.scatterplot)\n",
    "# ax2 = plt.twinx()\n",
    "# sns.scatterplot(x=data[\"fr_0\"], y=data[\"pref_0\"], color=\"r\", ax=ax2)"
   ]
  },
  {
   "cell_type": "code",
   "execution_count": null,
   "id": "d169fac1-ac06-49e4-a209-b0eff951ee08",
   "metadata": {},
   "outputs": [],
   "source": []
  },
  {
   "cell_type": "code",
   "execution_count": null,
   "id": "51d9139a-4b03-4125-bb6e-00e42614e718",
   "metadata": {},
   "outputs": [],
   "source": [
    "sns.scatterplot(x=data[\"fr_1\", \"fr_2\"], y=data[\"pref_1\", \"pref_2\"])"
   ]
  },
  {
   "cell_type": "code",
   "execution_count": null,
   "id": "2b526527-d2af-4b44-a2fa-c58890a90e2d",
   "metadata": {},
   "outputs": [],
   "source": [
    "sns.regplot(x=data.index, y=\"fr_1\", data=data, fit_reg=True, line_kws={\"color\": \"red\"})"
   ]
  },
  {
   "cell_type": "code",
   "execution_count": null,
   "id": "9da6ddf7-9f6a-418c-a712-7c51fce74d01",
   "metadata": {},
   "outputs": [],
   "source": [
    "0.8**32"
   ]
  },
  {
   "cell_type": "code",
   "execution_count": null,
   "id": "332b61ee-e043-40e7-8f8c-c4b5ee51817e",
   "metadata": {},
   "outputs": [],
   "source": [
    "import math\n",
    "math.log(32, 0.0007922816251426448)"
   ]
  },
  {
   "cell_type": "code",
   "execution_count": null,
   "id": "aece52c4-3c4f-4bb8-a8e6-56441990a7cb",
   "metadata": {},
   "outputs": [],
   "source": [
    "math.log(0.0007922816251426448, 32)"
   ]
  },
  {
   "cell_type": "code",
   "execution_count": null,
   "id": "bcfac3eb-01a2-433f-9b66-33924a1a0cd8",
   "metadata": {},
   "outputs": [],
   "source": [
    "import torch"
   ]
  },
  {
   "cell_type": "code",
   "execution_count": null,
   "id": "f0b1ba46-15ae-41a9-85ac-9e88fe1636b2",
   "metadata": {},
   "outputs": [],
   "source": [
    "pareto = torch.load(\"../logs/moo/drugex_v2_tb/pareto.pt\")"
   ]
  },
  {
   "cell_type": "code",
   "execution_count": null,
   "id": "04cbdf03-a5aa-4800-a0b7-46d8076b1557",
   "metadata": {},
   "outputs": [],
   "source": [
    "sns.displot(pareto[\"pareto_front\"])"
   ]
  },
  {
   "cell_type": "code",
   "execution_count": null,
   "id": "8e2d3f7b-7f80-4870-8645-4fc3cbc387fc",
   "metadata": {},
   "outputs": [],
   "source": [
    "import torch"
   ]
  },
  {
   "cell_type": "code",
   "execution_count": null,
   "id": "822fd2d5-521a-44bf-af04-3b3bdb95740a",
   "metadata": {},
   "outputs": [],
   "source": [
    "diri = torch.distributions.Dirichlet(torch.FloatTensor([5., 1., 1.]))"
   ]
  },
  {
   "cell_type": "code",
   "execution_count": null,
   "id": "9209d507-0a77-40c8-8cad-b563fff86101",
   "metadata": {},
   "outputs": [],
   "source": [
    "diri.sample([5])"
   ]
  },
  {
   "cell_type": "code",
   "execution_count": null,
   "id": "f0593c9c-9c0b-4fac-94d4-83690c61486f",
   "metadata": {},
   "outputs": [],
   "source": [
    "stuff = torch.load(\"/home/julius/thesis/rxitect/logs/moo/synth_a2a_tb/model_state.pt\")"
   ]
  },
  {
   "cell_type": "code",
   "execution_count": null,
   "id": "d13eb283-879d-4d59-9a2e-582233a3319e",
   "metadata": {},
   "outputs": [],
   "source": [
    "hps = stuff[\"hps\"]"
   ]
  },
  {
   "cell_type": "code",
   "execution_count": null,
   "id": "b97670c5-739b-4f8a-a744-f5f7ee9210cb",
   "metadata": {},
   "outputs": [],
   "source": [
    "hps"
   ]
  },
  {
   "cell_type": "code",
   "execution_count": null,
   "id": "ce30a271-572c-4c84-a0f8-77d1882ff702",
   "metadata": {},
   "outputs": [],
   "source": [
    "import numpy as np\n",
    "import matplotlib.pyplot as plt\n",
    "from scipy.stats import gaussian_kde as kde\n",
    "from matplotlib.colors import Normalize\n",
    "from matplotlib import cm\n",
    "\n",
    "N = 10000\n",
    "mean = [0,0]\n",
    "cov = [[2,2],[0,2]]\n",
    "\n",
    "# samples = np.random.multivariate_normal(mean,cov,N).T\n",
    "samples = np.concatenate([[highs_a2a], [highs_a2a_p]])\n",
    "densObj = kde( samples )\n",
    "\n",
    "def makeColours( vals ):\n",
    "    colours = np.zeros( (len(vals),3) )\n",
    "    norm = Normalize( vmin=vals.min(), vmax=vals.max() )\n",
    "\n",
    "    #Can put any colormap you like here.\n",
    "    colours = [cm.ScalarMappable( norm=norm, cmap='jet').to_rgba( val ) for val in vals]\n",
    "\n",
    "    return colours\n",
    "\n",
    "colours = makeColours( densObj.evaluate( samples ) )\n",
    "\n",
    "plt.scatter( samples[0], samples[1], color=colours )\n",
    "plt.show()"
   ]
  },
  {
   "cell_type": "code",
   "execution_count": null,
   "id": "4d32966d-17de-40e9-9a6a-4c5edcfb8636",
   "metadata": {},
   "outputs": [],
   "source": [
    "samples = np.concatenate([[lows_a2a], [lows_a2a_p]])\n",
    "densObj = kde( samples )\n",
    "\n",
    "def makeColours( vals ):\n",
    "    colours = np.zeros( (len(vals),3) )\n",
    "    norm = Normalize( vmin=vals.min(), vmax=vals.max() )\n",
    "\n",
    "    #Can put any colormap you like here.\n",
    "    colours = [cm.ScalarMappable( norm=norm, cmap='jet').to_rgba( val ) for val in vals]\n",
    "\n",
    "    return colours\n",
    "\n",
    "colours = makeColours( densObj.evaluate( samples ) )\n",
    "\n",
    "plt.scatter( samples[0], samples[1], color=colours )\n",
    "plt.show()"
   ]
  },
  {
   "cell_type": "code",
   "execution_count": null,
   "id": "af52fafa-7ff7-4c70-95c1-46a46c080076",
   "metadata": {},
   "outputs": [],
   "source": [
    "samples = np.concatenate([[highs_ras], [highs_ras_p]])\n",
    "densObj = kde( samples )\n",
    "\n",
    "def makeColours( vals ):\n",
    "    colours = np.zeros( (len(vals),3) )\n",
    "    norm = Normalize( vmin=vals.min(), vmax=vals.max() )\n",
    "\n",
    "    #Can put any colormap you like here.\n",
    "    colours = [cm.ScalarMappable( norm=norm, cmap='jet').to_rgba( val ) for val in vals]\n",
    "\n",
    "    return colours\n",
    "\n",
    "colours = makeColours( densObj.evaluate( samples ) )\n",
    "\n",
    "plt.scatter( samples[0], samples[1], color=colours)\n",
    "plt.xlabel = \"RA Score\"\n",
    "plt.ylabel = \"preference ($\\omega$)\"\n",
    "plt.xlim([0, 1])\n",
    "plt.ylim([0, 1])\n",
    "plt.savefig(\"../reports/a2a_synth_rascore_pref_relationship.png\")\n",
    "plt.show()"
   ]
  },
  {
   "cell_type": "code",
   "execution_count": null,
   "id": "b51bba8a-76cb-4949-8a65-1a12280d8ac5",
   "metadata": {},
   "outputs": [],
   "source": [
    "import matplotlib.pyplot as mpl"
   ]
  },
  {
   "cell_type": "code",
   "execution_count": null,
   "id": "642c03cb-b7f0-4fda-a360-767c10c36a5e",
   "metadata": {},
   "outputs": [],
   "source": [
    "np.mean(highs_a2a_p)"
   ]
  },
  {
   "cell_type": "code",
   "execution_count": null,
   "id": "457f1329-fe95-4192-b3b9-535ef7a30807",
   "metadata": {},
   "outputs": [],
   "source": [
    "plt.scatter(x=highs_ras, y=highs_ras_p, alpha=0.1)"
   ]
  },
  {
   "cell_type": "code",
   "execution_count": null,
   "id": "83b74245-af22-49a8-9aa2-a65d8b617c01",
   "metadata": {},
   "outputs": [],
   "source": [
    "plt.scatter(x=highs_sas, y=highs_sas_p)"
   ]
  },
  {
   "cell_type": "code",
   "execution_count": null,
   "id": "1e061767-a542-4920-9c9c-e11860898cb9",
   "metadata": {},
   "outputs": [],
   "source": []
  }
 ],
 "metadata": {
  "kernelspec": {
   "display_name": "Python 3 (ipykernel)",
   "language": "python",
   "name": "python3"
  },
  "language_info": {
   "codemirror_mode": {
    "name": "ipython",
    "version": 3
   },
   "file_extension": ".py",
   "mimetype": "text/x-python",
   "name": "python",
   "nbconvert_exporter": "python",
   "pygments_lexer": "ipython3",
   "version": "3.9.13"
  }
 },
 "nbformat": 4,
 "nbformat_minor": 5
}
