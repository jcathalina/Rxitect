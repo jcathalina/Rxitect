{
 "cells": [
  {
   "cell_type": "code",
   "execution_count": 1,
   "id": "503a218f-2054-4f65-b190-7eec42593da7",
   "metadata": {},
   "outputs": [],
   "source": [
    "%load_ext autoreload\n",
    "%autoreload 2"
   ]
  },
  {
   "cell_type": "code",
   "execution_count": 2,
   "id": "fe1b921b-72f7-4bce-96ae-09f02c6d23b9",
   "metadata": {},
   "outputs": [],
   "source": [
    "import torch\n",
    "import torch.nn as nn\n",
    "from torch import optim\n",
    "from pyprojroot import here\n",
    "from torch.utils.data import DataLoader\n",
    "\n",
    "from rxitect.data import SelfiesDataset, SmilesDataset\n",
    "from rxitect.models import LSTMGenerator\n",
    "from rxitect.tokenizers import SelfiesTokenizer, SmilesTokenizer, get_tokenizer"
   ]
  },
  {
   "cell_type": "code",
   "execution_count": 3,
   "id": "e95fd165-321a-46d7-b926-8b675919e7c0",
   "metadata": {},
   "outputs": [],
   "source": [
    "def smiles_tokenizer() -> SmilesTokenizer:\n",
    "    test_vocabulary_filepath = here() / \"tests/data/test_smiles_voc.txt\"\n",
    "    smiles_tokenizer = get_tokenizer(\"smiles\", test_vocabulary_filepath, 100)\n",
    "    return smiles_tokenizer\n",
    "\n",
    "def smiles_dataloader(smiles_tokenizer) -> DataLoader:\n",
    "    test_dataset_filepath = here() / \"tests/data/test.smi\"\n",
    "    dataset = SmilesDataset(\n",
    "        dataset_filepath=test_dataset_filepath, tokenizer=smiles_tokenizer\n",
    "    )\n",
    "    dataloader = DataLoader(\n",
    "        dataset=dataset,\n",
    "        batch_size=128,\n",
    "        num_workers=1,\n",
    "        shuffle=True,\n",
    "        pin_memory=True,\n",
    "        collate_fn=SmilesDataset.collate_fn,\n",
    "    )\n",
    "    return dataloader"
   ]
  },
  {
   "cell_type": "code",
   "execution_count": 4,
   "id": "48f4426a-34a6-42cb-bd22-04fe67b58fdf",
   "metadata": {},
   "outputs": [],
   "source": [
    "net = LSTMGenerator(vocabulary_filepath=\"../tests/data/test_smiles_voc.txt\", device=\"cuda\")\n",
    "dataloader = smiles_dataloader(net.tokenizer)"
   ]
  },
  {
   "cell_type": "code",
   "execution_count": 5,
   "id": "0d766db9-14a8-4616-8e66-1ff40ac6925e",
   "metadata": {},
   "outputs": [
    {
     "ename": "RuntimeError",
     "evalue": "gather(): Expected dtype int64 for index",
     "output_type": "error",
     "traceback": [
      "\u001b[0;31m---------------------------------------------------------------------------\u001b[0m",
      "\u001b[0;31mRuntimeError\u001b[0m                              Traceback (most recent call last)",
      "Cell \u001b[0;32mIn [5], line 15\u001b[0m\n\u001b[1;32m     13\u001b[0m \u001b[38;5;28;01mfor\u001b[39;00m i, batch \u001b[38;5;129;01min\u001b[39;00m \u001b[38;5;28menumerate\u001b[39m(dataloader):\n\u001b[1;32m     14\u001b[0m     optimizer\u001b[38;5;241m.\u001b[39mzero_grad()\n\u001b[0;32m---> 15\u001b[0m     loss_train \u001b[38;5;241m=\u001b[39m \u001b[43mnet\u001b[49m\u001b[38;5;241;43m.\u001b[39;49m\u001b[43mlikelihood\u001b[49m\u001b[43m(\u001b[49m\u001b[43mbatch\u001b[49m\u001b[38;5;241;43m.\u001b[39;49m\u001b[43mto\u001b[49m\u001b[43m(\u001b[49m\u001b[43mutils\u001b[49m\u001b[38;5;241;43m.\u001b[39;49m\u001b[43mdev\u001b[49m\u001b[43m)\u001b[49m\u001b[43m)\u001b[49m\n\u001b[1;32m     16\u001b[0m     loss_train \u001b[38;5;241m=\u001b[39m \u001b[38;5;241m-\u001b[39mloss_train\u001b[38;5;241m.\u001b[39mmean()\n\u001b[1;32m     17\u001b[0m     loss_train\u001b[38;5;241m.\u001b[39mbackward()\n",
      "File \u001b[0;32m~/thesis/final/rxitect/models/rnn_generators.py:104\u001b[0m, in \u001b[0;36mLSTMGenerator.likelihood\u001b[0;34m(self, target)\u001b[0m\n\u001b[1;32m    102\u001b[0m logits, h \u001b[38;5;241m=\u001b[39m \u001b[38;5;28mself\u001b[39m(x, h)\n\u001b[1;32m    103\u001b[0m logits \u001b[38;5;241m=\u001b[39m logits\u001b[38;5;241m.\u001b[39mlog_softmax(dim\u001b[38;5;241m=\u001b[39m\u001b[38;5;241m-\u001b[39m\u001b[38;5;241m1\u001b[39m)\n\u001b[0;32m--> 104\u001b[0m score \u001b[38;5;241m=\u001b[39m \u001b[43mlogits\u001b[49m\u001b[38;5;241;43m.\u001b[39;49m\u001b[43mgather\u001b[49m\u001b[43m(\u001b[49m\u001b[38;5;241;43m1\u001b[39;49m\u001b[43m,\u001b[49m\u001b[43m \u001b[49m\u001b[43mtarget\u001b[49m\u001b[43m[\u001b[49m\u001b[43m:\u001b[49m\u001b[43m,\u001b[49m\u001b[43m \u001b[49m\u001b[43mstep\u001b[49m\u001b[43m \u001b[49m\u001b[43m:\u001b[49m\u001b[43m \u001b[49m\u001b[43mstep\u001b[49m\u001b[43m \u001b[49m\u001b[38;5;241;43m+\u001b[39;49m\u001b[43m \u001b[49m\u001b[38;5;241;43m1\u001b[39;49m\u001b[43m]\u001b[49m\u001b[43m)\u001b[49m\u001b[38;5;241m.\u001b[39msqueeze()\n\u001b[1;32m    105\u001b[0m scores[:, step] \u001b[38;5;241m=\u001b[39m score\n\u001b[1;32m    106\u001b[0m x \u001b[38;5;241m=\u001b[39m target[:, step]\n",
      "\u001b[0;31mRuntimeError\u001b[0m: gather(): Expected dtype int64 for index"
     ]
    }
   ],
   "source": [
    "class Utils:\n",
    "    def __init__(self):\n",
    "        self.dev = \"cuda\"\n",
    "\n",
    "utils = Utils()\n",
    "\n",
    "lr = 1e-3\n",
    "epochs = 10_000\n",
    "\n",
    "\n",
    "optimizer = optim.Adam(net.parameters(), lr=lr)\n",
    "for epoch in range(epochs):\n",
    "    for i, batch in enumerate(dataloader):\n",
    "        optimizer.zero_grad()\n",
    "        loss_train = net.likelihood(batch.to(utils.dev))\n",
    "        loss_train = -loss_train.mean()\n",
    "        loss_train.backward()\n",
    "        optimizer.step()\n",
    "        if i % 10 == 0:\n",
    "            seqs = net.sample(len(batch * 2))\n",
    "            info = \"Epoch: %d step: %d loss_train: %.3f\" % (epoch, i, loss_train.item())"
   ]
  },
  {
   "cell_type": "code",
   "execution_count": null,
   "id": "71640225-347c-4b77-a5e9-246e5b9af420",
   "metadata": {},
   "outputs": [],
   "source": []
  }
 ],
 "metadata": {
  "kernelspec": {
   "display_name": "Python 3 (ipykernel)",
   "language": "python",
   "name": "python3"
  },
  "language_info": {
   "codemirror_mode": {
    "name": "ipython",
    "version": 3
   },
   "file_extension": ".py",
   "mimetype": "text/x-python",
   "name": "python",
   "nbconvert_exporter": "python",
   "pygments_lexer": "ipython3",
   "version": "3.8.13"
  }
 },
 "nbformat": 4,
 "nbformat_minor": 5
}
