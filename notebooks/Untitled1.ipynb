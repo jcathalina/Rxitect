{
 "cells": [
  {
   "cell_type": "code",
   "execution_count": 7,
   "id": "c123edca-9308-47fd-89e6-08c79f9211e7",
   "metadata": {},
   "outputs": [],
   "source": [
    "import pandas as pd\n",
    "from rdkit import Chem"
   ]
  },
  {
   "cell_type": "code",
   "execution_count": 37,
   "id": "8d522058-0a82-4eaf-891c-f6b05849484b",
   "metadata": {},
   "outputs": [],
   "source": [
    "data = pd.read_json(\"../data/bengio2021_fragments_105.json\")"
   ]
  },
  {
   "cell_type": "code",
   "execution_count": 38,
   "id": "3cd40324-900e-4c3d-9c8b-7bbbe5afd44c",
   "metadata": {},
   "outputs": [],
   "source": [
    "u_data = data.drop_duplicates(subset=[\"block_smi\"])"
   ]
  },
  {
   "cell_type": "code",
   "execution_count": 19,
   "id": "0f3bddb1-0088-4ee5-90ad-0d279dd95846",
   "metadata": {},
   "outputs": [],
   "source": [
    "frags_smi = u_data[\"block_smi\"]\n"
   ]
  },
  {
   "cell_type": "code",
   "execution_count": 20,
   "id": "fce9e2fc-6886-48fa-9db7-3bad34c98a94",
   "metadata": {},
   "outputs": [],
   "source": [
    "frags_mol = [Chem.MolFromSmiles(i) for i in frags_smi]"
   ]
  },
  {
   "cell_type": "code",
   "execution_count": 21,
   "id": "236ccef9-899d-4ef4-9cc5-f24903bd7b8a",
   "metadata": {},
   "outputs": [],
   "source": [
    "frags_stems_auto = [[\n",
    "            atom_idx for atom_idx in range(m.GetNumAtoms()) if m.GetAtomWithIdx(atom_idx).GetTotalNumHs() > 0\n",
    "        ] for m in frags_mol]"
   ]
  },
  {
   "cell_type": "code",
   "execution_count": 22,
   "id": "d24776bb-40bb-4c87-ba5e-87e208192764",
   "metadata": {},
   "outputs": [
    {
     "data": {
      "text/plain": [
       "[[0, 1, 2, 3, 4, 5],\n",
       " [0, 1],\n",
       " [0],\n",
       " [0, 1, 2, 3, 4, 5],\n",
       " [0],\n",
       " [0],\n",
       " [0, 1, 2, 4, 5],\n",
       " [0, 1, 2],\n",
       " [0, 1],\n",
       " [1, 2, 3],\n",
       " [1, 2],\n",
       " [0, 1, 2],\n",
       " [0, 1, 2, 4, 5, 6, 7, 9],\n",
       " [0, 1],\n",
       " [0, 1, 2, 3, 4],\n",
       " [0, 1],\n",
       " [0],\n",
       " [0],\n",
       " [0, 1, 2],\n",
       " [2],\n",
       " [0],\n",
       " [0, 1, 2, 4],\n",
       " [0, 2, 5, 6],\n",
       " [0, 1, 2, 3, 4],\n",
       " [0, 1, 2, 4, 5, 6, 8],\n",
       " [0, 1, 3, 4, 5],\n",
       " [0, 1, 2, 3, 4, 5],\n",
       " [0, 1, 2],\n",
       " [0, 1, 3],\n",
       " [],\n",
       " [0, 1, 2, 3, 4],\n",
       " [0, 1, 3, 4],\n",
       " [1],\n",
       " [1],\n",
       " [0, 1, 2, 4],\n",
       " [1, 2, 3],\n",
       " [0],\n",
       " [0, 1, 2, 3],\n",
       " [0],\n",
       " [2, 3, 6, 7],\n",
       " [0, 1, 3],\n",
       " [0, 1, 3, 5],\n",
       " [0],\n",
       " [0, 1, 2, 3, 4, 5],\n",
       " [0, 1, 2, 3, 4, 5],\n",
       " [0, 1, 2],\n",
       " [0, 1],\n",
       " [0, 1, 2, 4, 5],\n",
       " [0, 1, 2, 3],\n",
       " [0, 1],\n",
       " [0, 1, 2],\n",
       " [0, 2],\n",
       " [0],\n",
       " [0, 1],\n",
       " [2, 3, 4, 7],\n",
       " [0, 1, 2, 3, 4, 5],\n",
       " [0, 1, 2],\n",
       " [0, 1],\n",
       " [1, 3],\n",
       " [0, 1],\n",
       " [0, 2, 3],\n",
       " [0, 1],\n",
       " [1],\n",
       " [3, 4, 5, 6],\n",
       " [1],\n",
       " [0, 1, 2, 3, 4, 5],\n",
       " [2, 3, 7, 8, 9, 10],\n",
       " [],\n",
       " [1, 3],\n",
       " [4, 6, 7, 8, 9, 15],\n",
       " [0, 1],\n",
       " [0, 1, 3, 4, 5]]"
      ]
     },
     "execution_count": 22,
     "metadata": {},
     "output_type": "execute_result"
    }
   ],
   "source": [
    "frags_stems_auto"
   ]
  },
  {
   "cell_type": "code",
   "execution_count": 23,
   "id": "3b555216-4284-4267-8c2f-ced4b2fd56fb",
   "metadata": {},
   "outputs": [],
   "source": [
    "frags_stems_man = u_data[\"block_r\"]"
   ]
  },
  {
   "cell_type": "code",
   "execution_count": 24,
   "id": "4e2e6f4f-9ce3-4b90-a3c0-9847bc12f8bf",
   "metadata": {},
   "outputs": [
    {
     "data": {
      "text/plain": [
       "0      [0, 1, 2, 3, 4, 5]\n",
       "1                  [0, 1]\n",
       "3                     [0]\n",
       "4                  [0, 3]\n",
       "7                     [0]\n",
       "              ...        \n",
       "98                    [1]\n",
       "99                    [1]\n",
       "100             [8, 4, 7]\n",
       "103                   [1]\n",
       "104                   [5]\n",
       "Name: block_r, Length: 72, dtype: object"
      ]
     },
     "execution_count": 24,
     "metadata": {},
     "output_type": "execute_result"
    }
   ],
   "source": [
    "frags_stems_man"
   ]
  },
  {
   "cell_type": "code",
   "execution_count": 32,
   "id": "85312992-0676-4dc9-801a-971f592c639f",
   "metadata": {},
   "outputs": [
    {
     "data": {
      "text/plain": [
       "[[0, 1, 2, 3, 4, 5]]"
      ]
     },
     "execution_count": 32,
     "metadata": {},
     "output_type": "execute_result"
    }
   ],
   "source": [
    "[[\n",
    "            atom_idx for atom_idx in range(m.GetNumAtoms()) if m.GetAtomWithIdx(atom_idx).GetTotalNumHs() > 0\n",
    "        ] for m in [frags_mol[3]]]"
   ]
  },
  {
   "cell_type": "code",
   "execution_count": 48,
   "id": "2996ce23-80ab-49c6-a11c-1738ad52d443",
   "metadata": {},
   "outputs": [
    {
     "data": {
      "text/plain": [
       "'C=O'"
      ]
     },
     "execution_count": 48,
     "metadata": {},
     "output_type": "execute_result"
    }
   ],
   "source": [
    "Chem.MolToSmiles(frags_mol[2])"
   ]
  },
  {
   "cell_type": "code",
   "execution_count": 44,
   "id": "cfaa6943-d628-4060-8518-9bb888b46b64",
   "metadata": {},
   "outputs": [
    {
     "data": {
      "text/html": [
       "<div>\n",
       "<style scoped>\n",
       "    .dataframe tbody tr th:only-of-type {\n",
       "        vertical-align: middle;\n",
       "    }\n",
       "\n",
       "    .dataframe tbody tr th {\n",
       "        vertical-align: top;\n",
       "    }\n",
       "\n",
       "    .dataframe thead th {\n",
       "        text-align: right;\n",
       "    }\n",
       "</style>\n",
       "<table border=\"1\" class=\"dataframe\">\n",
       "  <thead>\n",
       "    <tr style=\"text-align: right;\">\n",
       "      <th></th>\n",
       "      <th>block_name</th>\n",
       "      <th>block_smi</th>\n",
       "      <th>block_r</th>\n",
       "    </tr>\n",
       "  </thead>\n",
       "  <tbody>\n",
       "    <tr>\n",
       "      <th>0</th>\n",
       "      <td>c1ccccc1_0</td>\n",
       "      <td>c1ccccc1</td>\n",
       "      <td>[0, 1, 2, 3, 4, 5]</td>\n",
       "    </tr>\n",
       "    <tr>\n",
       "      <th>1</th>\n",
       "      <td>CO_0</td>\n",
       "      <td>CO</td>\n",
       "      <td>[0, 1]</td>\n",
       "    </tr>\n",
       "    <tr>\n",
       "      <th>3</th>\n",
       "      <td>C=O_0</td>\n",
       "      <td>C=O</td>\n",
       "      <td>[0]</td>\n",
       "    </tr>\n",
       "    <tr>\n",
       "      <th>4</th>\n",
       "      <td>C1CCNCC1_0</td>\n",
       "      <td>C1CCNCC1</td>\n",
       "      <td>[0, 3]</td>\n",
       "    </tr>\n",
       "    <tr>\n",
       "      <th>7</th>\n",
       "      <td>O_0</td>\n",
       "      <td>O</td>\n",
       "      <td>[0]</td>\n",
       "    </tr>\n",
       "    <tr>\n",
       "      <th>...</th>\n",
       "      <td>...</td>\n",
       "      <td>...</td>\n",
       "      <td>...</td>\n",
       "    </tr>\n",
       "    <tr>\n",
       "      <th>98</th>\n",
       "      <td>O=P[O-]_2</td>\n",
       "      <td>O=P[O-]</td>\n",
       "      <td>[1]</td>\n",
       "    </tr>\n",
       "    <tr>\n",
       "      <th>99</th>\n",
       "      <td>O=[PH]([O-])O_3</td>\n",
       "      <td>O=[PH]([O-])O</td>\n",
       "      <td>[1]</td>\n",
       "    </tr>\n",
       "    <tr>\n",
       "      <th>100</th>\n",
       "      <td>O=c1nc2[nH]c3ccccc3nc-2c(=O)[nH]1_2</td>\n",
       "      <td>O=c1nc2[nH]c3ccccc3nc-2c(=O)[nH]1</td>\n",
       "      <td>[8, 4, 7]</td>\n",
       "    </tr>\n",
       "    <tr>\n",
       "      <th>103</th>\n",
       "      <td>C[SH2+]_1</td>\n",
       "      <td>C[SH2+]</td>\n",
       "      <td>[1]</td>\n",
       "    </tr>\n",
       "    <tr>\n",
       "      <th>104</th>\n",
       "      <td>C1COCC[NH2+]1_4</td>\n",
       "      <td>C1COCC[NH2+]1</td>\n",
       "      <td>[5]</td>\n",
       "    </tr>\n",
       "  </tbody>\n",
       "</table>\n",
       "<p>72 rows × 3 columns</p>\n",
       "</div>"
      ],
      "text/plain": [
       "                              block_name                          block_smi  \\\n",
       "0                             c1ccccc1_0                           c1ccccc1   \n",
       "1                                   CO_0                                 CO   \n",
       "3                                  C=O_0                                C=O   \n",
       "4                             C1CCNCC1_0                           C1CCNCC1   \n",
       "7                                    O_0                                  O   \n",
       "..                                   ...                                ...   \n",
       "98                             O=P[O-]_2                            O=P[O-]   \n",
       "99                       O=[PH]([O-])O_3                      O=[PH]([O-])O   \n",
       "100  O=c1nc2[nH]c3ccccc3nc-2c(=O)[nH]1_2  O=c1nc2[nH]c3ccccc3nc-2c(=O)[nH]1   \n",
       "103                            C[SH2+]_1                            C[SH2+]   \n",
       "104                      C1COCC[NH2+]1_4                      C1COCC[NH2+]1   \n",
       "\n",
       "                block_r  \n",
       "0    [0, 1, 2, 3, 4, 5]  \n",
       "1                [0, 1]  \n",
       "3                   [0]  \n",
       "4                [0, 3]  \n",
       "7                   [0]  \n",
       "..                  ...  \n",
       "98                  [1]  \n",
       "99                  [1]  \n",
       "100           [8, 4, 7]  \n",
       "103                 [1]  \n",
       "104                 [5]  \n",
       "\n",
       "[72 rows x 3 columns]"
      ]
     },
     "execution_count": 44,
     "metadata": {},
     "output_type": "execute_result"
    }
   ],
   "source": [
    "u_data"
   ]
  },
  {
   "cell_type": "code",
   "execution_count": 54,
   "id": "ace63a8c-e011-4940-9fc4-de0f73e50341",
   "metadata": {},
   "outputs": [],
   "source": [
    "u_data[\"block_r\"].reset_index(drop=True).to_csv(\"../data/bengio2021_stems_72.txt\", header=None, index=False)"
   ]
  },
  {
   "cell_type": "code",
   "execution_count": 65,
   "id": "2f146adc-1de3-4b03-9a6c-8978a2a9a5c5",
   "metadata": {},
   "outputs": [],
   "source": [
    "x = pd.read_csv(\"../data/bengio2021_stems_72.txt\", header=None)"
   ]
  },
  {
   "cell_type": "code",
   "execution_count": 66,
   "id": "f5c426f2-0f15-4215-940e-ce2f78518a59",
   "metadata": {},
   "outputs": [
    {
     "data": {
      "text/plain": [
       "[0, 1, 2, 3, 4, 5]"
      ]
     },
     "execution_count": 66,
     "metadata": {},
     "output_type": "execute_result"
    }
   ],
   "source": [
    "eval(x[0][0])"
   ]
  },
  {
   "cell_type": "code",
   "execution_count": 96,
   "id": "347ffe89-61aa-498c-b944-2265e0e7bc80",
   "metadata": {},
   "outputs": [
    {
     "data": {
      "text/plain": [
       "[[0, 1, 2, 3, 4, 5],\n",
       " [0, 1],\n",
       " [0],\n",
       " [0, 3],\n",
       " [0],\n",
       " [0],\n",
       " [0, 1, 2, 4, 5],\n",
       " [0, 2],\n",
       " [0, 1],\n",
       " [1],\n",
       " [1],\n",
       " [1],\n",
       " [0],\n",
       " [0, 1],\n",
       " [0],\n",
       " [0, 1, 1],\n",
       " [0],\n",
       " [0],\n",
       " [1],\n",
       " [1],\n",
       " [0],\n",
       " [0, 4, 1, 2, 4],\n",
       " [2, 6],\n",
       " [0],\n",
       " [6],\n",
       " [5],\n",
       " [0, 1, 2, 3, 4, 5],\n",
       " [1],\n",
       " [0, 3],\n",
       " [1],\n",
       " [0, 3, 4],\n",
       " [0, 1, 3, 4],\n",
       " [1],\n",
       " [1],\n",
       " [2, 4],\n",
       " [1],\n",
       " [0],\n",
       " [1],\n",
       " [0],\n",
       " [3, 6],\n",
       " [0],\n",
       " [0, 1, 3, 5],\n",
       " [0],\n",
       " [2, 5],\n",
       " [1, 3],\n",
       " [0],\n",
       " [0, 1],\n",
       " [0, 1, 2, 4, 5],\n",
       " [1],\n",
       " [1],\n",
       " [1],\n",
       " [2],\n",
       " [0],\n",
       " [1],\n",
       " [2, 4],\n",
       " [0, 2],\n",
       " [0, 1],\n",
       " [0],\n",
       " [1],\n",
       " [0],\n",
       " [0],\n",
       " [0],\n",
       " [1],\n",
       " [3, 6],\n",
       " [1],\n",
       " [0],\n",
       " [3, 8],\n",
       " [1],\n",
       " [1],\n",
       " [8, 4, 7],\n",
       " [1],\n",
       " [5]]"
      ]
     },
     "execution_count": 96,
     "metadata": {},
     "output_type": "execute_result"
    }
   ],
   "source": [
    "import numpy as np\n",
    "list((map(lambda y: eval(y[0]), x.values)))"
   ]
  },
  {
   "cell_type": "code",
   "execution_count": 97,
   "id": "42beb36b-fa2e-4a3b-8edc-9b55452c07f7",
   "metadata": {},
   "outputs": [
    {
     "name": "stderr",
     "output_type": "stream",
     "text": [
      "[01:16:56] Explicit valence for atom # 4 N, 7, is greater than permitted\n"
     ]
    }
   ],
   "source": [
    "mx = Chem.MolFromSmiles(\"CC(C)C[NH3+](C)(c1ccsc1)(O(=C[O-])c1(C2=CCCCC2)ccccc1)c1(I)nc2cncnc2[nH]1\")"
   ]
  },
  {
   "cell_type": "code",
   "execution_count": 104,
   "id": "d69e3d06-47e3-4e13-a5de-6936f01a0883",
   "metadata": {},
   "outputs": [],
   "source": [
    "from rdkit import Chem\n",
    "from rdkit.Chem.Draw import IPythonConsole\n",
    "from rdkit.Chem import Draw\n",
    "IPythonConsole.ipython_useSVG=True  #< set this to False if you want PNGs instead of SVGs"
   ]
  },
  {
   "cell_type": "code",
   "execution_count": 106,
   "id": "61c92f59-3f86-4530-ba4a-8fc1e833cd7e",
   "metadata": {},
   "outputs": [],
   "source": [
    "mxx = Chem.MolFromSmiles(\"CCC\")"
   ]
  },
  {
   "cell_type": "code",
   "execution_count": 107,
   "id": "1595073a-44e6-4c85-9e0a-159919b189a6",
   "metadata": {},
   "outputs": [
    {
     "data": {
      "image/png": "[encoded data removed]",
      "image/svg+xml": [
       "<?xml version='1.0' encoding='iso-8859-1'?>\n",
       "<svg version='1.1' baseProfile='full'\n",
       "              xmlns='http://www.w3.org/2000/svg'\n",
       "                      xmlns:rdkit='http://www.rdkit.org/xml'\n",
       "                      xmlns:xlink='http://www.w3.org/1999/xlink'\n",
       "                  xml:space='preserve'\n",
       "width='450px' height='150px' viewBox='0 0 450 150'>\n",
       "<!-- END OF HEADER -->\n",
       "<rect style='opacity:1.0;fill:#FFFFFF;stroke:none' width='450.0' height='150.0' x='0.0' y='0.0'> </rect>\n",
       "<path class='bond-0 atom-0 atom-1' d='M 20.5,134.0 L 225.0,16.0' style='fill:none;fill-rule:evenodd;stroke:#000000;stroke-width:2.0px;stroke-linecap:butt;stroke-linejoin:miter;stroke-opacity:1' />\n",
       "<path class='bond-1 atom-1 atom-2' d='M 225.0,16.0 L 429.5,134.0' style='fill:none;fill-rule:evenodd;stroke:#000000;stroke-width:2.0px;stroke-linecap:butt;stroke-linejoin:miter;stroke-opacity:1' />\n",
       "</svg>\n"
      ],
      "text/html": [
       "<?xml version='1.0' encoding='iso-8859-1'?>\n",
       "<svg version='1.1' baseProfile='full'\n",
       "              xmlns='http://www.w3.org/2000/svg'\n",
       "                      xmlns:rdkit='http://www.rdkit.org/xml'\n",
       "                      xmlns:xlink='http://www.w3.org/1999/xlink'\n",
       "                  xml:space='preserve'\n",
       "width='450px' height='150px' viewBox='0 0 450 150'>\n",
       "<!-- END OF HEADER -->\n",
       "<rect style='opacity:1.0;fill:#FFFFFF;stroke:none' width='450.0' height='150.0' x='0.0' y='0.0'> </rect>\n",
       "<path class='bond-0 atom-0 atom-1' d='M 20.5,134.0 L 225.0,16.0' style='fill:none;fill-rule:evenodd;stroke:#000000;stroke-width:2.0px;stroke-linecap:butt;stroke-linejoin:miter;stroke-opacity:1' />\n",
       "<path class='bond-1 atom-1 atom-2' d='M 225.0,16.0 L 429.5,134.0' style='fill:none;fill-rule:evenodd;stroke:#000000;stroke-width:2.0px;stroke-linecap:butt;stroke-linejoin:miter;stroke-opacity:1' />\n",
       "</svg>\n"
      ],
      "text/plain": [
       "<rdkit.Chem.rdchem.Mol at 0x7ff480af6880>"
      ]
     },
     "execution_count": 107,
     "metadata": {},
     "output_type": "execute_result"
    }
   ],
   "source": [
    "mxx"
   ]
  },
  {
   "cell_type": "code",
   "execution_count": 108,
   "id": "c7db3d47-2a8e-4a96-a110-da63bdbf1225",
   "metadata": {},
   "outputs": [],
   "source": [
    "mx"
   ]
  },
  {
   "cell_type": "code",
   "execution_count": null,
   "id": "a9eba3ed-c00a-42d7-8659-2ae9b3570fde",
   "metadata": {},
   "outputs": [],
   "source": []
  }
 ],
 "metadata": {
  "kernelspec": {
   "display_name": "Python 3 (ipykernel)",
   "language": "python",
   "name": "python3"
  },
  "language_info": {
   "codemirror_mode": {
    "name": "ipython",
    "version": 3
   },
   "file_extension": ".py",
   "mimetype": "text/x-python",
   "name": "python",
   "nbconvert_exporter": "python",
   "pygments_lexer": "ipython3",
   "version": "3.9.13"
  }
 },
 "nbformat": 4,
 "nbformat_minor": 5
}
