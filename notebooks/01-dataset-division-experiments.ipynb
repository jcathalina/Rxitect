{
 "cells": [
  {
   "cell_type": "code",
   "execution_count": 1,
   "id": "930f1836-19e0-4e1a-8040-2753bce84bad",
   "metadata": {},
   "outputs": [],
   "source": [
    "import sys  \n",
    "sys.path.insert(0, \"/home/julius/University/Thesis/rxitect/src\")"
   ]
  },
  {
   "cell_type": "code",
   "execution_count": null,
   "id": "d2989db4-fde7-442d-b5e0-611770ee3276",
   "metadata": {},
   "outputs": [],
   "source": [
    "import seaborn as sns\n",
    "import numpy as np\n",
    "import pandas as pd\n",
    "\n",
    "from sklearn.model_selection import train_test_split"
   ]
  },
  {
   "cell_type": "code",
   "execution_count": 2,
   "id": "479862aa-7510-49a1-b4b4-b5253b924f83",
   "metadata": {},
   "outputs": [
    {
     "ename": "ModuleNotFoundError",
     "evalue": "No module named 'src'",
     "output_type": "error",
     "traceback": [
      "\u001b[0;31m---------------------------------------------------------------------------\u001b[0m",
      "\u001b[0;31mModuleNotFoundError\u001b[0m                       Traceback (most recent call last)",
      "Input \u001b[0;32mIn [2]\u001b[0m, in \u001b[0;36m<cell line: 1>\u001b[0;34m()\u001b[0m\n\u001b[0;32m----> 1\u001b[0m \u001b[38;5;28;01mfrom\u001b[39;00m \u001b[38;5;21;01msrc\u001b[39;00m\u001b[38;5;21;01m.\u001b[39;00m\u001b[38;5;21;01mstructs\u001b[39;00m\u001b[38;5;21;01m.\u001b[39;00m\u001b[38;5;21;01mproperty\u001b[39;00m \u001b[38;5;28;01mimport\u001b[39;00m Property\n",
      "\u001b[0;31mModuleNotFoundError\u001b[0m: No module named 'src'"
     ]
    }
   ],
   "source": [
    "from src.structs.property import Property"
   ]
  },
  {
   "cell_type": "code",
   "execution_count": 3,
   "id": "38ad69b2-5c2e-466c-b768-d45c60147669",
   "metadata": {},
   "outputs": [
    {
     "name": "stdout",
     "output_type": "stream",
     "text": [
      "['/home/julius/University/Thesis/rxitect/src', '/home/julius/University/Thesis/rxitect/notebooks', '/home/julius/miniconda3/envs/rxitect/lib/python38.zip', '/home/julius/miniconda3/envs/rxitect/lib/python3.8', '/home/julius/miniconda3/envs/rxitect/lib/python3.8/lib-dynload', '', '/home/julius/miniconda3/envs/rxitect/lib/python3.8/site-packages']\n"
     ]
    }
   ],
   "source": [
    "print(sys.path)"
   ]
  },
  {
   "cell_type": "code",
   "execution_count": null,
   "id": "7a9538e7-e751-48fa-a6ce-ca40f4858704",
   "metadata": {},
   "outputs": [],
   "source": [
    "import pyprojroot"
   ]
  },
  {
   "cell_type": "code",
   "execution_count": null,
   "id": "b346868d-192d-4e06-b739-1912b4c1fa74",
   "metadata": {},
   "outputs": [],
   "source": []
  }
 ],
 "metadata": {
  "kernelspec": {
   "display_name": "Python 3 (ipykernel)",
   "language": "python",
   "name": "python3"
  },
  "language_info": {
   "codemirror_mode": {
    "name": "ipython",
    "version": 3
   },
   "file_extension": ".py",
   "mimetype": "text/x-python",
   "name": "python",
   "nbconvert_exporter": "python",
   "pygments_lexer": "ipython3",
   "version": "3.8.13"
  }
 },
 "nbformat": 4,
 "nbformat_minor": 5
}
