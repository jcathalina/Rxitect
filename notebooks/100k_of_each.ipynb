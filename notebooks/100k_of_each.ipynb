{
 "cells": [
  {
   "cell_type": "code",
   "execution_count": 1,
   "id": "ae5eebd6-0334-4d16-812d-67778bf15559",
   "metadata": {},
   "outputs": [],
   "source": [
    "import pandas as pd"
   ]
  },
  {
   "cell_type": "code",
   "execution_count": 2,
   "id": "63ee6209-29dd-4d1e-bbc0-67b938180d02",
   "metadata": {},
   "outputs": [],
   "source": [
    "drugex_base = pd.read_csv(\"../data/base_case_drugex_selfies_105967_unique.csv\", header=None)"
   ]
  },
  {
   "cell_type": "code",
   "execution_count": 7,
   "id": "802a5c23-389d-49d0-aaa6-9ab61900e71c",
   "metadata": {},
   "outputs": [],
   "source": [
    "drugex_base_100k = drugex_base[0].sample(100_000)"
   ]
  },
  {
   "cell_type": "code",
   "execution_count": 9,
   "id": "9cc7388b-a91f-4b33-8f21-33a41a8ee9bd",
   "metadata": {},
   "outputs": [],
   "source": [
    "drugex_rascore = pd.read_csv(\"../data/rascore_case_drugex_selfies_231100_unique.csv\", header=None)"
   ]
  },
  {
   "cell_type": "code",
   "execution_count": 13,
   "id": "dc982de8-0e43-4828-a6b6-7b130c0c0241",
   "metadata": {},
   "outputs": [],
   "source": [
    "drugex_rascore = drugex_rascore.drop_duplicates()  # slight mistake here, forgot to dedupe so this has to happen"
   ]
  },
  {
   "cell_type": "code",
   "execution_count": 16,
   "id": "0976164b-251c-4eea-b713-6922036ee48e",
   "metadata": {},
   "outputs": [],
   "source": [
    "drugex_rascore_100k = drugex_rascore[0].sample(100_000)"
   ]
  },
  {
   "cell_type": "code",
   "execution_count": 17,
   "id": "fba2ce7c-05fa-435d-93fd-ccede4370140",
   "metadata": {},
   "outputs": [],
   "source": [
    "gfn_base = pd.read_csv(\"../reports/base_case_gfn_tb_beta96_100038_unique.txt\", header=None)"
   ]
  },
  {
   "cell_type": "code",
   "execution_count": 19,
   "id": "48cf818b-803e-4cb6-8b2c-f636256499d5",
   "metadata": {},
   "outputs": [],
   "source": [
    "gfn_base_100k = gfn_base[0].sample(100_000)"
   ]
  },
  {
   "cell_type": "code",
   "execution_count": 20,
   "id": "05f860ae-9f5f-4d2c-a09f-07d3a0c4d9b0",
   "metadata": {},
   "outputs": [],
   "source": [
    "gfn_rascore = pd.read_csv(\"../reports/rascore_case_gfn_tb_beta96_100022_unique.txt\", header=None)"
   ]
  },
  {
   "cell_type": "code",
   "execution_count": 21,
   "id": "4beb631f-9424-42e3-84d8-b22c6e75d0c2",
   "metadata": {},
   "outputs": [],
   "source": [
    "gfn_rascore_100k = gfn_rascore[0].sample(100_000)"
   ]
  },
  {
   "cell_type": "code",
   "execution_count": 24,
   "id": "35ef047b-ed5e-4700-99b4-2e02df7527fd",
   "metadata": {},
   "outputs": [],
   "source": [
    "drugex_base_100k.to_csv(\"../data/temp/drugex_base_100K_smiles.txt\", header=None, index=False)"
   ]
  },
  {
   "cell_type": "code",
   "execution_count": 25,
   "id": "7d9f9132-84c3-4c20-abf6-5456217ff4c0",
   "metadata": {},
   "outputs": [],
   "source": [
    "drugex_rascore_100k.to_csv(\"../data/temp/drugex_rascore_100K_smiles.txt\", header=None, index=False)"
   ]
  },
  {
   "cell_type": "code",
   "execution_count": 26,
   "id": "aa15a1ec-864e-470a-9c0c-d9834670693b",
   "metadata": {},
   "outputs": [],
   "source": [
    "gfn_base_100k.to_csv(\"../data/temp/gfn_tb96_base_100K_smiles.txt\", header=None, index=False)"
   ]
  },
  {
   "cell_type": "code",
   "execution_count": 27,
   "id": "c4eb49e8-6a64-4504-b74f-8b90771e3c47",
   "metadata": {},
   "outputs": [],
   "source": [
    "gfn_rascore_100k.to_csv(\"../data/temp/gfn_tb96_rascore_100K_smiles.txt\", header=None, index=False)"
   ]
  },
  {
   "cell_type": "code",
   "execution_count": null,
   "id": "be90f000-93b9-457d-b30e-5128068fd2d8",
   "metadata": {},
   "outputs": [],
   "source": []
  }
 ],
 "metadata": {
  "kernelspec": {
   "display_name": "Python 3 (ipykernel)",
   "language": "python",
   "name": "python3"
  },
  "language_info": {
   "codemirror_mode": {
    "name": "ipython",
    "version": 3
   },
   "file_extension": ".py",
   "mimetype": "text/x-python",
   "name": "python",
   "nbconvert_exporter": "python",
   "pygments_lexer": "ipython3",
   "version": "3.9.13"
  }
 },
 "nbformat": 4,
 "nbformat_minor": 5
}
