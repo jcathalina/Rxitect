{
 "cells": [
  {
   "cell_type": "code",
   "execution_count": 7,
   "id": "424c1807-4cea-4c9c-a993-1d88be48acd5",
   "metadata": {},
   "outputs": [],
   "source": [
    "from rxitect import gflownet,scorers"
   ]
  },
  {
   "cell_type": "code",
   "execution_count": 9,
   "id": "15f6b1b5-d87e-42c4-80a2-929a1cc2d48b",
   "metadata": {},
   "outputs": [
    {
     "ename": "AttributeError",
     "evalue": "module 'rxitect.scorers' has no attribute 'sascore'",
     "output_type": "error",
     "traceback": [
      "\u001b[0;31m---------------------------------------------------------------------------\u001b[0m",
      "\u001b[0;31mAttributeError\u001b[0m                            Traceback (most recent call last)",
      "Cell \u001b[0;32mIn [9], line 1\u001b[0m\n\u001b[0;32m----> 1\u001b[0m \u001b[43mscorers\u001b[49m\u001b[38;5;241;43m.\u001b[39;49m\u001b[43msascore\u001b[49m\u001b[38;5;241m.\u001b[39mcalculateScore\n",
      "\u001b[0;31mAttributeError\u001b[0m: module 'rxitect.scorers' has no attribute 'sascore'"
     ]
    }
   ],
   "source": [
    "scorers.sascore.calculateScore"
   ]
  },
  {
   "cell_type": "code",
   "execution_count": null,
   "id": "6e238150-684d-4b60-81c1-0b6fc54cd963",
   "metadata": {},
   "outputs": [],
   "source": []
  }
 ],
 "metadata": {
  "kernelspec": {
   "display_name": "Python 3 (ipykernel)",
   "language": "python",
   "name": "python3"
  },
  "language_info": {
   "codemirror_mode": {
    "name": "ipython",
    "version": 3
   },
   "file_extension": ".py",
   "mimetype": "text/x-python",
   "name": "python",
   "nbconvert_exporter": "python",
   "pygments_lexer": "ipython3",
   "version": "3.9.13"
  }
 },
 "nbformat": 4,
 "nbformat_minor": 5
}
