{
 "cells": [
  {
   "cell_type": "code",
   "execution_count": 247,
   "id": "4476560d-8eee-4818-bedd-d2e72458fac5",
   "metadata": {},
   "outputs": [],
   "source": [
    "import pandas as pd\n",
    "from rdkit.Chem import PandasTools\n",
    "from rxitect.chem.utils import calc_fp"
   ]
  },
  {
   "cell_type": "code",
   "execution_count": 183,
   "id": "9f093f57-40a9-4e06-8e0d-7d2cb9d8143d",
   "metadata": {},
   "outputs": [],
   "source": [
    "def lowercase_and_snake_case(string: str) -> str:\n",
    "    string = string.lower()\n",
    "    string = string.replace(\" \", \"_\")\n",
    "    return string"
   ]
  },
  {
   "cell_type": "code",
   "execution_count": 222,
   "id": "d60cb287-92c2-4892-8918-bb935788710e",
   "metadata": {},
   "outputs": [],
   "source": [
    "df = pd.read_table(\"../data/raw/ligand_activity.tsv\", usecols=[\"Smiles\", \"Target ChEMBL ID\", \"pChEMBL Value\", \"Document Year\", \"Standard Type\", \"Standard Relation\", \"Comment\"])"
   ]
  },
  {
   "cell_type": "code",
   "execution_count": 223,
   "id": "acd9fc78-c99c-4532-ab12-05fa2b7b2c4b",
   "metadata": {},
   "outputs": [],
   "source": [
    "df.columns = [lowercase_and_snake_case(column_name) for column_name in df.columns]"
   ]
  },
  {
   "cell_type": "code",
   "execution_count": 224,
   "id": "8b5e2660-9993-4312-b963-6c0869efa350",
   "metadata": {},
   "outputs": [],
   "source": [
    "df.document_year = df.document_year.astype(\"Int32\")"
   ]
  },
  {
   "cell_type": "code",
   "execution_count": 225,
   "id": "0854e0fa-e505-44aa-9eb4-84f4499e2efd",
   "metadata": {},
   "outputs": [],
   "source": [
    "df.dropna(subset=[\"smiles\"], inplace=True)"
   ]
  },
  {
   "cell_type": "code",
   "execution_count": 226,
   "id": "87f71079-1bb5-4d01-84b9-da970a8e75da",
   "metadata": {},
   "outputs": [],
   "source": [
    "df = df[~(df.pchembl_value < 4)]"
   ]
  },
  {
   "cell_type": "code",
   "execution_count": 230,
   "id": "4ecee6ae-f501-415f-8d10-90fa9c9e9d88",
   "metadata": {},
   "outputs": [],
   "source": [
    "doc_year = df.groupby(\"smiles\")[[\"document_year\"]].min().dropna()"
   ]
  },
  {
   "cell_type": "code",
   "execution_count": 191,
   "id": "51e11296-9a8f-4e5a-8f43-6c96806e57ea",
   "metadata": {},
   "outputs": [],
   "source": [
    "df = df.set_index([\"smiles\", \"target_chembl_id\"])"
   ]
  },
  {
   "cell_type": "code",
   "execution_count": 192,
   "id": "bdac882c-c8f6-49dd-8a93-43fad2d3fe52",
   "metadata": {},
   "outputs": [],
   "source": [
    "positive_samples = df.pchembl_value.groupby([\"smiles\", \"target_chembl_id\"]).mean().dropna()"
   ]
  },
  {
   "cell_type": "code",
   "execution_count": 193,
   "id": "18c462ae-6b62-49f6-9966-08ec919188db",
   "metadata": {},
   "outputs": [],
   "source": [
    "inactive = df[(df.comment.str.contains(\"Not Active\") == True)]"
   ]
  },
  {
   "cell_type": "code",
   "execution_count": 194,
   "id": "fefb775a-d4ba-40a1-98e1-fd03c262b7ea",
   "metadata": {},
   "outputs": [],
   "source": [
    "inhibition = df[(df.standard_type == \"Inhibition\") & df.standard_relation.isin([\"'<'\", \"'<='\"])]"
   ]
  },
  {
   "cell_type": "code",
   "execution_count": 195,
   "id": "20d37ade-fdba-437b-904f-420669d7420c",
   "metadata": {},
   "outputs": [],
   "source": [
    "relation = df[(df.standard_type.isin([\"EC50\", \"IC50\", \"Kd\", \"Ki\"])) & df.standard_relation.isin([\"'>'\", \"'>='\"])]"
   ]
  },
  {
   "cell_type": "code",
   "execution_count": 196,
   "id": "12b0e2ea-7a4c-4f05-a74c-c588550707a0",
   "metadata": {},
   "outputs": [],
   "source": [
    "negative_samples = pd.concat([inactive, inhibition, relation])"
   ]
  },
  {
   "cell_type": "code",
   "execution_count": 206,
   "id": "f35f8eb3-79c0-4e68-bfcd-9e8390d4d3f2",
   "metadata": {},
   "outputs": [],
   "source": [
    "negative_samples = negative_samples[~negative_samples.index.isin(positive_samples.index)].copy()"
   ]
  },
  {
   "cell_type": "code",
   "execution_count": 207,
   "id": "e2573bfa-d551-4f3c-a20e-8932ba0509f5",
   "metadata": {},
   "outputs": [],
   "source": [
    "negative_samples.pchembl_value = 3.99"
   ]
  },
  {
   "cell_type": "code",
   "execution_count": 209,
   "id": "33cbd4b1-dc5c-46c0-9eaa-36607c1074fe",
   "metadata": {},
   "outputs": [],
   "source": [
    "negative_samples = negative_samples.pchembl_value.groupby([\"smiles\", \"target_chembl_id\"]).first()"
   ]
  },
  {
   "cell_type": "code",
   "execution_count": 214,
   "id": "d7df6951-9457-49f5-b644-8a60cb5172ea",
   "metadata": {},
   "outputs": [],
   "source": [
    "qsar_data = pd.concat([positive_samples, negative_samples])"
   ]
  },
  {
   "cell_type": "code",
   "execution_count": 217,
   "id": "fb020cef-be83-4106-9b42-6c042e5aebfa",
   "metadata": {},
   "outputs": [],
   "source": [
    "qsar_data = qsar_data.unstack(\"target_chembl_id\")"
   ]
  },
  {
   "cell_type": "code",
   "execution_count": 219,
   "id": "b7533513-3126-4d07-82ac-a6823f4a1950",
   "metadata": {},
   "outputs": [],
   "source": [
    "qsar_data = qsar_data.sample(frac=1, random_state=123)"
   ]
  },
  {
   "cell_type": "code",
   "execution_count": 243,
   "id": "9fa56fb2-62b5-4c9a-a6ec-3fcc9270159d",
   "metadata": {},
   "outputs": [],
   "source": [
    "train_idx = qsar_data.index.intersection(doc_year[(doc_year.document_year > 2015) == False].index)\n",
    "test_idx = qsar_data.index.intersection(doc_year[(doc_year.document_year > 2015) == True].index)"
   ]
  },
  {
   "cell_type": "code",
   "execution_count": 249,
   "id": "ffbcf7f3-885c-4012-affa-3192ef6f41de",
   "metadata": {},
   "outputs": [],
   "source": [
    "# qsar_data_train = qsar_data.loc[train_idx].reset_index(\"smiles\")\n",
    "# qsar_data_test = qsar_data.loc[test_idx].reset_index(\"smiles\")"
   ]
  },
  {
   "cell_type": "code",
   "execution_count": 253,
   "id": "852a1c31-8216-468f-9b69-ba9241c29b7d",
   "metadata": {
    "tags": []
   },
   "outputs": [],
   "source": [
    "# PandasTools.AddMoleculeColumnToFrame(qsar_data_train, 'smiles', 'mol')\n",
    "# PandasTools.AddMoleculeColumnToFrame(qsar_data_test, 'smiles', 'mol')"
   ]
  },
  {
   "cell_type": "code",
   "execution_count": 255,
   "id": "cd956459-086b-4f07-a86b-8c6de9997182",
   "metadata": {},
   "outputs": [],
   "source": [
    "# qsar_data_train[\"fingerprint\"] = qsar_data_train.mol.apply(calc_fp)\n",
    "# qsar_data_test[\"fingerprint\"] = qsar_data_test.mol.apply(calc_fp)"
   ]
  },
  {
   "cell_type": "code",
   "execution_count": 271,
   "id": "e014705f-64ba-499a-97cd-1b4a53234184",
   "metadata": {},
   "outputs": [],
   "source": [
    "# X_train, y_train = qsar_data_train.fingerprint, qsar_data_train[[\"CHEMBL226\", \"CHEMBL240\", \"CHEMBL251\"]]\n",
    "# X_test, y_test = qsar_data_test.fingerprint, qsar_data_test[[\"CHEMBL226\", \"CHEMBL240\", \"CHEMBL251\"]]"
   ]
  },
  {
   "cell_type": "code",
   "execution_count": 295,
   "id": "7faa980d-81d2-4037-89d0-483d1b194966",
   "metadata": {
    "collapsed": true,
    "jupyter": {
     "outputs_hidden": true
    },
    "tags": []
   },
   "outputs": [
    {
     "name": "stderr",
     "output_type": "stream",
     "text": [
      "/tmp/ipykernel_46135/683718254.py:3: SettingWithCopyWarning: \n",
      "A value is trying to be set on a copy of a slice from a DataFrame\n",
      "\n",
      "See the caveats in the documentation: https://pandas.pydata.org/pandas-docs/stable/user_guide/indexing.html#returning-a-view-versus-a-copy\n",
      "  to_write[\"temporal_split_test\"].loc[train_idx] = False\n"
     ]
    }
   ],
   "source": [
    "to_write = qsar_data.copy()\n",
    "to_write[\"temporal_split_test\"] = True\n",
    "to_write[\"temporal_split_test\"].loc[train_idx] = False\n",
    "to_write.reset_index()\n",
    "to_write.columns.names = [None]\n",
    "to_write.to_csv(\"../data/processed/multitask_ligand_activity.tsv\", sep=\"\\t\", index=True)"
   ]
  },
  {
   "cell_type": "code",
   "execution_count": null,
   "id": "588cfbc9-c26c-4997-8b30-ba009f98bb18",
   "metadata": {},
   "outputs": [],
   "source": []
  }
 ],
 "metadata": {
  "kernelspec": {
   "display_name": "Python 3 (ipykernel)",
   "language": "python",
   "name": "python3"
  },
  "language_info": {
   "codemirror_mode": {
    "name": "ipython",
    "version": 3
   },
   "file_extension": ".py",
   "mimetype": "text/x-python",
   "name": "python",
   "nbconvert_exporter": "python",
   "pygments_lexer": "ipython3",
   "version": "3.10.5"
  }
 },
 "nbformat": 4,
 "nbformat_minor": 5
}
