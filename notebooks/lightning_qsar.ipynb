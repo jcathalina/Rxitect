{
 "cells": [
  {
   "cell_type": "code",
   "execution_count": 1,
   "id": "d2ea0073-0e29-4b85-980d-322e5a64ae45",
   "metadata": {},
   "outputs": [
    {
     "name": "stderr",
     "output_type": "stream",
     "text": [
      "/home/julius/miniconda3/envs/rxt-dev/lib/python3.10/site-packages/tqdm/auto.py:22: TqdmWarning: IProgress not found. Please update jupyter and ipywidgets. See https://ipywidgets.readthedocs.io/en/stable/user_install.html\n",
      "  from .autonotebook import tqdm as notebook_tqdm\n"
     ]
    }
   ],
   "source": [
    "import pandas as pd\n",
    "import selfies as sf\n",
    "import matplotlib.pyplot as plt\n",
    "import seaborn as sns\n",
    "import numpy as np\n",
    "import pytorch_lightning as pl\n",
    "from rxitect.chem.utils import batch_calc_fp, calc_fp, calc_ecfp, calc_physchem\n",
    "from rdkit import Chem\n",
    "from rdkit.Chem import PandasTools, AllChem\n",
    "from sklearn.preprocessing import StandardScaler, MinMaxScaler\n",
    "from sklearn.model_selection import train_test_split\n",
    "from sklearn.feature_selection import VarianceThreshold\n",
    "import torch\n",
    "from torch.utils.data import TensorDataset, DataLoader\n",
    "import torch.nn as nn\n",
    "from sklearn.model_selection import KFold\n",
    "from sklearn.metrics import r2_score, mean_squared_error"
   ]
  },
  {
   "cell_type": "code",
   "execution_count": 2,
   "id": "df655f49-f4a8-411a-a7de-beab78c2cd5d",
   "metadata": {},
   "outputs": [],
   "source": [
    "device = \"cuda\""
   ]
  },
  {
   "cell_type": "code",
   "execution_count": 3,
   "id": "71d7f7dc-c17e-49cb-9235-be86d74c9936",
   "metadata": {},
   "outputs": [],
   "source": [
    "def predict_smiles(model, smiles, scaler):\n",
    "    fp =calc_fp(Chem.MolFromSmiles(smiles)).reshape(1,-1)\n",
    "    fp_filtered = feature_select.transform(fp)\n",
    "    fp_tensor = torch.tensor(fp_filtered, device=device).float()\n",
    "    prediction = model(fp_tensor)\n",
    "    #return prediction.cpu().detach().numpy()\n",
    "    pchembl_value = scaler.inverse_transform(prediction.cpu().detach().numpy())\n",
    "    return pchembl_value[0][0]\n",
    "\n",
    "def safe_smiles_to_selfies(smiles):\n",
    "    try:\n",
    "        return sf.encoder(smiles)\n",
    "    except sf.EncoderError:\n",
    "        pass\n",
    "\n",
    "def flatten(tensor):\n",
    "    return tensor.cpu().detach().numpy().flatten()"
   ]
  },
  {
   "cell_type": "code",
   "execution_count": 4,
   "id": "58c2cfae-ce7a-461c-aca1-fcfb1f7e7ec2",
   "metadata": {},
   "outputs": [],
   "source": [
    "class PchemblRegressor(pl.LightningModule):\n",
    "    def __init__(self, input_size, hidden_size, dropout_rate, out_size, lr, scaler):\n",
    "        super(PchemblRegressor, self).__init__()\n",
    "        # Three layers and a output layer\n",
    "        self.fc1 = nn.Linear(input_size, hidden_size)  # 1st Full-Connected Layer\n",
    "        self.fc2 = nn.Linear(hidden_size, hidden_size)\n",
    "        self.fc3 = nn.Linear(hidden_size, hidden_size)\n",
    "        self.fc_out = nn.Linear(hidden_size, out_size) # Output layer\n",
    "        #Layer normalization for faster training\n",
    "        self.ln1 = nn.LayerNorm(hidden_size)\n",
    "        self.ln2 = nn.LayerNorm(hidden_size)\n",
    "        self.ln3 = nn.LayerNorm(hidden_size)        \n",
    "        #LeakyReLU will be used as the activation function\n",
    "        self.activation = nn.LeakyReLU()\n",
    "        #Dropout for regularization\n",
    "        self.dropout = nn.Dropout(dropout_rate)\n",
    "        self.criterion = nn.MSELoss()\n",
    "        self.lr = lr\n",
    "        self.scaler = scaler\n",
    "        \n",
    "    def training_step(self, batch, batch_idx):\n",
    "        scaled_placeholder = self.scaler.transform(np.array([3.99]).reshape(1, -1)).item()\n",
    "        x, y = batch\n",
    "        output = self(x)\n",
    "        weight = torch.zeros(y.size(), device=self.device)\n",
    "        down_idx = (y == scaled_placeholder)\n",
    "        up_idx = (y != scaled_placeholder)\n",
    "        weight[down_idx] = 0.05\n",
    "        weight[up_idx] = 1\n",
    "        loss = self.criterion(output * weight, y * weight)\n",
    "        return loss\n",
    "     \n",
    "    def forward(self, x):# Forward pass: stacking each layer together\n",
    "        # Fully connected =&amp;gt; Layer Norm =&amp;gt; LeakyReLU =&amp;gt; Dropout times 3\n",
    "        out = self.fc1(x)\n",
    "        out = self.ln1(out)\n",
    "        out = self.activation(out)\n",
    "        out = self.dropout(out)\n",
    "        out = self.fc2(out)\n",
    "        out = self.ln2(out)\n",
    "        out = self.activation(out)\n",
    "        out = self.dropout(out)\n",
    "        out = self.fc3(out)\n",
    "        out = self.ln3(out)\n",
    "        out = self.activation(out)\n",
    "        out = self.dropout(out)\n",
    "        #Final output layer\n",
    "        out = self.fc_out(out)\n",
    "        return out\n",
    "    \n",
    "    def configure_optimizers(self):\n",
    "        return torch.optim.Adam(self.parameters(), lr=self.lr)\n",
    "    \n",
    "    def predict_step(self, batch, batch_idx, dataloader_idx=0):\n",
    "        return self(batch)\n",
    "    \n",
    "    def predict_smiles(self, smiles):\n",
    "        fp =calc_fp(Chem.MolFromSmiles(smiles), radius=3, bit_len=4096).reshape(1,-1)\n",
    "        fp_filtered = feature_select.transform(fp)\n",
    "        fp_tensor = torch.tensor(fp_filtered, device=device, dtype=torch.float32)\n",
    "        prediction = self(fp_tensor)\n",
    "        pchembl_value = self.scaler.inverse_transform(prediction.cpu().detach().numpy())\n",
    "        return pchembl_value[0][0]\n",
    "    \n",
    "    def predict_selfies(self, selfies):\n",
    "        smiles = sf.encoder(selfies)\n",
    "        fp =calc_fp(Chem.MolFromSmiles(smiles)).reshape(1,-1)\n",
    "        fp_filtered = feature_select.transform(fp)\n",
    "        fp_tensor = torch.tensor(fp_filtered, device=device, dtype=torch.float32)\n",
    "        prediction = self(fp_tensor)\n",
    "        pchembl_value = self.scaler.inverse_transform(prediction.cpu().detach().numpy())\n",
    "        return pchembl_value[0][0]\n"
   ]
  },
  {
   "cell_type": "code",
   "execution_count": 5,
   "id": "f3f4f125-80e5-45ed-a7b5-21ec36900f06",
   "metadata": {},
   "outputs": [],
   "source": [
    "df = pd.read_parquet(\"../data/processed/CHEMBL240_dataset_xuhan.pq\")\n",
    "df = df.dropna(subset=['pchembl value'])\n",
    "PandasTools.AddMoleculeColumnToFrame(df, 'smiles', 'mol')\n",
    "df['fingerprint'] = df.mol.apply(calc_fp, args=(3, 4096))\n",
    "timeidx_test = (df['document year'] > 2015).values\n",
    "timeidx_train = (df['document year'] <= 2015).values\n",
    "\n",
    "X = np.stack(df.fingerprint.values)\n",
    "y = df['pchembl value'].values.reshape((-1, 1))"
   ]
  },
  {
   "cell_type": "code",
   "execution_count": 6,
   "id": "8556bb1b-78cd-44a5-87d4-21667ee43d7b",
   "metadata": {},
   "outputs": [],
   "source": [
    "# X_train, X_test, y_train, y_test = X[timeidx_train], X[timeidx_test], y[timeidx_train], y[timeidx_test]\n",
    "X_train, X_test, y_train, y_test = train_test_split(X, y, test_size=0.2, random_state=42)"
   ]
  },
  {
   "cell_type": "code",
   "execution_count": 7,
   "id": "ef663630-25e7-4fda-b7ae-37c49e11afba",
   "metadata": {},
   "outputs": [],
   "source": [
    "scaler = StandardScaler()\n",
    "y_train = scaler.fit_transform(y_train)\n",
    "y_test = scaler.transform(y_test)"
   ]
  },
  {
   "cell_type": "code",
   "execution_count": 8,
   "id": "e62394fd-f091-4c7c-b87f-3aa9c1976ac6",
   "metadata": {},
   "outputs": [],
   "source": [
    "feature_select = VarianceThreshold(threshold=0.05)\n",
    "X_train = feature_select.fit_transform(X_train)\n",
    "X_test = feature_select.transform(X_test)"
   ]
  },
  {
   "cell_type": "code",
   "execution_count": 9,
   "id": "a7743c9f-4f32-4e63-9207-0039050e10a4",
   "metadata": {},
   "outputs": [],
   "source": [
    "X_scaler = MinMaxScaler()\n",
    "X_train = X_scaler.fit_transform(X_train)\n",
    "X_test = X_scaler.transform(X_test)"
   ]
  },
  {
   "cell_type": "code",
   "execution_count": 10,
   "id": "cf28e807-89e6-4473-9d81-709170bec7a0",
   "metadata": {},
   "outputs": [],
   "source": [
    "X_train = torch.tensor(X_train, device=device, dtype=torch.float32)\n",
    "X_test = torch.tensor(X_test, device=device, dtype=torch.float32)\n",
    "y_train = torch.tensor(y_train, device=device, dtype=torch.float32)\n",
    "y_test = torch.tensor(y_test, device=device, dtype=torch.float32)"
   ]
  },
  {
   "cell_type": "code",
   "execution_count": 11,
   "id": "18a64eb0-06b4-4481-aafa-2d0581a3f6d8",
   "metadata": {},
   "outputs": [],
   "source": [
    "train_dataset = TensorDataset(X_train, y_train)\n",
    "train_loader = DataLoader(dataset=train_dataset, batch_size=256, shuffle=True)"
   ]
  },
  {
   "cell_type": "code",
   "execution_count": 12,
   "id": "93e739b3-cb2d-447f-819c-7e938d1c9422",
   "metadata": {},
   "outputs": [],
   "source": [
    "input_size = X_train.size()[-1]\n",
    "hidden_size = 1024\n",
    "dropout_rate = 0.8\n",
    "out_size = 1\n",
    "learning_rate = 0.001"
   ]
  },
  {
   "cell_type": "code",
   "execution_count": 13,
   "id": "cdf16967-efd9-45ce-b235-c096e1f0a407",
   "metadata": {},
   "outputs": [
    {
     "data": {
      "text/plain": [
       "PchemblRegressor(\n",
       "  (fc1): Linear(in_features=204, out_features=1024, bias=True)\n",
       "  (fc2): Linear(in_features=1024, out_features=1024, bias=True)\n",
       "  (fc3): Linear(in_features=1024, out_features=1024, bias=True)\n",
       "  (fc_out): Linear(in_features=1024, out_features=1, bias=True)\n",
       "  (ln1): LayerNorm((1024,), eps=1e-05, elementwise_affine=True)\n",
       "  (ln2): LayerNorm((1024,), eps=1e-05, elementwise_affine=True)\n",
       "  (ln3): LayerNorm((1024,), eps=1e-05, elementwise_affine=True)\n",
       "  (activation): LeakyReLU(negative_slope=0.01)\n",
       "  (dropout): Dropout(p=0.8, inplace=False)\n",
       "  (criterion): MSELoss()\n",
       ")"
      ]
     },
     "execution_count": 13,
     "metadata": {},
     "output_type": "execute_result"
    }
   ],
   "source": [
    "reg = PchemblRegressor(input_size, hidden_size, dropout_rate, out_size, learning_rate, scaler)\n",
    "reg.cuda()"
   ]
  },
  {
   "cell_type": "code",
   "execution_count": 14,
   "id": "64ba09ce-dd42-4ee0-9941-ff1d2cbc2ac9",
   "metadata": {},
   "outputs": [
    {
     "name": "stderr",
     "output_type": "stream",
     "text": [
      "GPU available: True, used: True\n",
      "TPU available: False, using: 0 TPU cores\n",
      "IPU available: False, using: 0 IPUs\n",
      "HPU available: False, using: 0 HPUs\n"
     ]
    }
   ],
   "source": [
    "trainer = pl.Trainer(gpus=1, max_epochs=200)"
   ]
  },
  {
   "cell_type": "code",
   "execution_count": 15,
   "id": "a3c02307-bf22-425a-954f-c52dfa2ce58a",
   "metadata": {},
   "outputs": [
    {
     "name": "stderr",
     "output_type": "stream",
     "text": [
      "LOCAL_RANK: 0 - CUDA_VISIBLE_DEVICES: [0]\n",
      "\n",
      "  | Name       | Type      | Params\n",
      "-----------------------------------------\n",
      "0 | fc1        | Linear    | 209 K \n",
      "1 | fc2        | Linear    | 1.0 M \n",
      "2 | fc3        | Linear    | 1.0 M \n",
      "3 | fc_out     | Linear    | 1.0 K \n",
      "4 | ln1        | LayerNorm | 2.0 K \n",
      "5 | ln2        | LayerNorm | 2.0 K \n",
      "6 | ln3        | LayerNorm | 2.0 K \n",
      "7 | activation | LeakyReLU | 0     \n",
      "8 | dropout    | Dropout   | 0     \n",
      "9 | criterion  | MSELoss   | 0     \n",
      "-----------------------------------------\n",
      "2.3 M     Trainable params\n",
      "0         Non-trainable params\n",
      "2.3 M     Total params\n",
      "9.265     Total estimated model params size (MB)\n",
      "/home/julius/miniconda3/envs/rxt-dev/lib/python3.10/site-packages/pytorch_lightning/trainer/connectors/data_connector.py:240: PossibleUserWarning: The dataloader, train_dataloader, does not have many workers which may be a bottleneck. Consider increasing the value of the `num_workers` argument` (try 16 which is the number of cpus on this machine) in the `DataLoader` init to improve performance.\n",
      "  rank_zero_warn(\n",
      "/home/julius/miniconda3/envs/rxt-dev/lib/python3.10/site-packages/pytorch_lightning/trainer/trainer.py:1933: PossibleUserWarning: The number of training batches (39) is smaller than the logging interval Trainer(log_every_n_steps=50). Set a lower value for log_every_n_steps if you want to see logs for the training epoch.\n",
      "  rank_zero_warn(\n"
     ]
    },
    {
     "name": "stdout",
     "output_type": "stream",
     "text": [
      "Epoch 199: 100%|█| 39/39 [00:00<00:00, 150.88it/s, loss=0.105,\n"
     ]
    }
   ],
   "source": [
    "trainer.fit(model=reg, train_dataloaders=train_loader)"
   ]
  },
  {
   "cell_type": "code",
   "execution_count": 16,
   "id": "96255290-9b7d-4d05-8f96-e960184696da",
   "metadata": {},
   "outputs": [],
   "source": [
    "scaled_px = scaled_placeholder = reg.scaler.transform(np.array([3.99]).reshape(1, -1)).item()\n",
    "\n",
    "to_keep_train = (y_train != scaled_px)\n",
    "y_train_clean = y_train[to_keep_train]\n",
    "X_train_clean = X_train[to_keep_train.reshape(-1)]\n",
    "\n",
    "to_keep_test = (y_test != scaled_px)\n",
    "y_test_clean = y_test[to_keep_test]\n",
    "X_test_clean = X_test[to_keep_test.reshape(-1)]"
   ]
  },
  {
   "cell_type": "code",
   "execution_count": 17,
   "id": "c3d7809f-9ef2-4026-ad37-e401b8d47740",
   "metadata": {},
   "outputs": [
    {
     "data": {
      "text/plain": [
       "[<matplotlib.lines.Line2D at 0x7fd6aa73f6d0>]"
      ]
     },
     "execution_count": 17,
     "metadata": {},
     "output_type": "execute_result"
    },
    {
     "data": {
      "image/png": "[encoded data removed]",
      "text/plain": [
       "<Figure size 432x288 with 1 Axes>"
      ]
     },
     "metadata": {
      "needs_background": "light"
     },
     "output_type": "display_data"
    }
   ],
   "source": [
    "reg.cuda()\n",
    "reg.eval()\n",
    "y_pred_train = reg(X_train_clean)\n",
    "y_pred_test = reg(X_test_clean)\n",
    "\n",
    "plt.scatter(y=scaler.inverse_transform(y_pred_test.cpu().detach().numpy()).reshape(-1), x=scaler.inverse_transform(y_test_clean.cpu().detach().numpy().reshape(-1, 1)), alpha=0.5, label=\"Test\")\n",
    "plt.scatter(y=scaler.inverse_transform(y_pred_train.cpu().detach().numpy()).reshape(-1), x=scaler.inverse_transform(y_train_clean.cpu().detach().numpy().reshape(-1, 1)), alpha=0.1, label=\"Train\")\n",
    "plt.legend()\n",
    "plt.plot()\n",
    "plt.plot([4, 8], [4,8], c=\"b\")"
   ]
  },
  {
   "cell_type": "code",
   "execution_count": 18,
   "id": "b1bcaad5-ccfe-496b-b476-c2a49b4e6dd7",
   "metadata": {},
   "outputs": [
    {
     "name": "stdout",
     "output_type": "stream",
     "text": [
      "TEST R2: 0.7272127171319707\n",
      "TRAIN R2: 0.9233021596162739\n"
     ]
    }
   ],
   "source": [
    "r2_test = r2_score(y_test_clean.cpu(), y_pred_test.detach().cpu())\n",
    "r2_train = r2_score(y_train_clean.cpu(), y_pred_train.detach().cpu())\n",
    "print(f\"TEST R2: {r2_test}\\nTRAIN R2: {r2_train}\")"
   ]
  },
  {
   "cell_type": "code",
   "execution_count": 19,
   "id": "996844ef-05fb-41e3-aaa2-e473c511bc9e",
   "metadata": {},
   "outputs": [
    {
     "name": "stdout",
     "output_type": "stream",
     "text": [
      "TEST RMSE: 0.47188887000083923\n",
      "TRAIN RMSE: 0.24876442551612854\n"
     ]
    }
   ],
   "source": [
    "rmse_test = mean_squared_error(y_test_clean.cpu(), y_pred_test.detach().cpu(), squared=False)\n",
    "rmse_train = mean_squared_error(y_train_clean.cpu(), y_pred_train.detach().cpu(), squared=False)\n",
    "print(f\"TEST RMSE: {rmse_test}\\nTRAIN RMSE: {rmse_train}\")"
   ]
  },
  {
   "cell_type": "code",
   "execution_count": 20,
   "id": "a64e5411-b95c-486f-a589-0b14b17b28c2",
   "metadata": {},
   "outputs": [
    {
     "data": {
      "text/plain": [
       "3.99"
      ]
     },
     "execution_count": 20,
     "metadata": {},
     "output_type": "execute_result"
    }
   ],
   "source": [
    "df['pchembl value'].min()"
   ]
  },
  {
   "cell_type": "code",
   "execution_count": null,
   "id": "6363b9ce-c98e-49ff-838b-3483a9ea66e7",
   "metadata": {},
   "outputs": [],
   "source": []
  }
 ],
 "metadata": {
  "kernelspec": {
   "display_name": "Python 3 (ipykernel)",
   "language": "python",
   "name": "python3"
  },
  "language_info": {
   "codemirror_mode": {
    "name": "ipython",
    "version": 3
   },
   "file_extension": ".py",
   "mimetype": "text/x-python",
   "name": "python",
   "nbconvert_exporter": "python",
   "pygments_lexer": "ipython3",
   "version": "3.10.5"
  }
 },
 "nbformat": 4,
 "nbformat_minor": 5
}
