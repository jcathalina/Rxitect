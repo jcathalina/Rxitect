{
 "cells": [
  {
   "cell_type": "code",
   "execution_count": 1,
   "id": "8c898818-0f8d-46a3-a078-91b2bd5f5f65",
   "metadata": {
    "tags": []
   },
   "outputs": [
    {
     "name": "stderr",
     "output_type": "stream",
     "text": [
      "/home/catj/miniforge3/envs/rxt-dev/lib/python3.8/site-packages/tqdm/auto.py:22: TqdmWarning: IProgress not found. Please update jupyter and ipywidgets. See https://ipywidgets.readthedocs.io/en/stable/user_install.html\n",
      "  from .autonotebook import tqdm as notebook_tqdm\n"
     ]
    }
   ],
   "source": [
    "import pytorch_lightning as pl\n",
    "import torch\n",
    "import torch.nn as nn\n",
    "import torch.nn.functional as F\n",
    "import dask\n",
    "import dask.dataframe as dd\n",
    "import selfies as sf\n",
    "import numpy as np\n",
    "\n",
    "from dask import delayed\n",
    "from torch.nn.utils.rnn import pack_padded_sequence, pad_packed_sequence\n",
    "from torch import optim"
   ]
  },
  {
   "cell_type": "code",
   "execution_count": 2,
   "id": "414ca3c2-d8ef-41d8-9cbc-8fed86c71776",
   "metadata": {},
   "outputs": [],
   "source": [
    "# df = dd.read_csv(\"../data/processed/ligand_CHEMBL240_train_splityear=2015.csv\", dtype={'smiles': str, 'pchembl_value': 'float32'})"
   ]
  },
  {
   "cell_type": "code",
   "execution_count": 3,
   "id": "e4ef41b6-9fab-47f7-8b99-0116220945b9",
   "metadata": {},
   "outputs": [],
   "source": [
    "# df = df.compute()"
   ]
  },
  {
   "cell_type": "code",
   "execution_count": 4,
   "id": "a478311f-5291-4484-b0b6-13dcc70c413e",
   "metadata": {},
   "outputs": [],
   "source": [
    "# df['selfies'] = [sf.encoder(smi) for smi in df['smiles']]"
   ]
  },
  {
   "cell_type": "code",
   "execution_count": 5,
   "id": "06eb03e9-2974-4c9c-9b6a-bf1ef75ca514",
   "metadata": {},
   "outputs": [],
   "source": [
    "# vocab = sf.get_alphabet_from_selfies(df['selfies'])\n",
    "# stoi = {x:i for i, x in enumerate(vocab, start=2)}\n",
    "# stoi['[nop]'] = 0\n",
    "# stoi['.'] = 1"
   ]
  },
  {
   "cell_type": "code",
   "execution_count": 6,
   "id": "7acf7dc5-4455-4907-a78b-63919f0a6cb1",
   "metadata": {},
   "outputs": [],
   "source": [
    "# enc_selfies = [sf.selfies_to_encoding(selfies=selfies, vocab_stoi=stoi, pad_to_len=128, enc_type='label') for selfies in df['selfies']]"
   ]
  },
  {
   "cell_type": "code",
   "execution_count": 7,
   "id": "1457079d-6dbb-49e2-a30a-ff104692e25c",
   "metadata": {},
   "outputs": [],
   "source": [
    "# enc_selfies = list(filter(lambda x: len(x) <= 128, enc_selfies))"
   ]
  },
  {
   "cell_type": "code",
   "execution_count": 8,
   "id": "62dbf865-cf0c-4de2-b137-ea730095b027",
   "metadata": {},
   "outputs": [],
   "source": [
    "# lengths = [np.count_nonzero(es) for es in enc_selfies]"
   ]
  },
  {
   "cell_type": "code",
   "execution_count": 9,
   "id": "841a4e55-efc0-40ba-8e16-cfb2db26a8da",
   "metadata": {},
   "outputs": [],
   "source": [
    "# enc_selfies = torch.tensor(enc_selfies, dtype=torch.long)"
   ]
  },
  {
   "cell_type": "code",
   "execution_count": 10,
   "id": "b27907e4-b100-43a0-903b-2f9bdb6654d7",
   "metadata": {},
   "outputs": [],
   "source": [
    "class Embedding(pl.LightningModule):\n",
    "    def __init__(self, embedding_dim, n_embeddings, padding_idx=None):\n",
    "        super(Embedding, self).__init__()\n",
    "        self.embedding_dim = embedding_dim\n",
    "        self.num_embeddings = n_embeddings\n",
    "        self.padding_idx = padding_idx if padding_idx else None\n",
    "        self.embedding = nn.Embedding(num_embeddings=self.num_embeddings,\n",
    "                                      embedding_dim=self.embedding_dim,\n",
    "                                      padding_idx=self.padding_idx)\n",
    "\n",
    "    def forward(self, inp):\n",
    "        inp = inp.type(torch.long)\n",
    "        embedded = self.embedding(inp)\n",
    "\n",
    "        return embedded"
   ]
  },
  {
   "cell_type": "code",
   "execution_count": 11,
   "id": "e10fc036-0038-444f-8da8-863d48606ae2",
   "metadata": {},
   "outputs": [],
   "source": [
    "# emb = Embedding(128, 128, None)"
   ]
  },
  {
   "cell_type": "code",
   "execution_count": 12,
   "id": "3f8989ae-c41f-4348-b141-637c1e5abbbb",
   "metadata": {},
   "outputs": [],
   "source": [
    "# emb_selfies = emb(enc_selfies)"
   ]
  },
  {
   "cell_type": "code",
   "execution_count": 13,
   "id": "e26a1f69-fb9a-474c-9756-918c791d8f32",
   "metadata": {},
   "outputs": [],
   "source": [
    "# emb_selfies.shape"
   ]
  },
  {
   "cell_type": "code",
   "execution_count": 14,
   "id": "1af2280c-931a-4e90-9331-bc54e0ff78ce",
   "metadata": {},
   "outputs": [],
   "source": [
    "class LSTMEncoder(pl.LightningModule):\n",
    "    def __init__(self, input_dim, encoder_dim, num_layers, dropout):\n",
    "        super(LSTMEncoder, self).__init__()\n",
    "        \n",
    "        self.input_size = input_dim\n",
    "        self.n_directions = 1\n",
    "        self.encoder_dim = encoder_dim\n",
    "        self.n_layers = num_layers\n",
    "\n",
    "        self.rnn = nn.LSTM(input_size=input_dim,\n",
    "                           hidden_size=encoder_dim,\n",
    "                           num_layers=num_layers,\n",
    "                           dropout=dropout,\n",
    "                           batch_first=True)\n",
    "        \n",
    "    def forward(self, inp, previous_hidden=None, pack=True):\n",
    "        input_tensor = inp[0]#inp\n",
    "        input_length = inp[1]#lengths\n",
    "        batch_size = input_tensor.size(0)\n",
    "        # TODO: warning: output shape is changed! (batch_first=True) Check hidden\n",
    "        if pack:\n",
    "            input_lengths_sorted, perm_idx = torch.sort(input_length, dim=0, descending=True)\n",
    "            input_lengths_sorted = input_lengths_sorted.detach().to(device=\"cpu\").tolist()\n",
    "            input_tensor = torch.index_select(input_tensor, 0, perm_idx)\n",
    "            rnn_input = pack_padded_sequence(input=input_tensor,\n",
    "                                             lengths=input_lengths_sorted,\n",
    "                                             batch_first=True)\n",
    "        else:\n",
    "            rnn_input = input_tensor\n",
    "            \n",
    "        if previous_hidden is None:\n",
    "            previous_hidden = self.init_hidden(batch_size)\n",
    "            cell = self.init_cell(batch_size)\n",
    "            previous_hidden = (previous_hidden, cell)\n",
    "        else:\n",
    "            hidden = previous_hidden[0]\n",
    "            cell = previous_hidden[1]\n",
    "            hidden = torch.index_select(hidden, 1, perm_idx)\n",
    "            cell = torch.index_select(cell, 1, perm_idx)\n",
    "            previous_hidden = (hidden, cell)\n",
    "        rnn_output, next_hidden = self.rnn(rnn_input)\n",
    "\n",
    "        if pack:\n",
    "            rnn_output, _ = pad_packed_sequence(rnn_output, batch_first=True)\n",
    "            _, unperm_idx = perm_idx.sort(0)\n",
    "            rnn_output = torch.index_select(rnn_output, 0, unperm_idx)\n",
    "            hidden = next_hidden[0]\n",
    "            cell = next_hidden[1]\n",
    "            hidden = torch.index_select(hidden, 1, unperm_idx)\n",
    "            cell = torch.index_select(cell, 1, unperm_idx)\n",
    "            next_hidden = (hidden, cell)\n",
    "\n",
    "        index_t = (input_length - 1).to(dtype=torch.long)\n",
    "        index_t = index_t.view(-1, 1, 1).expand(-1, 1, rnn_output.size(2))\n",
    "\n",
    "        embedded = torch.gather(rnn_output, dim=1, index=index_t).squeeze(1)\n",
    "\n",
    "        return embedded, next_hidden\n",
    "    \n",
    "    def init_hidden(self, batch_size):\n",
    "        return torch.zeros(self.n_layers * self.n_directions, batch_size, self.encoder_dim)\n",
    "\n",
    "    def init_cell(self, batch_size):\n",
    "        return torch.zeros(self.n_layers * self.n_directions, batch_size, self.encoder_dim)"
   ]
  },
  {
   "cell_type": "code",
   "execution_count": 15,
   "id": "6f06665a-7c39-4fdd-ba3d-b7d352c42616",
   "metadata": {},
   "outputs": [],
   "source": [
    "# lstm = LSTMEncoder(128, 128, 2, 0.8)"
   ]
  },
  {
   "cell_type": "code",
   "execution_count": 16,
   "id": "dacc35cb-8d53-4610-aeea-07adccb85ebf",
   "metadata": {},
   "outputs": [],
   "source": [
    "# lengths = torch.tensor(lengths, dtype=torch.long)  # .reshape(-1, 1)"
   ]
  },
  {
   "cell_type": "code",
   "execution_count": 17,
   "id": "683e34b7-0f03-43a9-b642-8d4bfd169e81",
   "metadata": {},
   "outputs": [],
   "source": [
    "# rnn_out = lstm(emb_selfies, lengths)"
   ]
  },
  {
   "cell_type": "code",
   "execution_count": 18,
   "id": "381b11ff-6c8e-4673-b62a-610ea6e62748",
   "metadata": {},
   "outputs": [],
   "source": [
    "class MLP(pl.LightningModule):\n",
    "    def __init__(self, input_dim, hidden_dim, output_dim):\n",
    "        super(MLP, self).__init__()\n",
    "        \n",
    "        self.input_layer = nn.Linear(input_dim, hidden_dim)\n",
    "        self.out_layer = nn.Linear(hidden_dim, output_dim)\n",
    "        \n",
    "    def forward(self, x):\n",
    "        x = self.input_layer(x)\n",
    "        x = F.relu(x)\n",
    "        x = self.out_layer(x)\n",
    "        return x"
   ]
  },
  {
   "cell_type": "code",
   "execution_count": 19,
   "id": "f9e9a200-5d76-4831-b0e6-bfba337e5138",
   "metadata": {},
   "outputs": [],
   "source": [
    "# mlp = MLP(128, 128, 1)"
   ]
  },
  {
   "cell_type": "code",
   "execution_count": 20,
   "id": "aed7900e-a3cf-4fc9-bb50-c9119932dc50",
   "metadata": {},
   "outputs": [],
   "source": [
    "# mlp(rnn_out[0])"
   ]
  },
  {
   "cell_type": "code",
   "execution_count": 21,
   "id": "9908bccf-fd20-4399-895f-ba91f31789f4",
   "metadata": {},
   "outputs": [],
   "source": [
    "class PChEMBLValueRegressor(pl.LightningModule):\n",
    "    def __init__(self, lr: float):\n",
    "        super(PChEMBLValueRegressor, self).__init__()\n",
    "        self.lr = lr\n",
    "        self.criterion = nn.MSELoss()\n",
    "        self.embedding = Embedding(embedding_dim=128, n_embeddings=128)\n",
    "        self.encoder = LSTMEncoder(input_dim=128, encoder_dim=128, num_layers=2, dropout=0.8)\n",
    "        self.mlp = MLP(input_dim=128, hidden_dim=128, output_dim=1)\n",
    "\n",
    "    def forward(self, inp):\n",
    "        input_tensor = inp[0]\n",
    "        input_length = inp[1]\n",
    "        embedded = self.embedding(input_tensor)\n",
    "        output, _ = self.encoder([embedded, input_length])\n",
    "        output = self.mlp(output)\n",
    "        return output\n",
    "\n",
    "    def configure_optimizers(self):\n",
    "        optimizer = optim.Adam(self.parameters(), lr=self.lr)\n",
    "        scheduler = optim.lr_scheduler.ExponentialLR(optimizer,gamma=0.98)\n",
    "        return [optimizer], [scheduler]\n",
    "\n",
    "    def training_step(self, batch, batch_idx):\n",
    "        x, y = [batch['tokenized_smiles'], batch['length']], batch['labels']\n",
    "        y_pred = self(x).squeeze()\n",
    "        loss = self.criterion(y_pred, y)\n",
    "        return loss\n",
    "    \n",
    "    def test_step(self, batch, batch_idx):\n",
    "        x, y = [batch['tokenized_smiles'], batch['length']], batch['labels']\n",
    "        y_pred = self(x).squeeze()\n",
    "        loss = self.criterion(y_pred, y)\n",
    "        self.log(\"test_loss\", loss)\n",
    "        \n",
    "    def predict_step(self, batch, batch_idx):\n",
    "        x, y = [batch['tokenized_smiles'], batch['length']], batch['labels']\n",
    "        y_pred = self(x).squeeze()\n",
    "        return y_pred"
   ]
  },
  {
   "cell_type": "code",
   "execution_count": 22,
   "id": "9fec42bc-b404-4a7e-b987-d7306a853749",
   "metadata": {},
   "outputs": [],
   "source": [
    "from torch.utils.data import Dataset, DataLoader\n",
    "from typing import Optional, List\n",
    "\n",
    "\n",
    "class SelfiesQsarDataset(Dataset):\n",
    "    def __init__(self, train=True):\n",
    "        super().__init__()\n",
    "        # if train:\n",
    "        #     df = dd.read_csv(\"../data/processed/ligand_CHEMBL240_train_splityear=2015.csv\", dtype={'smiles': str, 'pchembl_value': 'float32'}).compute()\n",
    "        # else:\n",
    "        #     df = dd.read_csv(\"../data/processed/ligand_CHEMBL240_test_splityear=2015.csv\", dtype={'smiles': str, 'pchembl_value': 'float32'}).compute()\n",
    "        if train:\n",
    "            df = dd.read_csv(\"../data/processed/ligand_CHEMBL240_train_seed=42.csv\", dtype={'smiles': str, 'pchembl_value': 'float32'}).compute()\n",
    "        else:\n",
    "            df = dd.read_csv(\"../data/processed/ligand_CHEMBL240_test_seed=42.csv\", dtype={'smiles': str, 'pchembl_value': 'float32'}).compute()\n",
    "            \n",
    "        df['selfies'] = [sf.encoder(smi) for smi in df['smiles']]\n",
    "        \n",
    "        vocab = sf.get_alphabet_from_selfies(df['selfies'])\n",
    "        stoi = {x:i for i, x in enumerate(vocab, start=2)}\n",
    "        stoi['[nop]'] = 0\n",
    "        stoi['.'] = 1\n",
    "        \n",
    "        enc = [sf.selfies_to_encoding(selfies=selfies, vocab_stoi=stoi, pad_to_len=128, enc_type='label') for selfies in df['selfies']]\n",
    "        df['enc_selfies'] = enc\n",
    "        df = df[df['enc_selfies'].apply(len) <= 128]\n",
    "        \n",
    "        self.inp = [sf.selfies_to_encoding(selfies=selfies, vocab_stoi=stoi, pad_to_len=128, enc_type='label') for selfies in df['selfies']]\n",
    "        self.length = np.array([np.count_nonzero(enc_selfies) for enc_selfies in self.inp])\n",
    "        self.target = df['pchembl_value'].values\n",
    "        \n",
    "        self.inp = torch.tensor(self.inp, dtype=torch.float32)\n",
    "        self.length = torch.from_numpy(self.length)\n",
    "        self.target = torch.from_numpy(self.target)\n",
    "\n",
    "    def __len__(self):\n",
    "        return len(self.inp)\n",
    "    \n",
    "    def __getitem__(self, index):\n",
    "        sample = {}\n",
    "        sample['tokenized_smiles'] = (self.inp[index])\n",
    "        sample['length'] = (self.length[index])\n",
    "        sample['labels'] = (self.target[index])\n",
    "        return sample\n",
    "\n",
    "\n",
    "class SelfiesQsarDataModule(pl.LightningDataModule):\n",
    "    def __init__(self, batch_size: int = 128, max_selfies_len: int = 128):\n",
    "        super().__init__()\n",
    "        self.batch_size = batch_size\n",
    "        self.max_selfies_len = max_selfies_len\n",
    "        \n",
    "    def setup(self, stage: Optional[str] = None):\n",
    "        if stage in (None, 'fit'):\n",
    "            self.qsar_train = SelfiesQsarDataset(train=True)\n",
    "        if stage in (None, \"test\", \"predict\"):\n",
    "            self.qsar_test = SelfiesQsarDataset(train=False)\n",
    "    \n",
    "    def train_dataloader(self):\n",
    "        return DataLoader(self.qsar_train,\n",
    "                          batch_size=self.batch_size,\n",
    "                          shuffle=True,\n",
    "                          num_workers=4,\n",
    "                          pin_memory=True,\n",
    "                          sampler=None)\n",
    "\n",
    "    def test_dataloader(self):\n",
    "        return DataLoader(self.qsar_test,\n",
    "                          batch_size=self.batch_size,\n",
    "                          shuffle=False,\n",
    "                          num_workers=4,\n",
    "                          pin_memory=True,\n",
    "                          sampler=None)\n",
    "    \n",
    "    def predict_dataloader(self):\n",
    "        return DataLoader(self.qsar_test,\n",
    "                          batch_size=self.batch_size,\n",
    "                          shuffle=False,\n",
    "                          num_workers=4,\n",
    "                          pin_memory=True,\n",
    "                          sampler=None)"
   ]
  },
  {
   "cell_type": "code",
   "execution_count": 23,
   "id": "d0e6722d-8cce-490e-a5ce-52a37ecdbcb9",
   "metadata": {},
   "outputs": [],
   "source": [
    "model = PChEMBLValueRegressor(lr=0.005)"
   ]
  },
  {
   "cell_type": "code",
   "execution_count": 24,
   "id": "d383eb21-2ade-4da4-aa55-9e61c519c63e",
   "metadata": {},
   "outputs": [
    {
     "name": "stderr",
     "output_type": "stream",
     "text": [
      "GPU available: True, used: True\n",
      "TPU available: False, using: 0 TPU cores\n",
      "IPU available: False, using: 0 IPUs\n",
      "HPU available: False, using: 0 HPUs\n"
     ]
    }
   ],
   "source": [
    "trainer = pl.Trainer(accelerator='gpu', devices=1, max_epochs=100)"
   ]
  },
  {
   "cell_type": "code",
   "execution_count": 25,
   "id": "ef2f5210-2291-497d-b2e8-c414da4e2573",
   "metadata": {},
   "outputs": [],
   "source": [
    "selfies_dm = SelfiesQsarDataModule(batch_size=128)"
   ]
  },
  {
   "cell_type": "code",
   "execution_count": 26,
   "id": "4a3eca5b-f343-46ec-9115-849bc58d4609",
   "metadata": {},
   "outputs": [
    {
     "name": "stderr",
     "output_type": "stream",
     "text": [
      "LOCAL_RANK: 0 - CUDA_VISIBLE_DEVICES: [0]\n",
      "\n",
      "  | Name      | Type        | Params\n",
      "------------------------------------------\n",
      "0 | criterion | MSELoss     | 0     \n",
      "1 | embedding | Embedding   | 16.4 K\n",
      "2 | encoder   | LSTMEncoder | 264 K \n",
      "3 | mlp       | MLP         | 16.6 K\n",
      "------------------------------------------\n",
      "297 K     Trainable params\n",
      "0         Non-trainable params\n",
      "297 K     Total params\n",
      "1.189     Total estimated model params size (MB)\n"
     ]
    },
    {
     "name": "stdout",
     "output_type": "stream",
     "text": [
      "Epoch 99: 100%|████████████████████████████████████████████████████████████████████████████████████████████████████████████| 54/54 [00:02<00:00, 20.96it/s, loss=0.0896, v_num=11]\n"
     ]
    }
   ],
   "source": [
    "trainer.fit(model, datamodule=selfies_dm)"
   ]
  },
  {
   "cell_type": "code",
   "execution_count": 27,
   "id": "dfd3af3c-7afe-4ab2-8cff-65ca49be12d1",
   "metadata": {},
   "outputs": [
    {
     "name": "stderr",
     "output_type": "stream",
     "text": [
      "LOCAL_RANK: 0 - CUDA_VISIBLE_DEVICES: [0]\n"
     ]
    },
    {
     "name": "stdout",
     "output_type": "stream",
     "text": [
      "Testing DataLoader 0: 100%|███████████████████████████████████████████████████████████████████████████████████████████████████████████████████████| 14/14 [00:00<00:00, 89.09it/s]\n"
     ]
    },
    {
     "data": {
      "text/html": [
       "<pre style=\"white-space:pre;overflow-x:auto;line-height:normal;font-family:Menlo,'DejaVu Sans Mono',consolas,'Courier New',monospace\">┏━━━━━━━━━━━━━━━━━━━━━━━━━━━┳━━━━━━━━━━━━━━━━━━━━━━━━━━━┓\n",
       "┃<span style=\"font-weight: bold\">        Test metric        </span>┃<span style=\"font-weight: bold\">       DataLoader 0        </span>┃\n",
       "┡━━━━━━━━━━━━━━━━━━━━━━━━━━━╇━━━━━━━━━━━━━━━━━━━━━━━━━━━┩\n",
       "│<span style=\"color: #008080; text-decoration-color: #008080\">         test_loss         </span>│<span style=\"color: #800080; text-decoration-color: #800080\">    3.3090929985046387     </span>│\n",
       "└───────────────────────────┴───────────────────────────┘\n",
       "</pre>\n"
      ],
      "text/plain": [
       "┏━━━━━━━━━━━━━━━━━━━━━━━━━━━┳━━━━━━━━━━━━━━━━━━━━━━━━━━━┓\n",
       "┃\u001b[1m \u001b[0m\u001b[1m       Test metric       \u001b[0m\u001b[1m \u001b[0m┃\u001b[1m \u001b[0m\u001b[1m      DataLoader 0       \u001b[0m\u001b[1m \u001b[0m┃\n",
       "┡━━━━━━━━━━━━━━━━━━━━━━━━━━━╇━━━━━━━━━━━━━━━━━━━━━━━━━━━┩\n",
       "│\u001b[36m \u001b[0m\u001b[36m        test_loss        \u001b[0m\u001b[36m \u001b[0m│\u001b[35m \u001b[0m\u001b[35m   3.3090929985046387    \u001b[0m\u001b[35m \u001b[0m│\n",
       "└───────────────────────────┴───────────────────────────┘\n"
      ]
     },
     "metadata": {},
     "output_type": "display_data"
    },
    {
     "data": {
      "text/plain": [
       "[{'test_loss': 3.3090929985046387}]"
      ]
     },
     "execution_count": 27,
     "metadata": {},
     "output_type": "execute_result"
    }
   ],
   "source": [
    "trainer.test(model, datamodule=selfies_dm)"
   ]
  },
  {
   "cell_type": "code",
   "execution_count": 29,
   "id": "7cb2acbe-b6b7-4432-8146-dec9f646b875",
   "metadata": {},
   "outputs": [
    {
     "name": "stderr",
     "output_type": "stream",
     "text": [
      "LOCAL_RANK: 0 - CUDA_VISIBLE_DEVICES: [0]\n"
     ]
    },
    {
     "name": "stdout",
     "output_type": "stream",
     "text": [
      "Predicting DataLoader 0: 100%|██████████████████████████████████████████████████████████████████████████████████████████████████████████████████| 14/14 [00:00<00:00, -256.18it/s]\n"
     ]
    }
   ],
   "source": [
    "preds = trainer.predict(model, datamodule=selfies_dm)"
   ]
  },
  {
   "cell_type": "code",
   "execution_count": 30,
   "id": "22f42c94-a424-43b0-8d41-2917fb938669",
   "metadata": {},
   "outputs": [],
   "source": [
    "preds = torch.cat(preds)"
   ]
  },
  {
   "cell_type": "code",
   "execution_count": 31,
   "id": "a50d2ce7-20ea-46f7-8c6b-6e5401983d24",
   "metadata": {},
   "outputs": [],
   "source": [
    "preds = preds.detach().to('cpu')"
   ]
  },
  {
   "cell_type": "code",
   "execution_count": 32,
   "id": "328c67ee-365c-4451-ac69-3c4fcd75472e",
   "metadata": {},
   "outputs": [],
   "source": [
    "import seaborn as sns"
   ]
  },
  {
   "cell_type": "code",
   "execution_count": 33,
   "id": "063f9131-7cd5-4045-9551-e87261f5f30d",
   "metadata": {},
   "outputs": [
    {
     "data": {
      "text/plain": [
       "<AxesSubplot:>"
      ]
     },
     "execution_count": 33,
     "metadata": {},
     "output_type": "execute_result"
    },
    {
     "data": {
      "image/png": "[encoded data removed]",
      "text/plain": [
       "<Figure size 432x288 with 1 Axes>"
      ]
     },
     "metadata": {
      "needs_background": "light"
     },
     "output_type": "display_data"
    }
   ],
   "source": [
    "sns.scatterplot(x=preds, y=selfies_dm.qsar_test.target)"
   ]
  },
  {
   "cell_type": "code",
   "execution_count": 34,
   "id": "4868f4d4-f54e-4b55-9801-00232d714d2d",
   "metadata": {},
   "outputs": [
    {
     "data": {
      "text/plain": [
       "tensor([5.1900, 5.0200, 3.9900,  ..., 4.6100, 4.9000, 6.8200])"
      ]
     },
     "execution_count": 34,
     "metadata": {},
     "output_type": "execute_result"
    }
   ],
   "source": [
    "selfies_dm.qsar_test.target"
   ]
  },
  {
   "cell_type": "code",
   "execution_count": 35,
   "id": "d18d821e-8fbb-4e1b-8269-7fc96044cad4",
   "metadata": {},
   "outputs": [],
   "source": [
    "from sklearn.metrics import r2_score, mean_squared_error"
   ]
  },
  {
   "cell_type": "code",
   "execution_count": 36,
   "id": "4d032016-67c3-46c0-b28b-a0a27fb3b973",
   "metadata": {},
   "outputs": [
    {
     "data": {
      "text/plain": [
       "-2.466942746755932"
      ]
     },
     "execution_count": 36,
     "metadata": {},
     "output_type": "execute_result"
    }
   ],
   "source": [
    "r2 = r2_score(y_true=selfies_dm.qsar_test.target, y_pred=preds)\n",
    "r2"
   ]
  },
  {
   "cell_type": "code",
   "execution_count": 37,
   "id": "9e4fd5b6-44ce-42ad-9416-6c9c5686ad25",
   "metadata": {},
   "outputs": [
    {
     "data": {
      "text/plain": [
       "1.8190913"
      ]
     },
     "execution_count": 37,
     "metadata": {},
     "output_type": "execute_result"
    }
   ],
   "source": [
    "rmse = mean_squared_error(y_true=selfies_dm.qsar_test.target, y_pred=preds, squared=False)\n",
    "rmse"
   ]
  },
  {
   "cell_type": "code",
   "execution_count": null,
   "id": "e3e5590d-4c1c-4932-a814-1f0cba140012",
   "metadata": {},
   "outputs": [],
   "source": []
  }
 ],
 "metadata": {
  "kernelspec": {
   "display_name": "Python 3 (ipykernel)",
   "language": "python",
   "name": "python3"
  },
  "language_info": {
   "codemirror_mode": {
    "name": "ipython",
    "version": 3
   },
   "file_extension": ".py",
   "mimetype": "text/x-python",
   "name": "python",
   "nbconvert_exporter": "python",
   "pygments_lexer": "ipython3",
   "version": "3.10.5"
  }
 },
 "nbformat": 4,
 "nbformat_minor": 5
}
