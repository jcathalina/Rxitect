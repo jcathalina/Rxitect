{
 "cells": [
  {
   "cell_type": "code",
   "execution_count": 3,
   "id": "c91c7818",
   "metadata": {},
   "outputs": [],
   "source": [
    "import pickle\n",
    "from rxitect.features.featurize_selfies import SelfiesEncodings"
   ]
  },
  {
   "cell_type": "code",
   "execution_count": 4,
   "id": "f41bdbef",
   "metadata": {},
   "outputs": [],
   "source": [
    "with open(\"../data/processed/selfies_chembl_enc.dat\", \"rb\") as f:\n",
    "    data = pickle.load(f)"
   ]
  },
  {
   "cell_type": "code",
   "execution_count": 14,
   "id": "2683b787",
   "metadata": {},
   "outputs": [],
   "source": [
    "x, y, _ = data"
   ]
  },
  {
   "cell_type": "code",
   "execution_count": 9,
   "id": "c258295d",
   "metadata": {},
   "outputs": [],
   "source": [
    "import selfies as sf"
   ]
  },
  {
   "cell_type": "code",
   "execution_count": 24,
   "id": "3f8c5db0",
   "metadata": {},
   "outputs": [],
   "source": [
    "import pandas as pd"
   ]
  },
  {
   "cell_type": "code",
   "execution_count": 23,
   "id": "175b3e8c",
   "metadata": {},
   "outputs": [],
   "source": [
    "z = [\" \".join(list(sf.split_selfies(i))) for i in x]"
   ]
  },
  {
   "cell_type": "code",
   "execution_count": 30,
   "id": "22d3f671",
   "metadata": {},
   "outputs": [],
   "source": [
    "df = pd.DataFrame(data={\"smiles\": x, \"token\": z})  # .to_csv(\"../data/processed/selfies_chembl_corpus.csv\")"
   ]
  },
  {
   "cell_type": "code",
   "execution_count": 32,
   "id": "8287aad4",
   "metadata": {},
   "outputs": [],
   "source": [
    "df.to_csv(\"../data/processed/selfies_chembl_corpus.csv\", index=False)"
   ]
  },
  {
   "cell_type": "code",
   "execution_count": 33,
   "id": "8598555c",
   "metadata": {},
   "outputs": [],
   "source": [
    "with open(\"../data/processed/selfies_ligand_enc.dat\", \"rb\") as f:\n",
    "    data = pickle.load(f)\n",
    "    \n",
    "x, y, _ = data\n",
    "z = [\" \".join(list(sf.split_selfies(i))) for i in x]\n",
    "df = pd.DataFrame(data={\"smiles\": x, \"token\": z})\n",
    "df.to_csv(\"../data/processed/selfies_ligand_corpus.csv\", index=False)"
   ]
  },
  {
   "cell_type": "code",
   "execution_count": null,
   "id": "3de8f71c",
   "metadata": {},
   "outputs": [],
   "source": []
  }
 ],
 "metadata": {
  "kernelspec": {
   "display_name": "Python 3 (ipykernel)",
   "language": "python",
   "name": "python3"
  },
  "language_info": {
   "codemirror_mode": {
    "name": "ipython",
    "version": 3
   },
   "file_extension": ".py",
   "mimetype": "text/x-python",
   "name": "python",
   "nbconvert_exporter": "python",
   "pygments_lexer": "ipython3",
   "version": "3.7.12"
  }
 },
 "nbformat": 4,
 "nbformat_minor": 5
}
